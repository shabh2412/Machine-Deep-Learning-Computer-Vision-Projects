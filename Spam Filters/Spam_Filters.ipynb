{
  "nbformat": 4,
  "nbformat_minor": 0,
  "metadata": {
    "colab": {
      "name": "Spam Filters",
      "provenance": [],
      "toc_visible": true
    },
    "kernelspec": {
      "name": "python3",
      "display_name": "Python 3"
    }
  },
  "cells": [
    {
      "cell_type": "markdown",
      "metadata": {
        "id": "8jq0aTTCstFj"
      },
      "source": [
        "# Spam Dectector"
      ]
    },
    {
      "cell_type": "code",
      "metadata": {
        "id": "Sb_0JPXcrijp",
        "colab": {
          "base_uri": "https://localhost:8080/",
          "height": 195
        },
        "outputId": "2b6cfc08-fe84-4d60-c346-f3fd1de01261"
      },
      "source": [
        "import numpy as np\n",
        "import pandas as pd\n",
        "\n",
        "file_name = \"/content/spam.csv\"\n",
        "data = pd.read_csv(file_name, encoding = \"latin-1\")\n",
        "data.head()\n",
        "data = data[['v1', 'v2']]\n",
        "data = data.rename(columns = {'v1': 'label', 'v2': 'text'})\n",
        "data.head()"
      ],
      "execution_count": 2,
      "outputs": [
        {
          "output_type": "execute_result",
          "data": {
            "text/html": [
              "<div>\n",
              "<style scoped>\n",
              "    .dataframe tbody tr th:only-of-type {\n",
              "        vertical-align: middle;\n",
              "    }\n",
              "\n",
              "    .dataframe tbody tr th {\n",
              "        vertical-align: top;\n",
              "    }\n",
              "\n",
              "    .dataframe thead th {\n",
              "        text-align: right;\n",
              "    }\n",
              "</style>\n",
              "<table border=\"1\" class=\"dataframe\">\n",
              "  <thead>\n",
              "    <tr style=\"text-align: right;\">\n",
              "      <th></th>\n",
              "      <th>label</th>\n",
              "      <th>text</th>\n",
              "    </tr>\n",
              "  </thead>\n",
              "  <tbody>\n",
              "    <tr>\n",
              "      <th>0</th>\n",
              "      <td>ham</td>\n",
              "      <td>Go until jurong point, crazy.. Available only ...</td>\n",
              "    </tr>\n",
              "    <tr>\n",
              "      <th>1</th>\n",
              "      <td>ham</td>\n",
              "      <td>Ok lar... Joking wif u oni...</td>\n",
              "    </tr>\n",
              "    <tr>\n",
              "      <th>2</th>\n",
              "      <td>spam</td>\n",
              "      <td>Free entry in 2 a wkly comp to win FA Cup fina...</td>\n",
              "    </tr>\n",
              "    <tr>\n",
              "      <th>3</th>\n",
              "      <td>ham</td>\n",
              "      <td>U dun say so early hor... U c already then say...</td>\n",
              "    </tr>\n",
              "    <tr>\n",
              "      <th>4</th>\n",
              "      <td>ham</td>\n",
              "      <td>Nah I don't think he goes to usf, he lives aro...</td>\n",
              "    </tr>\n",
              "  </tbody>\n",
              "</table>\n",
              "</div>"
            ],
            "text/plain": [
              "  label                                               text\n",
              "0   ham  Go until jurong point, crazy.. Available only ...\n",
              "1   ham                      Ok lar... Joking wif u oni...\n",
              "2  spam  Free entry in 2 a wkly comp to win FA Cup fina...\n",
              "3   ham  U dun say so early hor... U c already then say...\n",
              "4   ham  Nah I don't think he goes to usf, he lives aro..."
            ]
          },
          "metadata": {
            "tags": []
          },
          "execution_count": 2
        }
      ]
    },
    {
      "cell_type": "code",
      "metadata": {
        "id": "7H_Uz4xMsWBu",
        "colab": {
          "base_uri": "https://localhost:8080/"
        },
        "outputId": "e10d9fd0-c89b-42d2-c61c-8bc283f62b9b"
      },
      "source": [
        "import nltk\n",
        "nltk.download('stopwords')\n",
        "from nltk.stem import WordNetLemmatizer\n",
        "from nltk.corpus import stopwords\n",
        "from nltk import pos_tag, word_tokenize\n",
        "from sklearn.model_selection import train_test_split\n",
        "from sklearn.feature_extraction.text import TfidfVectorizer\n",
        "from sklearn import svm\n",
        "from sklearn.metrics import confusion_matrix\n",
        "\n",
        "lemmatizer = WordNetLemmatizer()\n",
        "stopwords = set(stopwords.words('english'))\n",
        "\n",
        "def review_messages(msg):\n",
        "    # converting messages to lowercase\n",
        "    msg = msg.lower()\n",
        "    return msg\n",
        "\n",
        "def alternative_review_messages(msg):\n",
        "    # converting messages to lowercase\n",
        "    msg = msg.lower()\n",
        "\n",
        "    # uses a lemmatizer (wnpos is the parts of speech tag)\n",
        "    # unfortunately wordnet and nltk uses a different set of terminology for pos tags\n",
        "    # first, we must translate the nltk pos to wordnet\n",
        "    nltk_pos = [tag[1] for tag in pos_tag(word_tokenize(msg))]\n",
        "    msg = [tag[0] for tag in pos_tag(word_tokenize(msg))]\n",
        "    wnpos = ['a' if tag[0] == 'J' else tag[0].lower() if tag[0] in ['N', 'R', 'V'] else 'n' for tag in nltk_pos]\n",
        "    msg = \" \".join([lemmatizer.lemmatize(word, wnpos[i]) for i, word in enumerate(msg)])\n",
        "\n",
        "    # removing stopwords \n",
        "    msg = [word for word in msg.split() if word not in stopwords]\n",
        "\n",
        "    return msg"
      ],
      "execution_count": 3,
      "outputs": [
        {
          "output_type": "stream",
          "text": [
            "[nltk_data] Downloading package stopwords to /root/nltk_data...\n",
            "[nltk_data]   Unzipping corpora/stopwords.zip.\n"
          ],
          "name": "stdout"
        }
      ]
    },
    {
      "cell_type": "code",
      "metadata": {
        "id": "bNeYbeGnsYu_"
      },
      "source": [
        "# Processing text messages\n",
        "data['text'] = data['text'].apply(review_messages)"
      ],
      "execution_count": 4,
      "outputs": []
    },
    {
      "cell_type": "code",
      "metadata": {
        "id": "FF2dHCXQsM4F"
      },
      "source": [
        "# train test split \n",
        "X_train, X_test, y_train, y_test = train_test_split(data['text'], data['label'], test_size = 0.1, random_state = 1)\n",
        "\n",
        "# training vectorizer\n",
        "vectorizer = TfidfVectorizer()\n",
        "X_train_vec = vectorizer.fit_transform(X_train)"
      ],
      "execution_count": 5,
      "outputs": []
    },
    {
      "cell_type": "code",
      "metadata": {
        "id": "uPlaxorAsa2E",
        "colab": {
          "base_uri": "https://localhost:8080/"
        },
        "outputId": "f672c21b-313f-41f7-aec5-b324dcbfb9f3"
      },
      "source": [
        "# training the classifier \n",
        "svm = svm.SVC(C=1000)\n",
        "svm.fit(X_train_vec, y_train)"
      ],
      "execution_count": 6,
      "outputs": [
        {
          "output_type": "execute_result",
          "data": {
            "text/plain": [
              "SVC(C=1000, break_ties=False, cache_size=200, class_weight=None, coef0=0.0,\n",
              "    decision_function_shape='ovr', degree=3, gamma='scale', kernel='rbf',\n",
              "    max_iter=-1, probability=False, random_state=None, shrinking=True,\n",
              "    tol=0.001, verbose=False)"
            ]
          },
          "metadata": {
            "tags": []
          },
          "execution_count": 6
        }
      ]
    },
    {
      "cell_type": "code",
      "metadata": {
        "id": "icHBwnywscLX",
        "colab": {
          "base_uri": "https://localhost:8080/"
        },
        "outputId": "35dda38b-2b6b-4d3e-9679-0a65f79be4dd"
      },
      "source": [
        "# testing against testing set \n",
        "X_test = vectorizer.transform(X_test)\n",
        "y_pred = svm.predict(X_test) \n",
        "print(confusion_matrix(y_test, y_pred))"
      ],
      "execution_count": 7,
      "outputs": [
        {
          "output_type": "stream",
          "text": [
            "[[490   0]\n",
            " [  5  63]]\n"
          ],
          "name": "stdout"
        }
      ]
    },
    {
      "cell_type": "code",
      "metadata": {
        "id": "u0Qpz_S0sdJ9"
      },
      "source": [
        "# test against new messages \n",
        "def pred(msg):\n",
        "    msg = vectorizer.transform([msg])\n",
        "    prediction = svm.predict(msg)\n",
        "    return prediction[0]"
      ],
      "execution_count": 8,
      "outputs": []
    },
    {
      "cell_type": "code",
      "metadata": {
        "id": "E6O7v-wnrdcq",
        "colab": {
          "base_uri": "https://localhost:8080/"
        },
        "outputId": "c3532cea-d5b0-4338-9ea0-b968f3ede425"
      },
      "source": [
        "rand_index = np.random.randint(0, len(data))\n",
        "test_sample = data.iloc[rand_index][1]\n",
        "print(test_sample)\n",
        "print(\"Text is - \" + str(pred(test_sample)))"
      ],
      "execution_count": 50,
      "outputs": [
        {
          "output_type": "stream",
          "text": [
            "double your mins & txts on orange or 1/2 price linerental - motorola and sonyericsson with b/tooth free-nokia free call mobileupd8 on 08000839402 or2optout/hv9d\n",
            "Text is - spam\n"
          ],
          "name": "stdout"
        }
      ]
    }
  ]
}