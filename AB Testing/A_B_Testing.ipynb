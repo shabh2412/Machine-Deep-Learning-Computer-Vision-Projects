{
  "nbformat": 4,
  "nbformat_minor": 0,
  "metadata": {
    "kernelspec": {
      "display_name": "Python 3",
      "language": "python",
      "name": "python3"
    },
    "language_info": {
      "codemirror_mode": {
        "name": "ipython",
        "version": 3
      },
      "file_extension": ".py",
      "mimetype": "text/x-python",
      "name": "python",
      "nbconvert_exporter": "python",
      "pygments_lexer": "ipython3",
      "version": "3.7.3"
    },
    "colab": {
      "name": "A/B Testing",
      "provenance": [],
      "collapsed_sections": [],
      "toc_visible": true
    }
  },
  "cells": [
    {
      "cell_type": "markdown",
      "metadata": {
        "id": "sWgq8ijqfGVl"
      },
      "source": [
        "# A/B Testing Marketing Promotions\n",
        "\n",
        "Which promotion was the most effective?\n",
        "\n",
        "**Scenario:**\n",
        "\n",
        "A fast food chain plans to add a new item to its menu. However, they are still undecided between three possible marketing campaigns for promoting the new product. In order to determine which promotion has the greatest effect on sales, the new item is introduced at locations in several randomly selected markets. A different promotion is used at each location, and the weekly sales of the new item are recorded for the first four weeks\n",
        "\n",
        "**The description of the data set:**\n",
        "Our data set consists of 548 entries including:\n",
        "- MarketId: an inhouse tag used to describe market types, we won't be using it\n",
        "- AgeOfStores: Age of store in years (1–28). The mean age of a store is 8.5 years.\n",
        "- LocationID: Unique identifier for store location. Each location is identified by a number. The total number of stores is 137.\n",
        "- Promotion: One of three promotions that were tested (1, 2, 3). We don’t really know the specifics of each promotion.\n",
        "- Sales in Thousands: Sales amount for a specific LocationID, Promotion and week. The mean amount of sales are 53.5 thousand dollars.\n",
        "- Market size: there are three types of market size: small, medium and large.\n",
        "- Week: One of four weeks when the promotions were run (1–4).\n",
        "\n"
      ]
    },
    {
      "cell_type": "code",
      "metadata": {
        "id": "JFrtn4mCiqyP",
        "colab": {
          "base_uri": "https://localhost:8080/",
          "height": 343
        },
        "outputId": "3f9a812f-b509-4e7e-d960-571414aa99c1"
      },
      "source": [
        "import pandas as pd\n",
        "import matplotlib.pyplot as plt\n",
        "\n",
        "df = pd.read_csv('/content/WA_Fn-UseC_-Marketing-Campaign-Eff-UseC_-FastF.csv')\n",
        "\n",
        "\n",
        "df.head(10)"
      ],
      "execution_count": 1,
      "outputs": [
        {
          "output_type": "execute_result",
          "data": {
            "text/html": [
              "<div>\n",
              "<style scoped>\n",
              "    .dataframe tbody tr th:only-of-type {\n",
              "        vertical-align: middle;\n",
              "    }\n",
              "\n",
              "    .dataframe tbody tr th {\n",
              "        vertical-align: top;\n",
              "    }\n",
              "\n",
              "    .dataframe thead th {\n",
              "        text-align: right;\n",
              "    }\n",
              "</style>\n",
              "<table border=\"1\" class=\"dataframe\">\n",
              "  <thead>\n",
              "    <tr style=\"text-align: right;\">\n",
              "      <th></th>\n",
              "      <th>MarketID</th>\n",
              "      <th>MarketSize</th>\n",
              "      <th>LocationID</th>\n",
              "      <th>AgeOfStore</th>\n",
              "      <th>Promotion</th>\n",
              "      <th>week</th>\n",
              "      <th>SalesInThousands</th>\n",
              "    </tr>\n",
              "  </thead>\n",
              "  <tbody>\n",
              "    <tr>\n",
              "      <th>0</th>\n",
              "      <td>1</td>\n",
              "      <td>Medium</td>\n",
              "      <td>1</td>\n",
              "      <td>4</td>\n",
              "      <td>3</td>\n",
              "      <td>1</td>\n",
              "      <td>33.73</td>\n",
              "    </tr>\n",
              "    <tr>\n",
              "      <th>1</th>\n",
              "      <td>1</td>\n",
              "      <td>Medium</td>\n",
              "      <td>1</td>\n",
              "      <td>4</td>\n",
              "      <td>3</td>\n",
              "      <td>2</td>\n",
              "      <td>35.67</td>\n",
              "    </tr>\n",
              "    <tr>\n",
              "      <th>2</th>\n",
              "      <td>1</td>\n",
              "      <td>Medium</td>\n",
              "      <td>1</td>\n",
              "      <td>4</td>\n",
              "      <td>3</td>\n",
              "      <td>3</td>\n",
              "      <td>29.03</td>\n",
              "    </tr>\n",
              "    <tr>\n",
              "      <th>3</th>\n",
              "      <td>1</td>\n",
              "      <td>Medium</td>\n",
              "      <td>1</td>\n",
              "      <td>4</td>\n",
              "      <td>3</td>\n",
              "      <td>4</td>\n",
              "      <td>39.25</td>\n",
              "    </tr>\n",
              "    <tr>\n",
              "      <th>4</th>\n",
              "      <td>1</td>\n",
              "      <td>Medium</td>\n",
              "      <td>2</td>\n",
              "      <td>5</td>\n",
              "      <td>2</td>\n",
              "      <td>1</td>\n",
              "      <td>27.81</td>\n",
              "    </tr>\n",
              "    <tr>\n",
              "      <th>5</th>\n",
              "      <td>1</td>\n",
              "      <td>Medium</td>\n",
              "      <td>2</td>\n",
              "      <td>5</td>\n",
              "      <td>2</td>\n",
              "      <td>2</td>\n",
              "      <td>34.67</td>\n",
              "    </tr>\n",
              "    <tr>\n",
              "      <th>6</th>\n",
              "      <td>1</td>\n",
              "      <td>Medium</td>\n",
              "      <td>2</td>\n",
              "      <td>5</td>\n",
              "      <td>2</td>\n",
              "      <td>3</td>\n",
              "      <td>27.98</td>\n",
              "    </tr>\n",
              "    <tr>\n",
              "      <th>7</th>\n",
              "      <td>1</td>\n",
              "      <td>Medium</td>\n",
              "      <td>2</td>\n",
              "      <td>5</td>\n",
              "      <td>2</td>\n",
              "      <td>4</td>\n",
              "      <td>27.72</td>\n",
              "    </tr>\n",
              "    <tr>\n",
              "      <th>8</th>\n",
              "      <td>1</td>\n",
              "      <td>Medium</td>\n",
              "      <td>3</td>\n",
              "      <td>12</td>\n",
              "      <td>1</td>\n",
              "      <td>1</td>\n",
              "      <td>44.54</td>\n",
              "    </tr>\n",
              "    <tr>\n",
              "      <th>9</th>\n",
              "      <td>1</td>\n",
              "      <td>Medium</td>\n",
              "      <td>3</td>\n",
              "      <td>12</td>\n",
              "      <td>1</td>\n",
              "      <td>2</td>\n",
              "      <td>37.94</td>\n",
              "    </tr>\n",
              "  </tbody>\n",
              "</table>\n",
              "</div>"
            ],
            "text/plain": [
              "   MarketID MarketSize  LocationID  ...  Promotion  week  SalesInThousands\n",
              "0         1     Medium           1  ...          3     1             33.73\n",
              "1         1     Medium           1  ...          3     2             35.67\n",
              "2         1     Medium           1  ...          3     3             29.03\n",
              "3         1     Medium           1  ...          3     4             39.25\n",
              "4         1     Medium           2  ...          2     1             27.81\n",
              "5         1     Medium           2  ...          2     2             34.67\n",
              "6         1     Medium           2  ...          2     3             27.98\n",
              "7         1     Medium           2  ...          2     4             27.72\n",
              "8         1     Medium           3  ...          1     1             44.54\n",
              "9         1     Medium           3  ...          1     2             37.94\n",
              "\n",
              "[10 rows x 7 columns]"
            ]
          },
          "metadata": {
            "tags": []
          },
          "execution_count": 1
        }
      ]
    },
    {
      "cell_type": "code",
      "metadata": {
        "id": "KITelI1QiqyW",
        "colab": {
          "base_uri": "https://localhost:8080/"
        },
        "outputId": "9d06e434-385f-45ba-bca6-f0979e82751c"
      },
      "source": [
        "print (\"Rows     : \" , df.shape[0])\n",
        "print (\"Columns  : \" , df.shape[1])\n",
        "print (\"\\nFeatures : \\n\", df.columns.tolist())\n",
        "print (\"\\nMissing values :  \", df.isnull().sum().values.sum())\n",
        "print (\"\\nUnique values :  \\n\", df.nunique())"
      ],
      "execution_count": 2,
      "outputs": [
        {
          "output_type": "stream",
          "text": [
            "Rows     :  548\n",
            "Columns  :  7\n",
            "\n",
            "Features : \n",
            " ['MarketID', 'MarketSize', 'LocationID', 'AgeOfStore', 'Promotion', 'week', 'SalesInThousands']\n",
            "\n",
            "Missing values :   0\n",
            "\n",
            "Unique values :  \n",
            " MarketID             10\n",
            "MarketSize            3\n",
            "LocationID          137\n",
            "AgeOfStore           25\n",
            "Promotion             3\n",
            "week                  4\n",
            "SalesInThousands    517\n",
            "dtype: int64\n"
          ],
          "name": "stdout"
        }
      ]
    },
    {
      "cell_type": "code",
      "metadata": {
        "id": "nXf1B035hQg7",
        "colab": {
          "base_uri": "https://localhost:8080/",
          "height": 284
        },
        "outputId": "83380918-425c-4300-8f82-bd5793914b52"
      },
      "source": [
        "df.describe()"
      ],
      "execution_count": 3,
      "outputs": [
        {
          "output_type": "execute_result",
          "data": {
            "text/html": [
              "<div>\n",
              "<style scoped>\n",
              "    .dataframe tbody tr th:only-of-type {\n",
              "        vertical-align: middle;\n",
              "    }\n",
              "\n",
              "    .dataframe tbody tr th {\n",
              "        vertical-align: top;\n",
              "    }\n",
              "\n",
              "    .dataframe thead th {\n",
              "        text-align: right;\n",
              "    }\n",
              "</style>\n",
              "<table border=\"1\" class=\"dataframe\">\n",
              "  <thead>\n",
              "    <tr style=\"text-align: right;\">\n",
              "      <th></th>\n",
              "      <th>MarketID</th>\n",
              "      <th>LocationID</th>\n",
              "      <th>AgeOfStore</th>\n",
              "      <th>Promotion</th>\n",
              "      <th>week</th>\n",
              "      <th>SalesInThousands</th>\n",
              "    </tr>\n",
              "  </thead>\n",
              "  <tbody>\n",
              "    <tr>\n",
              "      <th>count</th>\n",
              "      <td>548.000000</td>\n",
              "      <td>548.000000</td>\n",
              "      <td>548.000000</td>\n",
              "      <td>548.000000</td>\n",
              "      <td>548.000000</td>\n",
              "      <td>548.000000</td>\n",
              "    </tr>\n",
              "    <tr>\n",
              "      <th>mean</th>\n",
              "      <td>5.715328</td>\n",
              "      <td>479.656934</td>\n",
              "      <td>8.503650</td>\n",
              "      <td>2.029197</td>\n",
              "      <td>2.500000</td>\n",
              "      <td>53.466204</td>\n",
              "    </tr>\n",
              "    <tr>\n",
              "      <th>std</th>\n",
              "      <td>2.877001</td>\n",
              "      <td>287.973679</td>\n",
              "      <td>6.638345</td>\n",
              "      <td>0.810729</td>\n",
              "      <td>1.119055</td>\n",
              "      <td>16.755216</td>\n",
              "    </tr>\n",
              "    <tr>\n",
              "      <th>min</th>\n",
              "      <td>1.000000</td>\n",
              "      <td>1.000000</td>\n",
              "      <td>1.000000</td>\n",
              "      <td>1.000000</td>\n",
              "      <td>1.000000</td>\n",
              "      <td>17.340000</td>\n",
              "    </tr>\n",
              "    <tr>\n",
              "      <th>25%</th>\n",
              "      <td>3.000000</td>\n",
              "      <td>216.000000</td>\n",
              "      <td>4.000000</td>\n",
              "      <td>1.000000</td>\n",
              "      <td>1.750000</td>\n",
              "      <td>42.545000</td>\n",
              "    </tr>\n",
              "    <tr>\n",
              "      <th>50%</th>\n",
              "      <td>6.000000</td>\n",
              "      <td>504.000000</td>\n",
              "      <td>7.000000</td>\n",
              "      <td>2.000000</td>\n",
              "      <td>2.500000</td>\n",
              "      <td>50.200000</td>\n",
              "    </tr>\n",
              "    <tr>\n",
              "      <th>75%</th>\n",
              "      <td>8.000000</td>\n",
              "      <td>708.000000</td>\n",
              "      <td>12.000000</td>\n",
              "      <td>3.000000</td>\n",
              "      <td>3.250000</td>\n",
              "      <td>60.477500</td>\n",
              "    </tr>\n",
              "    <tr>\n",
              "      <th>max</th>\n",
              "      <td>10.000000</td>\n",
              "      <td>920.000000</td>\n",
              "      <td>28.000000</td>\n",
              "      <td>3.000000</td>\n",
              "      <td>4.000000</td>\n",
              "      <td>99.650000</td>\n",
              "    </tr>\n",
              "  </tbody>\n",
              "</table>\n",
              "</div>"
            ],
            "text/plain": [
              "         MarketID  LocationID  ...        week  SalesInThousands\n",
              "count  548.000000  548.000000  ...  548.000000        548.000000\n",
              "mean     5.715328  479.656934  ...    2.500000         53.466204\n",
              "std      2.877001  287.973679  ...    1.119055         16.755216\n",
              "min      1.000000    1.000000  ...    1.000000         17.340000\n",
              "25%      3.000000  216.000000  ...    1.750000         42.545000\n",
              "50%      6.000000  504.000000  ...    2.500000         50.200000\n",
              "75%      8.000000  708.000000  ...    3.250000         60.477500\n",
              "max     10.000000  920.000000  ...    4.000000         99.650000\n",
              "\n",
              "[8 rows x 6 columns]"
            ]
          },
          "metadata": {
            "tags": []
          },
          "execution_count": 3
        }
      ]
    },
    {
      "cell_type": "markdown",
      "metadata": {
        "id": "lc6EtBPmT2jt"
      },
      "source": [
        "# EDA and Visualizations"
      ]
    },
    {
      "cell_type": "code",
      "metadata": {
        "id": "doSO_gqViqyZ",
        "colab": {
          "base_uri": "https://localhost:8080/",
          "height": 483
        },
        "outputId": "d8f96531-56fd-42d0-d14e-611b913e592d"
      },
      "source": [
        "# Create some plots to visual our sales and marketing data\n",
        "\n",
        "# Using ggplot's style\n",
        "plt.style.use('ggplot')\n",
        "ax = df.groupby('Promotion').sum()['SalesInThousands'].plot.pie(figsize=(8,8),\n",
        "                                                                autopct='%1.0f%%',\n",
        "                                                                shadow=True,\n",
        "                                                                explode = (0, 0.1, 0))\n",
        "ax.set_ylabel('')\n",
        "ax.set_title('Sales Distribution Across the 3 Different Promotions')\n",
        "\n",
        "plt.show()"
      ],
      "execution_count": 4,
      "outputs": [
        {
          "output_type": "display_data",
          "data": {
            "image/png": "[encoded data removed]",
            "text/plain": [
              "<Figure size 576x576 with 1 Axes>"
            ]
          },
          "metadata": {
            "tags": []
          }
        }
      ]
    },
    {
      "cell_type": "code",
      "metadata": {
        "id": "KQ_wDqmWSwLW",
        "colab": {
          "base_uri": "https://localhost:8080/"
        },
        "outputId": "814f5908-e0e9-4a5c-c301-99489c6cf7ce"
      },
      "source": [
        "# Now let's view the promotions for each market size\n",
        "df.groupby(['Promotion', 'MarketSize']).count()['MarketID']"
      ],
      "execution_count": 5,
      "outputs": [
        {
          "output_type": "execute_result",
          "data": {
            "text/plain": [
              "Promotion  MarketSize\n",
              "1          Large          56\n",
              "           Medium         96\n",
              "           Small          20\n",
              "2          Large          64\n",
              "           Medium        108\n",
              "           Small          16\n",
              "3          Large          48\n",
              "           Medium        116\n",
              "           Small          24\n",
              "Name: MarketID, dtype: int64"
            ]
          },
          "metadata": {
            "tags": []
          },
          "execution_count": 5
        }
      ]
    },
    {
      "cell_type": "code",
      "metadata": {
        "id": "7XsltrtKiOf7",
        "colab": {
          "base_uri": "https://localhost:8080/",
          "height": 166
        },
        "outputId": "a1e27769-9aae-46fa-e924-7edf3c099879"
      },
      "source": [
        "# Using unstack\n",
        "df.groupby(['Promotion', 'MarketSize']).count()['MarketID'].unstack('MarketSize')"
      ],
      "execution_count": 6,
      "outputs": [
        {
          "output_type": "execute_result",
          "data": {
            "text/html": [
              "<div>\n",
              "<style scoped>\n",
              "    .dataframe tbody tr th:only-of-type {\n",
              "        vertical-align: middle;\n",
              "    }\n",
              "\n",
              "    .dataframe tbody tr th {\n",
              "        vertical-align: top;\n",
              "    }\n",
              "\n",
              "    .dataframe thead th {\n",
              "        text-align: right;\n",
              "    }\n",
              "</style>\n",
              "<table border=\"1\" class=\"dataframe\">\n",
              "  <thead>\n",
              "    <tr style=\"text-align: right;\">\n",
              "      <th>MarketSize</th>\n",
              "      <th>Large</th>\n",
              "      <th>Medium</th>\n",
              "      <th>Small</th>\n",
              "    </tr>\n",
              "    <tr>\n",
              "      <th>Promotion</th>\n",
              "      <th></th>\n",
              "      <th></th>\n",
              "      <th></th>\n",
              "    </tr>\n",
              "  </thead>\n",
              "  <tbody>\n",
              "    <tr>\n",
              "      <th>1</th>\n",
              "      <td>56</td>\n",
              "      <td>96</td>\n",
              "      <td>20</td>\n",
              "    </tr>\n",
              "    <tr>\n",
              "      <th>2</th>\n",
              "      <td>64</td>\n",
              "      <td>108</td>\n",
              "      <td>16</td>\n",
              "    </tr>\n",
              "    <tr>\n",
              "      <th>3</th>\n",
              "      <td>48</td>\n",
              "      <td>116</td>\n",
              "      <td>24</td>\n",
              "    </tr>\n",
              "  </tbody>\n",
              "</table>\n",
              "</div>"
            ],
            "text/plain": [
              "MarketSize  Large  Medium  Small\n",
              "Promotion                       \n",
              "1              56      96     20\n",
              "2              64     108     16\n",
              "3              48     116     24"
            ]
          },
          "metadata": {
            "tags": []
          },
          "execution_count": 6
        }
      ]
    },
    {
      "cell_type": "code",
      "metadata": {
        "id": "SoJNWkPAiqyc",
        "colab": {
          "base_uri": "https://localhost:8080/",
          "height": 622
        },
        "outputId": "ceee0048-fa5b-46fa-b6ea-1ae3347dee35"
      },
      "source": [
        "# Put this into a plot\n",
        "ax = df.groupby(['Promotion', 'MarketSize']).count()['MarketID'].unstack('MarketSize').plot(\n",
        "    kind='bar',\n",
        "    figsize=(12,10),\n",
        "    grid=True)\n",
        "\n",
        "ax.set_ylabel('count')\n",
        "ax.set_title('breakdowns of market sizes across different promotions')\n",
        "\n",
        "plt.show()"
      ],
      "execution_count": 7,
      "outputs": [
        {
          "output_type": "display_data",
          "data": {
            "image/png": "[encoded data removed]",
            "text/plain": [
              "<Figure size 864x720 with 1 Axes>"
            ]
          },
          "metadata": {
            "tags": []
          }
        }
      ]
    },
    {
      "cell_type": "code",
      "metadata": {
        "id": "v9_I9SSoiqyf",
        "colab": {
          "base_uri": "https://localhost:8080/",
          "height": 622
        },
        "outputId": "5397d6f6-8f57-411f-8e19-1d8bebeccd99"
      },
      "source": [
        "# Put this into a different plot\n",
        "ax = df.groupby(['Promotion', 'MarketSize']).count()['MarketID'].unstack('MarketSize').plot(\n",
        "    kind='bar',\n",
        "    figsize=(12,10),\n",
        "    grid=True,\n",
        "    stacked=True)\n",
        "\n",
        "ax.set_ylabel('count')\n",
        "ax.set_title('breakdowns of market sizes across different promotions')\n",
        "\n",
        "plt.show()"
      ],
      "execution_count": 8,
      "outputs": [
        {
          "output_type": "display_data",
          "data": {
            "image/png": "[encoded data removed]",
            "text/plain": [
              "<Figure size 864x720 with 1 Axes>"
            ]
          },
          "metadata": {
            "tags": []
          }
        }
      ]
    },
    {
      "cell_type": "code",
      "metadata": {
        "id": "ALayjDr3iqyh",
        "colab": {
          "base_uri": "https://localhost:8080/",
          "height": 465
        },
        "outputId": "c8f8a4d5-1374-42e1-eb06-b6577083b7f3"
      },
      "source": [
        "ax = df.groupby('AgeOfStore').count()['MarketID'].plot(\n",
        "    kind='bar', \n",
        "    figsize=(12,7),\n",
        "    grid=True)\n",
        "\n",
        "ax.set_xlabel('age')\n",
        "ax.set_ylabel('count')\n",
        "ax.set_title('Overall Distributions Store Ages')\n",
        "\n",
        "plt.show()"
      ],
      "execution_count": 9,
      "outputs": [
        {
          "output_type": "display_data",
          "data": {
            "image/png": "[encoded data removed]",
            "text/plain": [
              "<Figure size 864x504 with 1 Axes>"
            ]
          },
          "metadata": {
            "tags": []
          }
        }
      ]
    },
    {
      "cell_type": "code",
      "metadata": {
        "id": "XEnSLS1eUQHm",
        "colab": {
          "base_uri": "https://localhost:8080/"
        },
        "outputId": "8d181330-facf-49fa-91db-1e66a57be12d"
      },
      "source": [
        "# Group by Age of Store and Promotion to get counts\n",
        "df.groupby(['AgeOfStore', 'Promotion']).count()['MarketID']"
      ],
      "execution_count": 10,
      "outputs": [
        {
          "output_type": "execute_result",
          "data": {
            "text/plain": [
              "AgeOfStore  Promotion\n",
              "1           1            24\n",
              "            2            36\n",
              "            3            20\n",
              "2           1             8\n",
              "            2             8\n",
              "            3             4\n",
              "3           1            16\n",
              "            2            12\n",
              "            3             4\n",
              "4           1            16\n",
              "            2            12\n",
              "            3            16\n",
              "5           1             8\n",
              "            2            12\n",
              "            3            24\n",
              "6           1            20\n",
              "            2             4\n",
              "            3            12\n",
              "7           1             4\n",
              "            2            24\n",
              "            3            12\n",
              "8           1            12\n",
              "            2             8\n",
              "            3            20\n",
              "9           1             8\n",
              "            2            12\n",
              "            3             8\n",
              "10          2            16\n",
              "            3             8\n",
              "11          1             4\n",
              "            3            12\n",
              "12          1            12\n",
              "            2             4\n",
              "            3             8\n",
              "13          1            12\n",
              "            2             8\n",
              "14          2             8\n",
              "            3             4\n",
              "15          1             4\n",
              "            2             4\n",
              "17          3             4\n",
              "18          1             8\n",
              "19          1             4\n",
              "            2             8\n",
              "            3             8\n",
              "20          3             4\n",
              "22          1             4\n",
              "            3             8\n",
              "23          2             4\n",
              "            3             4\n",
              "24          1             4\n",
              "            3             8\n",
              "25          2             4\n",
              "27          1             4\n",
              "28          2             4\n",
              "Name: MarketID, dtype: int64"
            ]
          },
          "metadata": {
            "tags": []
          },
          "execution_count": 10
        }
      ]
    },
    {
      "cell_type": "code",
      "metadata": {
        "id": "yHZPohk6iqyk",
        "colab": {
          "base_uri": "https://localhost:8080/",
          "height": 1000
        },
        "outputId": "0e4a0af3-959b-4ee7-88e4-31e65008d0f2"
      },
      "source": [
        "# Visaulize this summary\n",
        "ax = df.groupby(['AgeOfStore', 'Promotion']).count()['MarketID'].unstack('Promotion').iloc[::-1].plot(\n",
        "    kind='barh', \n",
        "    figsize=(14,18),\n",
        "    grid=True)\n",
        "\n",
        "ax.set_ylabel('age')\n",
        "ax.set_xlabel('count')\n",
        "ax.set_title('overall distributions of age of store')\n",
        "\n",
        "plt.show()"
      ],
      "execution_count": 11,
      "outputs": [
        {
          "output_type": "display_data",
          "data": {
            "image/png": "[encoded data removed]",
            "text/plain": [
              "<Figure size 1008x1296 with 1 Axes>"
            ]
          },
          "metadata": {
            "tags": []
          }
        }
      ]
    },
    {
      "cell_type": "code",
      "metadata": {
        "id": "O7nhk6hqiqyp",
        "colab": {
          "base_uri": "https://localhost:8080/",
          "height": 166
        },
        "outputId": "8c715166-b22b-43a0-e7c4-505dd568a2a0"
      },
      "source": [
        "df.groupby('Promotion').describe()['AgeOfStore']"
      ],
      "execution_count": 12,
      "outputs": [
        {
          "output_type": "execute_result",
          "data": {
            "text/html": [
              "<div>\n",
              "<style scoped>\n",
              "    .dataframe tbody tr th:only-of-type {\n",
              "        vertical-align: middle;\n",
              "    }\n",
              "\n",
              "    .dataframe tbody tr th {\n",
              "        vertical-align: top;\n",
              "    }\n",
              "\n",
              "    .dataframe thead th {\n",
              "        text-align: right;\n",
              "    }\n",
              "</style>\n",
              "<table border=\"1\" class=\"dataframe\">\n",
              "  <thead>\n",
              "    <tr style=\"text-align: right;\">\n",
              "      <th></th>\n",
              "      <th>count</th>\n",
              "      <th>mean</th>\n",
              "      <th>std</th>\n",
              "      <th>min</th>\n",
              "      <th>25%</th>\n",
              "      <th>50%</th>\n",
              "      <th>75%</th>\n",
              "      <th>max</th>\n",
              "    </tr>\n",
              "    <tr>\n",
              "      <th>Promotion</th>\n",
              "      <th></th>\n",
              "      <th></th>\n",
              "      <th></th>\n",
              "      <th></th>\n",
              "      <th></th>\n",
              "      <th></th>\n",
              "      <th></th>\n",
              "      <th></th>\n",
              "    </tr>\n",
              "  </thead>\n",
              "  <tbody>\n",
              "    <tr>\n",
              "      <th>1</th>\n",
              "      <td>172.0</td>\n",
              "      <td>8.279070</td>\n",
              "      <td>6.636160</td>\n",
              "      <td>1.0</td>\n",
              "      <td>3.0</td>\n",
              "      <td>6.0</td>\n",
              "      <td>12.0</td>\n",
              "      <td>27.0</td>\n",
              "    </tr>\n",
              "    <tr>\n",
              "      <th>2</th>\n",
              "      <td>188.0</td>\n",
              "      <td>7.978723</td>\n",
              "      <td>6.597648</td>\n",
              "      <td>1.0</td>\n",
              "      <td>3.0</td>\n",
              "      <td>7.0</td>\n",
              "      <td>10.0</td>\n",
              "      <td>28.0</td>\n",
              "    </tr>\n",
              "    <tr>\n",
              "      <th>3</th>\n",
              "      <td>188.0</td>\n",
              "      <td>9.234043</td>\n",
              "      <td>6.651646</td>\n",
              "      <td>1.0</td>\n",
              "      <td>5.0</td>\n",
              "      <td>8.0</td>\n",
              "      <td>12.0</td>\n",
              "      <td>24.0</td>\n",
              "    </tr>\n",
              "  </tbody>\n",
              "</table>\n",
              "</div>"
            ],
            "text/plain": [
              "           count      mean       std  min  25%  50%   75%   max\n",
              "Promotion                                                      \n",
              "1          172.0  8.279070  6.636160  1.0  3.0  6.0  12.0  27.0\n",
              "2          188.0  7.978723  6.597648  1.0  3.0  7.0  10.0  28.0\n",
              "3          188.0  9.234043  6.651646  1.0  5.0  8.0  12.0  24.0"
            ]
          },
          "metadata": {
            "tags": []
          },
          "execution_count": 12
        }
      ]
    },
    {
      "cell_type": "markdown",
      "metadata": {
        "id": "FKSn-54vE8tG"
      },
      "source": [
        "This table makes it easy to understand the overall store age distribution from our summary stats.\n",
        "\n",
        "All test groups have similar age profiles and the average store ages  is ~8 to 9 years old for theese 3 groups.\n",
        "\n",
        "The majority of the stores are 10–12 years old or even younger.\n",
        "\n",
        "We can see that the store profiles are similar to each other. \n",
        "\n",
        "This indicates that our sample groups are well controlled and the A/B testing results will be meaningful and trustworthy."
      ]
    },
    {
      "cell_type": "markdown",
      "metadata": {
        "id": "APnBnPBKUz2y"
      },
      "source": [
        "# Performing A/B Testing"
      ]
    },
    {
      "cell_type": "code",
      "metadata": {
        "id": "5TBx6yEXiqys",
        "colab": {
          "base_uri": "https://localhost:8080/"
        },
        "outputId": "31e1e107-3b61-4222-ac16-6d5a40a2c9d7"
      },
      "source": [
        "means = df.groupby('Promotion').mean()['SalesInThousands']\n",
        "stds = df.groupby('Promotion').std()['SalesInThousands']\n",
        "ns = df.groupby('Promotion').count()['SalesInThousands']\n",
        "print(means)\n",
        "print(stds)\n",
        "print(ns)"
      ],
      "execution_count": 13,
      "outputs": [
        {
          "output_type": "stream",
          "text": [
            "Promotion\n",
            "1    58.099012\n",
            "2    47.329415\n",
            "3    55.364468\n",
            "Name: SalesInThousands, dtype: float64\n",
            "Promotion\n",
            "1    16.553782\n",
            "2    15.108955\n",
            "3    16.766231\n",
            "Name: SalesInThousands, dtype: float64\n",
            "Promotion\n",
            "1    172\n",
            "2    188\n",
            "3    188\n",
            "Name: SalesInThousands, dtype: int64\n"
          ],
          "name": "stdout"
        }
      ]
    },
    {
      "cell_type": "markdown",
      "metadata": {
        "id": "nFhU5duklyC2"
      },
      "source": [
        "**T-Value**\n",
        "\n",
        "The t-value measures the degree of difference relative to the variation in our data groups. Large t-values indicate a higher degree of difference between the grups. \n",
        "\n",
        "**P-Value**\n",
        "\n",
        "P-value measures the probability that the results would occur by random chance. Therefore the smaller the p-value is, the more statistically significant difference there will be between the two groups"
      ]
    },
    {
      "cell_type": "markdown",
      "metadata": {
        "id": "BgAgZHlAVRsS"
      },
      "source": [
        "# Comparing Promotion 1 vs Promotion 2 in an A/B Test"
      ]
    },
    {
      "cell_type": "code",
      "metadata": {
        "id": "9viIzw-Tiqyz",
        "colab": {
          "base_uri": "https://localhost:8080/"
        },
        "outputId": "c058614a-a0a2-4c99-9185-431ca4f6cc2b"
      },
      "source": [
        "# Computing the t and p values using scipy \n",
        "from scipy import stats\n",
        "\n",
        "t, p = stats.ttest_ind(df.loc[df['Promotion'] == 1, 'SalesInThousands'].values,\n",
        "                       df.loc[df['Promotion'] == 2, 'SalesInThousands'].values, \n",
        "                       equal_var=False)\n",
        "print(\"t-value = \" +str(t))\n",
        "print(\"p-value = \" +str(p))"
      ],
      "execution_count": 14,
      "outputs": [
        {
          "output_type": "stream",
          "text": [
            "t-value = 6.42752867090748\n",
            "p-value = 4.2903687179871785e-10\n"
          ],
          "name": "stdout"
        }
      ]
    },
    {
      "cell_type": "markdown",
      "metadata": {
        "id": "unxLmuGYGSZ2"
      },
      "source": [
        "# Analysis of P and t-values\n",
        " Our **P-Value is close to 0** which suggests that there is good evidence to **REJECT the Null Hypothesis**. Meaning the there is a statistical difference between the two groups. Our threshold rejectings the Null is usually less than 0.05.\n",
        "\n",
        "Our **t-test** shows that the marketing performances for these two groups are significantly different and that promotion group 1 outperforms promotion group 2. \n"
      ]
    },
    {
      "cell_type": "markdown",
      "metadata": {
        "id": "c5Li9WaMVfZF"
      },
      "source": [
        "# Comparing Promotion 1 vs Promotion 3 in an A/B Test\n",
        "\n",
        "However, if we run a t-test between the promotion group 1 and promotion group 3, we see different results:"
      ]
    },
    {
      "cell_type": "code",
      "metadata": {
        "id": "SLLtch3xiqy4",
        "colab": {
          "base_uri": "https://localhost:8080/"
        },
        "outputId": "f13ae308-b20a-45e7-e48c-b5470416ab73"
      },
      "source": [
        "t, p = stats.ttest_ind(\n",
        "    df.loc[df['Promotion'] == 1, 'SalesInThousands'].values, \n",
        "    df.loc[df['Promotion'] == 3, 'SalesInThousands'].values, \n",
        "    equal_var=False)\n",
        "\n",
        "print(\"t-value = \" +str(t))\n",
        "print(\"p-value = \" +str(p))"
      ],
      "execution_count": 15,
      "outputs": [
        {
          "output_type": "stream",
          "text": [
            "t-value = 1.5560224307758634\n",
            "p-value = 0.12059147742229478\n"
          ],
          "name": "stdout"
        }
      ]
    },
    {
      "cell_type": "markdown",
      "metadata": {
        "id": "QURnWYZmKqDE"
      },
      "source": [
        "# Analysis of P and t-values\n",
        "\n",
        "We note that the average sales from promotion group 1 (58.1) is  higher than those from promotion group 2 (55.36). \n",
        "\n",
        "But, running a t-test between these two groups, gives us a t-value of 1.556 and a p-value of 0.121. \n",
        "\n",
        "The computed **p-value is a lot higher than 0.05**, past the threshold for statistical significance."
      ]
    }
  ]
}