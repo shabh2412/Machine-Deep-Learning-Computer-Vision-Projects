{
  "nbformat": 4,
  "nbformat_minor": 0,
  "metadata": {
    "kernelspec": {
      "display_name": "Python 3",
      "language": "python",
      "name": "python3"
    },
    "language_info": {
      "codemirror_mode": {
        "name": "ipython",
        "version": 3
      },
      "file_extension": ".py",
      "mimetype": "text/x-python",
      "name": "python",
      "nbconvert_exporter": "python",
      "pygments_lexer": "ipython3",
      "version": "3.7.3"
    },
    "colab": {
      "name": "Product and Retail Analytics -  Exploratory Data Analysis",
      "provenance": [],
      "collapsed_sections": [],
      "toc_visible": true
    }
  },
  "cells": [
    {
      "cell_type": "markdown",
      "metadata": {
        "id": "QkNAa8KUjPtc"
      },
      "source": [
        "### Product and Retail Data Analysis\n",
        "https://www.kaggle.com/carrie1/ecommerce-data/downloads/ecommerce-data.zip/1\n",
        "\n",
        "https://www.kaggle.com/admond1994/e-commerce-data-eda/notebook"
      ]
    },
    {
      "cell_type": "markdown",
      "metadata": {
        "id": "kmfo40UFjPtg"
      },
      "source": [
        "#### About out Data\n",
        "- Company - UK-based and registered non-store online retail\n",
        "- Products for selling - Mainly all-occasion gifts\n",
        "- Customers - Most are wholesalers (local or international)\n",
        "- Transactions Period - 1st Dec 2010 - 9th Dec 2011 (One year)"
      ]
    },
    {
      "cell_type": "code",
      "metadata": {
        "id": "Thnzux4hjPti"
      },
      "source": [
        "# Import our modules\n",
        "import pandas as pd \n",
        "import numpy as np\n",
        "import matplotlib.pyplot as plt\n",
        "import seaborn as sns \n",
        "\n",
        "import warnings\n",
        "# current version of seaborn generates a bunch of warnings that we'll ignore\n",
        "warnings.filterwarnings('ignore')\n",
        "sns.set_style('whitegrid')\n",
        "\n",
        "#import missingno as msno # missing data visualization module for Python\n",
        "import pandas_profiling\n",
        "\n",
        "import gc\n",
        "import datetime\n",
        "\n",
        "%matplotlib inline\n",
        "# Using ggplot's style\n",
        "plt.style.use('ggplot')"
      ],
      "execution_count": 1,
      "outputs": []
    },
    {
      "cell_type": "code",
      "metadata": {
        "id": "HpsoTxFRjPtn"
      },
      "source": [
        "# Loading our data\n",
        "# specify encoding to deal with different formats\n",
        "df = pd.read_csv(\"/content/ecommerce_data.csv\", encoding = 'ISO-8859-1')\n"
      ],
      "execution_count": 2,
      "outputs": []
    },
    {
      "cell_type": "code",
      "metadata": {
        "id": "tywBPrULIa7H",
        "colab": {
          "base_uri": "https://localhost:8080/",
          "height": 195
        },
        "outputId": "8f6d0084-abf8-4ff9-dc59-407257f99808"
      },
      "source": [
        "df['index_col'] = df.index\n",
        "df.head()"
      ],
      "execution_count": 3,
      "outputs": [
        {
          "output_type": "execute_result",
          "data": {
            "text/html": [
              "<div>\n",
              "<style scoped>\n",
              "    .dataframe tbody tr th:only-of-type {\n",
              "        vertical-align: middle;\n",
              "    }\n",
              "\n",
              "    .dataframe tbody tr th {\n",
              "        vertical-align: top;\n",
              "    }\n",
              "\n",
              "    .dataframe thead th {\n",
              "        text-align: right;\n",
              "    }\n",
              "</style>\n",
              "<table border=\"1\" class=\"dataframe\">\n",
              "  <thead>\n",
              "    <tr style=\"text-align: right;\">\n",
              "      <th></th>\n",
              "      <th>InvoiceNo</th>\n",
              "      <th>StockCode</th>\n",
              "      <th>Description</th>\n",
              "      <th>Quantity</th>\n",
              "      <th>InvoiceDate</th>\n",
              "      <th>UnitPrice</th>\n",
              "      <th>CustomerID</th>\n",
              "      <th>Country</th>\n",
              "      <th>index_col</th>\n",
              "    </tr>\n",
              "  </thead>\n",
              "  <tbody>\n",
              "    <tr>\n",
              "      <th>0</th>\n",
              "      <td>536365</td>\n",
              "      <td>85123A</td>\n",
              "      <td>WHITE HANGING HEART T-LIGHT HOLDER</td>\n",
              "      <td>6</td>\n",
              "      <td>12/1/2010 8:26</td>\n",
              "      <td>2.55</td>\n",
              "      <td>17850.0</td>\n",
              "      <td>United Kingdom</td>\n",
              "      <td>0</td>\n",
              "    </tr>\n",
              "    <tr>\n",
              "      <th>1</th>\n",
              "      <td>536365</td>\n",
              "      <td>71053</td>\n",
              "      <td>WHITE METAL LANTERN</td>\n",
              "      <td>6</td>\n",
              "      <td>12/1/2010 8:26</td>\n",
              "      <td>3.39</td>\n",
              "      <td>17850.0</td>\n",
              "      <td>United Kingdom</td>\n",
              "      <td>1</td>\n",
              "    </tr>\n",
              "    <tr>\n",
              "      <th>2</th>\n",
              "      <td>536365</td>\n",
              "      <td>84406B</td>\n",
              "      <td>CREAM CUPID HEARTS COAT HANGER</td>\n",
              "      <td>8</td>\n",
              "      <td>12/1/2010 8:26</td>\n",
              "      <td>2.75</td>\n",
              "      <td>17850.0</td>\n",
              "      <td>United Kingdom</td>\n",
              "      <td>2</td>\n",
              "    </tr>\n",
              "    <tr>\n",
              "      <th>3</th>\n",
              "      <td>536365</td>\n",
              "      <td>84029G</td>\n",
              "      <td>KNITTED UNION FLAG HOT WATER BOTTLE</td>\n",
              "      <td>6</td>\n",
              "      <td>12/1/2010 8:26</td>\n",
              "      <td>3.39</td>\n",
              "      <td>17850.0</td>\n",
              "      <td>United Kingdom</td>\n",
              "      <td>3</td>\n",
              "    </tr>\n",
              "    <tr>\n",
              "      <th>4</th>\n",
              "      <td>536365</td>\n",
              "      <td>84029E</td>\n",
              "      <td>RED WOOLLY HOTTIE WHITE HEART.</td>\n",
              "      <td>6</td>\n",
              "      <td>12/1/2010 8:26</td>\n",
              "      <td>3.39</td>\n",
              "      <td>17850.0</td>\n",
              "      <td>United Kingdom</td>\n",
              "      <td>4</td>\n",
              "    </tr>\n",
              "  </tbody>\n",
              "</table>\n",
              "</div>"
            ],
            "text/plain": [
              "  InvoiceNo StockCode  ...         Country  index_col\n",
              "0    536365    85123A  ...  United Kingdom          0\n",
              "1    536365     71053  ...  United Kingdom          1\n",
              "2    536365    84406B  ...  United Kingdom          2\n",
              "3    536365    84029G  ...  United Kingdom          3\n",
              "4    536365    84029E  ...  United Kingdom          4\n",
              "\n",
              "[5 rows x 9 columns]"
            ]
          },
          "metadata": {
            "tags": []
          },
          "execution_count": 3
        }
      ]
    },
    {
      "cell_type": "code",
      "metadata": {
        "id": "I_MbBePwIe0c",
        "colab": {
          "base_uri": "https://localhost:8080/",
          "height": 279
        },
        "outputId": "dacb56bc-ab7b-46b3-b1d7-c2edf5a217b4"
      },
      "source": [
        "df = df.reset_index()\n",
        "df['index_remain'] = df['index_col'] % 2\n",
        "df.head()"
      ],
      "execution_count": 4,
      "outputs": [
        {
          "output_type": "execute_result",
          "data": {
            "text/html": [
              "<div>\n",
              "<style scoped>\n",
              "    .dataframe tbody tr th:only-of-type {\n",
              "        vertical-align: middle;\n",
              "    }\n",
              "\n",
              "    .dataframe tbody tr th {\n",
              "        vertical-align: top;\n",
              "    }\n",
              "\n",
              "    .dataframe thead th {\n",
              "        text-align: right;\n",
              "    }\n",
              "</style>\n",
              "<table border=\"1\" class=\"dataframe\">\n",
              "  <thead>\n",
              "    <tr style=\"text-align: right;\">\n",
              "      <th></th>\n",
              "      <th>index</th>\n",
              "      <th>InvoiceNo</th>\n",
              "      <th>StockCode</th>\n",
              "      <th>Description</th>\n",
              "      <th>Quantity</th>\n",
              "      <th>InvoiceDate</th>\n",
              "      <th>UnitPrice</th>\n",
              "      <th>CustomerID</th>\n",
              "      <th>Country</th>\n",
              "      <th>index_col</th>\n",
              "      <th>index_remain</th>\n",
              "    </tr>\n",
              "  </thead>\n",
              "  <tbody>\n",
              "    <tr>\n",
              "      <th>0</th>\n",
              "      <td>0</td>\n",
              "      <td>536365</td>\n",
              "      <td>85123A</td>\n",
              "      <td>WHITE HANGING HEART T-LIGHT HOLDER</td>\n",
              "      <td>6</td>\n",
              "      <td>12/1/2010 8:26</td>\n",
              "      <td>2.55</td>\n",
              "      <td>17850.0</td>\n",
              "      <td>United Kingdom</td>\n",
              "      <td>0</td>\n",
              "      <td>0</td>\n",
              "    </tr>\n",
              "    <tr>\n",
              "      <th>1</th>\n",
              "      <td>1</td>\n",
              "      <td>536365</td>\n",
              "      <td>71053</td>\n",
              "      <td>WHITE METAL LANTERN</td>\n",
              "      <td>6</td>\n",
              "      <td>12/1/2010 8:26</td>\n",
              "      <td>3.39</td>\n",
              "      <td>17850.0</td>\n",
              "      <td>United Kingdom</td>\n",
              "      <td>1</td>\n",
              "      <td>1</td>\n",
              "    </tr>\n",
              "    <tr>\n",
              "      <th>2</th>\n",
              "      <td>2</td>\n",
              "      <td>536365</td>\n",
              "      <td>84406B</td>\n",
              "      <td>CREAM CUPID HEARTS COAT HANGER</td>\n",
              "      <td>8</td>\n",
              "      <td>12/1/2010 8:26</td>\n",
              "      <td>2.75</td>\n",
              "      <td>17850.0</td>\n",
              "      <td>United Kingdom</td>\n",
              "      <td>2</td>\n",
              "      <td>0</td>\n",
              "    </tr>\n",
              "    <tr>\n",
              "      <th>3</th>\n",
              "      <td>3</td>\n",
              "      <td>536365</td>\n",
              "      <td>84029G</td>\n",
              "      <td>KNITTED UNION FLAG HOT WATER BOTTLE</td>\n",
              "      <td>6</td>\n",
              "      <td>12/1/2010 8:26</td>\n",
              "      <td>3.39</td>\n",
              "      <td>17850.0</td>\n",
              "      <td>United Kingdom</td>\n",
              "      <td>3</td>\n",
              "      <td>1</td>\n",
              "    </tr>\n",
              "    <tr>\n",
              "      <th>4</th>\n",
              "      <td>4</td>\n",
              "      <td>536365</td>\n",
              "      <td>84029E</td>\n",
              "      <td>RED WOOLLY HOTTIE WHITE HEART.</td>\n",
              "      <td>6</td>\n",
              "      <td>12/1/2010 8:26</td>\n",
              "      <td>3.39</td>\n",
              "      <td>17850.0</td>\n",
              "      <td>United Kingdom</td>\n",
              "      <td>4</td>\n",
              "      <td>0</td>\n",
              "    </tr>\n",
              "  </tbody>\n",
              "</table>\n",
              "</div>"
            ],
            "text/plain": [
              "   index InvoiceNo StockCode  ...         Country  index_col index_remain\n",
              "0      0    536365    85123A  ...  United Kingdom          0            0\n",
              "1      1    536365     71053  ...  United Kingdom          1            1\n",
              "2      2    536365    84406B  ...  United Kingdom          2            0\n",
              "3      3    536365    84029G  ...  United Kingdom          3            1\n",
              "4      4    536365    84029E  ...  United Kingdom          4            0\n",
              "\n",
              "[5 rows x 11 columns]"
            ]
          },
          "metadata": {
            "tags": []
          },
          "execution_count": 4
        }
      ]
    },
    {
      "cell_type": "code",
      "metadata": {
        "id": "Tp1kE13dIskj",
        "colab": {
          "base_uri": "https://localhost:8080/",
          "height": 279
        },
        "outputId": "55da4ae4-3565-4cd3-a43f-0fe02637afc3"
      },
      "source": [
        "df = df[df.index_remain != 1]\n",
        "df.head()"
      ],
      "execution_count": 5,
      "outputs": [
        {
          "output_type": "execute_result",
          "data": {
            "text/html": [
              "<div>\n",
              "<style scoped>\n",
              "    .dataframe tbody tr th:only-of-type {\n",
              "        vertical-align: middle;\n",
              "    }\n",
              "\n",
              "    .dataframe tbody tr th {\n",
              "        vertical-align: top;\n",
              "    }\n",
              "\n",
              "    .dataframe thead th {\n",
              "        text-align: right;\n",
              "    }\n",
              "</style>\n",
              "<table border=\"1\" class=\"dataframe\">\n",
              "  <thead>\n",
              "    <tr style=\"text-align: right;\">\n",
              "      <th></th>\n",
              "      <th>index</th>\n",
              "      <th>InvoiceNo</th>\n",
              "      <th>StockCode</th>\n",
              "      <th>Description</th>\n",
              "      <th>Quantity</th>\n",
              "      <th>InvoiceDate</th>\n",
              "      <th>UnitPrice</th>\n",
              "      <th>CustomerID</th>\n",
              "      <th>Country</th>\n",
              "      <th>index_col</th>\n",
              "      <th>index_remain</th>\n",
              "    </tr>\n",
              "  </thead>\n",
              "  <tbody>\n",
              "    <tr>\n",
              "      <th>0</th>\n",
              "      <td>0</td>\n",
              "      <td>536365</td>\n",
              "      <td>85123A</td>\n",
              "      <td>WHITE HANGING HEART T-LIGHT HOLDER</td>\n",
              "      <td>6</td>\n",
              "      <td>12/1/2010 8:26</td>\n",
              "      <td>2.55</td>\n",
              "      <td>17850.0</td>\n",
              "      <td>United Kingdom</td>\n",
              "      <td>0</td>\n",
              "      <td>0</td>\n",
              "    </tr>\n",
              "    <tr>\n",
              "      <th>2</th>\n",
              "      <td>2</td>\n",
              "      <td>536365</td>\n",
              "      <td>84406B</td>\n",
              "      <td>CREAM CUPID HEARTS COAT HANGER</td>\n",
              "      <td>8</td>\n",
              "      <td>12/1/2010 8:26</td>\n",
              "      <td>2.75</td>\n",
              "      <td>17850.0</td>\n",
              "      <td>United Kingdom</td>\n",
              "      <td>2</td>\n",
              "      <td>0</td>\n",
              "    </tr>\n",
              "    <tr>\n",
              "      <th>4</th>\n",
              "      <td>4</td>\n",
              "      <td>536365</td>\n",
              "      <td>84029E</td>\n",
              "      <td>RED WOOLLY HOTTIE WHITE HEART.</td>\n",
              "      <td>6</td>\n",
              "      <td>12/1/2010 8:26</td>\n",
              "      <td>3.39</td>\n",
              "      <td>17850.0</td>\n",
              "      <td>United Kingdom</td>\n",
              "      <td>4</td>\n",
              "      <td>0</td>\n",
              "    </tr>\n",
              "    <tr>\n",
              "      <th>6</th>\n",
              "      <td>6</td>\n",
              "      <td>536365</td>\n",
              "      <td>21730</td>\n",
              "      <td>GLASS STAR FROSTED T-LIGHT HOLDER</td>\n",
              "      <td>6</td>\n",
              "      <td>12/1/2010 8:26</td>\n",
              "      <td>4.25</td>\n",
              "      <td>17850.0</td>\n",
              "      <td>United Kingdom</td>\n",
              "      <td>6</td>\n",
              "      <td>0</td>\n",
              "    </tr>\n",
              "    <tr>\n",
              "      <th>8</th>\n",
              "      <td>8</td>\n",
              "      <td>536366</td>\n",
              "      <td>22632</td>\n",
              "      <td>HAND WARMER RED POLKA DOT</td>\n",
              "      <td>6</td>\n",
              "      <td>12/1/2010 8:28</td>\n",
              "      <td>1.85</td>\n",
              "      <td>17850.0</td>\n",
              "      <td>United Kingdom</td>\n",
              "      <td>8</td>\n",
              "      <td>0</td>\n",
              "    </tr>\n",
              "  </tbody>\n",
              "</table>\n",
              "</div>"
            ],
            "text/plain": [
              "   index InvoiceNo StockCode  ...         Country  index_col index_remain\n",
              "0      0    536365    85123A  ...  United Kingdom          0            0\n",
              "2      2    536365    84406B  ...  United Kingdom          2            0\n",
              "4      4    536365    84029E  ...  United Kingdom          4            0\n",
              "6      6    536365     21730  ...  United Kingdom          6            0\n",
              "8      8    536366     22632  ...  United Kingdom          8            0\n",
              "\n",
              "[5 rows x 11 columns]"
            ]
          },
          "metadata": {
            "tags": []
          },
          "execution_count": 5
        }
      ]
    },
    {
      "cell_type": "code",
      "metadata": {
        "id": "lvFvHUwFJlVB"
      },
      "source": [
        "df.to_csv(\"retail_sales.csv\")"
      ],
      "execution_count": 6,
      "outputs": []
    },
    {
      "cell_type": "code",
      "metadata": {
        "id": "UlwdRu58jPtq",
        "colab": {
          "base_uri": "https://localhost:8080/",
          "height": 1000
        },
        "outputId": "2aa8cfb9-8a04-431c-c1b4-07020baec15d"
      },
      "source": [
        "df.head(25)"
      ],
      "execution_count": 7,
      "outputs": [
        {
          "output_type": "execute_result",
          "data": {
            "text/html": [
              "<div>\n",
              "<style scoped>\n",
              "    .dataframe tbody tr th:only-of-type {\n",
              "        vertical-align: middle;\n",
              "    }\n",
              "\n",
              "    .dataframe tbody tr th {\n",
              "        vertical-align: top;\n",
              "    }\n",
              "\n",
              "    .dataframe thead th {\n",
              "        text-align: right;\n",
              "    }\n",
              "</style>\n",
              "<table border=\"1\" class=\"dataframe\">\n",
              "  <thead>\n",
              "    <tr style=\"text-align: right;\">\n",
              "      <th></th>\n",
              "      <th>index</th>\n",
              "      <th>InvoiceNo</th>\n",
              "      <th>StockCode</th>\n",
              "      <th>Description</th>\n",
              "      <th>Quantity</th>\n",
              "      <th>InvoiceDate</th>\n",
              "      <th>UnitPrice</th>\n",
              "      <th>CustomerID</th>\n",
              "      <th>Country</th>\n",
              "      <th>index_col</th>\n",
              "      <th>index_remain</th>\n",
              "    </tr>\n",
              "  </thead>\n",
              "  <tbody>\n",
              "    <tr>\n",
              "      <th>0</th>\n",
              "      <td>0</td>\n",
              "      <td>536365</td>\n",
              "      <td>85123A</td>\n",
              "      <td>WHITE HANGING HEART T-LIGHT HOLDER</td>\n",
              "      <td>6</td>\n",
              "      <td>12/1/2010 8:26</td>\n",
              "      <td>2.55</td>\n",
              "      <td>17850.0</td>\n",
              "      <td>United Kingdom</td>\n",
              "      <td>0</td>\n",
              "      <td>0</td>\n",
              "    </tr>\n",
              "    <tr>\n",
              "      <th>2</th>\n",
              "      <td>2</td>\n",
              "      <td>536365</td>\n",
              "      <td>84406B</td>\n",
              "      <td>CREAM CUPID HEARTS COAT HANGER</td>\n",
              "      <td>8</td>\n",
              "      <td>12/1/2010 8:26</td>\n",
              "      <td>2.75</td>\n",
              "      <td>17850.0</td>\n",
              "      <td>United Kingdom</td>\n",
              "      <td>2</td>\n",
              "      <td>0</td>\n",
              "    </tr>\n",
              "    <tr>\n",
              "      <th>4</th>\n",
              "      <td>4</td>\n",
              "      <td>536365</td>\n",
              "      <td>84029E</td>\n",
              "      <td>RED WOOLLY HOTTIE WHITE HEART.</td>\n",
              "      <td>6</td>\n",
              "      <td>12/1/2010 8:26</td>\n",
              "      <td>3.39</td>\n",
              "      <td>17850.0</td>\n",
              "      <td>United Kingdom</td>\n",
              "      <td>4</td>\n",
              "      <td>0</td>\n",
              "    </tr>\n",
              "    <tr>\n",
              "      <th>6</th>\n",
              "      <td>6</td>\n",
              "      <td>536365</td>\n",
              "      <td>21730</td>\n",
              "      <td>GLASS STAR FROSTED T-LIGHT HOLDER</td>\n",
              "      <td>6</td>\n",
              "      <td>12/1/2010 8:26</td>\n",
              "      <td>4.25</td>\n",
              "      <td>17850.0</td>\n",
              "      <td>United Kingdom</td>\n",
              "      <td>6</td>\n",
              "      <td>0</td>\n",
              "    </tr>\n",
              "    <tr>\n",
              "      <th>8</th>\n",
              "      <td>8</td>\n",
              "      <td>536366</td>\n",
              "      <td>22632</td>\n",
              "      <td>HAND WARMER RED POLKA DOT</td>\n",
              "      <td>6</td>\n",
              "      <td>12/1/2010 8:28</td>\n",
              "      <td>1.85</td>\n",
              "      <td>17850.0</td>\n",
              "      <td>United Kingdom</td>\n",
              "      <td>8</td>\n",
              "      <td>0</td>\n",
              "    </tr>\n",
              "    <tr>\n",
              "      <th>10</th>\n",
              "      <td>10</td>\n",
              "      <td>536367</td>\n",
              "      <td>22745</td>\n",
              "      <td>POPPY'S PLAYHOUSE BEDROOM</td>\n",
              "      <td>6</td>\n",
              "      <td>12/1/2010 8:34</td>\n",
              "      <td>2.10</td>\n",
              "      <td>13047.0</td>\n",
              "      <td>United Kingdom</td>\n",
              "      <td>10</td>\n",
              "      <td>0</td>\n",
              "    </tr>\n",
              "    <tr>\n",
              "      <th>12</th>\n",
              "      <td>12</td>\n",
              "      <td>536367</td>\n",
              "      <td>22749</td>\n",
              "      <td>FELTCRAFT PRINCESS CHARLOTTE DOLL</td>\n",
              "      <td>8</td>\n",
              "      <td>12/1/2010 8:34</td>\n",
              "      <td>3.75</td>\n",
              "      <td>13047.0</td>\n",
              "      <td>United Kingdom</td>\n",
              "      <td>12</td>\n",
              "      <td>0</td>\n",
              "    </tr>\n",
              "    <tr>\n",
              "      <th>14</th>\n",
              "      <td>14</td>\n",
              "      <td>536367</td>\n",
              "      <td>84969</td>\n",
              "      <td>BOX OF 6 ASSORTED COLOUR TEASPOONS</td>\n",
              "      <td>6</td>\n",
              "      <td>12/1/2010 8:34</td>\n",
              "      <td>4.25</td>\n",
              "      <td>13047.0</td>\n",
              "      <td>United Kingdom</td>\n",
              "      <td>14</td>\n",
              "      <td>0</td>\n",
              "    </tr>\n",
              "    <tr>\n",
              "      <th>16</th>\n",
              "      <td>16</td>\n",
              "      <td>536367</td>\n",
              "      <td>22622</td>\n",
              "      <td>BOX OF VINTAGE ALPHABET BLOCKS</td>\n",
              "      <td>2</td>\n",
              "      <td>12/1/2010 8:34</td>\n",
              "      <td>9.95</td>\n",
              "      <td>13047.0</td>\n",
              "      <td>United Kingdom</td>\n",
              "      <td>16</td>\n",
              "      <td>0</td>\n",
              "    </tr>\n",
              "    <tr>\n",
              "      <th>18</th>\n",
              "      <td>18</td>\n",
              "      <td>536367</td>\n",
              "      <td>21755</td>\n",
              "      <td>LOVE BUILDING BLOCK WORD</td>\n",
              "      <td>3</td>\n",
              "      <td>12/1/2010 8:34</td>\n",
              "      <td>5.95</td>\n",
              "      <td>13047.0</td>\n",
              "      <td>United Kingdom</td>\n",
              "      <td>18</td>\n",
              "      <td>0</td>\n",
              "    </tr>\n",
              "    <tr>\n",
              "      <th>20</th>\n",
              "      <td>20</td>\n",
              "      <td>536367</td>\n",
              "      <td>48187</td>\n",
              "      <td>DOORMAT NEW ENGLAND</td>\n",
              "      <td>4</td>\n",
              "      <td>12/1/2010 8:34</td>\n",
              "      <td>7.95</td>\n",
              "      <td>13047.0</td>\n",
              "      <td>United Kingdom</td>\n",
              "      <td>20</td>\n",
              "      <td>0</td>\n",
              "    </tr>\n",
              "    <tr>\n",
              "      <th>22</th>\n",
              "      <td>22</td>\n",
              "      <td>536368</td>\n",
              "      <td>22913</td>\n",
              "      <td>RED COAT RACK PARIS FASHION</td>\n",
              "      <td>3</td>\n",
              "      <td>12/1/2010 8:34</td>\n",
              "      <td>4.95</td>\n",
              "      <td>13047.0</td>\n",
              "      <td>United Kingdom</td>\n",
              "      <td>22</td>\n",
              "      <td>0</td>\n",
              "    </tr>\n",
              "    <tr>\n",
              "      <th>24</th>\n",
              "      <td>24</td>\n",
              "      <td>536368</td>\n",
              "      <td>22914</td>\n",
              "      <td>BLUE COAT RACK PARIS FASHION</td>\n",
              "      <td>3</td>\n",
              "      <td>12/1/2010 8:34</td>\n",
              "      <td>4.95</td>\n",
              "      <td>13047.0</td>\n",
              "      <td>United Kingdom</td>\n",
              "      <td>24</td>\n",
              "      <td>0</td>\n",
              "    </tr>\n",
              "    <tr>\n",
              "      <th>26</th>\n",
              "      <td>26</td>\n",
              "      <td>536370</td>\n",
              "      <td>22728</td>\n",
              "      <td>ALARM CLOCK BAKELIKE PINK</td>\n",
              "      <td>24</td>\n",
              "      <td>12/1/2010 8:45</td>\n",
              "      <td>3.75</td>\n",
              "      <td>12583.0</td>\n",
              "      <td>France</td>\n",
              "      <td>26</td>\n",
              "      <td>0</td>\n",
              "    </tr>\n",
              "    <tr>\n",
              "      <th>28</th>\n",
              "      <td>28</td>\n",
              "      <td>536370</td>\n",
              "      <td>22726</td>\n",
              "      <td>ALARM CLOCK BAKELIKE GREEN</td>\n",
              "      <td>12</td>\n",
              "      <td>12/1/2010 8:45</td>\n",
              "      <td>3.75</td>\n",
              "      <td>12583.0</td>\n",
              "      <td>France</td>\n",
              "      <td>28</td>\n",
              "      <td>0</td>\n",
              "    </tr>\n",
              "    <tr>\n",
              "      <th>30</th>\n",
              "      <td>30</td>\n",
              "      <td>536370</td>\n",
              "      <td>21883</td>\n",
              "      <td>STARS GIFT TAPE</td>\n",
              "      <td>24</td>\n",
              "      <td>12/1/2010 8:45</td>\n",
              "      <td>0.65</td>\n",
              "      <td>12583.0</td>\n",
              "      <td>France</td>\n",
              "      <td>30</td>\n",
              "      <td>0</td>\n",
              "    </tr>\n",
              "    <tr>\n",
              "      <th>32</th>\n",
              "      <td>32</td>\n",
              "      <td>536370</td>\n",
              "      <td>21791</td>\n",
              "      <td>VINTAGE HEADS AND TAILS CARD GAME</td>\n",
              "      <td>24</td>\n",
              "      <td>12/1/2010 8:45</td>\n",
              "      <td>1.25</td>\n",
              "      <td>12583.0</td>\n",
              "      <td>France</td>\n",
              "      <td>32</td>\n",
              "      <td>0</td>\n",
              "    </tr>\n",
              "    <tr>\n",
              "      <th>34</th>\n",
              "      <td>34</td>\n",
              "      <td>536370</td>\n",
              "      <td>22326</td>\n",
              "      <td>ROUND SNACK BOXES SET OF4 WOODLAND</td>\n",
              "      <td>24</td>\n",
              "      <td>12/1/2010 8:45</td>\n",
              "      <td>2.95</td>\n",
              "      <td>12583.0</td>\n",
              "      <td>France</td>\n",
              "      <td>34</td>\n",
              "      <td>0</td>\n",
              "    </tr>\n",
              "    <tr>\n",
              "      <th>36</th>\n",
              "      <td>36</td>\n",
              "      <td>536370</td>\n",
              "      <td>22659</td>\n",
              "      <td>LUNCH BOX I LOVE LONDON</td>\n",
              "      <td>24</td>\n",
              "      <td>12/1/2010 8:45</td>\n",
              "      <td>1.95</td>\n",
              "      <td>12583.0</td>\n",
              "      <td>France</td>\n",
              "      <td>36</td>\n",
              "      <td>0</td>\n",
              "    </tr>\n",
              "    <tr>\n",
              "      <th>38</th>\n",
              "      <td>38</td>\n",
              "      <td>536370</td>\n",
              "      <td>22661</td>\n",
              "      <td>CHARLOTTE BAG DOLLY GIRL DESIGN</td>\n",
              "      <td>20</td>\n",
              "      <td>12/1/2010 8:45</td>\n",
              "      <td>0.85</td>\n",
              "      <td>12583.0</td>\n",
              "      <td>France</td>\n",
              "      <td>38</td>\n",
              "      <td>0</td>\n",
              "    </tr>\n",
              "    <tr>\n",
              "      <th>40</th>\n",
              "      <td>40</td>\n",
              "      <td>536370</td>\n",
              "      <td>22900</td>\n",
              "      <td>SET 2 TEA TOWELS I LOVE LONDON</td>\n",
              "      <td>24</td>\n",
              "      <td>12/1/2010 8:45</td>\n",
              "      <td>2.95</td>\n",
              "      <td>12583.0</td>\n",
              "      <td>France</td>\n",
              "      <td>40</td>\n",
              "      <td>0</td>\n",
              "    </tr>\n",
              "    <tr>\n",
              "      <th>42</th>\n",
              "      <td>42</td>\n",
              "      <td>536370</td>\n",
              "      <td>22540</td>\n",
              "      <td>MINI JIGSAW CIRCUS PARADE</td>\n",
              "      <td>24</td>\n",
              "      <td>12/1/2010 8:45</td>\n",
              "      <td>0.42</td>\n",
              "      <td>12583.0</td>\n",
              "      <td>France</td>\n",
              "      <td>42</td>\n",
              "      <td>0</td>\n",
              "    </tr>\n",
              "    <tr>\n",
              "      <th>44</th>\n",
              "      <td>44</td>\n",
              "      <td>536370</td>\n",
              "      <td>22492</td>\n",
              "      <td>MINI PAINT SET VINTAGE</td>\n",
              "      <td>36</td>\n",
              "      <td>12/1/2010 8:45</td>\n",
              "      <td>0.65</td>\n",
              "      <td>12583.0</td>\n",
              "      <td>France</td>\n",
              "      <td>44</td>\n",
              "      <td>0</td>\n",
              "    </tr>\n",
              "    <tr>\n",
              "      <th>46</th>\n",
              "      <td>46</td>\n",
              "      <td>536371</td>\n",
              "      <td>22086</td>\n",
              "      <td>PAPER CHAIN KIT 50'S CHRISTMAS</td>\n",
              "      <td>80</td>\n",
              "      <td>12/1/2010 9:00</td>\n",
              "      <td>2.55</td>\n",
              "      <td>13748.0</td>\n",
              "      <td>United Kingdom</td>\n",
              "      <td>46</td>\n",
              "      <td>0</td>\n",
              "    </tr>\n",
              "    <tr>\n",
              "      <th>48</th>\n",
              "      <td>48</td>\n",
              "      <td>536372</td>\n",
              "      <td>22633</td>\n",
              "      <td>HAND WARMER UNION JACK</td>\n",
              "      <td>6</td>\n",
              "      <td>12/1/2010 9:01</td>\n",
              "      <td>1.85</td>\n",
              "      <td>17850.0</td>\n",
              "      <td>United Kingdom</td>\n",
              "      <td>48</td>\n",
              "      <td>0</td>\n",
              "    </tr>\n",
              "  </tbody>\n",
              "</table>\n",
              "</div>"
            ],
            "text/plain": [
              "    index InvoiceNo StockCode  ...         Country  index_col index_remain\n",
              "0       0    536365    85123A  ...  United Kingdom          0            0\n",
              "2       2    536365    84406B  ...  United Kingdom          2            0\n",
              "4       4    536365    84029E  ...  United Kingdom          4            0\n",
              "6       6    536365     21730  ...  United Kingdom          6            0\n",
              "8       8    536366     22632  ...  United Kingdom          8            0\n",
              "10     10    536367     22745  ...  United Kingdom         10            0\n",
              "12     12    536367     22749  ...  United Kingdom         12            0\n",
              "14     14    536367     84969  ...  United Kingdom         14            0\n",
              "16     16    536367     22622  ...  United Kingdom         16            0\n",
              "18     18    536367     21755  ...  United Kingdom         18            0\n",
              "20     20    536367     48187  ...  United Kingdom         20            0\n",
              "22     22    536368     22913  ...  United Kingdom         22            0\n",
              "24     24    536368     22914  ...  United Kingdom         24            0\n",
              "26     26    536370     22728  ...          France         26            0\n",
              "28     28    536370     22726  ...          France         28            0\n",
              "30     30    536370     21883  ...          France         30            0\n",
              "32     32    536370     21791  ...          France         32            0\n",
              "34     34    536370     22326  ...          France         34            0\n",
              "36     36    536370     22659  ...          France         36            0\n",
              "38     38    536370     22661  ...          France         38            0\n",
              "40     40    536370     22900  ...          France         40            0\n",
              "42     42    536370     22540  ...          France         42            0\n",
              "44     44    536370     22492  ...          France         44            0\n",
              "46     46    536371     22086  ...  United Kingdom         46            0\n",
              "48     48    536372     22633  ...  United Kingdom         48            0\n",
              "\n",
              "[25 rows x 11 columns]"
            ]
          },
          "metadata": {
            "tags": []
          },
          "execution_count": 7
        }
      ]
    },
    {
      "cell_type": "code",
      "metadata": {
        "id": "y8FPfPZ9jPtu",
        "colab": {
          "base_uri": "https://localhost:8080/"
        },
        "outputId": "35f7e296-1e72-4559-a1a0-1d4829b5cd28"
      },
      "source": [
        "df.info()"
      ],
      "execution_count": 8,
      "outputs": [
        {
          "output_type": "stream",
          "text": [
            "<class 'pandas.core.frame.DataFrame'>\n",
            "Int64Index: 270955 entries, 0 to 541908\n",
            "Data columns (total 11 columns):\n",
            " #   Column        Non-Null Count   Dtype  \n",
            "---  ------        --------------   -----  \n",
            " 0   index         270955 non-null  int64  \n",
            " 1   InvoiceNo     270955 non-null  object \n",
            " 2   StockCode     270955 non-null  object \n",
            " 3   Description   270225 non-null  object \n",
            " 4   Quantity      270955 non-null  int64  \n",
            " 5   InvoiceDate   270955 non-null  object \n",
            " 6   UnitPrice     270955 non-null  float64\n",
            " 7   CustomerID    203452 non-null  float64\n",
            " 8   Country       270955 non-null  object \n",
            " 9   index_col     270955 non-null  int64  \n",
            " 10  index_remain  270955 non-null  int64  \n",
            "dtypes: float64(2), int64(4), object(5)\n",
            "memory usage: 24.8+ MB\n"
          ],
          "name": "stdout"
        }
      ]
    },
    {
      "cell_type": "code",
      "metadata": {
        "id": "PInKf6YZjPtx",
        "colab": {
          "base_uri": "https://localhost:8080/"
        },
        "outputId": "cb56f597-a95c-4910-a64e-408de1747e55"
      },
      "source": [
        "# check missing values for each column \n",
        "df.isnull().sum().sort_values(ascending=False)"
      ],
      "execution_count": 9,
      "outputs": [
        {
          "output_type": "execute_result",
          "data": {
            "text/plain": [
              "CustomerID      67503\n",
              "Description       730\n",
              "index_remain        0\n",
              "index_col           0\n",
              "Country             0\n",
              "UnitPrice           0\n",
              "InvoiceDate         0\n",
              "Quantity            0\n",
              "StockCode           0\n",
              "InvoiceNo           0\n",
              "index               0\n",
              "dtype: int64"
            ]
          },
          "metadata": {
            "tags": []
          },
          "execution_count": 9
        }
      ]
    },
    {
      "cell_type": "code",
      "metadata": {
        "id": "1OaSKrRdjPtz",
        "colab": {
          "base_uri": "https://localhost:8080/",
          "height": 511
        },
        "outputId": "84e96b45-718c-45bd-c631-749a5be9a9b8"
      },
      "source": [
        "# check out the rows with missing values\n",
        "df[df.isnull().any(axis=1)].head(10)"
      ],
      "execution_count": 10,
      "outputs": [
        {
          "output_type": "execute_result",
          "data": {
            "text/html": [
              "<div>\n",
              "<style scoped>\n",
              "    .dataframe tbody tr th:only-of-type {\n",
              "        vertical-align: middle;\n",
              "    }\n",
              "\n",
              "    .dataframe tbody tr th {\n",
              "        vertical-align: top;\n",
              "    }\n",
              "\n",
              "    .dataframe thead th {\n",
              "        text-align: right;\n",
              "    }\n",
              "</style>\n",
              "<table border=\"1\" class=\"dataframe\">\n",
              "  <thead>\n",
              "    <tr style=\"text-align: right;\">\n",
              "      <th></th>\n",
              "      <th>index</th>\n",
              "      <th>InvoiceNo</th>\n",
              "      <th>StockCode</th>\n",
              "      <th>Description</th>\n",
              "      <th>Quantity</th>\n",
              "      <th>InvoiceDate</th>\n",
              "      <th>UnitPrice</th>\n",
              "      <th>CustomerID</th>\n",
              "      <th>Country</th>\n",
              "      <th>index_col</th>\n",
              "      <th>index_remain</th>\n",
              "    </tr>\n",
              "  </thead>\n",
              "  <tbody>\n",
              "    <tr>\n",
              "      <th>622</th>\n",
              "      <td>622</td>\n",
              "      <td>536414</td>\n",
              "      <td>22139</td>\n",
              "      <td>NaN</td>\n",
              "      <td>56</td>\n",
              "      <td>12/1/2010 11:52</td>\n",
              "      <td>0.00</td>\n",
              "      <td>NaN</td>\n",
              "      <td>United Kingdom</td>\n",
              "      <td>622</td>\n",
              "      <td>0</td>\n",
              "    </tr>\n",
              "    <tr>\n",
              "      <th>1444</th>\n",
              "      <td>1444</td>\n",
              "      <td>536544</td>\n",
              "      <td>21774</td>\n",
              "      <td>DECORATIVE CATS BATHROOM BOTTLE</td>\n",
              "      <td>2</td>\n",
              "      <td>12/1/2010 14:32</td>\n",
              "      <td>2.51</td>\n",
              "      <td>NaN</td>\n",
              "      <td>United Kingdom</td>\n",
              "      <td>1444</td>\n",
              "      <td>0</td>\n",
              "    </tr>\n",
              "    <tr>\n",
              "      <th>1446</th>\n",
              "      <td>1446</td>\n",
              "      <td>536544</td>\n",
              "      <td>21787</td>\n",
              "      <td>RAIN PONCHO RETROSPOT</td>\n",
              "      <td>2</td>\n",
              "      <td>12/1/2010 14:32</td>\n",
              "      <td>1.66</td>\n",
              "      <td>NaN</td>\n",
              "      <td>United Kingdom</td>\n",
              "      <td>1446</td>\n",
              "      <td>0</td>\n",
              "    </tr>\n",
              "    <tr>\n",
              "      <th>1448</th>\n",
              "      <td>1448</td>\n",
              "      <td>536544</td>\n",
              "      <td>21791</td>\n",
              "      <td>VINTAGE HEADS AND TAILS CARD GAME</td>\n",
              "      <td>2</td>\n",
              "      <td>12/1/2010 14:32</td>\n",
              "      <td>2.51</td>\n",
              "      <td>NaN</td>\n",
              "      <td>United Kingdom</td>\n",
              "      <td>1448</td>\n",
              "      <td>0</td>\n",
              "    </tr>\n",
              "    <tr>\n",
              "      <th>1450</th>\n",
              "      <td>1450</td>\n",
              "      <td>536544</td>\n",
              "      <td>21802</td>\n",
              "      <td>CHRISTMAS TREE HEART DECORATION</td>\n",
              "      <td>9</td>\n",
              "      <td>12/1/2010 14:32</td>\n",
              "      <td>0.43</td>\n",
              "      <td>NaN</td>\n",
              "      <td>United Kingdom</td>\n",
              "      <td>1450</td>\n",
              "      <td>0</td>\n",
              "    </tr>\n",
              "    <tr>\n",
              "      <th>1452</th>\n",
              "      <td>1452</td>\n",
              "      <td>536544</td>\n",
              "      <td>21809</td>\n",
              "      <td>CHRISTMAS HANGING TREE WITH BELL</td>\n",
              "      <td>1</td>\n",
              "      <td>12/1/2010 14:32</td>\n",
              "      <td>2.51</td>\n",
              "      <td>NaN</td>\n",
              "      <td>United Kingdom</td>\n",
              "      <td>1452</td>\n",
              "      <td>0</td>\n",
              "    </tr>\n",
              "    <tr>\n",
              "      <th>1454</th>\n",
              "      <td>1454</td>\n",
              "      <td>536544</td>\n",
              "      <td>21811</td>\n",
              "      <td>CHRISTMAS HANGING HEART WITH BELL</td>\n",
              "      <td>1</td>\n",
              "      <td>12/1/2010 14:32</td>\n",
              "      <td>2.51</td>\n",
              "      <td>NaN</td>\n",
              "      <td>United Kingdom</td>\n",
              "      <td>1454</td>\n",
              "      <td>0</td>\n",
              "    </tr>\n",
              "    <tr>\n",
              "      <th>1456</th>\n",
              "      <td>1456</td>\n",
              "      <td>536544</td>\n",
              "      <td>21822</td>\n",
              "      <td>GLITTER CHRISTMAS TREE WITH BELLS</td>\n",
              "      <td>1</td>\n",
              "      <td>12/1/2010 14:32</td>\n",
              "      <td>4.21</td>\n",
              "      <td>NaN</td>\n",
              "      <td>United Kingdom</td>\n",
              "      <td>1456</td>\n",
              "      <td>0</td>\n",
              "    </tr>\n",
              "    <tr>\n",
              "      <th>1458</th>\n",
              "      <td>1458</td>\n",
              "      <td>536544</td>\n",
              "      <td>21844</td>\n",
              "      <td>RED RETROSPOT MUG</td>\n",
              "      <td>2</td>\n",
              "      <td>12/1/2010 14:32</td>\n",
              "      <td>5.91</td>\n",
              "      <td>NaN</td>\n",
              "      <td>United Kingdom</td>\n",
              "      <td>1458</td>\n",
              "      <td>0</td>\n",
              "    </tr>\n",
              "    <tr>\n",
              "      <th>1460</th>\n",
              "      <td>1460</td>\n",
              "      <td>536544</td>\n",
              "      <td>21870</td>\n",
              "      <td>I CAN ONLY PLEASE ONE PERSON MUG</td>\n",
              "      <td>1</td>\n",
              "      <td>12/1/2010 14:32</td>\n",
              "      <td>3.36</td>\n",
              "      <td>NaN</td>\n",
              "      <td>United Kingdom</td>\n",
              "      <td>1460</td>\n",
              "      <td>0</td>\n",
              "    </tr>\n",
              "  </tbody>\n",
              "</table>\n",
              "</div>"
            ],
            "text/plain": [
              "      index InvoiceNo StockCode  ...         Country  index_col index_remain\n",
              "622     622    536414     22139  ...  United Kingdom        622            0\n",
              "1444   1444    536544     21774  ...  United Kingdom       1444            0\n",
              "1446   1446    536544     21787  ...  United Kingdom       1446            0\n",
              "1448   1448    536544     21791  ...  United Kingdom       1448            0\n",
              "1450   1450    536544     21802  ...  United Kingdom       1450            0\n",
              "1452   1452    536544     21809  ...  United Kingdom       1452            0\n",
              "1454   1454    536544     21811  ...  United Kingdom       1454            0\n",
              "1456   1456    536544     21822  ...  United Kingdom       1456            0\n",
              "1458   1458    536544     21844  ...  United Kingdom       1458            0\n",
              "1460   1460    536544     21870  ...  United Kingdom       1460            0\n",
              "\n",
              "[10 rows x 11 columns]"
            ]
          },
          "metadata": {
            "tags": []
          },
          "execution_count": 10
        }
      ]
    },
    {
      "cell_type": "code",
      "metadata": {
        "id": "5btAV7fhjPt2"
      },
      "source": [
        "# change the invoice_date format - String to Timestamp format\n",
        "df['InvoiceDate'] = pd.to_datetime(df.InvoiceDate, format='%m/%d/%Y %H:%M')"
      ],
      "execution_count": 11,
      "outputs": []
    },
    {
      "cell_type": "code",
      "metadata": {
        "id": "WFCpWG0AjPt4",
        "colab": {
          "base_uri": "https://localhost:8080/"
        },
        "outputId": "3f27d824-b43d-4fd9-adab-1134a39056d9"
      },
      "source": [
        "df.info()"
      ],
      "execution_count": 12,
      "outputs": [
        {
          "output_type": "stream",
          "text": [
            "<class 'pandas.core.frame.DataFrame'>\n",
            "Int64Index: 270955 entries, 0 to 541908\n",
            "Data columns (total 11 columns):\n",
            " #   Column        Non-Null Count   Dtype         \n",
            "---  ------        --------------   -----         \n",
            " 0   index         270955 non-null  int64         \n",
            " 1   InvoiceNo     270955 non-null  object        \n",
            " 2   StockCode     270955 non-null  object        \n",
            " 3   Description   270225 non-null  object        \n",
            " 4   Quantity      270955 non-null  int64         \n",
            " 5   InvoiceDate   270955 non-null  datetime64[ns]\n",
            " 6   UnitPrice     270955 non-null  float64       \n",
            " 7   CustomerID    203452 non-null  float64       \n",
            " 8   Country       270955 non-null  object        \n",
            " 9   index_col     270955 non-null  int64         \n",
            " 10  index_remain  270955 non-null  int64         \n",
            "dtypes: datetime64[ns](1), float64(2), int64(4), object(4)\n",
            "memory usage: 24.8+ MB\n"
          ],
          "name": "stdout"
        }
      ]
    },
    {
      "cell_type": "code",
      "metadata": {
        "id": "Y_2kWM92jPt6"
      },
      "source": [
        "# df_new without missing values\n",
        "df_no_missing = df.dropna()"
      ],
      "execution_count": 13,
      "outputs": []
    },
    {
      "cell_type": "code",
      "metadata": {
        "id": "3aP3LierjPt9",
        "colab": {
          "base_uri": "https://localhost:8080/"
        },
        "outputId": "f2321e3a-5021-4d94-ca3d-7a434a27e6ca"
      },
      "source": [
        "# check missing values for each column \n",
        "df_no_missing.isnull().sum().sort_values(ascending=False)"
      ],
      "execution_count": 14,
      "outputs": [
        {
          "output_type": "execute_result",
          "data": {
            "text/plain": [
              "index_remain    0\n",
              "index_col       0\n",
              "Country         0\n",
              "CustomerID      0\n",
              "UnitPrice       0\n",
              "InvoiceDate     0\n",
              "Quantity        0\n",
              "Description     0\n",
              "StockCode       0\n",
              "InvoiceNo       0\n",
              "index           0\n",
              "dtype: int64"
            ]
          },
          "metadata": {
            "tags": []
          },
          "execution_count": 14
        }
      ]
    },
    {
      "cell_type": "code",
      "metadata": {
        "id": "mWUhaU81jPt_"
      },
      "source": [
        "# change columns tyoe - String to Int type \n",
        "df_no_missing['CustomerID'] = df_no_missing['CustomerID'].astype('int64')"
      ],
      "execution_count": 15,
      "outputs": []
    },
    {
      "cell_type": "code",
      "metadata": {
        "id": "a_waiiAEjPuB",
        "colab": {
          "base_uri": "https://localhost:8080/",
          "height": 279
        },
        "outputId": "5fcd82b0-e9f2-447f-e7f2-8e590ebc4fbb"
      },
      "source": [
        "df_no_missing.head()"
      ],
      "execution_count": 16,
      "outputs": [
        {
          "output_type": "execute_result",
          "data": {
            "text/html": [
              "<div>\n",
              "<style scoped>\n",
              "    .dataframe tbody tr th:only-of-type {\n",
              "        vertical-align: middle;\n",
              "    }\n",
              "\n",
              "    .dataframe tbody tr th {\n",
              "        vertical-align: top;\n",
              "    }\n",
              "\n",
              "    .dataframe thead th {\n",
              "        text-align: right;\n",
              "    }\n",
              "</style>\n",
              "<table border=\"1\" class=\"dataframe\">\n",
              "  <thead>\n",
              "    <tr style=\"text-align: right;\">\n",
              "      <th></th>\n",
              "      <th>index</th>\n",
              "      <th>InvoiceNo</th>\n",
              "      <th>StockCode</th>\n",
              "      <th>Description</th>\n",
              "      <th>Quantity</th>\n",
              "      <th>InvoiceDate</th>\n",
              "      <th>UnitPrice</th>\n",
              "      <th>CustomerID</th>\n",
              "      <th>Country</th>\n",
              "      <th>index_col</th>\n",
              "      <th>index_remain</th>\n",
              "    </tr>\n",
              "  </thead>\n",
              "  <tbody>\n",
              "    <tr>\n",
              "      <th>0</th>\n",
              "      <td>0</td>\n",
              "      <td>536365</td>\n",
              "      <td>85123A</td>\n",
              "      <td>WHITE HANGING HEART T-LIGHT HOLDER</td>\n",
              "      <td>6</td>\n",
              "      <td>2010-12-01 08:26:00</td>\n",
              "      <td>2.55</td>\n",
              "      <td>17850</td>\n",
              "      <td>United Kingdom</td>\n",
              "      <td>0</td>\n",
              "      <td>0</td>\n",
              "    </tr>\n",
              "    <tr>\n",
              "      <th>2</th>\n",
              "      <td>2</td>\n",
              "      <td>536365</td>\n",
              "      <td>84406B</td>\n",
              "      <td>CREAM CUPID HEARTS COAT HANGER</td>\n",
              "      <td>8</td>\n",
              "      <td>2010-12-01 08:26:00</td>\n",
              "      <td>2.75</td>\n",
              "      <td>17850</td>\n",
              "      <td>United Kingdom</td>\n",
              "      <td>2</td>\n",
              "      <td>0</td>\n",
              "    </tr>\n",
              "    <tr>\n",
              "      <th>4</th>\n",
              "      <td>4</td>\n",
              "      <td>536365</td>\n",
              "      <td>84029E</td>\n",
              "      <td>RED WOOLLY HOTTIE WHITE HEART.</td>\n",
              "      <td>6</td>\n",
              "      <td>2010-12-01 08:26:00</td>\n",
              "      <td>3.39</td>\n",
              "      <td>17850</td>\n",
              "      <td>United Kingdom</td>\n",
              "      <td>4</td>\n",
              "      <td>0</td>\n",
              "    </tr>\n",
              "    <tr>\n",
              "      <th>6</th>\n",
              "      <td>6</td>\n",
              "      <td>536365</td>\n",
              "      <td>21730</td>\n",
              "      <td>GLASS STAR FROSTED T-LIGHT HOLDER</td>\n",
              "      <td>6</td>\n",
              "      <td>2010-12-01 08:26:00</td>\n",
              "      <td>4.25</td>\n",
              "      <td>17850</td>\n",
              "      <td>United Kingdom</td>\n",
              "      <td>6</td>\n",
              "      <td>0</td>\n",
              "    </tr>\n",
              "    <tr>\n",
              "      <th>8</th>\n",
              "      <td>8</td>\n",
              "      <td>536366</td>\n",
              "      <td>22632</td>\n",
              "      <td>HAND WARMER RED POLKA DOT</td>\n",
              "      <td>6</td>\n",
              "      <td>2010-12-01 08:28:00</td>\n",
              "      <td>1.85</td>\n",
              "      <td>17850</td>\n",
              "      <td>United Kingdom</td>\n",
              "      <td>8</td>\n",
              "      <td>0</td>\n",
              "    </tr>\n",
              "  </tbody>\n",
              "</table>\n",
              "</div>"
            ],
            "text/plain": [
              "   index InvoiceNo StockCode  ...         Country  index_col index_remain\n",
              "0      0    536365    85123A  ...  United Kingdom          0            0\n",
              "2      2    536365    84406B  ...  United Kingdom          2            0\n",
              "4      4    536365    84029E  ...  United Kingdom          4            0\n",
              "6      6    536365     21730  ...  United Kingdom          6            0\n",
              "8      8    536366     22632  ...  United Kingdom          8            0\n",
              "\n",
              "[5 rows x 11 columns]"
            ]
          },
          "metadata": {
            "tags": []
          },
          "execution_count": 16
        }
      ]
    },
    {
      "cell_type": "code",
      "metadata": {
        "id": "sCA8YJNyjPuD"
      },
      "source": [
        "# Rename the dataframe to make code more readable\n",
        "df2 = df_no_missing.copy()"
      ],
      "execution_count": 17,
      "outputs": []
    },
    {
      "cell_type": "code",
      "metadata": {
        "id": "L5JFTcgEjPuG",
        "colab": {
          "base_uri": "https://localhost:8080/",
          "height": 284
        },
        "outputId": "c17bae87-0b1b-4e95-ff86-a775f22853d5"
      },
      "source": [
        "df2.describe().round(2)"
      ],
      "execution_count": 18,
      "outputs": [
        {
          "output_type": "execute_result",
          "data": {
            "text/html": [
              "<div>\n",
              "<style scoped>\n",
              "    .dataframe tbody tr th:only-of-type {\n",
              "        vertical-align: middle;\n",
              "    }\n",
              "\n",
              "    .dataframe tbody tr th {\n",
              "        vertical-align: top;\n",
              "    }\n",
              "\n",
              "    .dataframe thead th {\n",
              "        text-align: right;\n",
              "    }\n",
              "</style>\n",
              "<table border=\"1\" class=\"dataframe\">\n",
              "  <thead>\n",
              "    <tr style=\"text-align: right;\">\n",
              "      <th></th>\n",
              "      <th>index</th>\n",
              "      <th>Quantity</th>\n",
              "      <th>UnitPrice</th>\n",
              "      <th>CustomerID</th>\n",
              "      <th>index_col</th>\n",
              "      <th>index_remain</th>\n",
              "    </tr>\n",
              "  </thead>\n",
              "  <tbody>\n",
              "    <tr>\n",
              "      <th>count</th>\n",
              "      <td>203452.00</td>\n",
              "      <td>203452.00</td>\n",
              "      <td>203452.00</td>\n",
              "      <td>203452.00</td>\n",
              "      <td>203452.00</td>\n",
              "      <td>203452.0</td>\n",
              "    </tr>\n",
              "    <tr>\n",
              "      <th>mean</th>\n",
              "      <td>278049.56</td>\n",
              "      <td>11.36</td>\n",
              "      <td>3.36</td>\n",
              "      <td>15286.63</td>\n",
              "      <td>278049.56</td>\n",
              "      <td>0.0</td>\n",
              "    </tr>\n",
              "    <tr>\n",
              "      <th>std</th>\n",
              "      <td>152746.95</td>\n",
              "      <td>249.00</td>\n",
              "      <td>31.18</td>\n",
              "      <td>1713.72</td>\n",
              "      <td>152746.95</td>\n",
              "      <td>0.0</td>\n",
              "    </tr>\n",
              "    <tr>\n",
              "      <th>min</th>\n",
              "      <td>0.00</td>\n",
              "      <td>-80995.00</td>\n",
              "      <td>0.00</td>\n",
              "      <td>12346.00</td>\n",
              "      <td>0.00</td>\n",
              "      <td>0.0</td>\n",
              "    </tr>\n",
              "    <tr>\n",
              "      <th>25%</th>\n",
              "      <td>147737.50</td>\n",
              "      <td>2.00</td>\n",
              "      <td>1.25</td>\n",
              "      <td>13952.00</td>\n",
              "      <td>147737.50</td>\n",
              "      <td>0.0</td>\n",
              "    </tr>\n",
              "    <tr>\n",
              "      <th>50%</th>\n",
              "      <td>284437.00</td>\n",
              "      <td>5.00</td>\n",
              "      <td>1.95</td>\n",
              "      <td>15150.00</td>\n",
              "      <td>284437.00</td>\n",
              "      <td>0.0</td>\n",
              "    </tr>\n",
              "    <tr>\n",
              "      <th>75%</th>\n",
              "      <td>409536.50</td>\n",
              "      <td>12.00</td>\n",
              "      <td>3.75</td>\n",
              "      <td>16791.00</td>\n",
              "      <td>409536.50</td>\n",
              "      <td>0.0</td>\n",
              "    </tr>\n",
              "    <tr>\n",
              "      <th>max</th>\n",
              "      <td>541908.00</td>\n",
              "      <td>12540.00</td>\n",
              "      <td>8142.75</td>\n",
              "      <td>18287.00</td>\n",
              "      <td>541908.00</td>\n",
              "      <td>0.0</td>\n",
              "    </tr>\n",
              "  </tbody>\n",
              "</table>\n",
              "</div>"
            ],
            "text/plain": [
              "           index   Quantity  UnitPrice  CustomerID  index_col  index_remain\n",
              "count  203452.00  203452.00  203452.00   203452.00  203452.00      203452.0\n",
              "mean   278049.56      11.36       3.36    15286.63  278049.56           0.0\n",
              "std    152746.95     249.00      31.18     1713.72  152746.95           0.0\n",
              "min         0.00  -80995.00       0.00    12346.00       0.00           0.0\n",
              "25%    147737.50       2.00       1.25    13952.00  147737.50           0.0\n",
              "50%    284437.00       5.00       1.95    15150.00  284437.00           0.0\n",
              "75%    409536.50      12.00       3.75    16791.00  409536.50           0.0\n",
              "max    541908.00   12540.00    8142.75    18287.00  541908.00           0.0"
            ]
          },
          "metadata": {
            "tags": []
          },
          "execution_count": 18
        }
      ]
    },
    {
      "cell_type": "code",
      "metadata": {
        "id": "p_BMzLj9jPuI",
        "colab": {
          "base_uri": "https://localhost:8080/",
          "height": 285
        },
        "outputId": "a6728547-9dbf-4e03-cddd-419ee7d47000"
      },
      "source": [
        "sns.set(style=\"whitegrid\")\n",
        "ax = sns.violinplot(x=df2[\"Quantity\"])"
      ],
      "execution_count": 19,
      "outputs": [
        {
          "output_type": "display_data",
          "data": {
            "image/png": "[encoded data removed]",
            "text/plain": [
              "<Figure size 432x288 with 1 Axes>"
            ]
          },
          "metadata": {
            "tags": []
          }
        }
      ]
    },
    {
      "cell_type": "code",
      "metadata": {
        "id": "BjIyqT_CjPuL",
        "colab": {
          "base_uri": "https://localhost:8080/",
          "height": 284
        },
        "outputId": "b1f86dde-68b3-4ccf-803c-2b40fe78d8cd"
      },
      "source": [
        "# remove negative quanitites\n",
        "\n",
        "df2 = df2[df2.Quantity > 0]\n",
        "df2.describe().round(2)"
      ],
      "execution_count": 20,
      "outputs": [
        {
          "output_type": "execute_result",
          "data": {
            "text/html": [
              "<div>\n",
              "<style scoped>\n",
              "    .dataframe tbody tr th:only-of-type {\n",
              "        vertical-align: middle;\n",
              "    }\n",
              "\n",
              "    .dataframe tbody tr th {\n",
              "        vertical-align: top;\n",
              "    }\n",
              "\n",
              "    .dataframe thead th {\n",
              "        text-align: right;\n",
              "    }\n",
              "</style>\n",
              "<table border=\"1\" class=\"dataframe\">\n",
              "  <thead>\n",
              "    <tr style=\"text-align: right;\">\n",
              "      <th></th>\n",
              "      <th>index</th>\n",
              "      <th>Quantity</th>\n",
              "      <th>UnitPrice</th>\n",
              "      <th>CustomerID</th>\n",
              "      <th>index_col</th>\n",
              "      <th>index_remain</th>\n",
              "    </tr>\n",
              "  </thead>\n",
              "  <tbody>\n",
              "    <tr>\n",
              "      <th>count</th>\n",
              "      <td>199005.00</td>\n",
              "      <td>199005.00</td>\n",
              "      <td>199005.00</td>\n",
              "      <td>199005.00</td>\n",
              "      <td>199005.00</td>\n",
              "      <td>199005.0</td>\n",
              "    </tr>\n",
              "    <tr>\n",
              "      <th>mean</th>\n",
              "      <td>278507.02</td>\n",
              "      <td>12.67</td>\n",
              "      <td>3.17</td>\n",
              "      <td>15293.33</td>\n",
              "      <td>278507.02</td>\n",
              "      <td>0.0</td>\n",
              "    </tr>\n",
              "    <tr>\n",
              "      <th>std</th>\n",
              "      <td>152767.37</td>\n",
              "      <td>51.22</td>\n",
              "      <td>27.17</td>\n",
              "      <td>1713.05</td>\n",
              "      <td>152767.37</td>\n",
              "      <td>0.0</td>\n",
              "    </tr>\n",
              "    <tr>\n",
              "      <th>min</th>\n",
              "      <td>0.00</td>\n",
              "      <td>1.00</td>\n",
              "      <td>0.00</td>\n",
              "      <td>12347.00</td>\n",
              "      <td>0.00</td>\n",
              "      <td>0.0</td>\n",
              "    </tr>\n",
              "    <tr>\n",
              "      <th>25%</th>\n",
              "      <td>148362.00</td>\n",
              "      <td>2.00</td>\n",
              "      <td>1.25</td>\n",
              "      <td>13969.00</td>\n",
              "      <td>148362.00</td>\n",
              "      <td>0.0</td>\n",
              "    </tr>\n",
              "    <tr>\n",
              "      <th>50%</th>\n",
              "      <td>284956.00</td>\n",
              "      <td>6.00</td>\n",
              "      <td>1.95</td>\n",
              "      <td>15157.00</td>\n",
              "      <td>284956.00</td>\n",
              "      <td>0.0</td>\n",
              "    </tr>\n",
              "    <tr>\n",
              "      <th>75%</th>\n",
              "      <td>410120.00</td>\n",
              "      <td>12.00</td>\n",
              "      <td>3.75</td>\n",
              "      <td>16794.00</td>\n",
              "      <td>410120.00</td>\n",
              "      <td>0.0</td>\n",
              "    </tr>\n",
              "    <tr>\n",
              "      <th>max</th>\n",
              "      <td>541908.00</td>\n",
              "      <td>12540.00</td>\n",
              "      <td>8142.75</td>\n",
              "      <td>18287.00</td>\n",
              "      <td>541908.00</td>\n",
              "      <td>0.0</td>\n",
              "    </tr>\n",
              "  </tbody>\n",
              "</table>\n",
              "</div>"
            ],
            "text/plain": [
              "           index   Quantity  UnitPrice  CustomerID  index_col  index_remain\n",
              "count  199005.00  199005.00  199005.00   199005.00  199005.00      199005.0\n",
              "mean   278507.02      12.67       3.17    15293.33  278507.02           0.0\n",
              "std    152767.37      51.22      27.17     1713.05  152767.37           0.0\n",
              "min         0.00       1.00       0.00    12347.00       0.00           0.0\n",
              "25%    148362.00       2.00       1.25    13969.00  148362.00           0.0\n",
              "50%    284956.00       6.00       1.95    15157.00  284956.00           0.0\n",
              "75%    410120.00      12.00       3.75    16794.00  410120.00           0.0\n",
              "max    541908.00   12540.00    8142.75    18287.00  541908.00           0.0"
            ]
          },
          "metadata": {
            "tags": []
          },
          "execution_count": 20
        }
      ]
    },
    {
      "cell_type": "code",
      "metadata": {
        "id": "4SezkFlmjPuN",
        "colab": {
          "base_uri": "https://localhost:8080/",
          "height": 285
        },
        "outputId": "84fef7ba-4a28-4ad7-dbfe-4f6e0d4c5fe9"
      },
      "source": [
        "ax = sns.violinplot(x=df2[\"Quantity\"])"
      ],
      "execution_count": 21,
      "outputs": [
        {
          "output_type": "display_data",
          "data": {
            "image/png": "[encoded data removed]",
            "text/plain": [
              "<Figure size 432x288 with 1 Axes>"
            ]
          },
          "metadata": {
            "tags": []
          }
        }
      ]
    },
    {
      "cell_type": "code",
      "metadata": {
        "id": "l31Fdml-jPuQ",
        "colab": {
          "base_uri": "https://localhost:8080/",
          "height": 346
        },
        "outputId": "0cfb615e-a3a8-4bdd-8294-fdc8c298dff9"
      },
      "source": [
        "df2['AmountSpent'] = df2['Quantity'] * df2['UnitPrice']\n",
        "df2.head()"
      ],
      "execution_count": 22,
      "outputs": [
        {
          "output_type": "execute_result",
          "data": {
            "text/html": [
              "<div>\n",
              "<style scoped>\n",
              "    .dataframe tbody tr th:only-of-type {\n",
              "        vertical-align: middle;\n",
              "    }\n",
              "\n",
              "    .dataframe tbody tr th {\n",
              "        vertical-align: top;\n",
              "    }\n",
              "\n",
              "    .dataframe thead th {\n",
              "        text-align: right;\n",
              "    }\n",
              "</style>\n",
              "<table border=\"1\" class=\"dataframe\">\n",
              "  <thead>\n",
              "    <tr style=\"text-align: right;\">\n",
              "      <th></th>\n",
              "      <th>index</th>\n",
              "      <th>InvoiceNo</th>\n",
              "      <th>StockCode</th>\n",
              "      <th>Description</th>\n",
              "      <th>Quantity</th>\n",
              "      <th>InvoiceDate</th>\n",
              "      <th>UnitPrice</th>\n",
              "      <th>CustomerID</th>\n",
              "      <th>Country</th>\n",
              "      <th>index_col</th>\n",
              "      <th>index_remain</th>\n",
              "      <th>AmountSpent</th>\n",
              "    </tr>\n",
              "  </thead>\n",
              "  <tbody>\n",
              "    <tr>\n",
              "      <th>0</th>\n",
              "      <td>0</td>\n",
              "      <td>536365</td>\n",
              "      <td>85123A</td>\n",
              "      <td>WHITE HANGING HEART T-LIGHT HOLDER</td>\n",
              "      <td>6</td>\n",
              "      <td>2010-12-01 08:26:00</td>\n",
              "      <td>2.55</td>\n",
              "      <td>17850</td>\n",
              "      <td>United Kingdom</td>\n",
              "      <td>0</td>\n",
              "      <td>0</td>\n",
              "      <td>15.30</td>\n",
              "    </tr>\n",
              "    <tr>\n",
              "      <th>2</th>\n",
              "      <td>2</td>\n",
              "      <td>536365</td>\n",
              "      <td>84406B</td>\n",
              "      <td>CREAM CUPID HEARTS COAT HANGER</td>\n",
              "      <td>8</td>\n",
              "      <td>2010-12-01 08:26:00</td>\n",
              "      <td>2.75</td>\n",
              "      <td>17850</td>\n",
              "      <td>United Kingdom</td>\n",
              "      <td>2</td>\n",
              "      <td>0</td>\n",
              "      <td>22.00</td>\n",
              "    </tr>\n",
              "    <tr>\n",
              "      <th>4</th>\n",
              "      <td>4</td>\n",
              "      <td>536365</td>\n",
              "      <td>84029E</td>\n",
              "      <td>RED WOOLLY HOTTIE WHITE HEART.</td>\n",
              "      <td>6</td>\n",
              "      <td>2010-12-01 08:26:00</td>\n",
              "      <td>3.39</td>\n",
              "      <td>17850</td>\n",
              "      <td>United Kingdom</td>\n",
              "      <td>4</td>\n",
              "      <td>0</td>\n",
              "      <td>20.34</td>\n",
              "    </tr>\n",
              "    <tr>\n",
              "      <th>6</th>\n",
              "      <td>6</td>\n",
              "      <td>536365</td>\n",
              "      <td>21730</td>\n",
              "      <td>GLASS STAR FROSTED T-LIGHT HOLDER</td>\n",
              "      <td>6</td>\n",
              "      <td>2010-12-01 08:26:00</td>\n",
              "      <td>4.25</td>\n",
              "      <td>17850</td>\n",
              "      <td>United Kingdom</td>\n",
              "      <td>6</td>\n",
              "      <td>0</td>\n",
              "      <td>25.50</td>\n",
              "    </tr>\n",
              "    <tr>\n",
              "      <th>8</th>\n",
              "      <td>8</td>\n",
              "      <td>536366</td>\n",
              "      <td>22632</td>\n",
              "      <td>HAND WARMER RED POLKA DOT</td>\n",
              "      <td>6</td>\n",
              "      <td>2010-12-01 08:28:00</td>\n",
              "      <td>1.85</td>\n",
              "      <td>17850</td>\n",
              "      <td>United Kingdom</td>\n",
              "      <td>8</td>\n",
              "      <td>0</td>\n",
              "      <td>11.10</td>\n",
              "    </tr>\n",
              "  </tbody>\n",
              "</table>\n",
              "</div>"
            ],
            "text/plain": [
              "   index InvoiceNo StockCode  ... index_col  index_remain AmountSpent\n",
              "0      0    536365    85123A  ...         0             0       15.30\n",
              "2      2    536365    84406B  ...         2             0       22.00\n",
              "4      4    536365    84029E  ...         4             0       20.34\n",
              "6      6    536365     21730  ...         6             0       25.50\n",
              "8      8    536366     22632  ...         8             0       11.10\n",
              "\n",
              "[5 rows x 12 columns]"
            ]
          },
          "metadata": {
            "tags": []
          },
          "execution_count": 22
        }
      ]
    },
    {
      "cell_type": "code",
      "metadata": {
        "id": "jppmOeR6jPuS",
        "colab": {
          "base_uri": "https://localhost:8080/",
          "height": 534
        },
        "outputId": "9dba4de7-ac01-4136-f082-0829b5fd1e3e"
      },
      "source": [
        "# Let's add Month, Day and Hour Colummns that we'll use for further analysis\n",
        "# Starting with Month_Year First\n",
        "df2['month_year'] = df2['InvoiceDate'].dt.to_period('M')\n",
        "df2.head()"
      ],
      "execution_count": 23,
      "outputs": [
        {
          "output_type": "execute_result",
          "data": {
            "text/html": [
              "<div>\n",
              "<style scoped>\n",
              "    .dataframe tbody tr th:only-of-type {\n",
              "        vertical-align: middle;\n",
              "    }\n",
              "\n",
              "    .dataframe tbody tr th {\n",
              "        vertical-align: top;\n",
              "    }\n",
              "\n",
              "    .dataframe thead th {\n",
              "        text-align: right;\n",
              "    }\n",
              "</style>\n",
              "<table border=\"1\" class=\"dataframe\">\n",
              "  <thead>\n",
              "    <tr style=\"text-align: right;\">\n",
              "      <th></th>\n",
              "      <th>index</th>\n",
              "      <th>InvoiceNo</th>\n",
              "      <th>StockCode</th>\n",
              "      <th>Description</th>\n",
              "      <th>Quantity</th>\n",
              "      <th>InvoiceDate</th>\n",
              "      <th>UnitPrice</th>\n",
              "      <th>CustomerID</th>\n",
              "      <th>Country</th>\n",
              "      <th>index_col</th>\n",
              "      <th>index_remain</th>\n",
              "      <th>AmountSpent</th>\n",
              "      <th>month_year</th>\n",
              "    </tr>\n",
              "  </thead>\n",
              "  <tbody>\n",
              "    <tr>\n",
              "      <th>0</th>\n",
              "      <td>0</td>\n",
              "      <td>536365</td>\n",
              "      <td>85123A</td>\n",
              "      <td>WHITE HANGING HEART T-LIGHT HOLDER</td>\n",
              "      <td>6</td>\n",
              "      <td>2010-12-01 08:26:00</td>\n",
              "      <td>2.55</td>\n",
              "      <td>17850</td>\n",
              "      <td>United Kingdom</td>\n",
              "      <td>0</td>\n",
              "      <td>0</td>\n",
              "      <td>15.30</td>\n",
              "      <td>2010-12</td>\n",
              "    </tr>\n",
              "    <tr>\n",
              "      <th>2</th>\n",
              "      <td>2</td>\n",
              "      <td>536365</td>\n",
              "      <td>84406B</td>\n",
              "      <td>CREAM CUPID HEARTS COAT HANGER</td>\n",
              "      <td>8</td>\n",
              "      <td>2010-12-01 08:26:00</td>\n",
              "      <td>2.75</td>\n",
              "      <td>17850</td>\n",
              "      <td>United Kingdom</td>\n",
              "      <td>2</td>\n",
              "      <td>0</td>\n",
              "      <td>22.00</td>\n",
              "      <td>2010-12</td>\n",
              "    </tr>\n",
              "    <tr>\n",
              "      <th>4</th>\n",
              "      <td>4</td>\n",
              "      <td>536365</td>\n",
              "      <td>84029E</td>\n",
              "      <td>RED WOOLLY HOTTIE WHITE HEART.</td>\n",
              "      <td>6</td>\n",
              "      <td>2010-12-01 08:26:00</td>\n",
              "      <td>3.39</td>\n",
              "      <td>17850</td>\n",
              "      <td>United Kingdom</td>\n",
              "      <td>4</td>\n",
              "      <td>0</td>\n",
              "      <td>20.34</td>\n",
              "      <td>2010-12</td>\n",
              "    </tr>\n",
              "    <tr>\n",
              "      <th>6</th>\n",
              "      <td>6</td>\n",
              "      <td>536365</td>\n",
              "      <td>21730</td>\n",
              "      <td>GLASS STAR FROSTED T-LIGHT HOLDER</td>\n",
              "      <td>6</td>\n",
              "      <td>2010-12-01 08:26:00</td>\n",
              "      <td>4.25</td>\n",
              "      <td>17850</td>\n",
              "      <td>United Kingdom</td>\n",
              "      <td>6</td>\n",
              "      <td>0</td>\n",
              "      <td>25.50</td>\n",
              "      <td>2010-12</td>\n",
              "    </tr>\n",
              "    <tr>\n",
              "      <th>8</th>\n",
              "      <td>8</td>\n",
              "      <td>536366</td>\n",
              "      <td>22632</td>\n",
              "      <td>HAND WARMER RED POLKA DOT</td>\n",
              "      <td>6</td>\n",
              "      <td>2010-12-01 08:28:00</td>\n",
              "      <td>1.85</td>\n",
              "      <td>17850</td>\n",
              "      <td>United Kingdom</td>\n",
              "      <td>8</td>\n",
              "      <td>0</td>\n",
              "      <td>11.10</td>\n",
              "      <td>2010-12</td>\n",
              "    </tr>\n",
              "  </tbody>\n",
              "</table>\n",
              "</div>"
            ],
            "text/plain": [
              "   index InvoiceNo StockCode  ... index_remain  AmountSpent month_year\n",
              "0      0    536365    85123A  ...            0        15.30    2010-12\n",
              "2      2    536365    84406B  ...            0        22.00    2010-12\n",
              "4      4    536365    84029E  ...            0        20.34    2010-12\n",
              "6      6    536365     21730  ...            0        25.50    2010-12\n",
              "8      8    536366     22632  ...            0        11.10    2010-12\n",
              "\n",
              "[5 rows x 13 columns]"
            ]
          },
          "metadata": {
            "tags": []
          },
          "execution_count": 23
        }
      ]
    },
    {
      "cell_type": "code",
      "metadata": {
        "id": "XPWmEckvjPuU",
        "colab": {
          "base_uri": "https://localhost:8080/",
          "height": 534
        },
        "outputId": "c26715a0-08a9-4d19-f4d8-f82de981517d"
      },
      "source": [
        "L = ['year', 'month', 'day', 'dayofweek', 'dayofyear', 'weekofyear', 'quarter']\n",
        "df2 = df2.join(pd.concat((getattr(df2['InvoiceDate'].dt, i).rename(i) for i in L), axis=1))\n",
        "df2.head()"
      ],
      "execution_count": 24,
      "outputs": [
        {
          "output_type": "execute_result",
          "data": {
            "text/html": [
              "<div>\n",
              "<style scoped>\n",
              "    .dataframe tbody tr th:only-of-type {\n",
              "        vertical-align: middle;\n",
              "    }\n",
              "\n",
              "    .dataframe tbody tr th {\n",
              "        vertical-align: top;\n",
              "    }\n",
              "\n",
              "    .dataframe thead th {\n",
              "        text-align: right;\n",
              "    }\n",
              "</style>\n",
              "<table border=\"1\" class=\"dataframe\">\n",
              "  <thead>\n",
              "    <tr style=\"text-align: right;\">\n",
              "      <th></th>\n",
              "      <th>index</th>\n",
              "      <th>InvoiceNo</th>\n",
              "      <th>StockCode</th>\n",
              "      <th>Description</th>\n",
              "      <th>Quantity</th>\n",
              "      <th>InvoiceDate</th>\n",
              "      <th>UnitPrice</th>\n",
              "      <th>CustomerID</th>\n",
              "      <th>Country</th>\n",
              "      <th>index_col</th>\n",
              "      <th>index_remain</th>\n",
              "      <th>AmountSpent</th>\n",
              "      <th>month_year</th>\n",
              "      <th>year</th>\n",
              "      <th>month</th>\n",
              "      <th>day</th>\n",
              "      <th>dayofweek</th>\n",
              "      <th>dayofyear</th>\n",
              "      <th>weekofyear</th>\n",
              "      <th>quarter</th>\n",
              "    </tr>\n",
              "  </thead>\n",
              "  <tbody>\n",
              "    <tr>\n",
              "      <th>0</th>\n",
              "      <td>0</td>\n",
              "      <td>536365</td>\n",
              "      <td>85123A</td>\n",
              "      <td>WHITE HANGING HEART T-LIGHT HOLDER</td>\n",
              "      <td>6</td>\n",
              "      <td>2010-12-01 08:26:00</td>\n",
              "      <td>2.55</td>\n",
              "      <td>17850</td>\n",
              "      <td>United Kingdom</td>\n",
              "      <td>0</td>\n",
              "      <td>0</td>\n",
              "      <td>15.30</td>\n",
              "      <td>2010-12</td>\n",
              "      <td>2010</td>\n",
              "      <td>12</td>\n",
              "      <td>1</td>\n",
              "      <td>2</td>\n",
              "      <td>335</td>\n",
              "      <td>48</td>\n",
              "      <td>4</td>\n",
              "    </tr>\n",
              "    <tr>\n",
              "      <th>2</th>\n",
              "      <td>2</td>\n",
              "      <td>536365</td>\n",
              "      <td>84406B</td>\n",
              "      <td>CREAM CUPID HEARTS COAT HANGER</td>\n",
              "      <td>8</td>\n",
              "      <td>2010-12-01 08:26:00</td>\n",
              "      <td>2.75</td>\n",
              "      <td>17850</td>\n",
              "      <td>United Kingdom</td>\n",
              "      <td>2</td>\n",
              "      <td>0</td>\n",
              "      <td>22.00</td>\n",
              "      <td>2010-12</td>\n",
              "      <td>2010</td>\n",
              "      <td>12</td>\n",
              "      <td>1</td>\n",
              "      <td>2</td>\n",
              "      <td>335</td>\n",
              "      <td>48</td>\n",
              "      <td>4</td>\n",
              "    </tr>\n",
              "    <tr>\n",
              "      <th>4</th>\n",
              "      <td>4</td>\n",
              "      <td>536365</td>\n",
              "      <td>84029E</td>\n",
              "      <td>RED WOOLLY HOTTIE WHITE HEART.</td>\n",
              "      <td>6</td>\n",
              "      <td>2010-12-01 08:26:00</td>\n",
              "      <td>3.39</td>\n",
              "      <td>17850</td>\n",
              "      <td>United Kingdom</td>\n",
              "      <td>4</td>\n",
              "      <td>0</td>\n",
              "      <td>20.34</td>\n",
              "      <td>2010-12</td>\n",
              "      <td>2010</td>\n",
              "      <td>12</td>\n",
              "      <td>1</td>\n",
              "      <td>2</td>\n",
              "      <td>335</td>\n",
              "      <td>48</td>\n",
              "      <td>4</td>\n",
              "    </tr>\n",
              "    <tr>\n",
              "      <th>6</th>\n",
              "      <td>6</td>\n",
              "      <td>536365</td>\n",
              "      <td>21730</td>\n",
              "      <td>GLASS STAR FROSTED T-LIGHT HOLDER</td>\n",
              "      <td>6</td>\n",
              "      <td>2010-12-01 08:26:00</td>\n",
              "      <td>4.25</td>\n",
              "      <td>17850</td>\n",
              "      <td>United Kingdom</td>\n",
              "      <td>6</td>\n",
              "      <td>0</td>\n",
              "      <td>25.50</td>\n",
              "      <td>2010-12</td>\n",
              "      <td>2010</td>\n",
              "      <td>12</td>\n",
              "      <td>1</td>\n",
              "      <td>2</td>\n",
              "      <td>335</td>\n",
              "      <td>48</td>\n",
              "      <td>4</td>\n",
              "    </tr>\n",
              "    <tr>\n",
              "      <th>8</th>\n",
              "      <td>8</td>\n",
              "      <td>536366</td>\n",
              "      <td>22632</td>\n",
              "      <td>HAND WARMER RED POLKA DOT</td>\n",
              "      <td>6</td>\n",
              "      <td>2010-12-01 08:28:00</td>\n",
              "      <td>1.85</td>\n",
              "      <td>17850</td>\n",
              "      <td>United Kingdom</td>\n",
              "      <td>8</td>\n",
              "      <td>0</td>\n",
              "      <td>11.10</td>\n",
              "      <td>2010-12</td>\n",
              "      <td>2010</td>\n",
              "      <td>12</td>\n",
              "      <td>1</td>\n",
              "      <td>2</td>\n",
              "      <td>335</td>\n",
              "      <td>48</td>\n",
              "      <td>4</td>\n",
              "    </tr>\n",
              "  </tbody>\n",
              "</table>\n",
              "</div>"
            ],
            "text/plain": [
              "   index InvoiceNo StockCode  ... dayofyear  weekofyear quarter\n",
              "0      0    536365    85123A  ...       335          48       4\n",
              "2      2    536365    84406B  ...       335          48       4\n",
              "4      4    536365    84029E  ...       335          48       4\n",
              "6      6    536365     21730  ...       335          48       4\n",
              "8      8    536366     22632  ...       335          48       4\n",
              "\n",
              "[5 rows x 20 columns]"
            ]
          },
          "metadata": {
            "tags": []
          },
          "execution_count": 24
        }
      ]
    },
    {
      "cell_type": "code",
      "metadata": {
        "id": "X7fpBStljPuY",
        "colab": {
          "base_uri": "https://localhost:8080/"
        },
        "outputId": "a0adb760-a2c3-4185-d531-cff2d5e22926"
      },
      "source": [
        "df2.dayofweek.unique()"
      ],
      "execution_count": 25,
      "outputs": [
        {
          "output_type": "execute_result",
          "data": {
            "text/plain": [
              "array([2, 3, 4, 6, 0, 1])"
            ]
          },
          "metadata": {
            "tags": []
          },
          "execution_count": 25
        }
      ]
    },
    {
      "cell_type": "code",
      "metadata": {
        "id": "N_rdGz80jPub",
        "colab": {
          "base_uri": "https://localhost:8080/"
        },
        "outputId": "96b68d80-3484-4371-9f9c-c5cda4f05088"
      },
      "source": [
        "df2.info()"
      ],
      "execution_count": 26,
      "outputs": [
        {
          "output_type": "stream",
          "text": [
            "<class 'pandas.core.frame.DataFrame'>\n",
            "Int64Index: 199005 entries, 0 to 541908\n",
            "Data columns (total 20 columns):\n",
            " #   Column        Non-Null Count   Dtype         \n",
            "---  ------        --------------   -----         \n",
            " 0   index         199005 non-null  int64         \n",
            " 1   InvoiceNo     199005 non-null  object        \n",
            " 2   StockCode     199005 non-null  object        \n",
            " 3   Description   199005 non-null  object        \n",
            " 4   Quantity      199005 non-null  int64         \n",
            " 5   InvoiceDate   199005 non-null  datetime64[ns]\n",
            " 6   UnitPrice     199005 non-null  float64       \n",
            " 7   CustomerID    199005 non-null  int64         \n",
            " 8   Country       199005 non-null  object        \n",
            " 9   index_col     199005 non-null  int64         \n",
            " 10  index_remain  199005 non-null  int64         \n",
            " 11  AmountSpent   199005 non-null  float64       \n",
            " 12  month_year    199005 non-null  period[M]     \n",
            " 13  year          199005 non-null  int64         \n",
            " 14  month         199005 non-null  int64         \n",
            " 15  day           199005 non-null  int64         \n",
            " 16  dayofweek     199005 non-null  int64         \n",
            " 17  dayofyear     199005 non-null  int64         \n",
            " 18  weekofyear    199005 non-null  int64         \n",
            " 19  quarter       199005 non-null  int64         \n",
            "dtypes: datetime64[ns](1), float64(2), int64(12), object(4), period[M](1)\n",
            "memory usage: 36.9+ MB\n"
          ],
          "name": "stdout"
        }
      ]
    },
    {
      "cell_type": "code",
      "metadata": {
        "id": "-CqhdQTcjPud",
        "colab": {
          "base_uri": "https://localhost:8080/",
          "height": 534
        },
        "outputId": "3148f610-ea1d-45c8-faf7-8023908b976e"
      },
      "source": [
        "# +1 to make Monday=1.....until Sunday=7\n",
        "df2['dayofweek'] = df2['dayofweek'] + 1\n",
        "df2.head()"
      ],
      "execution_count": 27,
      "outputs": [
        {
          "output_type": "execute_result",
          "data": {
            "text/html": [
              "<div>\n",
              "<style scoped>\n",
              "    .dataframe tbody tr th:only-of-type {\n",
              "        vertical-align: middle;\n",
              "    }\n",
              "\n",
              "    .dataframe tbody tr th {\n",
              "        vertical-align: top;\n",
              "    }\n",
              "\n",
              "    .dataframe thead th {\n",
              "        text-align: right;\n",
              "    }\n",
              "</style>\n",
              "<table border=\"1\" class=\"dataframe\">\n",
              "  <thead>\n",
              "    <tr style=\"text-align: right;\">\n",
              "      <th></th>\n",
              "      <th>index</th>\n",
              "      <th>InvoiceNo</th>\n",
              "      <th>StockCode</th>\n",
              "      <th>Description</th>\n",
              "      <th>Quantity</th>\n",
              "      <th>InvoiceDate</th>\n",
              "      <th>UnitPrice</th>\n",
              "      <th>CustomerID</th>\n",
              "      <th>Country</th>\n",
              "      <th>index_col</th>\n",
              "      <th>index_remain</th>\n",
              "      <th>AmountSpent</th>\n",
              "      <th>month_year</th>\n",
              "      <th>year</th>\n",
              "      <th>month</th>\n",
              "      <th>day</th>\n",
              "      <th>dayofweek</th>\n",
              "      <th>dayofyear</th>\n",
              "      <th>weekofyear</th>\n",
              "      <th>quarter</th>\n",
              "    </tr>\n",
              "  </thead>\n",
              "  <tbody>\n",
              "    <tr>\n",
              "      <th>0</th>\n",
              "      <td>0</td>\n",
              "      <td>536365</td>\n",
              "      <td>85123A</td>\n",
              "      <td>WHITE HANGING HEART T-LIGHT HOLDER</td>\n",
              "      <td>6</td>\n",
              "      <td>2010-12-01 08:26:00</td>\n",
              "      <td>2.55</td>\n",
              "      <td>17850</td>\n",
              "      <td>United Kingdom</td>\n",
              "      <td>0</td>\n",
              "      <td>0</td>\n",
              "      <td>15.30</td>\n",
              "      <td>2010-12</td>\n",
              "      <td>2010</td>\n",
              "      <td>12</td>\n",
              "      <td>1</td>\n",
              "      <td>3</td>\n",
              "      <td>335</td>\n",
              "      <td>48</td>\n",
              "      <td>4</td>\n",
              "    </tr>\n",
              "    <tr>\n",
              "      <th>2</th>\n",
              "      <td>2</td>\n",
              "      <td>536365</td>\n",
              "      <td>84406B</td>\n",
              "      <td>CREAM CUPID HEARTS COAT HANGER</td>\n",
              "      <td>8</td>\n",
              "      <td>2010-12-01 08:26:00</td>\n",
              "      <td>2.75</td>\n",
              "      <td>17850</td>\n",
              "      <td>United Kingdom</td>\n",
              "      <td>2</td>\n",
              "      <td>0</td>\n",
              "      <td>22.00</td>\n",
              "      <td>2010-12</td>\n",
              "      <td>2010</td>\n",
              "      <td>12</td>\n",
              "      <td>1</td>\n",
              "      <td>3</td>\n",
              "      <td>335</td>\n",
              "      <td>48</td>\n",
              "      <td>4</td>\n",
              "    </tr>\n",
              "    <tr>\n",
              "      <th>4</th>\n",
              "      <td>4</td>\n",
              "      <td>536365</td>\n",
              "      <td>84029E</td>\n",
              "      <td>RED WOOLLY HOTTIE WHITE HEART.</td>\n",
              "      <td>6</td>\n",
              "      <td>2010-12-01 08:26:00</td>\n",
              "      <td>3.39</td>\n",
              "      <td>17850</td>\n",
              "      <td>United Kingdom</td>\n",
              "      <td>4</td>\n",
              "      <td>0</td>\n",
              "      <td>20.34</td>\n",
              "      <td>2010-12</td>\n",
              "      <td>2010</td>\n",
              "      <td>12</td>\n",
              "      <td>1</td>\n",
              "      <td>3</td>\n",
              "      <td>335</td>\n",
              "      <td>48</td>\n",
              "      <td>4</td>\n",
              "    </tr>\n",
              "    <tr>\n",
              "      <th>6</th>\n",
              "      <td>6</td>\n",
              "      <td>536365</td>\n",
              "      <td>21730</td>\n",
              "      <td>GLASS STAR FROSTED T-LIGHT HOLDER</td>\n",
              "      <td>6</td>\n",
              "      <td>2010-12-01 08:26:00</td>\n",
              "      <td>4.25</td>\n",
              "      <td>17850</td>\n",
              "      <td>United Kingdom</td>\n",
              "      <td>6</td>\n",
              "      <td>0</td>\n",
              "      <td>25.50</td>\n",
              "      <td>2010-12</td>\n",
              "      <td>2010</td>\n",
              "      <td>12</td>\n",
              "      <td>1</td>\n",
              "      <td>3</td>\n",
              "      <td>335</td>\n",
              "      <td>48</td>\n",
              "      <td>4</td>\n",
              "    </tr>\n",
              "    <tr>\n",
              "      <th>8</th>\n",
              "      <td>8</td>\n",
              "      <td>536366</td>\n",
              "      <td>22632</td>\n",
              "      <td>HAND WARMER RED POLKA DOT</td>\n",
              "      <td>6</td>\n",
              "      <td>2010-12-01 08:28:00</td>\n",
              "      <td>1.85</td>\n",
              "      <td>17850</td>\n",
              "      <td>United Kingdom</td>\n",
              "      <td>8</td>\n",
              "      <td>0</td>\n",
              "      <td>11.10</td>\n",
              "      <td>2010-12</td>\n",
              "      <td>2010</td>\n",
              "      <td>12</td>\n",
              "      <td>1</td>\n",
              "      <td>3</td>\n",
              "      <td>335</td>\n",
              "      <td>48</td>\n",
              "      <td>4</td>\n",
              "    </tr>\n",
              "  </tbody>\n",
              "</table>\n",
              "</div>"
            ],
            "text/plain": [
              "   index InvoiceNo StockCode  ... dayofyear  weekofyear quarter\n",
              "0      0    536365    85123A  ...       335          48       4\n",
              "2      2    536365    84406B  ...       335          48       4\n",
              "4      4    536365    84029E  ...       335          48       4\n",
              "6      6    536365     21730  ...       335          48       4\n",
              "8      8    536366     22632  ...       335          48       4\n",
              "\n",
              "[5 rows x 20 columns]"
            ]
          },
          "metadata": {
            "tags": []
          },
          "execution_count": 27
        }
      ]
    },
    {
      "cell_type": "markdown",
      "metadata": {
        "id": "hlLHK45qjPug"
      },
      "source": [
        "## Exploring and Analysing the Data"
      ]
    },
    {
      "cell_type": "code",
      "metadata": {
        "id": "-osobBW6jPug",
        "colab": {
          "base_uri": "https://localhost:8080/",
          "height": 343
        },
        "outputId": "25a134bf-b06d-4ff1-f779-4a69b44dd3ec"
      },
      "source": [
        "# Consolidating the number of Sales Made per customer for each country\n",
        "# We use InvoiceNo as the count for sales\n",
        "sales_per_cust = df2.groupby(by=['CustomerID','Country'], as_index=False)['InvoiceNo'].count().sort_values(by='InvoiceNo', ascending=False)\n",
        "sales_per_cust.columns = ['CustomerID', 'Country', \"NumberOfSales\"]\n",
        "sales_per_cust.head(10)"
      ],
      "execution_count": 28,
      "outputs": [
        {
          "output_type": "execute_result",
          "data": {
            "text/html": [
              "<div>\n",
              "<style scoped>\n",
              "    .dataframe tbody tr th:only-of-type {\n",
              "        vertical-align: middle;\n",
              "    }\n",
              "\n",
              "    .dataframe tbody tr th {\n",
              "        vertical-align: top;\n",
              "    }\n",
              "\n",
              "    .dataframe thead th {\n",
              "        text-align: right;\n",
              "    }\n",
              "</style>\n",
              "<table border=\"1\" class=\"dataframe\">\n",
              "  <thead>\n",
              "    <tr style=\"text-align: right;\">\n",
              "      <th></th>\n",
              "      <th>CustomerID</th>\n",
              "      <th>Country</th>\n",
              "      <th>NumberOfSales</th>\n",
              "    </tr>\n",
              "  </thead>\n",
              "  <tbody>\n",
              "    <tr>\n",
              "      <th>3998</th>\n",
              "      <td>17841</td>\n",
              "      <td>United Kingdom</td>\n",
              "      <td>3917</td>\n",
              "    </tr>\n",
              "    <tr>\n",
              "      <th>1878</th>\n",
              "      <td>14911</td>\n",
              "      <td>EIRE</td>\n",
              "      <td>2843</td>\n",
              "    </tr>\n",
              "    <tr>\n",
              "      <th>1290</th>\n",
              "      <td>14096</td>\n",
              "      <td>United Kingdom</td>\n",
              "      <td>2557</td>\n",
              "    </tr>\n",
              "    <tr>\n",
              "      <th>333</th>\n",
              "      <td>12748</td>\n",
              "      <td>United Kingdom</td>\n",
              "      <td>2306</td>\n",
              "    </tr>\n",
              "    <tr>\n",
              "      <th>1661</th>\n",
              "      <td>14606</td>\n",
              "      <td>United Kingdom</td>\n",
              "      <td>1348</td>\n",
              "    </tr>\n",
              "    <tr>\n",
              "      <th>2174</th>\n",
              "      <td>15311</td>\n",
              "      <td>United Kingdom</td>\n",
              "      <td>1201</td>\n",
              "    </tr>\n",
              "    <tr>\n",
              "      <th>1689</th>\n",
              "      <td>14646</td>\n",
              "      <td>Netherlands</td>\n",
              "      <td>1038</td>\n",
              "    </tr>\n",
              "    <tr>\n",
              "      <th>568</th>\n",
              "      <td>13089</td>\n",
              "      <td>United Kingdom</td>\n",
              "      <td>908</td>\n",
              "    </tr>\n",
              "    <tr>\n",
              "      <th>695</th>\n",
              "      <td>13263</td>\n",
              "      <td>United Kingdom</td>\n",
              "      <td>840</td>\n",
              "    </tr>\n",
              "    <tr>\n",
              "      <th>1435</th>\n",
              "      <td>14298</td>\n",
              "      <td>United Kingdom</td>\n",
              "      <td>814</td>\n",
              "    </tr>\n",
              "  </tbody>\n",
              "</table>\n",
              "</div>"
            ],
            "text/plain": [
              "      CustomerID         Country  NumberOfSales\n",
              "3998       17841  United Kingdom           3917\n",
              "1878       14911            EIRE           2843\n",
              "1290       14096  United Kingdom           2557\n",
              "333        12748  United Kingdom           2306\n",
              "1661       14606  United Kingdom           1348\n",
              "2174       15311  United Kingdom           1201\n",
              "1689       14646     Netherlands           1038\n",
              "568        13089  United Kingdom            908\n",
              "695        13263  United Kingdom            840\n",
              "1435       14298  United Kingdom            814"
            ]
          },
          "metadata": {
            "tags": []
          },
          "execution_count": 28
        }
      ]
    },
    {
      "cell_type": "code",
      "metadata": {
        "id": "zLyo1-ArjPuj",
        "colab": {
          "base_uri": "https://localhost:8080/",
          "height": 410
        },
        "outputId": "159f9744-46f8-48d9-e3ce-1b94f14d6a02"
      },
      "source": [
        "# Visualizing No. of Sales for all Customers\n",
        "\n",
        "orders = df2.groupby(by=['CustomerID','Country'], as_index=False)['InvoiceNo'].count()\n",
        "\n",
        "plt.subplots(figsize=(15,6))\n",
        "plt.plot(orders.CustomerID, orders.InvoiceNo)\n",
        "plt.xlabel('Customers ID')\n",
        "plt.ylabel('Number of Orders')\n",
        "plt.title('Number of Orders for different Customers')\n",
        "plt.show()"
      ],
      "execution_count": 29,
      "outputs": [
        {
          "output_type": "display_data",
          "data": {
            "image/png": "[encoded data removed]",
            "text/plain": [
              "<Figure size 1080x432 with 1 Axes>"
            ]
          },
          "metadata": {
            "tags": []
          }
        }
      ]
    },
    {
      "cell_type": "code",
      "metadata": {
        "id": "cExKVOVWjPum",
        "colab": {
          "base_uri": "https://localhost:8080/",
          "height": 410
        },
        "outputId": "bb05f5d4-83c5-45b0-dca5-b8cbbea7d2ad"
      },
      "source": [
        "# Visualizing Money Spent for all Customer\n",
        "money_spent = df2.groupby(by=['CustomerID','Country'], as_index=False)['AmountSpent'].sum()\n",
        "\n",
        "plt.subplots(figsize=(15,6))\n",
        "plt.plot(money_spent.CustomerID, money_spent.AmountSpent)\n",
        "plt.xlabel('Customers ID')\n",
        "plt.ylabel('Money spent (Dollar)')\n",
        "plt.title('Money Spent for different Customers')\n",
        "plt.show()"
      ],
      "execution_count": 30,
      "outputs": [
        {
          "output_type": "display_data",
          "data": {
            "image/png": "[encoded data removed]",
            "text/plain": [
              "<Figure size 1080x432 with 1 Axes>"
            ]
          },
          "metadata": {
            "tags": []
          }
        }
      ]
    },
    {
      "cell_type": "code",
      "metadata": {
        "id": "tMaLBcVyjPuo",
        "colab": {
          "base_uri": "https://localhost:8080/",
          "height": 343
        },
        "outputId": "99bd1e1e-6e82-4652-a347-78681aad829d"
      },
      "source": [
        "# Consolidating the number of Sales Made per customer (Revenue)\n",
        "# we use use index=False, to indicate to the groupby that we don't want to set the column ID as index\n",
        "spent_per_cust = df2.groupby(by=['CustomerID','Country'], as_index=False)['AmountSpent'].sum().sort_values(by='AmountSpent', ascending=False)\n",
        "spent_per_cust.columns = ['CustomerID', 'Country', \"TotalSpent\"]\n",
        "spent_per_cust.head(10)"
      ],
      "execution_count": 31,
      "outputs": [
        {
          "output_type": "execute_result",
          "data": {
            "text/html": [
              "<div>\n",
              "<style scoped>\n",
              "    .dataframe tbody tr th:only-of-type {\n",
              "        vertical-align: middle;\n",
              "    }\n",
              "\n",
              "    .dataframe tbody tr th {\n",
              "        vertical-align: top;\n",
              "    }\n",
              "\n",
              "    .dataframe thead th {\n",
              "        text-align: right;\n",
              "    }\n",
              "</style>\n",
              "<table border=\"1\" class=\"dataframe\">\n",
              "  <thead>\n",
              "    <tr style=\"text-align: right;\">\n",
              "      <th></th>\n",
              "      <th>CustomerID</th>\n",
              "      <th>Country</th>\n",
              "      <th>TotalSpent</th>\n",
              "    </tr>\n",
              "  </thead>\n",
              "  <tbody>\n",
              "    <tr>\n",
              "      <th>1689</th>\n",
              "      <td>14646</td>\n",
              "      <td>Netherlands</td>\n",
              "      <td>137356.42</td>\n",
              "    </tr>\n",
              "    <tr>\n",
              "      <th>4185</th>\n",
              "      <td>18102</td>\n",
              "      <td>United Kingdom</td>\n",
              "      <td>129676.37</td>\n",
              "    </tr>\n",
              "    <tr>\n",
              "      <th>3717</th>\n",
              "      <td>17450</td>\n",
              "      <td>United Kingdom</td>\n",
              "      <td>87556.19</td>\n",
              "    </tr>\n",
              "    <tr>\n",
              "      <th>1878</th>\n",
              "      <td>14911</td>\n",
              "      <td>EIRE</td>\n",
              "      <td>72258.43</td>\n",
              "    </tr>\n",
              "    <tr>\n",
              "      <th>56</th>\n",
              "      <td>12415</td>\n",
              "      <td>Australia</td>\n",
              "      <td>60819.74</td>\n",
              "    </tr>\n",
              "    <tr>\n",
              "      <th>1334</th>\n",
              "      <td>14156</td>\n",
              "      <td>EIRE</td>\n",
              "      <td>60722.43</td>\n",
              "    </tr>\n",
              "    <tr>\n",
              "      <th>3760</th>\n",
              "      <td>17511</td>\n",
              "      <td>United Kingdom</td>\n",
              "      <td>44852.65</td>\n",
              "    </tr>\n",
              "    <tr>\n",
              "      <th>2698</th>\n",
              "      <td>16029</td>\n",
              "      <td>United Kingdom</td>\n",
              "      <td>43238.17</td>\n",
              "    </tr>\n",
              "    <tr>\n",
              "      <th>2010</th>\n",
              "      <td>15098</td>\n",
              "      <td>United Kingdom</td>\n",
              "      <td>39916.50</td>\n",
              "    </tr>\n",
              "    <tr>\n",
              "      <th>1290</th>\n",
              "      <td>14096</td>\n",
              "      <td>United Kingdom</td>\n",
              "      <td>34688.84</td>\n",
              "    </tr>\n",
              "  </tbody>\n",
              "</table>\n",
              "</div>"
            ],
            "text/plain": [
              "      CustomerID         Country  TotalSpent\n",
              "1689       14646     Netherlands   137356.42\n",
              "4185       18102  United Kingdom   129676.37\n",
              "3717       17450  United Kingdom    87556.19\n",
              "1878       14911            EIRE    72258.43\n",
              "56         12415       Australia    60819.74\n",
              "1334       14156            EIRE    60722.43\n",
              "3760       17511  United Kingdom    44852.65\n",
              "2698       16029  United Kingdom    43238.17\n",
              "2010       15098  United Kingdom    39916.50\n",
              "1290       14096  United Kingdom    34688.84"
            ]
          },
          "metadata": {
            "tags": []
          },
          "execution_count": 31
        }
      ]
    },
    {
      "cell_type": "markdown",
      "metadata": {
        "id": "qCrex3PojPuq"
      },
      "source": [
        "# Purchasing Patterns\n",
        "https://www.kaggle.com/hendraherviawan/customer-purchasing-patterns"
      ]
    },
    {
      "cell_type": "code",
      "metadata": {
        "id": "b_ZvC-tqjPut",
        "colab": {
          "base_uri": "https://localhost:8080/",
          "height": 534
        },
        "outputId": "21294042-91f2-4325-d305-2d5087caf29d"
      },
      "source": [
        "# Check our data\n",
        "df2.head()"
      ],
      "execution_count": 32,
      "outputs": [
        {
          "output_type": "execute_result",
          "data": {
            "text/html": [
              "<div>\n",
              "<style scoped>\n",
              "    .dataframe tbody tr th:only-of-type {\n",
              "        vertical-align: middle;\n",
              "    }\n",
              "\n",
              "    .dataframe tbody tr th {\n",
              "        vertical-align: top;\n",
              "    }\n",
              "\n",
              "    .dataframe thead th {\n",
              "        text-align: right;\n",
              "    }\n",
              "</style>\n",
              "<table border=\"1\" class=\"dataframe\">\n",
              "  <thead>\n",
              "    <tr style=\"text-align: right;\">\n",
              "      <th></th>\n",
              "      <th>index</th>\n",
              "      <th>InvoiceNo</th>\n",
              "      <th>StockCode</th>\n",
              "      <th>Description</th>\n",
              "      <th>Quantity</th>\n",
              "      <th>InvoiceDate</th>\n",
              "      <th>UnitPrice</th>\n",
              "      <th>CustomerID</th>\n",
              "      <th>Country</th>\n",
              "      <th>index_col</th>\n",
              "      <th>index_remain</th>\n",
              "      <th>AmountSpent</th>\n",
              "      <th>month_year</th>\n",
              "      <th>year</th>\n",
              "      <th>month</th>\n",
              "      <th>day</th>\n",
              "      <th>dayofweek</th>\n",
              "      <th>dayofyear</th>\n",
              "      <th>weekofyear</th>\n",
              "      <th>quarter</th>\n",
              "    </tr>\n",
              "  </thead>\n",
              "  <tbody>\n",
              "    <tr>\n",
              "      <th>0</th>\n",
              "      <td>0</td>\n",
              "      <td>536365</td>\n",
              "      <td>85123A</td>\n",
              "      <td>WHITE HANGING HEART T-LIGHT HOLDER</td>\n",
              "      <td>6</td>\n",
              "      <td>2010-12-01 08:26:00</td>\n",
              "      <td>2.55</td>\n",
              "      <td>17850</td>\n",
              "      <td>United Kingdom</td>\n",
              "      <td>0</td>\n",
              "      <td>0</td>\n",
              "      <td>15.30</td>\n",
              "      <td>2010-12</td>\n",
              "      <td>2010</td>\n",
              "      <td>12</td>\n",
              "      <td>1</td>\n",
              "      <td>3</td>\n",
              "      <td>335</td>\n",
              "      <td>48</td>\n",
              "      <td>4</td>\n",
              "    </tr>\n",
              "    <tr>\n",
              "      <th>2</th>\n",
              "      <td>2</td>\n",
              "      <td>536365</td>\n",
              "      <td>84406B</td>\n",
              "      <td>CREAM CUPID HEARTS COAT HANGER</td>\n",
              "      <td>8</td>\n",
              "      <td>2010-12-01 08:26:00</td>\n",
              "      <td>2.75</td>\n",
              "      <td>17850</td>\n",
              "      <td>United Kingdom</td>\n",
              "      <td>2</td>\n",
              "      <td>0</td>\n",
              "      <td>22.00</td>\n",
              "      <td>2010-12</td>\n",
              "      <td>2010</td>\n",
              "      <td>12</td>\n",
              "      <td>1</td>\n",
              "      <td>3</td>\n",
              "      <td>335</td>\n",
              "      <td>48</td>\n",
              "      <td>4</td>\n",
              "    </tr>\n",
              "    <tr>\n",
              "      <th>4</th>\n",
              "      <td>4</td>\n",
              "      <td>536365</td>\n",
              "      <td>84029E</td>\n",
              "      <td>RED WOOLLY HOTTIE WHITE HEART.</td>\n",
              "      <td>6</td>\n",
              "      <td>2010-12-01 08:26:00</td>\n",
              "      <td>3.39</td>\n",
              "      <td>17850</td>\n",
              "      <td>United Kingdom</td>\n",
              "      <td>4</td>\n",
              "      <td>0</td>\n",
              "      <td>20.34</td>\n",
              "      <td>2010-12</td>\n",
              "      <td>2010</td>\n",
              "      <td>12</td>\n",
              "      <td>1</td>\n",
              "      <td>3</td>\n",
              "      <td>335</td>\n",
              "      <td>48</td>\n",
              "      <td>4</td>\n",
              "    </tr>\n",
              "    <tr>\n",
              "      <th>6</th>\n",
              "      <td>6</td>\n",
              "      <td>536365</td>\n",
              "      <td>21730</td>\n",
              "      <td>GLASS STAR FROSTED T-LIGHT HOLDER</td>\n",
              "      <td>6</td>\n",
              "      <td>2010-12-01 08:26:00</td>\n",
              "      <td>4.25</td>\n",
              "      <td>17850</td>\n",
              "      <td>United Kingdom</td>\n",
              "      <td>6</td>\n",
              "      <td>0</td>\n",
              "      <td>25.50</td>\n",
              "      <td>2010-12</td>\n",
              "      <td>2010</td>\n",
              "      <td>12</td>\n",
              "      <td>1</td>\n",
              "      <td>3</td>\n",
              "      <td>335</td>\n",
              "      <td>48</td>\n",
              "      <td>4</td>\n",
              "    </tr>\n",
              "    <tr>\n",
              "      <th>8</th>\n",
              "      <td>8</td>\n",
              "      <td>536366</td>\n",
              "      <td>22632</td>\n",
              "      <td>HAND WARMER RED POLKA DOT</td>\n",
              "      <td>6</td>\n",
              "      <td>2010-12-01 08:28:00</td>\n",
              "      <td>1.85</td>\n",
              "      <td>17850</td>\n",
              "      <td>United Kingdom</td>\n",
              "      <td>8</td>\n",
              "      <td>0</td>\n",
              "      <td>11.10</td>\n",
              "      <td>2010-12</td>\n",
              "      <td>2010</td>\n",
              "      <td>12</td>\n",
              "      <td>1</td>\n",
              "      <td>3</td>\n",
              "      <td>335</td>\n",
              "      <td>48</td>\n",
              "      <td>4</td>\n",
              "    </tr>\n",
              "  </tbody>\n",
              "</table>\n",
              "</div>"
            ],
            "text/plain": [
              "   index InvoiceNo StockCode  ... dayofyear  weekofyear quarter\n",
              "0      0    536365    85123A  ...       335          48       4\n",
              "2      2    536365    84406B  ...       335          48       4\n",
              "4      4    536365    84029E  ...       335          48       4\n",
              "6      6    536365     21730  ...       335          48       4\n",
              "8      8    536366     22632  ...       335          48       4\n",
              "\n",
              "[5 rows x 20 columns]"
            ]
          },
          "metadata": {
            "tags": []
          },
          "execution_count": 32
        }
      ]
    },
    {
      "cell_type": "code",
      "metadata": {
        "id": "Fjf2SK6ljPuw"
      },
      "source": [
        "# Insert a new column as our 3rd row (index 2) with year_month by joining our year with month from our InvoiceDate field\n",
        "df2.insert(loc=2, column='year_month', value=df2['InvoiceDate'].map(lambda x: 100*x.year + x.month))\n",
        "\n",
        "# Insert a new column as our 6th column (index 5) with our Hour extracted from InvoiceDate\n",
        "df2.insert(loc=5, column='hour', value=df2.InvoiceDate.dt.hour)"
      ],
      "execution_count": 33,
      "outputs": []
    },
    {
      "cell_type": "code",
      "metadata": {
        "id": "bZ8-P_31IHIb",
        "colab": {
          "base_uri": "https://localhost:8080/",
          "height": 534
        },
        "outputId": "f4a564b6-7c2e-48c8-b44c-9a38a14f0f13"
      },
      "source": [
        "# Check to see if our year_month and hour columns were made\n",
        "df2.head()"
      ],
      "execution_count": 34,
      "outputs": [
        {
          "output_type": "execute_result",
          "data": {
            "text/html": [
              "<div>\n",
              "<style scoped>\n",
              "    .dataframe tbody tr th:only-of-type {\n",
              "        vertical-align: middle;\n",
              "    }\n",
              "\n",
              "    .dataframe tbody tr th {\n",
              "        vertical-align: top;\n",
              "    }\n",
              "\n",
              "    .dataframe thead th {\n",
              "        text-align: right;\n",
              "    }\n",
              "</style>\n",
              "<table border=\"1\" class=\"dataframe\">\n",
              "  <thead>\n",
              "    <tr style=\"text-align: right;\">\n",
              "      <th></th>\n",
              "      <th>index</th>\n",
              "      <th>InvoiceNo</th>\n",
              "      <th>year_month</th>\n",
              "      <th>StockCode</th>\n",
              "      <th>Description</th>\n",
              "      <th>hour</th>\n",
              "      <th>Quantity</th>\n",
              "      <th>InvoiceDate</th>\n",
              "      <th>UnitPrice</th>\n",
              "      <th>CustomerID</th>\n",
              "      <th>Country</th>\n",
              "      <th>index_col</th>\n",
              "      <th>index_remain</th>\n",
              "      <th>AmountSpent</th>\n",
              "      <th>month_year</th>\n",
              "      <th>year</th>\n",
              "      <th>month</th>\n",
              "      <th>day</th>\n",
              "      <th>dayofweek</th>\n",
              "      <th>dayofyear</th>\n",
              "      <th>weekofyear</th>\n",
              "      <th>quarter</th>\n",
              "    </tr>\n",
              "  </thead>\n",
              "  <tbody>\n",
              "    <tr>\n",
              "      <th>0</th>\n",
              "      <td>0</td>\n",
              "      <td>536365</td>\n",
              "      <td>201012</td>\n",
              "      <td>85123A</td>\n",
              "      <td>WHITE HANGING HEART T-LIGHT HOLDER</td>\n",
              "      <td>8</td>\n",
              "      <td>6</td>\n",
              "      <td>2010-12-01 08:26:00</td>\n",
              "      <td>2.55</td>\n",
              "      <td>17850</td>\n",
              "      <td>United Kingdom</td>\n",
              "      <td>0</td>\n",
              "      <td>0</td>\n",
              "      <td>15.30</td>\n",
              "      <td>2010-12</td>\n",
              "      <td>2010</td>\n",
              "      <td>12</td>\n",
              "      <td>1</td>\n",
              "      <td>3</td>\n",
              "      <td>335</td>\n",
              "      <td>48</td>\n",
              "      <td>4</td>\n",
              "    </tr>\n",
              "    <tr>\n",
              "      <th>2</th>\n",
              "      <td>2</td>\n",
              "      <td>536365</td>\n",
              "      <td>201012</td>\n",
              "      <td>84406B</td>\n",
              "      <td>CREAM CUPID HEARTS COAT HANGER</td>\n",
              "      <td>8</td>\n",
              "      <td>8</td>\n",
              "      <td>2010-12-01 08:26:00</td>\n",
              "      <td>2.75</td>\n",
              "      <td>17850</td>\n",
              "      <td>United Kingdom</td>\n",
              "      <td>2</td>\n",
              "      <td>0</td>\n",
              "      <td>22.00</td>\n",
              "      <td>2010-12</td>\n",
              "      <td>2010</td>\n",
              "      <td>12</td>\n",
              "      <td>1</td>\n",
              "      <td>3</td>\n",
              "      <td>335</td>\n",
              "      <td>48</td>\n",
              "      <td>4</td>\n",
              "    </tr>\n",
              "    <tr>\n",
              "      <th>4</th>\n",
              "      <td>4</td>\n",
              "      <td>536365</td>\n",
              "      <td>201012</td>\n",
              "      <td>84029E</td>\n",
              "      <td>RED WOOLLY HOTTIE WHITE HEART.</td>\n",
              "      <td>8</td>\n",
              "      <td>6</td>\n",
              "      <td>2010-12-01 08:26:00</td>\n",
              "      <td>3.39</td>\n",
              "      <td>17850</td>\n",
              "      <td>United Kingdom</td>\n",
              "      <td>4</td>\n",
              "      <td>0</td>\n",
              "      <td>20.34</td>\n",
              "      <td>2010-12</td>\n",
              "      <td>2010</td>\n",
              "      <td>12</td>\n",
              "      <td>1</td>\n",
              "      <td>3</td>\n",
              "      <td>335</td>\n",
              "      <td>48</td>\n",
              "      <td>4</td>\n",
              "    </tr>\n",
              "    <tr>\n",
              "      <th>6</th>\n",
              "      <td>6</td>\n",
              "      <td>536365</td>\n",
              "      <td>201012</td>\n",
              "      <td>21730</td>\n",
              "      <td>GLASS STAR FROSTED T-LIGHT HOLDER</td>\n",
              "      <td>8</td>\n",
              "      <td>6</td>\n",
              "      <td>2010-12-01 08:26:00</td>\n",
              "      <td>4.25</td>\n",
              "      <td>17850</td>\n",
              "      <td>United Kingdom</td>\n",
              "      <td>6</td>\n",
              "      <td>0</td>\n",
              "      <td>25.50</td>\n",
              "      <td>2010-12</td>\n",
              "      <td>2010</td>\n",
              "      <td>12</td>\n",
              "      <td>1</td>\n",
              "      <td>3</td>\n",
              "      <td>335</td>\n",
              "      <td>48</td>\n",
              "      <td>4</td>\n",
              "    </tr>\n",
              "    <tr>\n",
              "      <th>8</th>\n",
              "      <td>8</td>\n",
              "      <td>536366</td>\n",
              "      <td>201012</td>\n",
              "      <td>22632</td>\n",
              "      <td>HAND WARMER RED POLKA DOT</td>\n",
              "      <td>8</td>\n",
              "      <td>6</td>\n",
              "      <td>2010-12-01 08:28:00</td>\n",
              "      <td>1.85</td>\n",
              "      <td>17850</td>\n",
              "      <td>United Kingdom</td>\n",
              "      <td>8</td>\n",
              "      <td>0</td>\n",
              "      <td>11.10</td>\n",
              "      <td>2010-12</td>\n",
              "      <td>2010</td>\n",
              "      <td>12</td>\n",
              "      <td>1</td>\n",
              "      <td>3</td>\n",
              "      <td>335</td>\n",
              "      <td>48</td>\n",
              "      <td>4</td>\n",
              "    </tr>\n",
              "  </tbody>\n",
              "</table>\n",
              "</div>"
            ],
            "text/plain": [
              "   index InvoiceNo  year_month  ... dayofyear weekofyear  quarter\n",
              "0      0    536365      201012  ...       335         48        4\n",
              "2      2    536365      201012  ...       335         48        4\n",
              "4      4    536365      201012  ...       335         48        4\n",
              "6      6    536365      201012  ...       335         48        4\n",
              "8      8    536366      201012  ...       335         48        4\n",
              "\n",
              "[5 rows x 22 columns]"
            ]
          },
          "metadata": {
            "tags": []
          },
          "execution_count": 34
        }
      ]
    },
    {
      "cell_type": "code",
      "metadata": {
        "scrolled": true,
        "id": "P9LXcgJLjPuz",
        "colab": {
          "base_uri": "https://localhost:8080/",
          "height": 417
        },
        "outputId": "6c5783ef-a48e-4dbc-e1be-965963c498d6"
      },
      "source": [
        "# Create a plot that shows the number of orders per month \n",
        "ax = df2.groupby('InvoiceNo')['year_month'].unique().value_counts().sort_index().plot(kind = 'bar',figsize=(15,6))\n",
        "ax.set_xlabel('Month',fontsize=15)\n",
        "ax.set_ylabel('Number of Orders',fontsize=15)\n",
        "ax.set_title('Number of orders for per Month (1st Dec 2010 - 9th Dec 2011)',fontsize=15)\n",
        "ax.set_xticklabels(('Dec_10','Jan_11','Feb_11','Mar_11','Apr_11','May_11','Jun_11','July_11','Aug_11','Sep_11','Oct_11','Nov_11','Dec_11'), rotation='horizontal', fontsize=13)\n",
        "plt.show()"
      ],
      "execution_count": 35,
      "outputs": [
        {
          "output_type": "display_data",
          "data": {
            "image/png": "[encoded data removed]",
            "text/plain": [
              "<Figure size 1080x432 with 1 Axes>"
            ]
          },
          "metadata": {
            "tags": []
          }
        }
      ]
    },
    {
      "cell_type": "code",
      "metadata": {
        "id": "NFss0bbvjPu6",
        "colab": {
          "base_uri": "https://localhost:8080/",
          "height": 419
        },
        "outputId": "22910377-edb8-453e-cace-a856e6371295"
      },
      "source": [
        "# Create a plot for the number of orders per day of the weekve\n",
        "ax = df2.groupby('InvoiceNo')['dayofweek'].unique().value_counts().sort_index().plot(kind = 'bar',figsize=(15,6))\n",
        "ax.set_xlabel('Day',fontsize=15)\n",
        "ax.set_ylabel('Number of Orders',fontsize=15)\n",
        "ax.set_title('Number of orders for different Days',fontsize=15)\n",
        "ax.set_xticklabels(('Mon','Tue','Wed','Thur','Fri','Sun'), rotation='horizontal', fontsize=15)\n",
        "plt.show()"
      ],
      "execution_count": 36,
      "outputs": [
        {
          "output_type": "display_data",
          "data": {
            "image/png": "[encoded data removed]",
            "text/plain": [
              "<Figure size 1080x432 with 1 Axes>"
            ]
          },
          "metadata": {
            "tags": []
          }
        }
      ]
    },
    {
      "cell_type": "code",
      "metadata": {
        "id": "GbqYSPghjPu8",
        "colab": {
          "base_uri": "https://localhost:8080/"
        },
        "outputId": "8cc97420-2c6a-4ff6-fb20-bbc08ca29f7f"
      },
      "source": [
        "df2.columns"
      ],
      "execution_count": 37,
      "outputs": [
        {
          "output_type": "execute_result",
          "data": {
            "text/plain": [
              "Index(['index', 'InvoiceNo', 'year_month', 'StockCode', 'Description', 'hour',\n",
              "       'Quantity', 'InvoiceDate', 'UnitPrice', 'CustomerID', 'Country',\n",
              "       'index_col', 'index_remain', 'AmountSpent', 'month_year', 'year',\n",
              "       'month', 'day', 'dayofweek', 'dayofyear', 'weekofyear', 'quarter'],\n",
              "      dtype='object')"
            ]
          },
          "metadata": {
            "tags": []
          },
          "execution_count": 37
        }
      ]
    },
    {
      "cell_type": "code",
      "metadata": {
        "id": "6RFDkEhVjPu-",
        "colab": {
          "base_uri": "https://localhost:8080/",
          "height": 419
        },
        "outputId": "3357beba-d284-4d4a-ae20-0cc2e38ea4c0"
      },
      "source": [
        "# Let's Plot the  number of orders per hour\n",
        "ax = df2.groupby('InvoiceNo')['hour'].unique().value_counts().iloc[:-1].sort_index().plot(kind = 'bar',figsize=(15,6))\n",
        "ax.set_xlabel('Hour',fontsize=15)\n",
        "ax.set_ylabel('Number of Orders',fontsize=15)\n",
        "ax.set_title('Number of orders for different Hours',fontsize=15)\n",
        "ax.set_xticklabels(range(6,21), rotation='horizontal', fontsize=15)\n",
        "plt.show()"
      ],
      "execution_count": 38,
      "outputs": [
        {
          "output_type": "display_data",
          "data": {
            "image/png": "[encoded data removed]",
            "text/plain": [
              "<Figure size 1080x432 with 1 Axes>"
            ]
          },
          "metadata": {
            "tags": []
          }
        }
      ]
    },
    {
      "cell_type": "code",
      "metadata": {
        "id": "igRCzblJjPvB",
        "colab": {
          "base_uri": "https://localhost:8080/",
          "height": 419
        },
        "outputId": "62ee7179-2880-4f16-cb15-d42341efff2c"
      },
      "source": [
        "# Number of sales per week of the year\n",
        "ax = df2.groupby('InvoiceNo')['weekofyear'].unique().value_counts().iloc[:-1].sort_index().plot(kind = 'bar',figsize=(15,6))\n",
        "ax.set_xlabel('Hour',fontsize=15)\n",
        "ax.set_ylabel('Number of Orders',fontsize=15)\n",
        "ax.set_title('Number of orders per week of the year',fontsize=15)\n",
        "ax.set_xticklabels(range(0,52), rotation='horizontal', fontsize=15)\n",
        "plt.show()"
      ],
      "execution_count": 39,
      "outputs": [
        {
          "output_type": "display_data",
          "data": {
            "image/png": "[encoded data removed]",
            "text/plain": [
              "<Figure size 1080x432 with 1 Axes>"
            ]
          },
          "metadata": {
            "tags": []
          }
        }
      ]
    },
    {
      "cell_type": "markdown",
      "metadata": {
        "id": "tTyoU9SNJVlv"
      },
      "source": [
        "### Analyze Unit Prices of our items"
      ]
    },
    {
      "cell_type": "code",
      "metadata": {
        "id": "mV0j8JhPjPvE",
        "colab": {
          "base_uri": "https://localhost:8080/"
        },
        "outputId": "30987058-9bb5-4c3e-8174-d4347d142463"
      },
      "source": [
        "df2.UnitPrice.describe()"
      ],
      "execution_count": 40,
      "outputs": [
        {
          "output_type": "execute_result",
          "data": {
            "text/plain": [
              "count    199005.000000\n",
              "mean          3.166517\n",
              "std          27.169379\n",
              "min           0.000000\n",
              "25%           1.250000\n",
              "50%           1.950000\n",
              "75%           3.750000\n",
              "max        8142.750000\n",
              "Name: UnitPrice, dtype: float64"
            ]
          },
          "metadata": {
            "tags": []
          },
          "execution_count": 40
        }
      ]
    },
    {
      "cell_type": "code",
      "metadata": {
        "id": "PK0xWaISjPvG",
        "colab": {
          "base_uri": "https://localhost:8080/",
          "height": 394
        },
        "outputId": "733bfc34-867b-4391-e4c5-92ad14d50d6a"
      },
      "source": [
        "# check the distribution of unit price\n",
        "plt.subplots(figsize=(12,6))\n",
        "sns.boxplot(df2.UnitPrice)\n",
        "plt.show()"
      ],
      "execution_count": 41,
      "outputs": [
        {
          "output_type": "display_data",
          "data": {
            "image/png": "[encoded data removed]",
            "text/plain": [
              "<Figure size 864x432 with 1 Axes>"
            ]
          },
          "metadata": {
            "tags": []
          }
        }
      ]
    },
    {
      "cell_type": "code",
      "metadata": {
        "id": "K0TeWRq7jPvJ",
        "colab": {
          "base_uri": "https://localhost:8080/",
          "height": 450
        },
        "outputId": "d739d084-7b8d-45b1-fc1b-b059b3707f0d"
      },
      "source": [
        "# What are the free items\n",
        "df_free = df2[df2.UnitPrice == 0]\n",
        "print(len(df_free))\n",
        "df_free.head()"
      ],
      "execution_count": 42,
      "outputs": [
        {
          "output_type": "stream",
          "text": [
            "19\n"
          ],
          "name": "stdout"
        },
        {
          "output_type": "execute_result",
          "data": {
            "text/html": [
              "<div>\n",
              "<style scoped>\n",
              "    .dataframe tbody tr th:only-of-type {\n",
              "        vertical-align: middle;\n",
              "    }\n",
              "\n",
              "    .dataframe tbody tr th {\n",
              "        vertical-align: top;\n",
              "    }\n",
              "\n",
              "    .dataframe thead th {\n",
              "        text-align: right;\n",
              "    }\n",
              "</style>\n",
              "<table border=\"1\" class=\"dataframe\">\n",
              "  <thead>\n",
              "    <tr style=\"text-align: right;\">\n",
              "      <th></th>\n",
              "      <th>index</th>\n",
              "      <th>InvoiceNo</th>\n",
              "      <th>year_month</th>\n",
              "      <th>StockCode</th>\n",
              "      <th>Description</th>\n",
              "      <th>hour</th>\n",
              "      <th>Quantity</th>\n",
              "      <th>InvoiceDate</th>\n",
              "      <th>UnitPrice</th>\n",
              "      <th>CustomerID</th>\n",
              "      <th>Country</th>\n",
              "      <th>index_col</th>\n",
              "      <th>index_remain</th>\n",
              "      <th>AmountSpent</th>\n",
              "      <th>month_year</th>\n",
              "      <th>year</th>\n",
              "      <th>month</th>\n",
              "      <th>day</th>\n",
              "      <th>dayofweek</th>\n",
              "      <th>dayofyear</th>\n",
              "      <th>weekofyear</th>\n",
              "      <th>quarter</th>\n",
              "    </tr>\n",
              "  </thead>\n",
              "  <tbody>\n",
              "    <tr>\n",
              "      <th>9302</th>\n",
              "      <td>9302</td>\n",
              "      <td>537197</td>\n",
              "      <td>201012</td>\n",
              "      <td>22841</td>\n",
              "      <td>ROUND CAKE TIN VINTAGE GREEN</td>\n",
              "      <td>14</td>\n",
              "      <td>1</td>\n",
              "      <td>2010-12-05 14:02:00</td>\n",
              "      <td>0.0</td>\n",
              "      <td>12647</td>\n",
              "      <td>Germany</td>\n",
              "      <td>9302</td>\n",
              "      <td>0</td>\n",
              "      <td>0.0</td>\n",
              "      <td>2010-12</td>\n",
              "      <td>2010</td>\n",
              "      <td>12</td>\n",
              "      <td>5</td>\n",
              "      <td>7</td>\n",
              "      <td>339</td>\n",
              "      <td>48</td>\n",
              "      <td>4</td>\n",
              "    </tr>\n",
              "    <tr>\n",
              "      <th>33576</th>\n",
              "      <td>33576</td>\n",
              "      <td>539263</td>\n",
              "      <td>201012</td>\n",
              "      <td>22580</td>\n",
              "      <td>ADVENT CALENDAR GINGHAM SACK</td>\n",
              "      <td>14</td>\n",
              "      <td>4</td>\n",
              "      <td>2010-12-16 14:36:00</td>\n",
              "      <td>0.0</td>\n",
              "      <td>16560</td>\n",
              "      <td>United Kingdom</td>\n",
              "      <td>33576</td>\n",
              "      <td>0</td>\n",
              "      <td>0.0</td>\n",
              "      <td>2010-12</td>\n",
              "      <td>2010</td>\n",
              "      <td>12</td>\n",
              "      <td>16</td>\n",
              "      <td>4</td>\n",
              "      <td>350</td>\n",
              "      <td>50</td>\n",
              "      <td>4</td>\n",
              "    </tr>\n",
              "    <tr>\n",
              "      <th>47068</th>\n",
              "      <td>47068</td>\n",
              "      <td>540372</td>\n",
              "      <td>201101</td>\n",
              "      <td>22090</td>\n",
              "      <td>PAPER BUNTING RETROSPOT</td>\n",
              "      <td>16</td>\n",
              "      <td>24</td>\n",
              "      <td>2011-01-06 16:41:00</td>\n",
              "      <td>0.0</td>\n",
              "      <td>13081</td>\n",
              "      <td>United Kingdom</td>\n",
              "      <td>47068</td>\n",
              "      <td>0</td>\n",
              "      <td>0.0</td>\n",
              "      <td>2011-01</td>\n",
              "      <td>2011</td>\n",
              "      <td>1</td>\n",
              "      <td>6</td>\n",
              "      <td>4</td>\n",
              "      <td>6</td>\n",
              "      <td>1</td>\n",
              "      <td>1</td>\n",
              "    </tr>\n",
              "    <tr>\n",
              "      <th>47070</th>\n",
              "      <td>47070</td>\n",
              "      <td>540372</td>\n",
              "      <td>201101</td>\n",
              "      <td>22553</td>\n",
              "      <td>PLASTERS IN TIN SKULLS</td>\n",
              "      <td>16</td>\n",
              "      <td>24</td>\n",
              "      <td>2011-01-06 16:41:00</td>\n",
              "      <td>0.0</td>\n",
              "      <td>13081</td>\n",
              "      <td>United Kingdom</td>\n",
              "      <td>47070</td>\n",
              "      <td>0</td>\n",
              "      <td>0.0</td>\n",
              "      <td>2011-01</td>\n",
              "      <td>2011</td>\n",
              "      <td>1</td>\n",
              "      <td>6</td>\n",
              "      <td>4</td>\n",
              "      <td>6</td>\n",
              "      <td>1</td>\n",
              "      <td>1</td>\n",
              "    </tr>\n",
              "    <tr>\n",
              "      <th>56674</th>\n",
              "      <td>56674</td>\n",
              "      <td>541109</td>\n",
              "      <td>201101</td>\n",
              "      <td>22168</td>\n",
              "      <td>ORGANISER WOOD ANTIQUE WHITE</td>\n",
              "      <td>15</td>\n",
              "      <td>1</td>\n",
              "      <td>2011-01-13 15:10:00</td>\n",
              "      <td>0.0</td>\n",
              "      <td>15107</td>\n",
              "      <td>United Kingdom</td>\n",
              "      <td>56674</td>\n",
              "      <td>0</td>\n",
              "      <td>0.0</td>\n",
              "      <td>2011-01</td>\n",
              "      <td>2011</td>\n",
              "      <td>1</td>\n",
              "      <td>13</td>\n",
              "      <td>4</td>\n",
              "      <td>13</td>\n",
              "      <td>2</td>\n",
              "      <td>1</td>\n",
              "    </tr>\n",
              "  </tbody>\n",
              "</table>\n",
              "</div>"
            ],
            "text/plain": [
              "       index InvoiceNo  year_month  ... dayofyear weekofyear  quarter\n",
              "9302    9302    537197      201012  ...       339         48        4\n",
              "33576  33576    539263      201012  ...       350         50        4\n",
              "47068  47068    540372      201101  ...         6          1        1\n",
              "47070  47070    540372      201101  ...         6          1        1\n",
              "56674  56674    541109      201101  ...        13          2        1\n",
              "\n",
              "[5 rows x 22 columns]"
            ]
          },
          "metadata": {
            "tags": []
          },
          "execution_count": 42
        }
      ]
    },
    {
      "cell_type": "code",
      "metadata": {
        "id": "B0A81-6qjPvM",
        "colab": {
          "base_uri": "https://localhost:8080/"
        },
        "outputId": "1b7d8747-f76b-4817-d1ea-2e9300b3f293"
      },
      "source": [
        "# See when these free items were given out\n",
        "df_free.year_month.value_counts().sort_index()"
      ],
      "execution_count": 43,
      "outputs": [
        {
          "output_type": "execute_result",
          "data": {
            "text/plain": [
              "201012    2\n",
              "201101    3\n",
              "201103    1\n",
              "201104    2\n",
              "201107    2\n",
              "201108    3\n",
              "201110    1\n",
              "201111    5\n",
              "Name: year_month, dtype: int64"
            ]
          },
          "metadata": {
            "tags": []
          },
          "execution_count": 43
        }
      ]
    },
    {
      "cell_type": "code",
      "metadata": {
        "id": "ryeCfydCjPvO",
        "colab": {
          "base_uri": "https://localhost:8080/",
          "height": 417
        },
        "outputId": "7b6f54f5-a0f6-42ea-d0a3-fedbf6f26107"
      },
      "source": [
        "# Ploting the above data\n",
        "ax = df_free.year_month.value_counts().sort_index().plot(kind = 'bar',figsize=(12,6))\n",
        "ax.set_xlabel('Month',fontsize=15)\n",
        "ax.set_ylabel('Frequency',fontsize=15)\n",
        "ax.set_title('Frequency for different Months (Dec 2010 - Dec 2011)',fontsize=15)\n",
        "ax.set_xticklabels(('Dec_10','Jan_11','Feb_11','Mar_11','Apr_11','May_11','July_11','Aug_11','Sep_11','Oct_11','Nov_11'), rotation='horizontal', fontsize=13)\n",
        "plt.show()"
      ],
      "execution_count": 44,
      "outputs": [
        {
          "output_type": "display_data",
          "data": {
            "image/png": "[encoded data removed]",
            "text/plain": [
              "<Figure size 864x432 with 1 Axes>"
            ]
          },
          "metadata": {
            "tags": []
          }
        }
      ]
    },
    {
      "cell_type": "markdown",
      "metadata": {
        "id": "zZtX5E3mJsae"
      },
      "source": [
        "On average, the company gave out 2-4 times FREE items to customers each month (Except in June 2011)"
      ]
    },
    {
      "cell_type": "markdown",
      "metadata": {
        "id": "xuAU4H--Jv7e"
      },
      "source": [
        "### Analysis per Country"
      ]
    },
    {
      "cell_type": "code",
      "metadata": {
        "id": "2olzi8uDjPvZ",
        "colab": {
          "base_uri": "https://localhost:8080/",
          "height": 521
        },
        "outputId": "13e921f4-9c71-4504-b632-f00624617953"
      },
      "source": [
        "group_country_orders = df2.groupby('Country')['InvoiceDate'].count().sort_values()\n",
        "\n",
        "# plot number of unique customers in each country (with UK)\n",
        "plt.subplots(figsize=(15,8))\n",
        "group_country_orders.plot(kind = 'barh', fontsize=12)\n",
        "plt.xlabel('Number of Orders', fontsize=12)\n",
        "plt.ylabel('Country', fontsize=12)\n",
        "plt.title('Number of Orders for different Countries', fontsize=12)\n",
        "plt.show()"
      ],
      "execution_count": 45,
      "outputs": [
        {
          "output_type": "display_data",
          "data": {
            "image/png": "[encoded data removed]",
            "text/plain": [
              "<Figure size 1080x576 with 1 Axes>"
            ]
          },
          "metadata": {
            "tags": []
          }
        }
      ]
    },
    {
      "cell_type": "code",
      "metadata": {
        "id": "hhDCh-XAjPvc",
        "colab": {
          "base_uri": "https://localhost:8080/",
          "height": 521
        },
        "outputId": "7cbca6f5-c7e2-4c9f-be3f-de61071d6774"
      },
      "source": [
        "# Excluding UK now\n",
        "\n",
        "group_country_orders = df2.groupby('Country')['InvoiceDate'].count().sort_values()\n",
        "group_country_orders_without_uk = group_country_orders.copy()\n",
        "del group_country_orders_without_uk['United Kingdom']\n",
        "\n",
        "# plot number of unique customers in each country (without UK)\n",
        "plt.subplots(figsize=(15,8))\n",
        "group_country_orders_without_uk.plot(kind ='barh', fontsize=12)\n",
        "plt.xlabel('Number of Orders', fontsize=12)\n",
        "plt.ylabel('Country', fontsize=12)\n",
        "plt.title('Number of Orders for different Countries', fontsize=12)\n",
        "plt.show()"
      ],
      "execution_count": 46,
      "outputs": [
        {
          "output_type": "display_data",
          "data": {
            "image/png": "[encoded data removed]",
            "text/plain": [
              "<Figure size 1080x576 with 1 Axes>"
            ]
          },
          "metadata": {
            "tags": []
          }
        }
      ]
    },
    {
      "cell_type": "code",
      "metadata": {
        "id": "_VBm0GdEjPvf",
        "colab": {
          "base_uri": "https://localhost:8080/",
          "height": 521
        },
        "outputId": "e278ad7a-c7fa-4949-8518-07d2da73ac9d"
      },
      "source": [
        "# Amount spent by each country (without UK)\n",
        "group_country_amount_spent = df2.groupby('Country')['AmountSpent'].sum().sort_values()\n",
        "del group_country_amount_spent['United Kingdom']\n",
        "\n",
        "# plot total money spent by each country (without UK)\n",
        "plt.subplots(figsize=(15,8))\n",
        "group_country_amount_spent.plot(kind = 'barh', fontsize=12)\n",
        "plt.xlabel('Money Spent (Dollar)', fontsize=12)\n",
        "plt.ylabel('Country', fontsize=12)\n",
        "plt.title('Money Spent by different Countries', fontsize=12)\n",
        "plt.show()"
      ],
      "execution_count": 47,
      "outputs": [
        {
          "output_type": "display_data",
          "data": {
            "image/png": "[encoded data removed]",
            "text/plain": [
              "<Figure size 1080x576 with 1 Axes>"
            ]
          },
          "metadata": {
            "tags": []
          }
        }
      ]
    },
    {
      "cell_type": "markdown",
      "metadata": {
        "id": "BRCl9TXbjPvj"
      },
      "source": [
        "## Repeat Customers"
      ]
    },
    {
      "cell_type": "code",
      "metadata": {
        "id": "f6u-5DL_jPvk",
        "colab": {
          "base_uri": "https://localhost:8080/"
        },
        "outputId": "01075792-c998-46c5-ef6d-097a54d30db4"
      },
      "source": [
        "# Get our date range for our data\n",
        "print('Date Range: %s to %s' % (df2['InvoiceDate'].min(), df2['InvoiceDate'].max()))\n",
        "\n",
        "# Since Our data ends at Nov-30 2011, we're taking all of the transactions that occurred before December 01, 2011 \n",
        "df2 = df2.loc[df2['InvoiceDate'] < '2011-12-01']"
      ],
      "execution_count": 48,
      "outputs": [
        {
          "output_type": "stream",
          "text": [
            "Date Range: 2010-12-01 08:26:00 to 2011-12-09 12:50:00\n"
          ],
          "name": "stdout"
        }
      ]
    },
    {
      "cell_type": "code",
      "metadata": {
        "id": "NfoYCVJLjPvl",
        "colab": {
          "base_uri": "https://localhost:8080/",
          "height": 195
        },
        "outputId": "cd9a2b9c-a8bc-4b7f-bc3e-35ab967cf9cd"
      },
      "source": [
        "# Get total amount spent per invoice and associate it with CustomerID and Country\n",
        "invoice_customer_df = df2.groupby(by=['InvoiceNo', 'InvoiceDate']).agg({'AmountSpent': sum, 'CustomerID': max,'Country': max,}).reset_index()\n",
        "invoice_customer_df.head()"
      ],
      "execution_count": 49,
      "outputs": [
        {
          "output_type": "execute_result",
          "data": {
            "text/html": [
              "<div>\n",
              "<style scoped>\n",
              "    .dataframe tbody tr th:only-of-type {\n",
              "        vertical-align: middle;\n",
              "    }\n",
              "\n",
              "    .dataframe tbody tr th {\n",
              "        vertical-align: top;\n",
              "    }\n",
              "\n",
              "    .dataframe thead th {\n",
              "        text-align: right;\n",
              "    }\n",
              "</style>\n",
              "<table border=\"1\" class=\"dataframe\">\n",
              "  <thead>\n",
              "    <tr style=\"text-align: right;\">\n",
              "      <th></th>\n",
              "      <th>InvoiceNo</th>\n",
              "      <th>InvoiceDate</th>\n",
              "      <th>AmountSpent</th>\n",
              "      <th>CustomerID</th>\n",
              "      <th>Country</th>\n",
              "    </tr>\n",
              "  </thead>\n",
              "  <tbody>\n",
              "    <tr>\n",
              "      <th>0</th>\n",
              "      <td>536365</td>\n",
              "      <td>2010-12-01 08:26:00</td>\n",
              "      <td>83.14</td>\n",
              "      <td>17850</td>\n",
              "      <td>United Kingdom</td>\n",
              "    </tr>\n",
              "    <tr>\n",
              "      <th>1</th>\n",
              "      <td>536366</td>\n",
              "      <td>2010-12-01 08:28:00</td>\n",
              "      <td>11.10</td>\n",
              "      <td>17850</td>\n",
              "      <td>United Kingdom</td>\n",
              "    </tr>\n",
              "    <tr>\n",
              "      <th>2</th>\n",
              "      <td>536367</td>\n",
              "      <td>2010-12-01 08:34:00</td>\n",
              "      <td>137.65</td>\n",
              "      <td>13047</td>\n",
              "      <td>United Kingdom</td>\n",
              "    </tr>\n",
              "    <tr>\n",
              "      <th>3</th>\n",
              "      <td>536368</td>\n",
              "      <td>2010-12-01 08:34:00</td>\n",
              "      <td>29.70</td>\n",
              "      <td>13047</td>\n",
              "      <td>United Kingdom</td>\n",
              "    </tr>\n",
              "    <tr>\n",
              "      <th>4</th>\n",
              "      <td>536370</td>\n",
              "      <td>2010-12-01 08:45:00</td>\n",
              "      <td>419.48</td>\n",
              "      <td>12583</td>\n",
              "      <td>France</td>\n",
              "    </tr>\n",
              "  </tbody>\n",
              "</table>\n",
              "</div>"
            ],
            "text/plain": [
              "  InvoiceNo         InvoiceDate  AmountSpent  CustomerID         Country\n",
              "0    536365 2010-12-01 08:26:00        83.14       17850  United Kingdom\n",
              "1    536366 2010-12-01 08:28:00        11.10       17850  United Kingdom\n",
              "2    536367 2010-12-01 08:34:00       137.65       13047  United Kingdom\n",
              "3    536368 2010-12-01 08:34:00        29.70       13047  United Kingdom\n",
              "4    536370 2010-12-01 08:45:00       419.48       12583          France"
            ]
          },
          "metadata": {
            "tags": []
          },
          "execution_count": 49
        }
      ]
    },
    {
      "cell_type": "code",
      "metadata": {
        "id": "6P9_gNO2jPvn",
        "colab": {
          "base_uri": "https://localhost:8080/",
          "height": 343
        },
        "outputId": "7ca1ddf5-5244-43f3-95da-37057ed334a7"
      },
      "source": [
        "# Sort on Amount spent, this gives us the largest invoices\n",
        "invoice_customer_df.sort_values(by='AmountSpent', ascending=False).head(10)"
      ],
      "execution_count": 50,
      "outputs": [
        {
          "output_type": "execute_result",
          "data": {
            "text/html": [
              "<div>\n",
              "<style scoped>\n",
              "    .dataframe tbody tr th:only-of-type {\n",
              "        vertical-align: middle;\n",
              "    }\n",
              "\n",
              "    .dataframe tbody tr th {\n",
              "        vertical-align: top;\n",
              "    }\n",
              "\n",
              "    .dataframe thead th {\n",
              "        text-align: right;\n",
              "    }\n",
              "</style>\n",
              "<table border=\"1\" class=\"dataframe\">\n",
              "  <thead>\n",
              "    <tr style=\"text-align: right;\">\n",
              "      <th></th>\n",
              "      <th>InvoiceNo</th>\n",
              "      <th>InvoiceDate</th>\n",
              "      <th>AmountSpent</th>\n",
              "      <th>CustomerID</th>\n",
              "      <th>Country</th>\n",
              "    </tr>\n",
              "  </thead>\n",
              "  <tbody>\n",
              "    <tr>\n",
              "      <th>7625</th>\n",
              "      <td>556444</td>\n",
              "      <td>2011-06-10 15:28:00</td>\n",
              "      <td>38970.00</td>\n",
              "      <td>15098</td>\n",
              "      <td>United Kingdom</td>\n",
              "    </tr>\n",
              "    <tr>\n",
              "      <th>5258</th>\n",
              "      <td>550461</td>\n",
              "      <td>2011-04-18 13:20:00</td>\n",
              "      <td>15425.90</td>\n",
              "      <td>15749</td>\n",
              "      <td>United Kingdom</td>\n",
              "    </tr>\n",
              "    <tr>\n",
              "      <th>7804</th>\n",
              "      <td>556917</td>\n",
              "      <td>2011-06-15 13:37:00</td>\n",
              "      <td>11839.95</td>\n",
              "      <td>12415</td>\n",
              "      <td>Australia</td>\n",
              "    </tr>\n",
              "    <tr>\n",
              "      <th>11936</th>\n",
              "      <td>567423</td>\n",
              "      <td>2011-09-20 11:05:00</td>\n",
              "      <td>11254.52</td>\n",
              "      <td>17450</td>\n",
              "      <td>United Kingdom</td>\n",
              "    </tr>\n",
              "    <tr>\n",
              "      <th>11928</th>\n",
              "      <td>567381</td>\n",
              "      <td>2011-09-20 10:12:00</td>\n",
              "      <td>10195.36</td>\n",
              "      <td>17450</td>\n",
              "      <td>United Kingdom</td>\n",
              "    </tr>\n",
              "    <tr>\n",
              "      <th>13899</th>\n",
              "      <td>572209</td>\n",
              "      <td>2011-10-21 12:08:00</td>\n",
              "      <td>9855.00</td>\n",
              "      <td>18102</td>\n",
              "      <td>United Kingdom</td>\n",
              "    </tr>\n",
              "    <tr>\n",
              "      <th>531</th>\n",
              "      <td>537659</td>\n",
              "      <td>2010-12-07 16:43:00</td>\n",
              "      <td>9827.36</td>\n",
              "      <td>18102</td>\n",
              "      <td>United Kingdom</td>\n",
              "    </tr>\n",
              "    <tr>\n",
              "      <th>13814</th>\n",
              "      <td>572035</td>\n",
              "      <td>2011-10-20 12:03:00</td>\n",
              "      <td>9800.24</td>\n",
              "      <td>14646</td>\n",
              "      <td>Netherlands</td>\n",
              "    </tr>\n",
              "    <tr>\n",
              "      <th>10424</th>\n",
              "      <td>563614</td>\n",
              "      <td>2011-08-18 08:51:00</td>\n",
              "      <td>9787.60</td>\n",
              "      <td>12415</td>\n",
              "      <td>Australia</td>\n",
              "    </tr>\n",
              "    <tr>\n",
              "      <th>3356</th>\n",
              "      <td>545475</td>\n",
              "      <td>2011-03-03 10:59:00</td>\n",
              "      <td>9133.40</td>\n",
              "      <td>12415</td>\n",
              "      <td>Australia</td>\n",
              "    </tr>\n",
              "  </tbody>\n",
              "</table>\n",
              "</div>"
            ],
            "text/plain": [
              "      InvoiceNo         InvoiceDate  AmountSpent  CustomerID         Country\n",
              "7625     556444 2011-06-10 15:28:00     38970.00       15098  United Kingdom\n",
              "5258     550461 2011-04-18 13:20:00     15425.90       15749  United Kingdom\n",
              "7804     556917 2011-06-15 13:37:00     11839.95       12415       Australia\n",
              "11936    567423 2011-09-20 11:05:00     11254.52       17450  United Kingdom\n",
              "11928    567381 2011-09-20 10:12:00     10195.36       17450  United Kingdom\n",
              "13899    572209 2011-10-21 12:08:00      9855.00       18102  United Kingdom\n",
              "531      537659 2010-12-07 16:43:00      9827.36       18102  United Kingdom\n",
              "13814    572035 2011-10-20 12:03:00      9800.24       14646     Netherlands\n",
              "10424    563614 2011-08-18 08:51:00      9787.60       12415       Australia\n",
              "3356     545475 2011-03-03 10:59:00      9133.40       12415       Australia"
            ]
          },
          "metadata": {
            "tags": []
          },
          "execution_count": 50
        }
      ]
    },
    {
      "cell_type": "code",
      "metadata": {
        "id": "_8W2JBCbjPvo",
        "colab": {
          "base_uri": "https://localhost:8080/"
        },
        "outputId": "26b411b3-2fba-46c1-d82b-59d71a4a137b"
      },
      "source": [
        "# We set our index to our invoice date\n",
        "# And use Grouper(freq='M') groups data by the index 'InvoiceDate' by Month\n",
        "# We then group this data by CustomerID and count the number of unique repeat customers for that month (data is the month end date)\n",
        "# The filter fucntion allows us to subselect data by the rule in our lambda function i.e. those greater than 1 (repeat customers)\n",
        "\n",
        "monthly_repeat_customers_df = invoice_customer_df.set_index('InvoiceDate').groupby([\n",
        "  pd.Grouper(freq='M'), 'CustomerID']).filter(lambda x: len(x) > 1).resample('M').nunique()['CustomerID']\n",
        "\n",
        "monthly_repeat_customers_df"
      ],
      "execution_count": 51,
      "outputs": [
        {
          "output_type": "execute_result",
          "data": {
            "text/plain": [
              "InvoiceDate\n",
              "2010-12-31    238\n",
              "2011-01-31    140\n",
              "2011-02-28    143\n",
              "2011-03-31    188\n",
              "2011-04-30    153\n",
              "2011-05-31    258\n",
              "2011-06-30    207\n",
              "2011-07-31    210\n",
              "2011-08-31    177\n",
              "2011-09-30    250\n",
              "2011-10-31    293\n",
              "2011-11-30    517\n",
              "Freq: M, Name: CustomerID, dtype: int64"
            ]
          },
          "metadata": {
            "tags": []
          },
          "execution_count": 51
        }
      ]
    },
    {
      "cell_type": "code",
      "metadata": {
        "id": "6LIGb18MjPvq",
        "colab": {
          "base_uri": "https://localhost:8080/"
        },
        "outputId": "87b72d96-5cf8-4f64-c28b-f04ec4ebf6e6"
      },
      "source": [
        "# Number of Unique customers per month\n",
        "monthly_unique_customers_df = df2.set_index('InvoiceDate')['CustomerID'].resample('M').nunique()\n",
        "monthly_unique_customers_df"
      ],
      "execution_count": 52,
      "outputs": [
        {
          "output_type": "execute_result",
          "data": {
            "text/plain": [
              "InvoiceDate\n",
              "2010-12-31     868\n",
              "2011-01-31     727\n",
              "2011-02-28     743\n",
              "2011-03-31     959\n",
              "2011-04-30     844\n",
              "2011-05-31    1041\n",
              "2011-06-30     972\n",
              "2011-07-31     937\n",
              "2011-08-31     916\n",
              "2011-09-30    1247\n",
              "2011-10-31    1350\n",
              "2011-11-30    1646\n",
              "Freq: M, Name: CustomerID, dtype: int64"
            ]
          },
          "metadata": {
            "tags": []
          },
          "execution_count": 52
        }
      ]
    },
    {
      "cell_type": "code",
      "metadata": {
        "id": "Gl5MC28sjPvt",
        "colab": {
          "base_uri": "https://localhost:8080/"
        },
        "outputId": "501a48ad-0797-4789-b52f-88b8982c3435"
      },
      "source": [
        "# Ratio of Repeat to Unique customers\n",
        "monthly_repeat_percentage = monthly_repeat_customers_df/monthly_unique_customers_df*100.0\n",
        "monthly_repeat_percentage"
      ],
      "execution_count": 53,
      "outputs": [
        {
          "output_type": "execute_result",
          "data": {
            "text/plain": [
              "InvoiceDate\n",
              "2010-12-31    27.419355\n",
              "2011-01-31    19.257221\n",
              "2011-02-28    19.246299\n",
              "2011-03-31    19.603754\n",
              "2011-04-30    18.127962\n",
              "2011-05-31    24.783862\n",
              "2011-06-30    21.296296\n",
              "2011-07-31    22.411953\n",
              "2011-08-31    19.323144\n",
              "2011-09-30    20.048115\n",
              "2011-10-31    21.703704\n",
              "2011-11-30    31.409478\n",
              "Freq: M, Name: CustomerID, dtype: float64"
            ]
          },
          "metadata": {
            "tags": []
          },
          "execution_count": 53
        }
      ]
    },
    {
      "cell_type": "code",
      "metadata": {
        "id": "IJDHDPlAjPvu",
        "colab": {
          "base_uri": "https://localhost:8080/",
          "height": 554
        },
        "outputId": "70389f7e-8129-4b76-c134-458874967070"
      },
      "source": [
        "# Plotting this visually\n",
        "# Note we're using a 2 scale y axis (left and right)\n",
        "\n",
        "ax = pd.DataFrame(monthly_repeat_customers_df.values).plot(figsize=(12,8))\n",
        "\n",
        "pd.DataFrame(monthly_unique_customers_df.values).plot(ax=ax,grid=True)\n",
        "\n",
        "ax2 = pd.DataFrame(monthly_repeat_percentage.values).plot.bar(ax=ax,grid=True,secondary_y=True,color='blue',alpha=0.3)\n",
        "\n",
        "ax.set_xlabel('Date')\n",
        "ax.set_ylabel('Number of Customers')\n",
        "ax.set_title('Number of Unique vs. Repeat Customers Over Time')\n",
        "\n",
        "ax2.set_ylabel('percentage (%)')\n",
        "\n",
        "ax.legend(['Repeat Customers', 'All Customers'])\n",
        "ax2.legend(['Percentage of Repeat'], loc='upper right')\n",
        "\n",
        "ax.set_ylim([0, monthly_unique_customers_df.values.max()+100])\n",
        "ax2.set_ylim([0, 100])\n",
        "\n",
        "plt.xticks(range(len(monthly_repeat_customers_df.index)), [x.strftime('%m.%Y') for x in monthly_repeat_customers_df.index], rotation=45)\n",
        "\n",
        "plt.show()"
      ],
      "execution_count": 54,
      "outputs": [
        {
          "output_type": "display_data",
          "data": {
            "image/png": "[encoded data removed]",
            "text/plain": [
              "<Figure size 864x576 with 2 Axes>"
            ]
          },
          "metadata": {
            "tags": []
          }
        }
      ]
    },
    {
      "cell_type": "code",
      "metadata": {
        "id": "B3-fCEdEjPvw",
        "colab": {
          "base_uri": "https://localhost:8080/"
        },
        "outputId": "2305f651-83b9-493f-b78f-88836b93a847"
      },
      "source": [
        "# Let's investigate the relationship between revenue and repeat customers\n",
        "monthly_revenue_df = df2.set_index('InvoiceDate')['AmountSpent'].resample('M').sum()\n",
        "\n",
        "monthly_rev_repeat_customers_df = invoice_customer_df.set_index('InvoiceDate').groupby([\n",
        "    pd.Grouper(freq='M'), 'CustomerID']).filter(lambda x: len(x) > 1).resample('M').sum()['AmountSpent']\n",
        "\n",
        "# Let's get a percentage of the revenue from repeat customers to the overall monthly revenue\n",
        "monthly_rev_perc_repeat_customers_df = monthly_rev_repeat_customers_df/monthly_revenue_df * 100.0\n",
        "monthly_rev_perc_repeat_customers_df"
      ],
      "execution_count": 55,
      "outputs": [
        {
          "output_type": "execute_result",
          "data": {
            "text/plain": [
              "InvoiceDate\n",
              "2010-12-31    60.526544\n",
              "2011-01-31    42.882454\n",
              "2011-02-28    38.490585\n",
              "2011-03-31    42.465432\n",
              "2011-04-30    39.224926\n",
              "2011-05-31    54.786305\n",
              "2011-06-30    58.956696\n",
              "2011-07-31    51.645633\n",
              "2011-08-31    46.398193\n",
              "2011-09-30    50.596348\n",
              "2011-10-31    51.218138\n",
              "2011-11-30    60.855442\n",
              "Freq: M, Name: AmountSpent, dtype: float64"
            ]
          },
          "metadata": {
            "tags": []
          },
          "execution_count": 55
        }
      ]
    },
    {
      "cell_type": "code",
      "metadata": {
        "id": "tJSJFxgWjPvy",
        "colab": {
          "base_uri": "https://localhost:8080/",
          "height": 518
        },
        "outputId": "aa0e9446-ea2e-40da-b4e2-e9863cf8199e"
      },
      "source": [
        "# Now let's plot this information we obtained above\n",
        "ax = pd.DataFrame(monthly_revenue_df.values).plot(figsize=(12,8))\n",
        "\n",
        "pd.DataFrame(monthly_rev_repeat_customers_df.values).plot(ax=ax,grid=True,)\n",
        "\n",
        "ax.set_xlabel('date')\n",
        "ax.set_ylabel('sales')\n",
        "ax.set_title('Total Revenue vs. Revenue from Repeat Customers')\n",
        "\n",
        "ax.legend(['Total Revenue', 'Repeat Customer Revenue'])\n",
        "\n",
        "ax.set_ylim([0, max(monthly_revenue_df.values)+100000])\n",
        "\n",
        "ax2 = ax.twinx()\n",
        "\n",
        "pd.DataFrame(monthly_rev_perc_repeat_customers_df.values).plot(ax=ax2,kind='bar',color='blue',alpha=0.3)\n",
        "\n",
        "ax2.set_ylim([0, max(monthly_rev_perc_repeat_customers_df.values)+30])\n",
        "ax2.set_ylabel('percentage (%)')\n",
        "ax2.legend(['Repeat Revenue Percentage'])\n",
        "\n",
        "ax2.set_xticklabels([x.strftime('%m.%Y') for x in monthly_rev_perc_repeat_customers_df.index])\n",
        "\n",
        "plt.show()"
      ],
      "execution_count": 56,
      "outputs": [
        {
          "output_type": "display_data",
          "data": {
            "image/png": "[encoded data removed]",
            "text/plain": [
              "<Figure size 864x576 with 2 Axes>"
            ]
          },
          "metadata": {
            "tags": []
          }
        }
      ]
    },
    {
      "cell_type": "markdown",
      "metadata": {
        "id": "0ERRj6jUjPvz"
      },
      "source": [
        "# Item Trends\n",
        "\n",
        "Let's count the number of items sold for each product for each period."
      ]
    },
    {
      "cell_type": "code",
      "metadata": {
        "id": "tu2svLMZjPvz",
        "colab": {
          "base_uri": "https://localhost:8080/"
        },
        "outputId": "f05ba1cd-9c5e-4cc2-8ee0-9ee0254462e6"
      },
      "source": [
        "# Now let's get quantity of each item sold per month\n",
        "date_item_df = df2.set_index('InvoiceDate').groupby([pd.Grouper(freq='M'), 'StockCode'])['Quantity'].sum()\n",
        "\n",
        "date_item_df.head(15)"
      ],
      "execution_count": 57,
      "outputs": [
        {
          "output_type": "execute_result",
          "data": {
            "text/plain": [
              "InvoiceDate  StockCode\n",
              "2010-12-31   10002        106\n",
              "             10120         15\n",
              "             10124A         4\n",
              "             10125        101\n",
              "             10133         93\n",
              "             10135        232\n",
              "             11001         48\n",
              "             15034          1\n",
              "             15036         84\n",
              "             15039         15\n",
              "             15044A         6\n",
              "             15044C         1\n",
              "             15056BL       45\n",
              "             15056N        66\n",
              "             15056P        16\n",
              "Name: Quantity, dtype: int64"
            ]
          },
          "metadata": {
            "tags": []
          },
          "execution_count": 57
        }
      ]
    },
    {
      "cell_type": "code",
      "metadata": {
        "id": "2XIs_gP6jPv1",
        "colab": {
          "base_uri": "https://localhost:8080/",
          "height": 343
        },
        "outputId": "182d8bc1-fd71-4c9c-b8af-27939509a5b5"
      },
      "source": [
        "# Rank items by the last month's sales\n",
        "last_month_sorted_df = date_item_df.loc['2011-11-30']\n",
        "last_month_sorted_df = last_month_sorted_df.reset_index()\n",
        "last_month_sorted_df.sort_values(by='Quantity', ascending=False).head(10)"
      ],
      "execution_count": 58,
      "outputs": [
        {
          "output_type": "execute_result",
          "data": {
            "text/html": [
              "<div>\n",
              "<style scoped>\n",
              "    .dataframe tbody tr th:only-of-type {\n",
              "        vertical-align: middle;\n",
              "    }\n",
              "\n",
              "    .dataframe tbody tr th {\n",
              "        vertical-align: top;\n",
              "    }\n",
              "\n",
              "    .dataframe thead th {\n",
              "        text-align: right;\n",
              "    }\n",
              "</style>\n",
              "<table border=\"1\" class=\"dataframe\">\n",
              "  <thead>\n",
              "    <tr style=\"text-align: right;\">\n",
              "      <th></th>\n",
              "      <th>InvoiceDate</th>\n",
              "      <th>StockCode</th>\n",
              "      <th>Quantity</th>\n",
              "    </tr>\n",
              "  </thead>\n",
              "  <tbody>\n",
              "    <tr>\n",
              "      <th>2228</th>\n",
              "      <td>2011-11-30</td>\n",
              "      <td>84826</td>\n",
              "      <td>12541</td>\n",
              "    </tr>\n",
              "    <tr>\n",
              "      <th>1470</th>\n",
              "      <td>2011-11-30</td>\n",
              "      <td>23084</td>\n",
              "      <td>4927</td>\n",
              "    </tr>\n",
              "    <tr>\n",
              "      <th>764</th>\n",
              "      <td>2011-11-30</td>\n",
              "      <td>22197</td>\n",
              "      <td>3567</td>\n",
              "    </tr>\n",
              "    <tr>\n",
              "      <th>2334</th>\n",
              "      <td>2011-11-30</td>\n",
              "      <td>85099B</td>\n",
              "      <td>3517</td>\n",
              "    </tr>\n",
              "    <tr>\n",
              "      <th>681</th>\n",
              "      <td>2011-11-30</td>\n",
              "      <td>22086</td>\n",
              "      <td>3367</td>\n",
              "    </tr>\n",
              "    <tr>\n",
              "      <th>18</th>\n",
              "      <td>2011-11-30</td>\n",
              "      <td>16014</td>\n",
              "      <td>3003</td>\n",
              "    </tr>\n",
              "    <tr>\n",
              "      <th>2476</th>\n",
              "      <td>2011-11-30</td>\n",
              "      <td>M</td>\n",
              "      <td>2870</td>\n",
              "    </tr>\n",
              "    <tr>\n",
              "      <th>1057</th>\n",
              "      <td>2011-11-30</td>\n",
              "      <td>22577</td>\n",
              "      <td>2650</td>\n",
              "    </tr>\n",
              "    <tr>\n",
              "      <th>1058</th>\n",
              "      <td>2011-11-30</td>\n",
              "      <td>22578</td>\n",
              "      <td>2476</td>\n",
              "    </tr>\n",
              "    <tr>\n",
              "      <th>588</th>\n",
              "      <td>2011-11-30</td>\n",
              "      <td>21915</td>\n",
              "      <td>2413</td>\n",
              "    </tr>\n",
              "  </tbody>\n",
              "</table>\n",
              "</div>"
            ],
            "text/plain": [
              "     InvoiceDate StockCode  Quantity\n",
              "2228  2011-11-30     84826     12541\n",
              "1470  2011-11-30     23084      4927\n",
              "764   2011-11-30     22197      3567\n",
              "2334  2011-11-30    85099B      3517\n",
              "681   2011-11-30     22086      3367\n",
              "18    2011-11-30     16014      3003\n",
              "2476  2011-11-30         M      2870\n",
              "1057  2011-11-30     22577      2650\n",
              "1058  2011-11-30     22578      2476\n",
              "588   2011-11-30     21915      2413"
            ]
          },
          "metadata": {
            "tags": []
          },
          "execution_count": 58
        }
      ]
    },
    {
      "cell_type": "code",
      "metadata": {
        "id": "1BWEFPmQjPv2",
        "colab": {
          "base_uri": "https://localhost:8080/"
        },
        "outputId": "f5806e2a-7964-413b-d9d7-85de8c764c93"
      },
      "source": [
        "# Let's look at the top 5 items sale per month \n",
        "\n",
        "date_item_df = df.loc[df['StockCode'].isin(['23084', '84826', '22197', '22086', '85099B'])].set_index('InvoiceDate').groupby([\n",
        "    pd.Grouper(freq='M'), 'StockCode'])['Quantity'].sum()\n",
        "\n",
        "date_item_df"
      ],
      "execution_count": 59,
      "outputs": [
        {
          "output_type": "execute_result",
          "data": {
            "text/plain": [
              "InvoiceDate  StockCode\n",
              "2010-12-31   22086         1482\n",
              "             22197         1327\n",
              "             84826           62\n",
              "             85099B         727\n",
              "2011-01-31   22086           18\n",
              "             22197         1145\n",
              "             84826          300\n",
              "             85099B        1965\n",
              "2011-02-28   22086            5\n",
              "             22197          947\n",
              "             84826           66\n",
              "             85099B        1277\n",
              "2011-03-31   22086           47\n",
              "             22197         1658\n",
              "             85099B        2150\n",
              "2011-04-30   22086          -28\n",
              "             22197         1204\n",
              "             84826            1\n",
              "             85099B        1515\n",
              "2011-05-31   22086           17\n",
              "             22197         1628\n",
              "             23084          432\n",
              "             85099B        1977\n",
              "2011-06-30   22086          325\n",
              "             22197         1359\n",
              "             23084          880\n",
              "             85099B        1653\n",
              "2011-07-31   22086          221\n",
              "             22197          802\n",
              "             23084           61\n",
              "             84826            2\n",
              "             85099B        1446\n",
              "2011-08-31   22086          243\n",
              "             22197         1277\n",
              "             23084          607\n",
              "             84826           60\n",
              "             85099B        3150\n",
              "2011-09-30   22086          897\n",
              "             22197         1570\n",
              "             23084         -327\n",
              "             85099B        2263\n",
              "2011-10-31   22086          972\n",
              "             22197         4434\n",
              "             23084         2043\n",
              "             84826            1\n",
              "             85099B        1167\n",
              "2011-11-30   22086         5147\n",
              "             22197         5139\n",
              "             23084         5942\n",
              "             84826        12541\n",
              "             85099B        3675\n",
              "2011-12-31   22086         1016\n",
              "             22197         3634\n",
              "             23084         3228\n",
              "             85099B         601\n",
              "Name: Quantity, dtype: int64"
            ]
          },
          "metadata": {
            "tags": []
          },
          "execution_count": 59
        }
      ]
    },
    {
      "cell_type": "code",
      "metadata": {
        "id": "8yZ9rRjCjPv4",
        "colab": {
          "base_uri": "https://localhost:8080/",
          "height": 462
        },
        "outputId": "db79f203-7850-4bcf-9ee4-1f888c068430"
      },
      "source": [
        "# Now let's generate a monthly trend of each of the top 5 items\n",
        "trending_itmes_df = date_item_df.reset_index().pivot('InvoiceDate','StockCode').fillna(0)\n",
        "\n",
        "trending_itmes_df = trending_itmes_df.reset_index()\n",
        "trending_itmes_df = trending_itmes_df.set_index('InvoiceDate')\n",
        "trending_itmes_df.columns = trending_itmes_df.columns.droplevel(0)\n",
        "trending_itmes_df"
      ],
      "execution_count": 60,
      "outputs": [
        {
          "output_type": "execute_result",
          "data": {
            "text/html": [
              "<div>\n",
              "<style scoped>\n",
              "    .dataframe tbody tr th:only-of-type {\n",
              "        vertical-align: middle;\n",
              "    }\n",
              "\n",
              "    .dataframe tbody tr th {\n",
              "        vertical-align: top;\n",
              "    }\n",
              "\n",
              "    .dataframe thead th {\n",
              "        text-align: right;\n",
              "    }\n",
              "</style>\n",
              "<table border=\"1\" class=\"dataframe\">\n",
              "  <thead>\n",
              "    <tr style=\"text-align: right;\">\n",
              "      <th>StockCode</th>\n",
              "      <th>22086</th>\n",
              "      <th>22197</th>\n",
              "      <th>23084</th>\n",
              "      <th>84826</th>\n",
              "      <th>85099B</th>\n",
              "    </tr>\n",
              "    <tr>\n",
              "      <th>InvoiceDate</th>\n",
              "      <th></th>\n",
              "      <th></th>\n",
              "      <th></th>\n",
              "      <th></th>\n",
              "      <th></th>\n",
              "    </tr>\n",
              "  </thead>\n",
              "  <tbody>\n",
              "    <tr>\n",
              "      <th>2010-12-31</th>\n",
              "      <td>1482.0</td>\n",
              "      <td>1327.0</td>\n",
              "      <td>0.0</td>\n",
              "      <td>62.0</td>\n",
              "      <td>727.0</td>\n",
              "    </tr>\n",
              "    <tr>\n",
              "      <th>2011-01-31</th>\n",
              "      <td>18.0</td>\n",
              "      <td>1145.0</td>\n",
              "      <td>0.0</td>\n",
              "      <td>300.0</td>\n",
              "      <td>1965.0</td>\n",
              "    </tr>\n",
              "    <tr>\n",
              "      <th>2011-02-28</th>\n",
              "      <td>5.0</td>\n",
              "      <td>947.0</td>\n",
              "      <td>0.0</td>\n",
              "      <td>66.0</td>\n",
              "      <td>1277.0</td>\n",
              "    </tr>\n",
              "    <tr>\n",
              "      <th>2011-03-31</th>\n",
              "      <td>47.0</td>\n",
              "      <td>1658.0</td>\n",
              "      <td>0.0</td>\n",
              "      <td>0.0</td>\n",
              "      <td>2150.0</td>\n",
              "    </tr>\n",
              "    <tr>\n",
              "      <th>2011-04-30</th>\n",
              "      <td>-28.0</td>\n",
              "      <td>1204.0</td>\n",
              "      <td>0.0</td>\n",
              "      <td>1.0</td>\n",
              "      <td>1515.0</td>\n",
              "    </tr>\n",
              "    <tr>\n",
              "      <th>2011-05-31</th>\n",
              "      <td>17.0</td>\n",
              "      <td>1628.0</td>\n",
              "      <td>432.0</td>\n",
              "      <td>0.0</td>\n",
              "      <td>1977.0</td>\n",
              "    </tr>\n",
              "    <tr>\n",
              "      <th>2011-06-30</th>\n",
              "      <td>325.0</td>\n",
              "      <td>1359.0</td>\n",
              "      <td>880.0</td>\n",
              "      <td>0.0</td>\n",
              "      <td>1653.0</td>\n",
              "    </tr>\n",
              "    <tr>\n",
              "      <th>2011-07-31</th>\n",
              "      <td>221.0</td>\n",
              "      <td>802.0</td>\n",
              "      <td>61.0</td>\n",
              "      <td>2.0</td>\n",
              "      <td>1446.0</td>\n",
              "    </tr>\n",
              "    <tr>\n",
              "      <th>2011-08-31</th>\n",
              "      <td>243.0</td>\n",
              "      <td>1277.0</td>\n",
              "      <td>607.0</td>\n",
              "      <td>60.0</td>\n",
              "      <td>3150.0</td>\n",
              "    </tr>\n",
              "    <tr>\n",
              "      <th>2011-09-30</th>\n",
              "      <td>897.0</td>\n",
              "      <td>1570.0</td>\n",
              "      <td>-327.0</td>\n",
              "      <td>0.0</td>\n",
              "      <td>2263.0</td>\n",
              "    </tr>\n",
              "    <tr>\n",
              "      <th>2011-10-31</th>\n",
              "      <td>972.0</td>\n",
              "      <td>4434.0</td>\n",
              "      <td>2043.0</td>\n",
              "      <td>1.0</td>\n",
              "      <td>1167.0</td>\n",
              "    </tr>\n",
              "    <tr>\n",
              "      <th>2011-11-30</th>\n",
              "      <td>5147.0</td>\n",
              "      <td>5139.0</td>\n",
              "      <td>5942.0</td>\n",
              "      <td>12541.0</td>\n",
              "      <td>3675.0</td>\n",
              "    </tr>\n",
              "    <tr>\n",
              "      <th>2011-12-31</th>\n",
              "      <td>1016.0</td>\n",
              "      <td>3634.0</td>\n",
              "      <td>3228.0</td>\n",
              "      <td>0.0</td>\n",
              "      <td>601.0</td>\n",
              "    </tr>\n",
              "  </tbody>\n",
              "</table>\n",
              "</div>"
            ],
            "text/plain": [
              "StockCode     22086   22197   23084    84826  85099B\n",
              "InvoiceDate                                         \n",
              "2010-12-31   1482.0  1327.0     0.0     62.0   727.0\n",
              "2011-01-31     18.0  1145.0     0.0    300.0  1965.0\n",
              "2011-02-28      5.0   947.0     0.0     66.0  1277.0\n",
              "2011-03-31     47.0  1658.0     0.0      0.0  2150.0\n",
              "2011-04-30    -28.0  1204.0     0.0      1.0  1515.0\n",
              "2011-05-31     17.0  1628.0   432.0      0.0  1977.0\n",
              "2011-06-30    325.0  1359.0   880.0      0.0  1653.0\n",
              "2011-07-31    221.0   802.0    61.0      2.0  1446.0\n",
              "2011-08-31    243.0  1277.0   607.0     60.0  3150.0\n",
              "2011-09-30    897.0  1570.0  -327.0      0.0  2263.0\n",
              "2011-10-31    972.0  4434.0  2043.0      1.0  1167.0\n",
              "2011-11-30   5147.0  5139.0  5942.0  12541.0  3675.0\n",
              "2011-12-31   1016.0  3634.0  3228.0      0.0   601.0"
            ]
          },
          "metadata": {
            "tags": []
          },
          "execution_count": 60
        }
      ]
    },
    {
      "cell_type": "code",
      "metadata": {
        "id": "2ZrbPoIIjPv7",
        "colab": {
          "base_uri": "https://localhost:8080/",
          "height": 547
        },
        "outputId": "468e0a64-6852-49db-8a77-a727256bb73f"
      },
      "source": [
        "# Plot the above information\n",
        "ax = pd.DataFrame(trending_itmes_df.values).plot(figsize=(12,8), grid=True,)\n",
        "\n",
        "ax.set_ylabel('number of purchases')\n",
        "ax.set_xlabel('date')\n",
        "ax.set_title('Item Trends over Time')\n",
        "\n",
        "ax.legend(trending_itmes_df.columns, loc='upper left')\n",
        "\n",
        "plt.xticks(range(len(trending_itmes_df.index)), [x.strftime('%m.%Y') for x in trending_itmes_df.index], rotation=45)\n",
        "\n",
        "plt.show()"
      ],
      "execution_count": 61,
      "outputs": [
        {
          "output_type": "display_data",
          "data": {
            "image/png": "[encoded data removed]",
            "text/plain": [
              "<Figure size 864x576 with 1 Axes>"
            ]
          },
          "metadata": {
            "tags": []
          }
        }
      ]
    }
  ]
}