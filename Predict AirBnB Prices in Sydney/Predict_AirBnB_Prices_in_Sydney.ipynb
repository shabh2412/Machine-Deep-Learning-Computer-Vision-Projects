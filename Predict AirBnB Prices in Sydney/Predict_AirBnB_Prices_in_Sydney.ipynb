{
  "nbformat": 4,
  "nbformat_minor": 0,
  "metadata": {
    "kernelspec": {
      "display_name": "Python 3",
      "language": "python",
      "name": "python3"
    },
    "language_info": {
      "codemirror_mode": {
        "name": "ipython",
        "version": 3
      },
      "file_extension": ".py",
      "mimetype": "text/x-python",
      "name": "python",
      "nbconvert_exporter": "python",
      "pygments_lexer": "ipython3",
      "version": "3.6.3"
    },
    "nav_menu": {
      "height": "279px",
      "width": "309px"
    },
    "toc": {
      "nav_menu": {},
      "number_sections": true,
      "sideBar": true,
      "skip_h1_title": false,
      "toc_cell": false,
      "toc_position": {},
      "toc_section_display": "block",
      "toc_window_display": false
    },
    "colab": {
      "name": "Predict AirBnB Prices in Sydney",
      "provenance": [],
      "collapsed_sections": []
    }
  },
  "cells": [
    {
      "cell_type": "markdown",
      "metadata": {
        "id": "0aELHnRaw5E_"
      },
      "source": [
        "# AirBnB Fair Valuation\n",
        "\n",
        "Welcome to Airbnb Analysis Corp.! Your task is to set the competitive **daily accomodation rate** for a client's house in Bondi Beach. The owner currently charges $500. We have been tasked to estimate a **fair value** that the owner should be charging. The house has the following characteristics and constraints. While developing this model you came to realise that Airbnb can use your model to estimate the fair value of any property on their database, your are effectively creating a recommendation model for all prospective hosts!\n",
        "\n",
        "\n",
        "1. The owner has been a host since **August 2010**\n",
        "1. The location is **lon:151.274506, lat:33.889087**\n",
        "1. The current review score rating **95.0**\n",
        "1. Number of reviews **53**\n",
        "1. Minimum nights **4**\n",
        "1. The house can accomodate **10** people.\n",
        "1. The owner currently charges a cleaning fee of **370**\n",
        "1. The house has **3 bathrooms, 5 bedrooms, 7 beds**.\n",
        "1. The house is available for **255 of the next 365 days**\n",
        "1. The client is **verified**, and they are a **superhost**.\n",
        "1. The cancelation policy is **strict with a 14 days grace period**.\n",
        "1. The host requires a security deposit of **$1,500**\n",
        "\n",
        "\n",
        "*All values strictly apply to the month of July 2018*"
      ]
    },
    {
      "cell_type": "code",
      "metadata": {
        "id": "aKJYHFgSw5FB"
      },
      "source": [
        "# Defining our Sample Client Data\n",
        "from dateutil import parser\n",
        "dict_client = {}\n",
        "\n",
        "dict_client[\"city\"] = \"Bondi Beach\"\n",
        "dict_client[\"longitude\"] = 151.274506\n",
        "dict_client[\"latitude\"] = -33.889087\n",
        "dict_client[\"review_scores_rating\"] = 95\n",
        "dict_client[\"number_of_reviews\"] = 53\n",
        "dict_client[\"minimum_nights\"] = 4\n",
        "dict_client[\"accommodates\"] = 10\n",
        "dict_client[\"bathrooms\"] = 3\n",
        "dict_client[\"bedrooms\"] = 5\n",
        "dict_client[\"beds\"] = 7\n",
        "dict_client[\"security_deposit\"] = 1500\n",
        "dict_client[\"cleaning_fee\"] = 370\n",
        "dict_client[\"property_type\"] = \"House\"\n",
        "dict_client[\"room_type\"] = \"Entire home/apt\"\n",
        "dict_client[\"availability_365\"] = 255\n",
        "dict_client[\"host_identity_verified\"] = 't'  ## 1 for yes, 0 for no\n",
        "dict_client[\"host_is_superhost\"] = 't'\n",
        "dict_client[\"cancellation_policy\"] = \"strict_14_with_grace_period\"\n",
        "dict_client[\"host_since\"] = parser.parse(\"01-08-2010\")"
      ],
      "execution_count": 1,
      "outputs": []
    },
    {
      "cell_type": "markdown",
      "metadata": {
        "id": "0NqmpQhkw5FL"
      },
      "source": [
        "# Setup"
      ]
    },
    {
      "cell_type": "markdown",
      "metadata": {
        "id": "h8BPo5jdw5FN"
      },
      "source": [
        "First, let's make sure this notebook works well in both python 2 and 3, import a few common modules, ensure MatplotLib plots figures inline and prepare a function to save the figures:"
      ]
    },
    {
      "cell_type": "code",
      "metadata": {
        "id": "CZK0NbLRw5FQ"
      },
      "source": [
        "# To support both python 2 and python 3\n",
        "from __future__ import division, print_function, unicode_literals\n",
        "# Common imports\n",
        "import numpy as np\n",
        "import os\n",
        "import pandas as pd\n",
        "\n",
        "# to make this notebook's output stable across runs\n",
        "np.random.seed(42)\n",
        "\n",
        "# To plot pretty figures\n",
        "%matplotlib inline\n",
        "import matplotlib\n",
        "import matplotlib.pyplot as plt\n",
        "plt.rcParams['axes.labelsize'] = 14\n",
        "plt.rcParams['xtick.labelsize'] = 12\n",
        "plt.rcParams['ytick.labelsize'] = 12\n",
        "\n",
        "# Where to save the figures\n",
        "PROJECT_ROOT_DIR = \".\"\n",
        "CHAPTER_ID = \"end_to_end_project\"\n",
        "IMAGES_PATH = os.path.join(PROJECT_ROOT_DIR, \"images\", CHAPTER_ID)\n",
        "\n",
        "def save_fig(fig_id, tight_layout=True, fig_extension=\"png\", resolution=300):\n",
        "    path = os.path.join(IMAGES_PATH, fig_id + \".\" + fig_extension)\n",
        "    print(\"Saving figure\", fig_id)\n",
        "    if tight_layout:\n",
        "        plt.tight_layout()\n",
        "    try:\n",
        "        plt.savefig(path, format=fig_extension, dpi=resolution)\n",
        "    except:\n",
        "        plt.savefig(fig_id + \".\" + fig_extension, format=fig_extension, dpi=resolution)\n",
        "\n",
        "# Ignore useless warnings (see SciPy issue #5998)\n",
        "import warnings\n",
        "warnings.filterwarnings(action=\"ignore\", message=\"^internal gelsd\")\n",
        "pd.options.display.max_columns = None"
      ],
      "execution_count": 2,
      "outputs": []
    },
    {
      "cell_type": "markdown",
      "metadata": {
        "id": "8R-FkkOFw5FY"
      },
      "source": [
        "# Get the data"
      ]
    },
    {
      "cell_type": "code",
      "metadata": {
        "id": "JY4PmIA-w5Fa",
        "colab": {
          "base_uri": "https://localhost:8080/"
        },
        "outputId": "b6ddfd57-720e-4576-cb78-5178fd135167"
      },
      "source": [
        "## This is simply a bit of importing logic that you don't have ..\n",
        "## .. to concern yourself with for now. \n",
        "\n",
        "from pathlib import Path\n",
        "\n",
        "github_p = \"https://raw.githubusercontent.com/Finance-781/FinML/master/Lecture%202%20-%20End-to-End%20ML%20Project%20/Practice/\"\n",
        "\n",
        "my_file = Path(\"datasets/sydney_airbnb.csv\") # Defines path\n",
        "if my_file.is_file():              # See if file exists\n",
        "    print(\"Local file found\")      \n",
        "    df = pd.read_csv('datasets/sydney_airbnb.csv')\n",
        "else:\n",
        "    print(\"Be patient: loading from github (2 minutes)\")\n",
        "    df = pd.read_csv(github_p+'datasets/sydney_airbnb.csv')\n",
        "    print(\"Done\")"
      ],
      "execution_count": 3,
      "outputs": [
        {
          "output_type": "stream",
          "text": [
            "Be patient: loading from github (2 minutes)\n",
            "Done\n"
          ],
          "name": "stdout"
        },
        {
          "output_type": "stream",
          "text": [
            "/usr/local/lib/python3.6/dist-packages/IPython/core/interactiveshell.py:2718: DtypeWarning: Columns (36,54,55) have mixed types.Specify dtype option on import or set low_memory=False.\n",
            "  interactivity=interactivity, compiler=compiler, result=result)\n"
          ],
          "name": "stderr"
        }
      ]
    },
    {
      "cell_type": "code",
      "metadata": {
        "id": "YcvWYjK_jQG6"
      },
      "source": [
        "df.to_csv('airbnb.csv')"
      ],
      "execution_count": 4,
      "outputs": []
    },
    {
      "cell_type": "code",
      "metadata": {
        "id": "O_zMrQfcXjJs",
        "colab": {
          "base_uri": "https://localhost:8080/",
          "height": 736
        },
        "outputId": "b1448fab-ca93-40c4-f1ff-a7efc416f1f0"
      },
      "source": [
        "df.head()"
      ],
      "execution_count": 5,
      "outputs": [
        {
          "output_type": "execute_result",
          "data": {
            "text/html": [
              "<div>\n",
              "<style scoped>\n",
              "    .dataframe tbody tr th:only-of-type {\n",
              "        vertical-align: middle;\n",
              "    }\n",
              "\n",
              "    .dataframe tbody tr th {\n",
              "        vertical-align: top;\n",
              "    }\n",
              "\n",
              "    .dataframe thead th {\n",
              "        text-align: right;\n",
              "    }\n",
              "</style>\n",
              "<table border=\"1\" class=\"dataframe\">\n",
              "  <thead>\n",
              "    <tr style=\"text-align: right;\">\n",
              "      <th></th>\n",
              "      <th>id</th>\n",
              "      <th>listing_url</th>\n",
              "      <th>name</th>\n",
              "      <th>summary</th>\n",
              "      <th>space</th>\n",
              "      <th>description</th>\n",
              "      <th>neighborhood_overview</th>\n",
              "      <th>notes</th>\n",
              "      <th>transit</th>\n",
              "      <th>access</th>\n",
              "      <th>interaction</th>\n",
              "      <th>house_rules</th>\n",
              "      <th>picture_url</th>\n",
              "      <th>host_id</th>\n",
              "      <th>host_url</th>\n",
              "      <th>host_name</th>\n",
              "      <th>host_since</th>\n",
              "      <th>host_location</th>\n",
              "      <th>host_about</th>\n",
              "      <th>host_response_time</th>\n",
              "      <th>host_response_rate</th>\n",
              "      <th>host_is_superhost</th>\n",
              "      <th>host_thumbnail_url</th>\n",
              "      <th>host_picture_url</th>\n",
              "      <th>host_neighbourhood</th>\n",
              "      <th>host_listings_count</th>\n",
              "      <th>host_total_listings_count</th>\n",
              "      <th>host_verifications</th>\n",
              "      <th>host_has_profile_pic</th>\n",
              "      <th>host_identity_verified</th>\n",
              "      <th>street</th>\n",
              "      <th>neighbourhood</th>\n",
              "      <th>neighbourhood_cleansed</th>\n",
              "      <th>neighbourhood_group_cleansed</th>\n",
              "      <th>city</th>\n",
              "      <th>state</th>\n",
              "      <th>zipcode</th>\n",
              "      <th>market</th>\n",
              "      <th>smart_location</th>\n",
              "      <th>country_code</th>\n",
              "      <th>country</th>\n",
              "      <th>latitude</th>\n",
              "      <th>longitude</th>\n",
              "      <th>is_location_exact</th>\n",
              "      <th>property_type</th>\n",
              "      <th>room_type</th>\n",
              "      <th>accommodates</th>\n",
              "      <th>bathrooms</th>\n",
              "      <th>bedrooms</th>\n",
              "      <th>beds</th>\n",
              "      <th>bed_type</th>\n",
              "      <th>amenities</th>\n",
              "      <th>square_feet</th>\n",
              "      <th>price</th>\n",
              "      <th>weekly_price</th>\n",
              "      <th>monthly_price</th>\n",
              "      <th>security_deposit</th>\n",
              "      <th>cleaning_fee</th>\n",
              "      <th>guests_included</th>\n",
              "      <th>extra_people</th>\n",
              "      <th>minimum_nights</th>\n",
              "      <th>maximum_nights</th>\n",
              "      <th>calendar_updated</th>\n",
              "      <th>has_availability</th>\n",
              "      <th>availability_30</th>\n",
              "      <th>availability_60</th>\n",
              "      <th>availability_90</th>\n",
              "      <th>availability_365</th>\n",
              "      <th>number_of_reviews</th>\n",
              "      <th>first_review</th>\n",
              "      <th>last_review</th>\n",
              "      <th>review_scores_rating</th>\n",
              "      <th>review_scores_accuracy</th>\n",
              "      <th>review_scores_cleanliness</th>\n",
              "      <th>review_scores_checkin</th>\n",
              "      <th>review_scores_communication</th>\n",
              "      <th>review_scores_location</th>\n",
              "      <th>review_scores_value</th>\n",
              "      <th>instant_bookable</th>\n",
              "      <th>cancellation_policy</th>\n",
              "      <th>require_guest_profile_picture</th>\n",
              "      <th>require_guest_phone_verification</th>\n",
              "      <th>calculated_host_listings_count</th>\n",
              "      <th>reviews_per_month</th>\n",
              "    </tr>\n",
              "  </thead>\n",
              "  <tbody>\n",
              "    <tr>\n",
              "      <th>0</th>\n",
              "      <td>11156</td>\n",
              "      <td>https://www.airbnb.com/rooms/11156</td>\n",
              "      <td>An Oasis in the City</td>\n",
              "      <td>Very central to the city which can be reached ...</td>\n",
              "      <td>Potts Pt. is a vibrant  and popular inner-city...</td>\n",
              "      <td>Very central to the city which can be reached ...</td>\n",
              "      <td>It is very close to everything and everywhere,...</td>\n",
              "      <td>$150.00 key security deposit, refundable on re...</td>\n",
              "      <td>It is 7 minutes walk to the Kings Cross.train ...</td>\n",
              "      <td>Kitchen &amp; laundry facilities.   Shared bathroom.</td>\n",
              "      <td>As much as they want.</td>\n",
              "      <td>Be considerate.   No showering after 2330h.</td>\n",
              "      <td>https://a0.muscache.com/im/pictures/2797669/17...</td>\n",
              "      <td>40855</td>\n",
              "      <td>https://www.airbnb.com/users/show/40855</td>\n",
              "      <td>Colleen</td>\n",
              "      <td>23/09/09</td>\n",
              "      <td>Potts Point, New South Wales, Australia</td>\n",
              "      <td>Recently retired, I've lived &amp; worked on 4 con...</td>\n",
              "      <td>within a day</td>\n",
              "      <td>67%</td>\n",
              "      <td>t</td>\n",
              "      <td>https://a0.muscache.com/im/users/40855/profile...</td>\n",
              "      <td>https://a0.muscache.com/im/users/40855/profile...</td>\n",
              "      <td>Potts Point</td>\n",
              "      <td>1.0</td>\n",
              "      <td>1.0</td>\n",
              "      <td>['email', 'phone', 'reviews']</td>\n",
              "      <td>t</td>\n",
              "      <td>f</td>\n",
              "      <td>Potts Point, NSW, Australia</td>\n",
              "      <td>Potts Point</td>\n",
              "      <td>Sydney</td>\n",
              "      <td>NaN</td>\n",
              "      <td>Potts Point</td>\n",
              "      <td>NSW</td>\n",
              "      <td>2011</td>\n",
              "      <td>Sydney</td>\n",
              "      <td>Potts Point, Australia</td>\n",
              "      <td>AU</td>\n",
              "      <td>Australia</td>\n",
              "      <td>-33.869168</td>\n",
              "      <td>151.226562</td>\n",
              "      <td>t</td>\n",
              "      <td>Apartment</td>\n",
              "      <td>Private room</td>\n",
              "      <td>1</td>\n",
              "      <td>NaN</td>\n",
              "      <td>1.0</td>\n",
              "      <td>1.0</td>\n",
              "      <td>Real Bed</td>\n",
              "      <td>{TV,Kitchen,Elevator,\"Buzzer/wireless intercom...</td>\n",
              "      <td>NaN</td>\n",
              "      <td>$65.00</td>\n",
              "      <td>NaN</td>\n",
              "      <td>NaN</td>\n",
              "      <td>NaN</td>\n",
              "      <td>NaN</td>\n",
              "      <td>1</td>\n",
              "      <td>$0.00</td>\n",
              "      <td>2</td>\n",
              "      <td>180</td>\n",
              "      <td>4 weeks ago</td>\n",
              "      <td>t</td>\n",
              "      <td>9</td>\n",
              "      <td>39</td>\n",
              "      <td>69</td>\n",
              "      <td>339</td>\n",
              "      <td>177</td>\n",
              "      <td>5/12/09</td>\n",
              "      <td>1/07/18</td>\n",
              "      <td>92.0</td>\n",
              "      <td>9.0</td>\n",
              "      <td>9.0</td>\n",
              "      <td>10.0</td>\n",
              "      <td>10.0</td>\n",
              "      <td>10.0</td>\n",
              "      <td>9.0</td>\n",
              "      <td>f</td>\n",
              "      <td>moderate</td>\n",
              "      <td>f</td>\n",
              "      <td>f</td>\n",
              "      <td>1</td>\n",
              "      <td>1.69</td>\n",
              "    </tr>\n",
              "    <tr>\n",
              "      <th>1</th>\n",
              "      <td>12351</td>\n",
              "      <td>https://www.airbnb.com/rooms/12351</td>\n",
              "      <td>Sydney City &amp; Harbour at the door</td>\n",
              "      <td>Come stay with Vinh &amp; Stuart (Awarded as one o...</td>\n",
              "      <td>We're pretty relaxed hosts, and we fully appre...</td>\n",
              "      <td>Come stay with Vinh &amp; Stuart (Awarded as one o...</td>\n",
              "      <td>Pyrmont is an inner-city village of Sydney, on...</td>\n",
              "      <td>We've a few reasons for the 6.00pm arrival tim...</td>\n",
              "      <td>Our home is centrally located and an easy walk...</td>\n",
              "      <td>We look forward to welcoming you just as we wo...</td>\n",
              "      <td>As much or as little as you like. We live here...</td>\n",
              "      <td>We look forward to welcoming you to stay you j...</td>\n",
              "      <td>https://a0.muscache.com/im/pictures/763ad5c8-c...</td>\n",
              "      <td>17061</td>\n",
              "      <td>https://www.airbnb.com/users/show/17061</td>\n",
              "      <td>Stuart</td>\n",
              "      <td>14/05/09</td>\n",
              "      <td>Sydney, New South Wales, Australia</td>\n",
              "      <td>G'Day from Australia!\\r\\n\\r\\nHe's Vinh, and I'...</td>\n",
              "      <td>within an hour</td>\n",
              "      <td>100%</td>\n",
              "      <td>f</td>\n",
              "      <td>https://a0.muscache.com/im/users/17061/profile...</td>\n",
              "      <td>https://a0.muscache.com/im/users/17061/profile...</td>\n",
              "      <td>Pyrmont</td>\n",
              "      <td>2.0</td>\n",
              "      <td>2.0</td>\n",
              "      <td>['email', 'phone', 'manual_online', 'reviews',...</td>\n",
              "      <td>t</td>\n",
              "      <td>t</td>\n",
              "      <td>Pyrmont, NSW, Australia</td>\n",
              "      <td>Pyrmont</td>\n",
              "      <td>Sydney</td>\n",
              "      <td>NaN</td>\n",
              "      <td>Pyrmont</td>\n",
              "      <td>NSW</td>\n",
              "      <td>2009</td>\n",
              "      <td>Sydney</td>\n",
              "      <td>Pyrmont, Australia</td>\n",
              "      <td>AU</td>\n",
              "      <td>Australia</td>\n",
              "      <td>-33.865153</td>\n",
              "      <td>151.191896</td>\n",
              "      <td>t</td>\n",
              "      <td>Townhouse</td>\n",
              "      <td>Private room</td>\n",
              "      <td>2</td>\n",
              "      <td>1.0</td>\n",
              "      <td>1.0</td>\n",
              "      <td>1.0</td>\n",
              "      <td>Real Bed</td>\n",
              "      <td>{TV,Internet,Wifi,\"Air conditioning\",\"Paid par...</td>\n",
              "      <td>NaN</td>\n",
              "      <td>$98.00</td>\n",
              "      <td>$800.00</td>\n",
              "      <td>NaN</td>\n",
              "      <td>$0.00</td>\n",
              "      <td>$55.00</td>\n",
              "      <td>2</td>\n",
              "      <td>$395.00</td>\n",
              "      <td>2</td>\n",
              "      <td>7</td>\n",
              "      <td>yesterday</td>\n",
              "      <td>t</td>\n",
              "      <td>13</td>\n",
              "      <td>30</td>\n",
              "      <td>45</td>\n",
              "      <td>188</td>\n",
              "      <td>468</td>\n",
              "      <td>24/07/10</td>\n",
              "      <td>27/06/18</td>\n",
              "      <td>95.0</td>\n",
              "      <td>10.0</td>\n",
              "      <td>9.0</td>\n",
              "      <td>10.0</td>\n",
              "      <td>10.0</td>\n",
              "      <td>10.0</td>\n",
              "      <td>10.0</td>\n",
              "      <td>f</td>\n",
              "      <td>strict_14_with_grace_period</td>\n",
              "      <td>t</td>\n",
              "      <td>t</td>\n",
              "      <td>2</td>\n",
              "      <td>4.83</td>\n",
              "    </tr>\n",
              "    <tr>\n",
              "      <th>2</th>\n",
              "      <td>14250</td>\n",
              "      <td>https://www.airbnb.com/rooms/14250</td>\n",
              "      <td>Manly Harbour House</td>\n",
              "      <td>Beautifully renovated, spacious and quiet, our...</td>\n",
              "      <td>Our home is a thirty minute walk along the sea...</td>\n",
              "      <td>Beautifully renovated, spacious and quiet, our...</td>\n",
              "      <td>Balgowlah Heights is one of the most prestigio...</td>\n",
              "      <td>NaN</td>\n",
              "      <td>Balgowlah - Manly bus # 131 or #132  (Bus stop...</td>\n",
              "      <td>Guests have access to whole house except locke...</td>\n",
              "      <td>NaN</td>\n",
              "      <td>Standard Terms and Conditions of Temporary Hol...</td>\n",
              "      <td>https://a0.muscache.com/im/pictures/56935671/f...</td>\n",
              "      <td>55948</td>\n",
              "      <td>https://www.airbnb.com/users/show/55948</td>\n",
              "      <td>Heidi</td>\n",
              "      <td>20/11/09</td>\n",
              "      <td>Sydney, New South Wales, Australia</td>\n",
              "      <td>I am a Canadian who has made Australia her hom...</td>\n",
              "      <td>within a few hours</td>\n",
              "      <td>100%</td>\n",
              "      <td>f</td>\n",
              "      <td>https://a0.muscache.com/im/users/55948/profile...</td>\n",
              "      <td>https://a0.muscache.com/im/users/55948/profile...</td>\n",
              "      <td>Balgowlah</td>\n",
              "      <td>2.0</td>\n",
              "      <td>2.0</td>\n",
              "      <td>['email', 'phone', 'reviews', 'jumio']</td>\n",
              "      <td>t</td>\n",
              "      <td>t</td>\n",
              "      <td>Balgowlah, NSW, Australia</td>\n",
              "      <td>Balgowlah</td>\n",
              "      <td>Manly</td>\n",
              "      <td>NaN</td>\n",
              "      <td>Balgowlah</td>\n",
              "      <td>NSW</td>\n",
              "      <td>2093</td>\n",
              "      <td>Sydney</td>\n",
              "      <td>Balgowlah, Australia</td>\n",
              "      <td>AU</td>\n",
              "      <td>Australia</td>\n",
              "      <td>-33.800929</td>\n",
              "      <td>151.261722</td>\n",
              "      <td>t</td>\n",
              "      <td>House</td>\n",
              "      <td>Entire home/apt</td>\n",
              "      <td>6</td>\n",
              "      <td>3.0</td>\n",
              "      <td>3.0</td>\n",
              "      <td>3.0</td>\n",
              "      <td>Real Bed</td>\n",
              "      <td>{TV,Wifi,\"Air conditioning\",Kitchen,\"Pets live...</td>\n",
              "      <td>NaN</td>\n",
              "      <td>$469.00</td>\n",
              "      <td>$3,000.00</td>\n",
              "      <td>NaN</td>\n",
              "      <td>$900.00</td>\n",
              "      <td>$100.00</td>\n",
              "      <td>6</td>\n",
              "      <td>$40.00</td>\n",
              "      <td>5</td>\n",
              "      <td>22</td>\n",
              "      <td>4 months ago</td>\n",
              "      <td>t</td>\n",
              "      <td>0</td>\n",
              "      <td>0</td>\n",
              "      <td>0</td>\n",
              "      <td>168</td>\n",
              "      <td>1</td>\n",
              "      <td>2/01/16</td>\n",
              "      <td>2/01/16</td>\n",
              "      <td>100.0</td>\n",
              "      <td>10.0</td>\n",
              "      <td>10.0</td>\n",
              "      <td>10.0</td>\n",
              "      <td>8.0</td>\n",
              "      <td>10.0</td>\n",
              "      <td>10.0</td>\n",
              "      <td>f</td>\n",
              "      <td>strict_14_with_grace_period</td>\n",
              "      <td>f</td>\n",
              "      <td>f</td>\n",
              "      <td>2</td>\n",
              "      <td>0.03</td>\n",
              "    </tr>\n",
              "    <tr>\n",
              "      <th>3</th>\n",
              "      <td>14935</td>\n",
              "      <td>https://www.airbnb.com/rooms/14935</td>\n",
              "      <td>Eco-conscious Travellers: Private Room</td>\n",
              "      <td>Welcome! This apartment will suit a short term...</td>\n",
              "      <td>I live upstairs in my own room with my own bat...</td>\n",
              "      <td>Welcome! This apartment will suit a short term...</td>\n",
              "      <td>NaN</td>\n",
              "      <td>The building can be hard to find, so please en...</td>\n",
              "      <td>DIRECTIONS VIA TAXI: Get dropped off at Renwic...</td>\n",
              "      <td>I work from home most times - so if I'm home, ...</td>\n",
              "      <td>I'm not a big chatter, so don't get offended i...</td>\n",
              "      <td>1. Enjoy and always bring a smile during your ...</td>\n",
              "      <td>https://a0.muscache.com/im/pictures/2257353/d3...</td>\n",
              "      <td>58796</td>\n",
              "      <td>https://www.airbnb.com/users/show/58796</td>\n",
              "      <td>Kevin</td>\n",
              "      <td>30/11/09</td>\n",
              "      <td>Sydney, New South Wales, Australia</td>\n",
              "      <td>I've moved countries twice in the span of 10 y...</td>\n",
              "      <td>within an hour</td>\n",
              "      <td>100%</td>\n",
              "      <td>f</td>\n",
              "      <td>https://a0.muscache.com/im/users/58796/profile...</td>\n",
              "      <td>https://a0.muscache.com/im/users/58796/profile...</td>\n",
              "      <td>Redfern</td>\n",
              "      <td>2.0</td>\n",
              "      <td>2.0</td>\n",
              "      <td>['email', 'phone', 'facebook', 'reviews', 'jum...</td>\n",
              "      <td>t</td>\n",
              "      <td>t</td>\n",
              "      <td>Redfern, NSW, Australia</td>\n",
              "      <td>Redfern</td>\n",
              "      <td>Sydney</td>\n",
              "      <td>NaN</td>\n",
              "      <td>Redfern</td>\n",
              "      <td>NSW</td>\n",
              "      <td>2016</td>\n",
              "      <td>Sydney</td>\n",
              "      <td>Redfern, Australia</td>\n",
              "      <td>AU</td>\n",
              "      <td>Australia</td>\n",
              "      <td>-33.890765</td>\n",
              "      <td>151.200450</td>\n",
              "      <td>t</td>\n",
              "      <td>Apartment</td>\n",
              "      <td>Private room</td>\n",
              "      <td>2</td>\n",
              "      <td>1.0</td>\n",
              "      <td>1.0</td>\n",
              "      <td>1.0</td>\n",
              "      <td>Real Bed</td>\n",
              "      <td>{Internet,Wifi,\"Wheelchair accessible\",Pool,Ki...</td>\n",
              "      <td>NaN</td>\n",
              "      <td>$63.00</td>\n",
              "      <td>NaN</td>\n",
              "      <td>NaN</td>\n",
              "      <td>NaN</td>\n",
              "      <td>NaN</td>\n",
              "      <td>1</td>\n",
              "      <td>$40.00</td>\n",
              "      <td>2</td>\n",
              "      <td>1125</td>\n",
              "      <td>today</td>\n",
              "      <td>t</td>\n",
              "      <td>13</td>\n",
              "      <td>31</td>\n",
              "      <td>31</td>\n",
              "      <td>215</td>\n",
              "      <td>172</td>\n",
              "      <td>28/11/11</td>\n",
              "      <td>26/06/18</td>\n",
              "      <td>89.0</td>\n",
              "      <td>9.0</td>\n",
              "      <td>8.0</td>\n",
              "      <td>9.0</td>\n",
              "      <td>10.0</td>\n",
              "      <td>9.0</td>\n",
              "      <td>9.0</td>\n",
              "      <td>f</td>\n",
              "      <td>moderate</td>\n",
              "      <td>f</td>\n",
              "      <td>f</td>\n",
              "      <td>2</td>\n",
              "      <td>2.14</td>\n",
              "    </tr>\n",
              "    <tr>\n",
              "      <th>4</th>\n",
              "      <td>14974</td>\n",
              "      <td>https://www.airbnb.com/rooms/14974</td>\n",
              "      <td>Eco-conscious Traveller: Sofa Couch</td>\n",
              "      <td>Welcome! This apartment will suit a short term...</td>\n",
              "      <td>Comes with a fully equipped gym and pool - whi...</td>\n",
              "      <td>Welcome! This apartment will suit a short term...</td>\n",
              "      <td>NaN</td>\n",
              "      <td>I live upstairs in my own room with my own bat...</td>\n",
              "      <td>DIRECTIONS VIA TAXI: Get dropped off at Renwic...</td>\n",
              "      <td>I work from home most times - so if I'm home, ...</td>\n",
              "      <td>I'm not a big chatter, so don't get offended i...</td>\n",
              "      <td>1. Enjoy and always bring a smile during your ...</td>\n",
              "      <td>https://a0.muscache.com/im/pictures/2197966/6e...</td>\n",
              "      <td>58796</td>\n",
              "      <td>https://www.airbnb.com/users/show/58796</td>\n",
              "      <td>Kevin</td>\n",
              "      <td>30/11/09</td>\n",
              "      <td>Sydney, New South Wales, Australia</td>\n",
              "      <td>I've moved countries twice in the span of 10 y...</td>\n",
              "      <td>within an hour</td>\n",
              "      <td>100%</td>\n",
              "      <td>f</td>\n",
              "      <td>https://a0.muscache.com/im/users/58796/profile...</td>\n",
              "      <td>https://a0.muscache.com/im/users/58796/profile...</td>\n",
              "      <td>Redfern</td>\n",
              "      <td>2.0</td>\n",
              "      <td>2.0</td>\n",
              "      <td>['email', 'phone', 'facebook', 'reviews', 'jum...</td>\n",
              "      <td>t</td>\n",
              "      <td>t</td>\n",
              "      <td>Redfern, NSW, Australia</td>\n",
              "      <td>Redfern</td>\n",
              "      <td>Sydney</td>\n",
              "      <td>NaN</td>\n",
              "      <td>Redfern</td>\n",
              "      <td>NSW</td>\n",
              "      <td>2016</td>\n",
              "      <td>Sydney</td>\n",
              "      <td>Redfern, Australia</td>\n",
              "      <td>AU</td>\n",
              "      <td>Australia</td>\n",
              "      <td>-33.889667</td>\n",
              "      <td>151.200896</td>\n",
              "      <td>t</td>\n",
              "      <td>Apartment</td>\n",
              "      <td>Shared room</td>\n",
              "      <td>1</td>\n",
              "      <td>2.0</td>\n",
              "      <td>1.0</td>\n",
              "      <td>1.0</td>\n",
              "      <td>Pull-out Sofa</td>\n",
              "      <td>{Internet,Wifi,Pool,Kitchen,Gym,Elevator,\"Buzz...</td>\n",
              "      <td>0.0</td>\n",
              "      <td>$39.00</td>\n",
              "      <td>NaN</td>\n",
              "      <td>NaN</td>\n",
              "      <td>NaN</td>\n",
              "      <td>NaN</td>\n",
              "      <td>1</td>\n",
              "      <td>$0.00</td>\n",
              "      <td>2</td>\n",
              "      <td>1125</td>\n",
              "      <td>4 days ago</td>\n",
              "      <td>t</td>\n",
              "      <td>24</td>\n",
              "      <td>50</td>\n",
              "      <td>50</td>\n",
              "      <td>287</td>\n",
              "      <td>147</td>\n",
              "      <td>23/09/11</td>\n",
              "      <td>2/07/18</td>\n",
              "      <td>90.0</td>\n",
              "      <td>9.0</td>\n",
              "      <td>8.0</td>\n",
              "      <td>9.0</td>\n",
              "      <td>9.0</td>\n",
              "      <td>9.0</td>\n",
              "      <td>9.0</td>\n",
              "      <td>f</td>\n",
              "      <td>moderate</td>\n",
              "      <td>f</td>\n",
              "      <td>f</td>\n",
              "      <td>2</td>\n",
              "      <td>1.78</td>\n",
              "    </tr>\n",
              "  </tbody>\n",
              "</table>\n",
              "</div>"
            ],
            "text/plain": [
              "      id                         listing_url  \\\n",
              "0  11156  https://www.airbnb.com/rooms/11156   \n",
              "1  12351  https://www.airbnb.com/rooms/12351   \n",
              "2  14250  https://www.airbnb.com/rooms/14250   \n",
              "3  14935  https://www.airbnb.com/rooms/14935   \n",
              "4  14974  https://www.airbnb.com/rooms/14974   \n",
              "\n",
              "                                     name  \\\n",
              "0                    An Oasis in the City   \n",
              "1       Sydney City & Harbour at the door   \n",
              "2                     Manly Harbour House   \n",
              "3  Eco-conscious Travellers: Private Room   \n",
              "4     Eco-conscious Traveller: Sofa Couch   \n",
              "\n",
              "                                             summary  \\\n",
              "0  Very central to the city which can be reached ...   \n",
              "1  Come stay with Vinh & Stuart (Awarded as one o...   \n",
              "2  Beautifully renovated, spacious and quiet, our...   \n",
              "3  Welcome! This apartment will suit a short term...   \n",
              "4  Welcome! This apartment will suit a short term...   \n",
              "\n",
              "                                               space  \\\n",
              "0  Potts Pt. is a vibrant  and popular inner-city...   \n",
              "1  We're pretty relaxed hosts, and we fully appre...   \n",
              "2  Our home is a thirty minute walk along the sea...   \n",
              "3  I live upstairs in my own room with my own bat...   \n",
              "4  Comes with a fully equipped gym and pool - whi...   \n",
              "\n",
              "                                         description  \\\n",
              "0  Very central to the city which can be reached ...   \n",
              "1  Come stay with Vinh & Stuart (Awarded as one o...   \n",
              "2  Beautifully renovated, spacious and quiet, our...   \n",
              "3  Welcome! This apartment will suit a short term...   \n",
              "4  Welcome! This apartment will suit a short term...   \n",
              "\n",
              "                               neighborhood_overview  \\\n",
              "0  It is very close to everything and everywhere,...   \n",
              "1  Pyrmont is an inner-city village of Sydney, on...   \n",
              "2  Balgowlah Heights is one of the most prestigio...   \n",
              "3                                                NaN   \n",
              "4                                                NaN   \n",
              "\n",
              "                                               notes  \\\n",
              "0  $150.00 key security deposit, refundable on re...   \n",
              "1  We've a few reasons for the 6.00pm arrival tim...   \n",
              "2                                                NaN   \n",
              "3  The building can be hard to find, so please en...   \n",
              "4  I live upstairs in my own room with my own bat...   \n",
              "\n",
              "                                             transit  \\\n",
              "0  It is 7 minutes walk to the Kings Cross.train ...   \n",
              "1  Our home is centrally located and an easy walk...   \n",
              "2  Balgowlah - Manly bus # 131 or #132  (Bus stop...   \n",
              "3  DIRECTIONS VIA TAXI: Get dropped off at Renwic...   \n",
              "4  DIRECTIONS VIA TAXI: Get dropped off at Renwic...   \n",
              "\n",
              "                                              access  \\\n",
              "0   Kitchen & laundry facilities.   Shared bathroom.   \n",
              "1  We look forward to welcoming you just as we wo...   \n",
              "2  Guests have access to whole house except locke...   \n",
              "3  I work from home most times - so if I'm home, ...   \n",
              "4  I work from home most times - so if I'm home, ...   \n",
              "\n",
              "                                         interaction  \\\n",
              "0                              As much as they want.   \n",
              "1  As much or as little as you like. We live here...   \n",
              "2                                                NaN   \n",
              "3  I'm not a big chatter, so don't get offended i...   \n",
              "4  I'm not a big chatter, so don't get offended i...   \n",
              "\n",
              "                                         house_rules  \\\n",
              "0        Be considerate.   No showering after 2330h.   \n",
              "1  We look forward to welcoming you to stay you j...   \n",
              "2  Standard Terms and Conditions of Temporary Hol...   \n",
              "3  1. Enjoy and always bring a smile during your ...   \n",
              "4  1. Enjoy and always bring a smile during your ...   \n",
              "\n",
              "                                         picture_url  host_id  \\\n",
              "0  https://a0.muscache.com/im/pictures/2797669/17...    40855   \n",
              "1  https://a0.muscache.com/im/pictures/763ad5c8-c...    17061   \n",
              "2  https://a0.muscache.com/im/pictures/56935671/f...    55948   \n",
              "3  https://a0.muscache.com/im/pictures/2257353/d3...    58796   \n",
              "4  https://a0.muscache.com/im/pictures/2197966/6e...    58796   \n",
              "\n",
              "                                  host_url host_name host_since  \\\n",
              "0  https://www.airbnb.com/users/show/40855   Colleen   23/09/09   \n",
              "1  https://www.airbnb.com/users/show/17061    Stuart   14/05/09   \n",
              "2  https://www.airbnb.com/users/show/55948     Heidi   20/11/09   \n",
              "3  https://www.airbnb.com/users/show/58796     Kevin   30/11/09   \n",
              "4  https://www.airbnb.com/users/show/58796     Kevin   30/11/09   \n",
              "\n",
              "                             host_location  \\\n",
              "0  Potts Point, New South Wales, Australia   \n",
              "1       Sydney, New South Wales, Australia   \n",
              "2       Sydney, New South Wales, Australia   \n",
              "3       Sydney, New South Wales, Australia   \n",
              "4       Sydney, New South Wales, Australia   \n",
              "\n",
              "                                          host_about  host_response_time  \\\n",
              "0  Recently retired, I've lived & worked on 4 con...        within a day   \n",
              "1  G'Day from Australia!\\r\\n\\r\\nHe's Vinh, and I'...      within an hour   \n",
              "2  I am a Canadian who has made Australia her hom...  within a few hours   \n",
              "3  I've moved countries twice in the span of 10 y...      within an hour   \n",
              "4  I've moved countries twice in the span of 10 y...      within an hour   \n",
              "\n",
              "  host_response_rate host_is_superhost  \\\n",
              "0                67%                 t   \n",
              "1               100%                 f   \n",
              "2               100%                 f   \n",
              "3               100%                 f   \n",
              "4               100%                 f   \n",
              "\n",
              "                                  host_thumbnail_url  \\\n",
              "0  https://a0.muscache.com/im/users/40855/profile...   \n",
              "1  https://a0.muscache.com/im/users/17061/profile...   \n",
              "2  https://a0.muscache.com/im/users/55948/profile...   \n",
              "3  https://a0.muscache.com/im/users/58796/profile...   \n",
              "4  https://a0.muscache.com/im/users/58796/profile...   \n",
              "\n",
              "                                    host_picture_url host_neighbourhood  \\\n",
              "0  https://a0.muscache.com/im/users/40855/profile...        Potts Point   \n",
              "1  https://a0.muscache.com/im/users/17061/profile...            Pyrmont   \n",
              "2  https://a0.muscache.com/im/users/55948/profile...          Balgowlah   \n",
              "3  https://a0.muscache.com/im/users/58796/profile...            Redfern   \n",
              "4  https://a0.muscache.com/im/users/58796/profile...            Redfern   \n",
              "\n",
              "   host_listings_count  host_total_listings_count  \\\n",
              "0                  1.0                        1.0   \n",
              "1                  2.0                        2.0   \n",
              "2                  2.0                        2.0   \n",
              "3                  2.0                        2.0   \n",
              "4                  2.0                        2.0   \n",
              "\n",
              "                                  host_verifications host_has_profile_pic  \\\n",
              "0                      ['email', 'phone', 'reviews']                    t   \n",
              "1  ['email', 'phone', 'manual_online', 'reviews',...                    t   \n",
              "2             ['email', 'phone', 'reviews', 'jumio']                    t   \n",
              "3  ['email', 'phone', 'facebook', 'reviews', 'jum...                    t   \n",
              "4  ['email', 'phone', 'facebook', 'reviews', 'jum...                    t   \n",
              "\n",
              "  host_identity_verified                       street neighbourhood  \\\n",
              "0                      f  Potts Point, NSW, Australia   Potts Point   \n",
              "1                      t      Pyrmont, NSW, Australia       Pyrmont   \n",
              "2                      t    Balgowlah, NSW, Australia     Balgowlah   \n",
              "3                      t      Redfern, NSW, Australia       Redfern   \n",
              "4                      t      Redfern, NSW, Australia       Redfern   \n",
              "\n",
              "  neighbourhood_cleansed  neighbourhood_group_cleansed         city state  \\\n",
              "0                 Sydney                           NaN  Potts Point   NSW   \n",
              "1                 Sydney                           NaN      Pyrmont   NSW   \n",
              "2                  Manly                           NaN    Balgowlah   NSW   \n",
              "3                 Sydney                           NaN      Redfern   NSW   \n",
              "4                 Sydney                           NaN      Redfern   NSW   \n",
              "\n",
              "  zipcode  market          smart_location country_code    country   latitude  \\\n",
              "0    2011  Sydney  Potts Point, Australia           AU  Australia -33.869168   \n",
              "1    2009  Sydney      Pyrmont, Australia           AU  Australia -33.865153   \n",
              "2    2093  Sydney    Balgowlah, Australia           AU  Australia -33.800929   \n",
              "3    2016  Sydney      Redfern, Australia           AU  Australia -33.890765   \n",
              "4    2016  Sydney      Redfern, Australia           AU  Australia -33.889667   \n",
              "\n",
              "    longitude is_location_exact property_type        room_type  accommodates  \\\n",
              "0  151.226562                 t     Apartment     Private room             1   \n",
              "1  151.191896                 t     Townhouse     Private room             2   \n",
              "2  151.261722                 t         House  Entire home/apt             6   \n",
              "3  151.200450                 t     Apartment     Private room             2   \n",
              "4  151.200896                 t     Apartment      Shared room             1   \n",
              "\n",
              "   bathrooms  bedrooms  beds       bed_type  \\\n",
              "0        NaN       1.0   1.0       Real Bed   \n",
              "1        1.0       1.0   1.0       Real Bed   \n",
              "2        3.0       3.0   3.0       Real Bed   \n",
              "3        1.0       1.0   1.0       Real Bed   \n",
              "4        2.0       1.0   1.0  Pull-out Sofa   \n",
              "\n",
              "                                           amenities  square_feet     price  \\\n",
              "0  {TV,Kitchen,Elevator,\"Buzzer/wireless intercom...          NaN   $65.00    \n",
              "1  {TV,Internet,Wifi,\"Air conditioning\",\"Paid par...          NaN   $98.00    \n",
              "2  {TV,Wifi,\"Air conditioning\",Kitchen,\"Pets live...          NaN  $469.00    \n",
              "3  {Internet,Wifi,\"Wheelchair accessible\",Pool,Ki...          NaN   $63.00    \n",
              "4  {Internet,Wifi,Pool,Kitchen,Gym,Elevator,\"Buzz...          0.0   $39.00    \n",
              "\n",
              "  weekly_price monthly_price security_deposit cleaning_fee  guests_included  \\\n",
              "0          NaN           NaN              NaN          NaN                1   \n",
              "1     $800.00            NaN           $0.00       $55.00                 2   \n",
              "2   $3,000.00            NaN         $900.00      $100.00                 6   \n",
              "3          NaN           NaN              NaN          NaN                1   \n",
              "4          NaN           NaN              NaN          NaN                1   \n",
              "\n",
              "  extra_people  minimum_nights  maximum_nights calendar_updated  \\\n",
              "0       $0.00                2             180      4 weeks ago   \n",
              "1     $395.00                2               7        yesterday   \n",
              "2      $40.00                5              22     4 months ago   \n",
              "3      $40.00                2            1125            today   \n",
              "4       $0.00                2            1125       4 days ago   \n",
              "\n",
              "  has_availability  availability_30  availability_60  availability_90  \\\n",
              "0                t                9               39               69   \n",
              "1                t               13               30               45   \n",
              "2                t                0                0                0   \n",
              "3                t               13               31               31   \n",
              "4                t               24               50               50   \n",
              "\n",
              "   availability_365  number_of_reviews first_review last_review  \\\n",
              "0               339                177      5/12/09     1/07/18   \n",
              "1               188                468     24/07/10    27/06/18   \n",
              "2               168                  1      2/01/16     2/01/16   \n",
              "3               215                172     28/11/11    26/06/18   \n",
              "4               287                147     23/09/11     2/07/18   \n",
              "\n",
              "   review_scores_rating  review_scores_accuracy  review_scores_cleanliness  \\\n",
              "0                  92.0                     9.0                        9.0   \n",
              "1                  95.0                    10.0                        9.0   \n",
              "2                 100.0                    10.0                       10.0   \n",
              "3                  89.0                     9.0                        8.0   \n",
              "4                  90.0                     9.0                        8.0   \n",
              "\n",
              "   review_scores_checkin  review_scores_communication  review_scores_location  \\\n",
              "0                   10.0                         10.0                    10.0   \n",
              "1                   10.0                         10.0                    10.0   \n",
              "2                   10.0                          8.0                    10.0   \n",
              "3                    9.0                         10.0                     9.0   \n",
              "4                    9.0                          9.0                     9.0   \n",
              "\n",
              "   review_scores_value instant_bookable          cancellation_policy  \\\n",
              "0                  9.0                f                     moderate   \n",
              "1                 10.0                f  strict_14_with_grace_period   \n",
              "2                 10.0                f  strict_14_with_grace_period   \n",
              "3                  9.0                f                     moderate   \n",
              "4                  9.0                f                     moderate   \n",
              "\n",
              "  require_guest_profile_picture require_guest_phone_verification  \\\n",
              "0                             f                                f   \n",
              "1                             t                                t   \n",
              "2                             f                                f   \n",
              "3                             f                                f   \n",
              "4                             f                                f   \n",
              "\n",
              "   calculated_host_listings_count  reviews_per_month  \n",
              "0                               1               1.69  \n",
              "1                               2               4.83  \n",
              "2                               2               0.03  \n",
              "3                               2               2.14  \n",
              "4                               2               1.78  "
            ]
          },
          "metadata": {
            "tags": []
          },
          "execution_count": 5
        }
      ]
    },
    {
      "cell_type": "code",
      "metadata": {
        "id": "Y8GZ8Mv4w5Fy"
      },
      "source": [
        "### We select only a small number of features as the others we can discard for this study"
      ],
      "execution_count": 6,
      "outputs": []
    },
    {
      "cell_type": "code",
      "metadata": {
        "id": "nzXpxiqDw5F7"
      },
      "source": [
        "incl = [\"price\",\"city\",\"longitude\",\"latitude\",\"review_scores_rating\",\"number_of_reviews\",\"minimum_nights\",\"security_deposit\",\"cleaning_fee\",\n",
        "        \"accommodates\",\"bathrooms\",\"bedrooms\",\"beds\",\"property_type\",\"room_type\",\"availability_365\" ,\"host_identity_verified\", \n",
        "        \"host_is_superhost\",\"host_since\",\"cancellation_policy\"] \n",
        "\n",
        "df = df[incl]"
      ],
      "execution_count": 7,
      "outputs": []
    },
    {
      "cell_type": "code",
      "metadata": {
        "id": "1kfoO1K-XghF",
        "colab": {
          "base_uri": "https://localhost:8080/",
          "height": 299
        },
        "outputId": "5f965e76-7ca5-42b0-bbb1-5d29c19c4a29"
      },
      "source": [
        "df.head()"
      ],
      "execution_count": 8,
      "outputs": [
        {
          "output_type": "execute_result",
          "data": {
            "text/html": [
              "<div>\n",
              "<style scoped>\n",
              "    .dataframe tbody tr th:only-of-type {\n",
              "        vertical-align: middle;\n",
              "    }\n",
              "\n",
              "    .dataframe tbody tr th {\n",
              "        vertical-align: top;\n",
              "    }\n",
              "\n",
              "    .dataframe thead th {\n",
              "        text-align: right;\n",
              "    }\n",
              "</style>\n",
              "<table border=\"1\" class=\"dataframe\">\n",
              "  <thead>\n",
              "    <tr style=\"text-align: right;\">\n",
              "      <th></th>\n",
              "      <th>price</th>\n",
              "      <th>city</th>\n",
              "      <th>longitude</th>\n",
              "      <th>latitude</th>\n",
              "      <th>review_scores_rating</th>\n",
              "      <th>number_of_reviews</th>\n",
              "      <th>minimum_nights</th>\n",
              "      <th>security_deposit</th>\n",
              "      <th>cleaning_fee</th>\n",
              "      <th>accommodates</th>\n",
              "      <th>bathrooms</th>\n",
              "      <th>bedrooms</th>\n",
              "      <th>beds</th>\n",
              "      <th>property_type</th>\n",
              "      <th>room_type</th>\n",
              "      <th>availability_365</th>\n",
              "      <th>host_identity_verified</th>\n",
              "      <th>host_is_superhost</th>\n",
              "      <th>host_since</th>\n",
              "      <th>cancellation_policy</th>\n",
              "    </tr>\n",
              "  </thead>\n",
              "  <tbody>\n",
              "    <tr>\n",
              "      <th>0</th>\n",
              "      <td>$65.00</td>\n",
              "      <td>Potts Point</td>\n",
              "      <td>151.226562</td>\n",
              "      <td>-33.869168</td>\n",
              "      <td>92.0</td>\n",
              "      <td>177</td>\n",
              "      <td>2</td>\n",
              "      <td>NaN</td>\n",
              "      <td>NaN</td>\n",
              "      <td>1</td>\n",
              "      <td>NaN</td>\n",
              "      <td>1.0</td>\n",
              "      <td>1.0</td>\n",
              "      <td>Apartment</td>\n",
              "      <td>Private room</td>\n",
              "      <td>339</td>\n",
              "      <td>f</td>\n",
              "      <td>t</td>\n",
              "      <td>23/09/09</td>\n",
              "      <td>moderate</td>\n",
              "    </tr>\n",
              "    <tr>\n",
              "      <th>1</th>\n",
              "      <td>$98.00</td>\n",
              "      <td>Pyrmont</td>\n",
              "      <td>151.191896</td>\n",
              "      <td>-33.865153</td>\n",
              "      <td>95.0</td>\n",
              "      <td>468</td>\n",
              "      <td>2</td>\n",
              "      <td>$0.00</td>\n",
              "      <td>$55.00</td>\n",
              "      <td>2</td>\n",
              "      <td>1.0</td>\n",
              "      <td>1.0</td>\n",
              "      <td>1.0</td>\n",
              "      <td>Townhouse</td>\n",
              "      <td>Private room</td>\n",
              "      <td>188</td>\n",
              "      <td>t</td>\n",
              "      <td>f</td>\n",
              "      <td>14/05/09</td>\n",
              "      <td>strict_14_with_grace_period</td>\n",
              "    </tr>\n",
              "    <tr>\n",
              "      <th>2</th>\n",
              "      <td>$469.00</td>\n",
              "      <td>Balgowlah</td>\n",
              "      <td>151.261722</td>\n",
              "      <td>-33.800929</td>\n",
              "      <td>100.0</td>\n",
              "      <td>1</td>\n",
              "      <td>5</td>\n",
              "      <td>$900.00</td>\n",
              "      <td>$100.00</td>\n",
              "      <td>6</td>\n",
              "      <td>3.0</td>\n",
              "      <td>3.0</td>\n",
              "      <td>3.0</td>\n",
              "      <td>House</td>\n",
              "      <td>Entire home/apt</td>\n",
              "      <td>168</td>\n",
              "      <td>t</td>\n",
              "      <td>f</td>\n",
              "      <td>20/11/09</td>\n",
              "      <td>strict_14_with_grace_period</td>\n",
              "    </tr>\n",
              "    <tr>\n",
              "      <th>3</th>\n",
              "      <td>$63.00</td>\n",
              "      <td>Redfern</td>\n",
              "      <td>151.200450</td>\n",
              "      <td>-33.890765</td>\n",
              "      <td>89.0</td>\n",
              "      <td>172</td>\n",
              "      <td>2</td>\n",
              "      <td>NaN</td>\n",
              "      <td>NaN</td>\n",
              "      <td>2</td>\n",
              "      <td>1.0</td>\n",
              "      <td>1.0</td>\n",
              "      <td>1.0</td>\n",
              "      <td>Apartment</td>\n",
              "      <td>Private room</td>\n",
              "      <td>215</td>\n",
              "      <td>t</td>\n",
              "      <td>f</td>\n",
              "      <td>30/11/09</td>\n",
              "      <td>moderate</td>\n",
              "    </tr>\n",
              "    <tr>\n",
              "      <th>4</th>\n",
              "      <td>$39.00</td>\n",
              "      <td>Redfern</td>\n",
              "      <td>151.200896</td>\n",
              "      <td>-33.889667</td>\n",
              "      <td>90.0</td>\n",
              "      <td>147</td>\n",
              "      <td>2</td>\n",
              "      <td>NaN</td>\n",
              "      <td>NaN</td>\n",
              "      <td>1</td>\n",
              "      <td>2.0</td>\n",
              "      <td>1.0</td>\n",
              "      <td>1.0</td>\n",
              "      <td>Apartment</td>\n",
              "      <td>Shared room</td>\n",
              "      <td>287</td>\n",
              "      <td>t</td>\n",
              "      <td>f</td>\n",
              "      <td>30/11/09</td>\n",
              "      <td>moderate</td>\n",
              "    </tr>\n",
              "  </tbody>\n",
              "</table>\n",
              "</div>"
            ],
            "text/plain": [
              "      price         city   longitude   latitude  review_scores_rating  \\\n",
              "0   $65.00   Potts Point  151.226562 -33.869168                  92.0   \n",
              "1   $98.00       Pyrmont  151.191896 -33.865153                  95.0   \n",
              "2  $469.00     Balgowlah  151.261722 -33.800929                 100.0   \n",
              "3   $63.00       Redfern  151.200450 -33.890765                  89.0   \n",
              "4   $39.00       Redfern  151.200896 -33.889667                  90.0   \n",
              "\n",
              "   number_of_reviews  minimum_nights security_deposit cleaning_fee  \\\n",
              "0                177               2              NaN          NaN   \n",
              "1                468               2           $0.00       $55.00    \n",
              "2                  1               5         $900.00      $100.00    \n",
              "3                172               2              NaN          NaN   \n",
              "4                147               2              NaN          NaN   \n",
              "\n",
              "   accommodates  bathrooms  bedrooms  beds property_type        room_type  \\\n",
              "0             1        NaN       1.0   1.0     Apartment     Private room   \n",
              "1             2        1.0       1.0   1.0     Townhouse     Private room   \n",
              "2             6        3.0       3.0   3.0         House  Entire home/apt   \n",
              "3             2        1.0       1.0   1.0     Apartment     Private room   \n",
              "4             1        2.0       1.0   1.0     Apartment      Shared room   \n",
              "\n",
              "   availability_365 host_identity_verified host_is_superhost host_since  \\\n",
              "0               339                      f                 t   23/09/09   \n",
              "1               188                      t                 f   14/05/09   \n",
              "2               168                      t                 f   20/11/09   \n",
              "3               215                      t                 f   30/11/09   \n",
              "4               287                      t                 f   30/11/09   \n",
              "\n",
              "           cancellation_policy  \n",
              "0                     moderate  \n",
              "1  strict_14_with_grace_period  \n",
              "2  strict_14_with_grace_period  \n",
              "3                     moderate  \n",
              "4                     moderate  "
            ]
          },
          "metadata": {
            "tags": []
          },
          "execution_count": 8
        }
      ]
    },
    {
      "cell_type": "code",
      "metadata": {
        "id": "bOyTJvQJtAO0",
        "colab": {
          "base_uri": "https://localhost:8080/"
        },
        "outputId": "a4699cf3-40a6-45bf-ecb9-996d8f449251"
      },
      "source": [
        "df.shape"
      ],
      "execution_count": 9,
      "outputs": [
        {
          "output_type": "execute_result",
          "data": {
            "text/plain": [
              "(27070, 20)"
            ]
          },
          "metadata": {
            "tags": []
          },
          "execution_count": 9
        }
      ]
    },
    {
      "cell_type": "markdown",
      "metadata": {
        "id": "5MFo1B34w5GN"
      },
      "source": [
        "The price field currently has the \"$\" in it and is a string. So lets remove it and convert it to a float datatype.\n",
        "\n",
        "Also lets conver the 'host_since' field to a date time format. "
      ]
    },
    {
      "cell_type": "code",
      "metadata": {
        "id": "9KajhaZew5GO"
      },
      "source": [
        "# Importing regex\n",
        "import re\n",
        "\n",
        "# The price fields in our data frame\n",
        "price_list = [\"price\",\"cleaning_fee\",\"security_deposit\"]\n",
        "\n",
        "# We change any blanks to 0 and use our regex function to remove anything that isn't a number (or negative number which is changed to 0)\n",
        "for col in price_list:\n",
        "    df[col] = df[col].fillna(\"0\")\n",
        "    df[col] = df[col].apply(lambda x: float(re.compile('[^0-9eE.]').sub('', x)) if len(x)>0 else 0)\n",
        "\n",
        "df['host_since'] = pd.to_datetime(df['host_since'])"
      ],
      "execution_count": 10,
      "outputs": []
    },
    {
      "cell_type": "code",
      "metadata": {
        "id": "EDYefLGIw5Gc",
        "colab": {
          "base_uri": "https://localhost:8080/"
        },
        "outputId": "f55ea355-c665-4d40-ce47-f97706d48153"
      },
      "source": [
        "# Let's see if it worked\n",
        "df[\"price\"].head()"
      ],
      "execution_count": 11,
      "outputs": [
        {
          "output_type": "execute_result",
          "data": {
            "text/plain": [
              "0     65.0\n",
              "1     98.0\n",
              "2    469.0\n",
              "3     63.0\n",
              "4     39.0\n",
              "Name: price, dtype: float64"
            ]
          },
          "metadata": {
            "tags": []
          },
          "execution_count": 11
        }
      ]
    },
    {
      "cell_type": "code",
      "metadata": {
        "id": "XBShMJ-ZZBBy",
        "colab": {
          "base_uri": "https://localhost:8080/"
        },
        "outputId": "f0d4753f-b9a0-40d0-d872-c709bf5cb82f"
      },
      "source": [
        "df.info()"
      ],
      "execution_count": 12,
      "outputs": [
        {
          "output_type": "stream",
          "text": [
            "<class 'pandas.core.frame.DataFrame'>\n",
            "RangeIndex: 27070 entries, 0 to 27069\n",
            "Data columns (total 20 columns):\n",
            " #   Column                  Non-Null Count  Dtype         \n",
            "---  ------                  --------------  -----         \n",
            " 0   price                   27070 non-null  float64       \n",
            " 1   city                    27037 non-null  object        \n",
            " 2   longitude               27070 non-null  float64       \n",
            " 3   latitude                27070 non-null  float64       \n",
            " 4   review_scores_rating    19512 non-null  float64       \n",
            " 5   number_of_reviews       27070 non-null  int64         \n",
            " 6   minimum_nights          27070 non-null  int64         \n",
            " 7   security_deposit        27070 non-null  float64       \n",
            " 8   cleaning_fee            27070 non-null  float64       \n",
            " 9   accommodates            27070 non-null  int64         \n",
            " 10  bathrooms               27048 non-null  float64       \n",
            " 11  bedrooms                27062 non-null  float64       \n",
            " 12  beds                    27037 non-null  float64       \n",
            " 13  property_type           27070 non-null  object        \n",
            " 14  room_type               27070 non-null  object        \n",
            " 15  availability_365        27070 non-null  int64         \n",
            " 16  host_identity_verified  27035 non-null  object        \n",
            " 17  host_is_superhost       27035 non-null  object        \n",
            " 18  host_since              27035 non-null  datetime64[ns]\n",
            " 19  cancellation_policy     27070 non-null  object        \n",
            "dtypes: datetime64[ns](1), float64(9), int64(4), object(6)\n",
            "memory usage: 4.1+ MB\n"
          ],
          "name": "stdout"
        }
      ]
    },
    {
      "cell_type": "code",
      "metadata": {
        "id": "D56JFFrVw5Gt",
        "colab": {
          "base_uri": "https://localhost:8080/",
          "height": 269
        },
        "outputId": "778cfc16-8890-4321-90e5-079e54c2f91e"
      },
      "source": [
        "## Use a boxplot to check for high price values (outliers)\n",
        "import seaborn as sns\n",
        "\n",
        "sns.boxplot( y=df[\"price\"] )"
      ],
      "execution_count": 13,
      "outputs": [
        {
          "output_type": "execute_result",
          "data": {
            "text/plain": [
              "<matplotlib.axes._subplots.AxesSubplot at 0x7f85b297b400>"
            ]
          },
          "metadata": {
            "tags": []
          },
          "execution_count": 13
        },
        {
          "output_type": "display_data",
          "data": {
            "image/png": "[encoded data removed]",
            "text/plain": [
              "<Figure size 432x288 with 1 Axes>"
            ]
          },
          "metadata": {
            "tags": [],
            "needs_background": "light"
          }
        }
      ]
    },
    {
      "cell_type": "code",
      "metadata": {
        "id": "z7JM4sHqw5G1",
        "colab": {
          "base_uri": "https://localhost:8080/"
        },
        "outputId": "4b4fc81f-c555-4518-8415-3713c58f869e"
      },
      "source": [
        "# We can see a few high value pries, with the majority being close to bottom (seems like ~100-200)\n",
        "\n",
        "# We now use skew to check for the symmetry of the data distribution (0 being perfectly symmetrical)\n",
        "# https://www.spcforexcel.com/knowledge/basic-statistics/are-skewness-and-kurtosis-useful-statistics\n",
        "df[\"price\"].skew()"
      ],
      "execution_count": 14,
      "outputs": [
        {
          "output_type": "execute_result",
          "data": {
            "text/plain": [
              "13.808558337216192"
            ]
          },
          "metadata": {
            "tags": []
          },
          "execution_count": 14
        }
      ]
    },
    {
      "cell_type": "code",
      "metadata": {
        "id": "KH8OFVGhaRvn",
        "colab": {
          "base_uri": "https://localhost:8080/"
        },
        "outputId": "ca0e58c0-63e5-4e22-8bfb-bbe5c0aa9492"
      },
      "source": [
        "# We can also use Kurtosis to analyze our data\n",
        "# “Kurtosis is the degree of peakedness of a distribution” – Wolfram MathWorld\n",
        "\n",
        "df[\"price\"].kurtosis()"
      ],
      "execution_count": 15,
      "outputs": [
        {
          "output_type": "execute_result",
          "data": {
            "text/plain": [
              "413.4301463784445"
            ]
          },
          "metadata": {
            "tags": []
          },
          "execution_count": 15
        }
      ]
    },
    {
      "cell_type": "code",
      "metadata": {
        "id": "AHr5vYEZw5G-",
        "colab": {
          "base_uri": "https://localhost:8080/"
        },
        "outputId": "459c7d35-51df-422e-8d1c-ff83b230876b"
      },
      "source": [
        "## So in order to remove or filter out our high value 'outliers' let's consider taking our data from the 99.5% percentile and exclude the bottom .25% and top 0.25% of prices\n",
        "## This function returns the highest value of the 99.5% percentile which is still relatively high when compared to the mean and median\n",
        "print(df[\"price\"].quantile(0.995))\n",
        "print(df[\"price\"].mean())\n",
        "print(df[\"price\"].median())"
      ],
      "execution_count": 16,
      "outputs": [
        {
          "output_type": "stream",
          "text": [
            "1600.0\n",
            "209.27879571481344\n",
            "135.0\n"
          ],
          "name": "stdout"
        }
      ]
    },
    {
      "cell_type": "code",
      "metadata": {
        "id": "5YfvE8BTw5HI"
      },
      "source": [
        "# Now we remove all prices over the 99.5% percentile (or in order words, we keep all data rows under the 99.5% value of 1600)\n",
        "df = df[df[\"price\"]<df[\"price\"].quantile(0.995)].reset_index(drop=True)"
      ],
      "execution_count": 17,
      "outputs": []
    },
    {
      "cell_type": "code",
      "metadata": {
        "id": "3ORYKN6Yw5HO",
        "colab": {
          "base_uri": "https://localhost:8080/"
        },
        "outputId": "335201e5-d8d9-424a-ec49-4f259cd95a4e"
      },
      "source": [
        "# Let's check our skew now\n",
        "df[\"price\"].skew()"
      ],
      "execution_count": 18,
      "outputs": [
        {
          "output_type": "execute_result",
          "data": {
            "text/plain": [
              "2.957872457159033"
            ]
          },
          "metadata": {
            "tags": []
          },
          "execution_count": 18
        }
      ]
    },
    {
      "cell_type": "code",
      "metadata": {
        "id": "mjQ3evsZw5HY",
        "colab": {
          "base_uri": "https://localhost:8080/"
        },
        "outputId": "4f8229b6-3525-4c84-e45a-0be82be9063e"
      },
      "source": [
        "# Let's check our data for null values\n",
        "df.isnull().sum()"
      ],
      "execution_count": 19,
      "outputs": [
        {
          "output_type": "execute_result",
          "data": {
            "text/plain": [
              "price                        0\n",
              "city                        32\n",
              "longitude                    0\n",
              "latitude                     0\n",
              "review_scores_rating      7466\n",
              "number_of_reviews            0\n",
              "minimum_nights               0\n",
              "security_deposit             0\n",
              "cleaning_fee                 0\n",
              "accommodates                 0\n",
              "bathrooms                   22\n",
              "bedrooms                     8\n",
              "beds                        33\n",
              "property_type                0\n",
              "room_type                    0\n",
              "availability_365             0\n",
              "host_identity_verified      34\n",
              "host_is_superhost           34\n",
              "host_since                  34\n",
              "cancellation_policy          0\n",
              "dtype: int64"
            ]
          },
          "metadata": {
            "tags": []
          },
          "execution_count": 19
        }
      ]
    },
    {
      "cell_type": "code",
      "metadata": {
        "id": "lCaILI1hejFQ",
        "colab": {
          "base_uri": "https://localhost:8080/"
        },
        "outputId": "6a3988dd-1658-4d4c-fabf-e25b2b0b3169"
      },
      "source": [
        "df.info()"
      ],
      "execution_count": 20,
      "outputs": [
        {
          "output_type": "stream",
          "text": [
            "<class 'pandas.core.frame.DataFrame'>\n",
            "RangeIndex: 26931 entries, 0 to 26930\n",
            "Data columns (total 20 columns):\n",
            " #   Column                  Non-Null Count  Dtype         \n",
            "---  ------                  --------------  -----         \n",
            " 0   price                   26931 non-null  float64       \n",
            " 1   city                    26899 non-null  object        \n",
            " 2   longitude               26931 non-null  float64       \n",
            " 3   latitude                26931 non-null  float64       \n",
            " 4   review_scores_rating    19465 non-null  float64       \n",
            " 5   number_of_reviews       26931 non-null  int64         \n",
            " 6   minimum_nights          26931 non-null  int64         \n",
            " 7   security_deposit        26931 non-null  float64       \n",
            " 8   cleaning_fee            26931 non-null  float64       \n",
            " 9   accommodates            26931 non-null  int64         \n",
            " 10  bathrooms               26909 non-null  float64       \n",
            " 11  bedrooms                26923 non-null  float64       \n",
            " 12  beds                    26898 non-null  float64       \n",
            " 13  property_type           26931 non-null  object        \n",
            " 14  room_type               26931 non-null  object        \n",
            " 15  availability_365        26931 non-null  int64         \n",
            " 16  host_identity_verified  26897 non-null  object        \n",
            " 17  host_is_superhost       26897 non-null  object        \n",
            " 18  host_since              26897 non-null  datetime64[ns]\n",
            " 19  cancellation_policy     26931 non-null  object        \n",
            "dtypes: datetime64[ns](1), float64(9), int64(4), object(6)\n",
            "memory usage: 4.1+ MB\n"
          ],
          "name": "stdout"
        }
      ]
    },
    {
      "cell_type": "code",
      "metadata": {
        "id": "H4Uw7ou7w5Hz",
        "colab": {
          "base_uri": "https://localhost:8080/"
        },
        "outputId": "d055375f-2529-43d7-ed6f-a1eb46f3b3d0"
      },
      "source": [
        "print(df[\"cancellation_policy\"].value_counts())\n",
        "print(df[\"city\"].value_counts())\n",
        "print(df[\"property_type\"].value_counts())\n",
        "print(df[\"room_type\"].value_counts())"
      ],
      "execution_count": 21,
      "outputs": [
        {
          "output_type": "stream",
          "text": [
            "strict_14_with_grace_period    11585\n",
            "flexible                        8538\n",
            "moderate                        6776\n",
            "super_strict_60                   31\n",
            "super_strict_30                    1\n",
            "Name: cancellation_policy, dtype: int64\n",
            "Bondi Beach     1671\n",
            "Manly            958\n",
            "Surry Hills      919\n",
            "Bondi            785\n",
            "Randwick         684\n",
            "                ... \n",
            "Potts Point        1\n",
            "Little bay         1\n",
            "Dawes Point        1\n",
            "Roseville          1\n",
            "north manly        1\n",
            "Name: city, Length: 741, dtype: int64\n",
            "Apartment                 15901\n",
            "House                      7722\n",
            "Townhouse                  1145\n",
            "Condominium                 351\n",
            "Guest suite                 350\n",
            "Guesthouse                  287\n",
            "Villa                       201\n",
            "Loft                        175\n",
            "Bed and breakfast           156\n",
            "Other                       147\n",
            "Bungalow                    118\n",
            "Cabin                        77\n",
            "Serviced apartment           74\n",
            "Cottage                      60\n",
            "Hostel                       53\n",
            "Boutique hotel               25\n",
            "Boat                         18\n",
            "Hotel                        13\n",
            "Tent                         13\n",
            "Tiny house                    9\n",
            "Camper/RV                     6\n",
            "Resort                        6\n",
            "Island                        3\n",
            "Farm stay                     3\n",
            "Yurt                          2\n",
            "Tipi                          2\n",
            "Chalet                        2\n",
            "Treehouse                     1\n",
            "Train                         1\n",
            "Nature lodge                  1\n",
            "Barn                          1\n",
            "Houseboat                     1\n",
            "Campsite                      1\n",
            "Casa particular (Cuba)        1\n",
            "Castle                        1\n",
            "Hut                           1\n",
            "Aparthotel                    1\n",
            "Earth house                   1\n",
            "Dome house                    1\n",
            "Name: property_type, dtype: int64\n",
            "Entire home/apt    16789\n",
            "Private room        9745\n",
            "Shared room          397\n",
            "Name: room_type, dtype: int64\n"
          ],
          "name": "stdout"
        }
      ]
    },
    {
      "cell_type": "code",
      "metadata": {
        "id": "Z2B1YEXrw5H7",
        "colab": {
          "base_uri": "https://localhost:8080/",
          "height": 304
        },
        "outputId": "3e39216b-c184-45ef-d7c4-65e1d2f7e1cc"
      },
      "source": [
        "df.describe()"
      ],
      "execution_count": 22,
      "outputs": [
        {
          "output_type": "execute_result",
          "data": {
            "text/html": [
              "<div>\n",
              "<style scoped>\n",
              "    .dataframe tbody tr th:only-of-type {\n",
              "        vertical-align: middle;\n",
              "    }\n",
              "\n",
              "    .dataframe tbody tr th {\n",
              "        vertical-align: top;\n",
              "    }\n",
              "\n",
              "    .dataframe thead th {\n",
              "        text-align: right;\n",
              "    }\n",
              "</style>\n",
              "<table border=\"1\" class=\"dataframe\">\n",
              "  <thead>\n",
              "    <tr style=\"text-align: right;\">\n",
              "      <th></th>\n",
              "      <th>price</th>\n",
              "      <th>longitude</th>\n",
              "      <th>latitude</th>\n",
              "      <th>review_scores_rating</th>\n",
              "      <th>number_of_reviews</th>\n",
              "      <th>minimum_nights</th>\n",
              "      <th>security_deposit</th>\n",
              "      <th>cleaning_fee</th>\n",
              "      <th>accommodates</th>\n",
              "      <th>bathrooms</th>\n",
              "      <th>bedrooms</th>\n",
              "      <th>beds</th>\n",
              "      <th>availability_365</th>\n",
              "    </tr>\n",
              "  </thead>\n",
              "  <tbody>\n",
              "    <tr>\n",
              "      <th>count</th>\n",
              "      <td>26931.000000</td>\n",
              "      <td>26931.000000</td>\n",
              "      <td>26931.000000</td>\n",
              "      <td>19465.000000</td>\n",
              "      <td>26931.000000</td>\n",
              "      <td>26931.000000</td>\n",
              "      <td>26931.000000</td>\n",
              "      <td>26931.000000</td>\n",
              "      <td>26931.000000</td>\n",
              "      <td>26909.000000</td>\n",
              "      <td>26923.000000</td>\n",
              "      <td>26898.000000</td>\n",
              "      <td>26931.000000</td>\n",
              "    </tr>\n",
              "    <tr>\n",
              "      <th>mean</th>\n",
              "      <td>196.065464</td>\n",
              "      <td>151.210438</td>\n",
              "      <td>-33.862675</td>\n",
              "      <td>93.404932</td>\n",
              "      <td>14.070031</td>\n",
              "      <td>4.482010</td>\n",
              "      <td>293.870261</td>\n",
              "      <td>65.268687</td>\n",
              "      <td>3.357395</td>\n",
              "      <td>1.340964</td>\n",
              "      <td>1.600787</td>\n",
              "      <td>1.996542</td>\n",
              "      <td>101.575916</td>\n",
              "    </tr>\n",
              "    <tr>\n",
              "      <th>std</th>\n",
              "      <td>199.813830</td>\n",
              "      <td>0.079425</td>\n",
              "      <td>0.071861</td>\n",
              "      <td>9.358515</td>\n",
              "      <td>29.870227</td>\n",
              "      <td>14.421896</td>\n",
              "      <td>549.642202</td>\n",
              "      <td>84.886663</td>\n",
              "      <td>2.160004</td>\n",
              "      <td>0.638187</td>\n",
              "      <td>1.091213</td>\n",
              "      <td>1.506535</td>\n",
              "      <td>127.822623</td>\n",
              "    </tr>\n",
              "    <tr>\n",
              "      <th>min</th>\n",
              "      <td>0.000000</td>\n",
              "      <td>150.644964</td>\n",
              "      <td>-34.135212</td>\n",
              "      <td>20.000000</td>\n",
              "      <td>0.000000</td>\n",
              "      <td>1.000000</td>\n",
              "      <td>0.000000</td>\n",
              "      <td>0.000000</td>\n",
              "      <td>1.000000</td>\n",
              "      <td>0.000000</td>\n",
              "      <td>0.000000</td>\n",
              "      <td>0.000000</td>\n",
              "      <td>0.000000</td>\n",
              "    </tr>\n",
              "    <tr>\n",
              "      <th>25%</th>\n",
              "      <td>80.000000</td>\n",
              "      <td>151.184336</td>\n",
              "      <td>-33.897653</td>\n",
              "      <td>90.000000</td>\n",
              "      <td>1.000000</td>\n",
              "      <td>1.000000</td>\n",
              "      <td>0.000000</td>\n",
              "      <td>0.000000</td>\n",
              "      <td>2.000000</td>\n",
              "      <td>1.000000</td>\n",
              "      <td>1.000000</td>\n",
              "      <td>1.000000</td>\n",
              "      <td>0.000000</td>\n",
              "    </tr>\n",
              "    <tr>\n",
              "      <th>50%</th>\n",
              "      <td>132.000000</td>\n",
              "      <td>151.223029</td>\n",
              "      <td>-33.883161</td>\n",
              "      <td>96.000000</td>\n",
              "      <td>3.000000</td>\n",
              "      <td>2.000000</td>\n",
              "      <td>0.000000</td>\n",
              "      <td>40.000000</td>\n",
              "      <td>2.000000</td>\n",
              "      <td>1.000000</td>\n",
              "      <td>1.000000</td>\n",
              "      <td>1.000000</td>\n",
              "      <td>32.000000</td>\n",
              "    </tr>\n",
              "    <tr>\n",
              "      <th>75%</th>\n",
              "      <td>225.000000</td>\n",
              "      <td>151.264706</td>\n",
              "      <td>-33.832189</td>\n",
              "      <td>100.000000</td>\n",
              "      <td>13.000000</td>\n",
              "      <td>5.000000</td>\n",
              "      <td>400.000000</td>\n",
              "      <td>99.000000</td>\n",
              "      <td>4.000000</td>\n",
              "      <td>1.500000</td>\n",
              "      <td>2.000000</td>\n",
              "      <td>2.000000</td>\n",
              "      <td>179.000000</td>\n",
              "    </tr>\n",
              "    <tr>\n",
              "      <th>max</th>\n",
              "      <td>1599.000000</td>\n",
              "      <td>151.339811</td>\n",
              "      <td>-33.389728</td>\n",
              "      <td>100.000000</td>\n",
              "      <td>468.000000</td>\n",
              "      <td>1000.000000</td>\n",
              "      <td>7000.000000</td>\n",
              "      <td>999.000000</td>\n",
              "      <td>16.000000</td>\n",
              "      <td>10.000000</td>\n",
              "      <td>46.000000</td>\n",
              "      <td>29.000000</td>\n",
              "      <td>365.000000</td>\n",
              "    </tr>\n",
              "  </tbody>\n",
              "</table>\n",
              "</div>"
            ],
            "text/plain": [
              "              price     longitude      latitude  review_scores_rating  \\\n",
              "count  26931.000000  26931.000000  26931.000000          19465.000000   \n",
              "mean     196.065464    151.210438    -33.862675             93.404932   \n",
              "std      199.813830      0.079425      0.071861              9.358515   \n",
              "min        0.000000    150.644964    -34.135212             20.000000   \n",
              "25%       80.000000    151.184336    -33.897653             90.000000   \n",
              "50%      132.000000    151.223029    -33.883161             96.000000   \n",
              "75%      225.000000    151.264706    -33.832189            100.000000   \n",
              "max     1599.000000    151.339811    -33.389728            100.000000   \n",
              "\n",
              "       number_of_reviews  minimum_nights  security_deposit  cleaning_fee  \\\n",
              "count       26931.000000    26931.000000      26931.000000  26931.000000   \n",
              "mean           14.070031        4.482010        293.870261     65.268687   \n",
              "std            29.870227       14.421896        549.642202     84.886663   \n",
              "min             0.000000        1.000000          0.000000      0.000000   \n",
              "25%             1.000000        1.000000          0.000000      0.000000   \n",
              "50%             3.000000        2.000000          0.000000     40.000000   \n",
              "75%            13.000000        5.000000        400.000000     99.000000   \n",
              "max           468.000000     1000.000000       7000.000000    999.000000   \n",
              "\n",
              "       accommodates     bathrooms      bedrooms          beds  \\\n",
              "count  26931.000000  26909.000000  26923.000000  26898.000000   \n",
              "mean       3.357395      1.340964      1.600787      1.996542   \n",
              "std        2.160004      0.638187      1.091213      1.506535   \n",
              "min        1.000000      0.000000      0.000000      0.000000   \n",
              "25%        2.000000      1.000000      1.000000      1.000000   \n",
              "50%        2.000000      1.000000      1.000000      1.000000   \n",
              "75%        4.000000      1.500000      2.000000      2.000000   \n",
              "max       16.000000     10.000000     46.000000     29.000000   \n",
              "\n",
              "       availability_365  \n",
              "count      26931.000000  \n",
              "mean         101.575916  \n",
              "std          127.822623  \n",
              "min            0.000000  \n",
              "25%            0.000000  \n",
              "50%           32.000000  \n",
              "75%          179.000000  \n",
              "max          365.000000  "
            ]
          },
          "metadata": {
            "tags": []
          },
          "execution_count": 22
        }
      ]
    },
    {
      "cell_type": "code",
      "metadata": {
        "id": "ysvjJRt1w5II",
        "colab": {
          "base_uri": "https://localhost:8080/",
          "height": 868
        },
        "outputId": "548f0824-917b-4283-c892-bcfa4cf1af34"
      },
      "source": [
        "# Data Exploration - Let's explore \n",
        "%matplotlib inline\n",
        "import matplotlib.pyplot as plt\n",
        "\n",
        "try:\n",
        "    # We select all rows and all columns after the 6th\n",
        "    df.iloc[:,6:].hist(bins=50, figsize=(20,15))\n",
        "    save_fig(\"attribute_histogram_plots\")\n",
        "    plt.show()\n",
        "except AttributeError:\n",
        "    pass\n"
      ],
      "execution_count": 23,
      "outputs": [
        {
          "output_type": "stream",
          "text": [
            "Saving figure attribute_histogram_plots\n"
          ],
          "name": "stdout"
        },
        {
          "output_type": "display_data",
          "data": {
            "image/png": "[encoded data removed]",
            "text/plain": [
              "<Figure size 1440x1080 with 9 Axes>"
            ]
          },
          "metadata": {
            "tags": [],
            "needs_background": "light"
          }
        }
      ]
    },
    {
      "cell_type": "code",
      "metadata": {
        "id": "XsCwHu6Aw5IU",
        "colab": {
          "base_uri": "https://localhost:8080/"
        },
        "outputId": "7c8af461-c774-4cf2-f155-88058549d7b5"
      },
      "source": [
        "## We keep all the city types to create our model (more is data usually better), even though our customer, sepecifcally wants information about Bondi Beach \n",
        "  \n",
        "df[\"city\"].value_counts().head(10)"
      ],
      "execution_count": 24,
      "outputs": [
        {
          "output_type": "execute_result",
          "data": {
            "text/plain": [
              "Bondi Beach     1671\n",
              "Manly            958\n",
              "Surry Hills      919\n",
              "Bondi            785\n",
              "Randwick         684\n",
              "Sydney           682\n",
              "Coogee           675\n",
              "Darlinghurst     660\n",
              "North Bondi      629\n",
              "Newtown          490\n",
              "Name: city, dtype: int64"
            ]
          },
          "metadata": {
            "tags": []
          },
          "execution_count": 24
        }
      ]
    },
    {
      "cell_type": "code",
      "metadata": {
        "id": "XNg25DOfiswe",
        "colab": {
          "base_uri": "https://localhost:8080/",
          "height": 628
        },
        "outputId": "23520d08-9064-414d-c4dc-53f451729de9"
      },
      "source": [
        "plt.figure(figsize=(16,10))\n",
        "ax = sns.countplot(x=\"city\", data=df)"
      ],
      "execution_count": 25,
      "outputs": [
        {
          "output_type": "display_data",
          "data": {
            "image/png": "[encoded data removed]",
            "text/plain": [
              "<Figure size 1152x720 with 1 Axes>"
            ]
          },
          "metadata": {
            "tags": [],
            "needs_background": "light"
          }
        }
      ]
    },
    {
      "cell_type": "code",
      "metadata": {
        "id": "4wL-UHLfw5Ij"
      },
      "source": [
        "## For this taks we will keep the top 20 Sydney locations\n",
        "\n",
        "list_of_20 = list(df[\"city\"].value_counts().head(10).index)\n",
        "df = df[df[\"city\"].isin(list_of_20)].reset_index(drop=True)"
      ],
      "execution_count": 26,
      "outputs": []
    },
    {
      "cell_type": "code",
      "metadata": {
        "id": "bW8eqhsjkeNh",
        "colab": {
          "base_uri": "https://localhost:8080/"
        },
        "outputId": "4c32a3da-dc73-44b3-bbf1-ec99f2504150"
      },
      "source": [
        "df[\"property_type\"].value_counts()"
      ],
      "execution_count": 27,
      "outputs": [
        {
          "output_type": "execute_result",
          "data": {
            "text/plain": [
              "Apartment             5970\n",
              "House                 1497\n",
              "Townhouse              271\n",
              "Condominium            115\n",
              "Loft                    59\n",
              "Guest suite             44\n",
              "Other                   33\n",
              "Hostel                  30\n",
              "Bed and breakfast       25\n",
              "Guesthouse              24\n",
              "Serviced apartment      23\n",
              "Villa                   16\n",
              "Bungalow                 7\n",
              "Boutique hotel           6\n",
              "Tent                     6\n",
              "Cottage                  6\n",
              "Resort                   5\n",
              "Tiny house               5\n",
              "Hotel                    3\n",
              "Cabin                    2\n",
              "Yurt                     1\n",
              "Earth house              1\n",
              "Houseboat                1\n",
              "Chalet                   1\n",
              "Camper/RV                1\n",
              "Aparthotel               1\n",
              "Name: property_type, dtype: int64"
            ]
          },
          "metadata": {
            "tags": []
          },
          "execution_count": 27
        }
      ]
    },
    {
      "cell_type": "code",
      "metadata": {
        "id": "pEA9rG38w5I6",
        "colab": {
          "base_uri": "https://localhost:8080/"
        },
        "outputId": "c49d0e2c-bb9d-4b42-a40e-0c72a04c9ea9"
      },
      "source": [
        "# We now remove the rare occurences in categories as it's necessary for the cross validation step\n",
        "# the below step is somewhat similar for what has been done with cities above\n",
        "\n",
        "# We store the counts of each type in the variable item_counts\n",
        "item_counts = df.groupby(['property_type']).size()\n",
        "\n",
        "# Store a list of the rare property types here i.e. the types that have a count less than 10 \n",
        "rare_items = list(item_counts.loc[item_counts <= 10].index.values)\n",
        "\n",
        "# drop the property types that were rare\n",
        "df = df[~df[\"property_type\"].isin(rare_items)].reset_index(drop=True)\n",
        "\n",
        "# Sanity check\n",
        "df[\"property_type\"].value_counts()"
      ],
      "execution_count": 28,
      "outputs": [
        {
          "output_type": "execute_result",
          "data": {
            "text/plain": [
              "Apartment             5970\n",
              "House                 1497\n",
              "Townhouse              271\n",
              "Condominium            115\n",
              "Loft                    59\n",
              "Guest suite             44\n",
              "Other                   33\n",
              "Hostel                  30\n",
              "Bed and breakfast       25\n",
              "Guesthouse              24\n",
              "Serviced apartment      23\n",
              "Villa                   16\n",
              "Name: property_type, dtype: int64"
            ]
          },
          "metadata": {
            "tags": []
          },
          "execution_count": 28
        }
      ]
    },
    {
      "cell_type": "code",
      "metadata": {
        "id": "1-wPuzs1w5Kd"
      },
      "source": [
        "from sklearn.model_selection import train_test_split\n",
        "\n",
        "train_set, test_set = train_test_split(df, test_size=0.2, random_state=42)"
      ],
      "execution_count": 29,
      "outputs": []
    },
    {
      "cell_type": "code",
      "metadata": {
        "id": "sc7D0atAw5Km",
        "colab": {
          "base_uri": "https://localhost:8080/",
          "height": 299
        },
        "outputId": "fee7705b-d24c-4d06-b170-b8a47f1b844b"
      },
      "source": [
        "test_set.head()"
      ],
      "execution_count": 30,
      "outputs": [
        {
          "output_type": "execute_result",
          "data": {
            "text/html": [
              "<div>\n",
              "<style scoped>\n",
              "    .dataframe tbody tr th:only-of-type {\n",
              "        vertical-align: middle;\n",
              "    }\n",
              "\n",
              "    .dataframe tbody tr th {\n",
              "        vertical-align: top;\n",
              "    }\n",
              "\n",
              "    .dataframe thead th {\n",
              "        text-align: right;\n",
              "    }\n",
              "</style>\n",
              "<table border=\"1\" class=\"dataframe\">\n",
              "  <thead>\n",
              "    <tr style=\"text-align: right;\">\n",
              "      <th></th>\n",
              "      <th>price</th>\n",
              "      <th>city</th>\n",
              "      <th>longitude</th>\n",
              "      <th>latitude</th>\n",
              "      <th>review_scores_rating</th>\n",
              "      <th>number_of_reviews</th>\n",
              "      <th>minimum_nights</th>\n",
              "      <th>security_deposit</th>\n",
              "      <th>cleaning_fee</th>\n",
              "      <th>accommodates</th>\n",
              "      <th>bathrooms</th>\n",
              "      <th>bedrooms</th>\n",
              "      <th>beds</th>\n",
              "      <th>property_type</th>\n",
              "      <th>room_type</th>\n",
              "      <th>availability_365</th>\n",
              "      <th>host_identity_verified</th>\n",
              "      <th>host_is_superhost</th>\n",
              "      <th>host_since</th>\n",
              "      <th>cancellation_policy</th>\n",
              "    </tr>\n",
              "  </thead>\n",
              "  <tbody>\n",
              "    <tr>\n",
              "      <th>4084</th>\n",
              "      <td>68.0</td>\n",
              "      <td>North Bondi</td>\n",
              "      <td>151.279684</td>\n",
              "      <td>-33.884092</td>\n",
              "      <td>93.0</td>\n",
              "      <td>3</td>\n",
              "      <td>7</td>\n",
              "      <td>150.0</td>\n",
              "      <td>0.0</td>\n",
              "      <td>2</td>\n",
              "      <td>2.5</td>\n",
              "      <td>1.0</td>\n",
              "      <td>1.0</td>\n",
              "      <td>House</td>\n",
              "      <td>Private room</td>\n",
              "      <td>4</td>\n",
              "      <td>t</td>\n",
              "      <td>f</td>\n",
              "      <td>2016-08-18</td>\n",
              "      <td>strict_14_with_grace_period</td>\n",
              "    </tr>\n",
              "    <tr>\n",
              "      <th>965</th>\n",
              "      <td>128.0</td>\n",
              "      <td>Surry Hills</td>\n",
              "      <td>151.212610</td>\n",
              "      <td>-33.891416</td>\n",
              "      <td>100.0</td>\n",
              "      <td>4</td>\n",
              "      <td>5</td>\n",
              "      <td>690.0</td>\n",
              "      <td>99.0</td>\n",
              "      <td>4</td>\n",
              "      <td>1.0</td>\n",
              "      <td>2.0</td>\n",
              "      <td>2.0</td>\n",
              "      <td>Townhouse</td>\n",
              "      <td>Entire home/apt</td>\n",
              "      <td>173</td>\n",
              "      <td>t</td>\n",
              "      <td>t</td>\n",
              "      <td>2014-10-31</td>\n",
              "      <td>moderate</td>\n",
              "    </tr>\n",
              "    <tr>\n",
              "      <th>8100</th>\n",
              "      <td>115.0</td>\n",
              "      <td>Darlinghurst</td>\n",
              "      <td>151.217882</td>\n",
              "      <td>-33.874271</td>\n",
              "      <td>98.0</td>\n",
              "      <td>8</td>\n",
              "      <td>2</td>\n",
              "      <td>0.0</td>\n",
              "      <td>30.0</td>\n",
              "      <td>3</td>\n",
              "      <td>1.0</td>\n",
              "      <td>1.0</td>\n",
              "      <td>1.0</td>\n",
              "      <td>Apartment</td>\n",
              "      <td>Entire home/apt</td>\n",
              "      <td>12</td>\n",
              "      <td>f</td>\n",
              "      <td>f</td>\n",
              "      <td>2017-04-02</td>\n",
              "      <td>moderate</td>\n",
              "    </tr>\n",
              "    <tr>\n",
              "      <th>3882</th>\n",
              "      <td>125.0</td>\n",
              "      <td>Sydney</td>\n",
              "      <td>151.204837</td>\n",
              "      <td>-33.875924</td>\n",
              "      <td>NaN</td>\n",
              "      <td>0</td>\n",
              "      <td>2</td>\n",
              "      <td>150.0</td>\n",
              "      <td>50.0</td>\n",
              "      <td>4</td>\n",
              "      <td>1.0</td>\n",
              "      <td>1.0</td>\n",
              "      <td>3.0</td>\n",
              "      <td>Other</td>\n",
              "      <td>Shared room</td>\n",
              "      <td>363</td>\n",
              "      <td>f</td>\n",
              "      <td>f</td>\n",
              "      <td>2014-12-01</td>\n",
              "      <td>flexible</td>\n",
              "    </tr>\n",
              "    <tr>\n",
              "      <th>1010</th>\n",
              "      <td>250.0</td>\n",
              "      <td>North Bondi</td>\n",
              "      <td>151.274298</td>\n",
              "      <td>-33.885652</td>\n",
              "      <td>100.0</td>\n",
              "      <td>4</td>\n",
              "      <td>2</td>\n",
              "      <td>0.0</td>\n",
              "      <td>80.0</td>\n",
              "      <td>2</td>\n",
              "      <td>1.0</td>\n",
              "      <td>1.0</td>\n",
              "      <td>1.0</td>\n",
              "      <td>Apartment</td>\n",
              "      <td>Entire home/apt</td>\n",
              "      <td>363</td>\n",
              "      <td>t</td>\n",
              "      <td>f</td>\n",
              "      <td>2012-09-29</td>\n",
              "      <td>strict_14_with_grace_period</td>\n",
              "    </tr>\n",
              "  </tbody>\n",
              "</table>\n",
              "</div>"
            ],
            "text/plain": [
              "      price          city   longitude   latitude  review_scores_rating  \\\n",
              "4084   68.0   North Bondi  151.279684 -33.884092                  93.0   \n",
              "965   128.0   Surry Hills  151.212610 -33.891416                 100.0   \n",
              "8100  115.0  Darlinghurst  151.217882 -33.874271                  98.0   \n",
              "3882  125.0        Sydney  151.204837 -33.875924                   NaN   \n",
              "1010  250.0   North Bondi  151.274298 -33.885652                 100.0   \n",
              "\n",
              "      number_of_reviews  minimum_nights  security_deposit  cleaning_fee  \\\n",
              "4084                  3               7             150.0           0.0   \n",
              "965                   4               5             690.0          99.0   \n",
              "8100                  8               2               0.0          30.0   \n",
              "3882                  0               2             150.0          50.0   \n",
              "1010                  4               2               0.0          80.0   \n",
              "\n",
              "      accommodates  bathrooms  bedrooms  beds property_type        room_type  \\\n",
              "4084             2        2.5       1.0   1.0         House     Private room   \n",
              "965              4        1.0       2.0   2.0     Townhouse  Entire home/apt   \n",
              "8100             3        1.0       1.0   1.0     Apartment  Entire home/apt   \n",
              "3882             4        1.0       1.0   3.0         Other      Shared room   \n",
              "1010             2        1.0       1.0   1.0     Apartment  Entire home/apt   \n",
              "\n",
              "      availability_365 host_identity_verified host_is_superhost host_since  \\\n",
              "4084                 4                      t                 f 2016-08-18   \n",
              "965                173                      t                 t 2014-10-31   \n",
              "8100                12                      f                 f 2017-04-02   \n",
              "3882               363                      f                 f 2014-12-01   \n",
              "1010               363                      t                 f 2012-09-29   \n",
              "\n",
              "              cancellation_policy  \n",
              "4084  strict_14_with_grace_period  \n",
              "965                      moderate  \n",
              "8100                     moderate  \n",
              "3882                     flexible  \n",
              "1010  strict_14_with_grace_period  "
            ]
          },
          "metadata": {
            "tags": []
          },
          "execution_count": 30
        }
      ]
    },
    {
      "cell_type": "code",
      "metadata": {
        "id": "UW7POEbXw5LG"
      },
      "source": [
        "##  Similar to above encoding, here we encode binary 1, 0 for t and f. \n",
        "\n",
        "df[\"host_identity_verified\"] = df[\"host_identity_verified\"].apply(lambda x: 1 if x==\"t\" else 0)\n",
        "df[\"host_is_superhost\"] = df[\"host_is_superhost\"].apply(lambda x: 1 if x==\"t\" else 0)"
      ],
      "execution_count": 31,
      "outputs": []
    },
    {
      "cell_type": "code",
      "metadata": {
        "id": "P6GhLgIZw5K-"
      },
      "source": [
        "# We need to convert our categorical columns to numeric, so we use the sklearn's funtion LabelEncoder to do this\n",
        "from sklearn import preprocessing\n",
        "\n",
        "le = preprocessing.LabelEncoder()\n",
        "\n",
        "for col in [\"city\"]:\n",
        "    df[col+\"_code\"] = le.fit_transform(df[col])"
      ],
      "execution_count": 32,
      "outputs": []
    },
    {
      "cell_type": "code",
      "metadata": {
        "id": "KNPv7-zto22G",
        "colab": {
          "base_uri": "https://localhost:8080/",
          "height": 299
        },
        "outputId": "7c3c7a97-3a0b-4613-954d-2c3efc2dabdf"
      },
      "source": [
        "df.head()"
      ],
      "execution_count": 33,
      "outputs": [
        {
          "output_type": "execute_result",
          "data": {
            "text/html": [
              "<div>\n",
              "<style scoped>\n",
              "    .dataframe tbody tr th:only-of-type {\n",
              "        vertical-align: middle;\n",
              "    }\n",
              "\n",
              "    .dataframe tbody tr th {\n",
              "        vertical-align: top;\n",
              "    }\n",
              "\n",
              "    .dataframe thead th {\n",
              "        text-align: right;\n",
              "    }\n",
              "</style>\n",
              "<table border=\"1\" class=\"dataframe\">\n",
              "  <thead>\n",
              "    <tr style=\"text-align: right;\">\n",
              "      <th></th>\n",
              "      <th>price</th>\n",
              "      <th>city</th>\n",
              "      <th>longitude</th>\n",
              "      <th>latitude</th>\n",
              "      <th>review_scores_rating</th>\n",
              "      <th>number_of_reviews</th>\n",
              "      <th>minimum_nights</th>\n",
              "      <th>security_deposit</th>\n",
              "      <th>cleaning_fee</th>\n",
              "      <th>accommodates</th>\n",
              "      <th>bathrooms</th>\n",
              "      <th>bedrooms</th>\n",
              "      <th>beds</th>\n",
              "      <th>property_type</th>\n",
              "      <th>room_type</th>\n",
              "      <th>availability_365</th>\n",
              "      <th>host_identity_verified</th>\n",
              "      <th>host_is_superhost</th>\n",
              "      <th>host_since</th>\n",
              "      <th>cancellation_policy</th>\n",
              "      <th>city_code</th>\n",
              "    </tr>\n",
              "  </thead>\n",
              "  <tbody>\n",
              "    <tr>\n",
              "      <th>0</th>\n",
              "      <td>111.0</td>\n",
              "      <td>Darlinghurst</td>\n",
              "      <td>151.216541</td>\n",
              "      <td>-33.880455</td>\n",
              "      <td>88.0</td>\n",
              "      <td>272</td>\n",
              "      <td>2</td>\n",
              "      <td>0.0</td>\n",
              "      <td>0.0</td>\n",
              "      <td>2</td>\n",
              "      <td>1.0</td>\n",
              "      <td>1.0</td>\n",
              "      <td>1.0</td>\n",
              "      <td>Apartment</td>\n",
              "      <td>Private room</td>\n",
              "      <td>285</td>\n",
              "      <td>1</td>\n",
              "      <td>0</td>\n",
              "      <td>2009-03-12</td>\n",
              "      <td>strict_14_with_grace_period</td>\n",
              "      <td>3</td>\n",
              "    </tr>\n",
              "    <tr>\n",
              "      <th>1</th>\n",
              "      <td>700.0</td>\n",
              "      <td>Bondi Beach</td>\n",
              "      <td>151.274506</td>\n",
              "      <td>-33.889087</td>\n",
              "      <td>95.0</td>\n",
              "      <td>53</td>\n",
              "      <td>4</td>\n",
              "      <td>1500.0</td>\n",
              "      <td>370.0</td>\n",
              "      <td>11</td>\n",
              "      <td>3.0</td>\n",
              "      <td>5.0</td>\n",
              "      <td>7.0</td>\n",
              "      <td>House</td>\n",
              "      <td>Entire home/apt</td>\n",
              "      <td>255</td>\n",
              "      <td>1</td>\n",
              "      <td>1</td>\n",
              "      <td>2010-08-14</td>\n",
              "      <td>strict_14_with_grace_period</td>\n",
              "      <td>1</td>\n",
              "    </tr>\n",
              "    <tr>\n",
              "      <th>2</th>\n",
              "      <td>190.0</td>\n",
              "      <td>Bondi</td>\n",
              "      <td>151.271029</td>\n",
              "      <td>-33.897393</td>\n",
              "      <td>94.0</td>\n",
              "      <td>12</td>\n",
              "      <td>2</td>\n",
              "      <td>500.0</td>\n",
              "      <td>150.0</td>\n",
              "      <td>4</td>\n",
              "      <td>1.0</td>\n",
              "      <td>2.0</td>\n",
              "      <td>3.0</td>\n",
              "      <td>Apartment</td>\n",
              "      <td>Entire home/apt</td>\n",
              "      <td>233</td>\n",
              "      <td>1</td>\n",
              "      <td>0</td>\n",
              "      <td>2010-04-26</td>\n",
              "      <td>strict_14_with_grace_period</td>\n",
              "      <td>0</td>\n",
              "    </tr>\n",
              "    <tr>\n",
              "      <th>3</th>\n",
              "      <td>225.0</td>\n",
              "      <td>North Bondi</td>\n",
              "      <td>151.283553</td>\n",
              "      <td>-33.889633</td>\n",
              "      <td>79.0</td>\n",
              "      <td>16</td>\n",
              "      <td>2</td>\n",
              "      <td>500.0</td>\n",
              "      <td>130.0</td>\n",
              "      <td>4</td>\n",
              "      <td>1.0</td>\n",
              "      <td>2.0</td>\n",
              "      <td>2.0</td>\n",
              "      <td>Apartment</td>\n",
              "      <td>Entire home/apt</td>\n",
              "      <td>152</td>\n",
              "      <td>1</td>\n",
              "      <td>0</td>\n",
              "      <td>2010-04-26</td>\n",
              "      <td>strict_14_with_grace_period</td>\n",
              "      <td>6</td>\n",
              "    </tr>\n",
              "    <tr>\n",
              "      <th>4</th>\n",
              "      <td>130.0</td>\n",
              "      <td>Bondi Beach</td>\n",
              "      <td>151.273084</td>\n",
              "      <td>-33.891846</td>\n",
              "      <td>95.0</td>\n",
              "      <td>119</td>\n",
              "      <td>4</td>\n",
              "      <td>200.0</td>\n",
              "      <td>60.0</td>\n",
              "      <td>2</td>\n",
              "      <td>1.0</td>\n",
              "      <td>1.0</td>\n",
              "      <td>1.0</td>\n",
              "      <td>Apartment</td>\n",
              "      <td>Entire home/apt</td>\n",
              "      <td>94</td>\n",
              "      <td>1</td>\n",
              "      <td>1</td>\n",
              "      <td>2012-01-18</td>\n",
              "      <td>strict_14_with_grace_period</td>\n",
              "      <td>1</td>\n",
              "    </tr>\n",
              "  </tbody>\n",
              "</table>\n",
              "</div>"
            ],
            "text/plain": [
              "   price          city   longitude   latitude  review_scores_rating  \\\n",
              "0  111.0  Darlinghurst  151.216541 -33.880455                  88.0   \n",
              "1  700.0   Bondi Beach  151.274506 -33.889087                  95.0   \n",
              "2  190.0         Bondi  151.271029 -33.897393                  94.0   \n",
              "3  225.0   North Bondi  151.283553 -33.889633                  79.0   \n",
              "4  130.0   Bondi Beach  151.273084 -33.891846                  95.0   \n",
              "\n",
              "   number_of_reviews  minimum_nights  security_deposit  cleaning_fee  \\\n",
              "0                272               2               0.0           0.0   \n",
              "1                 53               4            1500.0         370.0   \n",
              "2                 12               2             500.0         150.0   \n",
              "3                 16               2             500.0         130.0   \n",
              "4                119               4             200.0          60.0   \n",
              "\n",
              "   accommodates  bathrooms  bedrooms  beds property_type        room_type  \\\n",
              "0             2        1.0       1.0   1.0     Apartment     Private room   \n",
              "1            11        3.0       5.0   7.0         House  Entire home/apt   \n",
              "2             4        1.0       2.0   3.0     Apartment  Entire home/apt   \n",
              "3             4        1.0       2.0   2.0     Apartment  Entire home/apt   \n",
              "4             2        1.0       1.0   1.0     Apartment  Entire home/apt   \n",
              "\n",
              "   availability_365  host_identity_verified  host_is_superhost host_since  \\\n",
              "0               285                       1                  0 2009-03-12   \n",
              "1               255                       1                  1 2010-08-14   \n",
              "2               233                       1                  0 2010-04-26   \n",
              "3               152                       1                  0 2010-04-26   \n",
              "4                94                       1                  1 2012-01-18   \n",
              "\n",
              "           cancellation_policy  city_code  \n",
              "0  strict_14_with_grace_period          3  \n",
              "1  strict_14_with_grace_period          1  \n",
              "2  strict_14_with_grace_period          0  \n",
              "3  strict_14_with_grace_period          6  \n",
              "4  strict_14_with_grace_period          1  "
            ]
          },
          "metadata": {
            "tags": []
          },
          "execution_count": 33
        }
      ]
    },
    {
      "cell_type": "markdown",
      "metadata": {
        "id": "NC_m5jM_qCbu"
      },
      "source": [
        "### Stratified Shuffle Split cross-validator\n",
        "\n",
        "Provides train/test indices to split data in train/test sets.\n",
        "\n",
        "This cross-validation object is a merge of StratifiedKFold and ShuffleSplit, which returns stratified randomized folds. The folds are made by preserving the percentage of samples for each class."
      ]
    },
    {
      "cell_type": "code",
      "metadata": {
        "id": "mwIMKxThw5LM"
      },
      "source": [
        "from sklearn.model_selection import StratifiedShuffleSplit\n",
        "\n",
        "## we will stratify according to city\n",
        "\n",
        "split = StratifiedShuffleSplit(n_splits=1, test_size=0.2, random_state=42)\n",
        "for train_index, test_index in split.split(df, df[\"city_code\"]):\n",
        "    del df[\"city_code\"]\n",
        "    strat_train_set = df.loc[train_index]\n",
        "    strat_test_set = df.loc[test_index]"
      ],
      "execution_count": 34,
      "outputs": []
    },
    {
      "cell_type": "code",
      "metadata": {
        "id": "fXrt7-6zw5LV",
        "colab": {
          "base_uri": "https://localhost:8080/"
        },
        "outputId": "a57c016a-7963-4b15-a7a3-d4a00da03ace"
      },
      "source": [
        "## Average price per area\n",
        "strat_test_set.groupby(\"city\")[\"price\"].mean()"
      ],
      "execution_count": 35,
      "outputs": [
        {
          "output_type": "execute_result",
          "data": {
            "text/plain": [
              "city\n",
              "Bondi           198.745223\n",
              "Bondi Beach     199.879880\n",
              "Coogee          196.574627\n",
              "Darlinghurst    184.700000\n",
              "Manly           223.447368\n",
              "Newtown         117.938776\n",
              "North Bondi     248.857143\n",
              "Randwick        178.072993\n",
              "Surry Hills     175.732240\n",
              "Sydney          193.962687\n",
              "Name: price, dtype: float64"
            ]
          },
          "metadata": {
            "tags": []
          },
          "execution_count": 35
        }
      ]
    },
    {
      "cell_type": "markdown",
      "metadata": {
        "id": "a-Rbqr4Lw5Ll"
      },
      "source": [
        "# Further Data Exploration and Visualization"
      ]
    },
    {
      "cell_type": "code",
      "metadata": {
        "id": "e-PE8Bmuw5Ln"
      },
      "source": [
        "traval = strat_train_set.copy() ##traval - training and validation set"
      ],
      "execution_count": 36,
      "outputs": []
    },
    {
      "cell_type": "code",
      "metadata": {
        "id": "_SN0cbvQw5L5",
        "colab": {
          "base_uri": "https://localhost:8080/",
          "height": 314
        },
        "outputId": "8624326c-63eb-4967-93ba-0ee676b1f2f2"
      },
      "source": [
        "# Let's plot our cordinates which is a way of visualizing a map of the locations\n",
        "\n",
        "traval.plot(kind=\"scatter\", x=\"longitude\", y=\"latitude\")\n",
        "save_fig(\"bad_visualization_plot\")"
      ],
      "execution_count": 37,
      "outputs": [
        {
          "output_type": "stream",
          "text": [
            "Saving figure bad_visualization_plot\n"
          ],
          "name": "stdout"
        },
        {
          "output_type": "display_data",
          "data": {
            "image/png": "[encoded data removed]",
            "text/plain": [
              "<Figure size 432x288 with 1 Axes>"
            ]
          },
          "metadata": {
            "tags": [],
            "needs_background": "light"
          }
        }
      ]
    },
    {
      "cell_type": "code",
      "metadata": {
        "id": "1CPPYjTqw5MJ",
        "colab": {
          "base_uri": "https://localhost:8080/",
          "height": 314
        },
        "outputId": "538ddee5-eaf4-46e2-f995-ab82ab448a8b"
      },
      "source": [
        "traval.plot(kind=\"scatter\", x=\"longitude\", y=\"latitude\", alpha=0.1)\n",
        "save_fig(\"better_visualization_plot\")"
      ],
      "execution_count": 38,
      "outputs": [
        {
          "output_type": "stream",
          "text": [
            "Saving figure better_visualization_plot\n"
          ],
          "name": "stdout"
        },
        {
          "output_type": "display_data",
          "data": {
            "image/png": "[encoded data removed]",
            "text/plain": [
              "<Figure size 432x288 with 1 Axes>"
            ]
          },
          "metadata": {
            "tags": [],
            "needs_background": "light"
          }
        }
      ]
    },
    {
      "cell_type": "code",
      "metadata": {
        "id": "Hd4OBhY2w5Mc"
      },
      "source": [
        "# Let's narrow our visual map and remove locations outside the main area\n",
        "traval_co = traval[(traval[\"longitude\"]>151.16)&(traval[\"latitude\"]<-33.75)].reset_index(drop=True)\n",
        "\n",
        "traval_co = traval_co[traval_co[\"latitude\"]>-33.95].reset_index(drop=True)\n",
        "\n",
        "# And only look at locations under $600\n",
        "traval_co = traval_co[traval_co[\"price\"]<600].reset_index(drop=True)"
      ],
      "execution_count": 39,
      "outputs": []
    },
    {
      "cell_type": "markdown",
      "metadata": {
        "id": "HGXo15xYq-2O"
      },
      "source": [
        "The argument `sharex=False` fixes a display bug (the x-axis values and legend were not displayed). This is a temporary fix (see: https://github.com/pandas-dev/pandas/issues/10611). Thanks to Wilmer Arellano for pointing it out."
      ]
    },
    {
      "cell_type": "code",
      "metadata": {
        "id": "E2r10b4ew5Mk",
        "colab": {
          "base_uri": "https://localhost:8080/",
          "height": 530
        },
        "outputId": "2d9e4369-5eae-4ab6-bffd-4dbabf6b7d7d"
      },
      "source": [
        "traval_co.plot(kind=\"scatter\", x=\"longitude\", y=\"latitude\", alpha=0.5,\n",
        "    s=traval_co[\"number_of_reviews\"]/2, label=\"Reviews\", figsize=(10,7),\n",
        "    c=\"price\", cmap=plt.get_cmap(\"jet\"), colorbar=True,\n",
        "    sharex=False)\n",
        "plt.legend()\n",
        "save_fig(\"housing_prices_scatterplot\")"
      ],
      "execution_count": 40,
      "outputs": [
        {
          "output_type": "stream",
          "text": [
            "Saving figure housing_prices_scatterplot\n"
          ],
          "name": "stdout"
        },
        {
          "output_type": "display_data",
          "data": {
            "image/png": "[encoded data removed]",
            "text/plain": [
              "<Figure size 720x504 with 2 Axes>"
            ]
          },
          "metadata": {
            "tags": [],
            "needs_background": "light"
          }
        }
      ]
    },
    {
      "cell_type": "code",
      "metadata": {
        "id": "BDkwytJqwSW2",
        "colab": {
          "base_uri": "https://localhost:8080/"
        },
        "outputId": "ccd9564c-1d1c-4b65-b860-7cb65b3baa42"
      },
      "source": [
        "traval_co.shape"
      ],
      "execution_count": 41,
      "outputs": [
        {
          "output_type": "execute_result",
          "data": {
            "text/plain": [
              "(6230, 20)"
            ]
          },
          "metadata": {
            "tags": []
          },
          "execution_count": 41
        }
      ]
    },
    {
      "cell_type": "code",
      "metadata": {
        "id": "wpYvVA5Sw5Mt",
        "colab": {
          "base_uri": "https://localhost:8080/",
          "height": 647
        },
        "outputId": "ec4b2026-6651-476a-a133-fd8ffc707f24"
      },
      "source": [
        "# Now let's explore our correlation matrix\n",
        "\n",
        "corr_matrix = traval.corr()\n",
        "\n",
        "# Heatmap\n",
        "plt.figure(figsize = (10,10))\n",
        "cmap = sns.diverging_palette(220,10,as_cmap = True)\n",
        "\n",
        "#Deep dive into diverging_pattern\n",
        "sns.heatmap(corr_matrix, xticklabels=corr_matrix.columns.values,\n",
        "           yticklabels=corr_matrix.columns.values, cmap=cmap, vmax=1, center=0, square=True, linewidths=.5, cbar_kws={\"shrink\": .82})\n",
        "plt.title('Heatmap of Correlation Matrix')"
      ],
      "execution_count": 42,
      "outputs": [
        {
          "output_type": "execute_result",
          "data": {
            "text/plain": [
              "Text(0.5, 1.0, 'Heatmap of Correlation Matrix')"
            ]
          },
          "metadata": {
            "tags": []
          },
          "execution_count": 42
        },
        {
          "output_type": "display_data",
          "data": {
            "image/png": "[encoded data removed]",
            "text/plain": [
              "<Figure size 720x720 with 2 Axes>"
            ]
          },
          "metadata": {
            "tags": [],
            "needs_background": "light"
          }
        }
      ]
    },
    {
      "cell_type": "code",
      "metadata": {
        "id": "HHtMTAziw5My",
        "colab": {
          "base_uri": "https://localhost:8080/"
        },
        "outputId": "c735a071-5563-4778-f89e-13a5f77c859b"
      },
      "source": [
        "corr_matrix[\"price\"].sort_values(ascending=False)"
      ],
      "execution_count": 43,
      "outputs": [
        {
          "output_type": "execute_result",
          "data": {
            "text/plain": [
              "price                     1.000000\n",
              "accommodates              0.674368\n",
              "bedrooms                  0.668963\n",
              "beds                      0.582378\n",
              "bathrooms                 0.553773\n",
              "cleaning_fee              0.529834\n",
              "security_deposit          0.469423\n",
              "longitude                 0.157902\n",
              "availability_365          0.148263\n",
              "latitude                  0.131160\n",
              "review_scores_rating      0.067066\n",
              "host_identity_verified    0.048821\n",
              "minimum_nights            0.022103\n",
              "host_is_superhost        -0.016695\n",
              "number_of_reviews        -0.064011\n",
              "Name: price, dtype: float64"
            ]
          },
          "metadata": {
            "tags": []
          },
          "execution_count": 43
        }
      ]
    },
    {
      "cell_type": "code",
      "metadata": {
        "id": "v3Po_K3Lw5M7",
        "colab": {
          "base_uri": "https://localhost:8080/",
          "height": 602
        },
        "outputId": "85b6dcd8-e2b2-44ea-dd51-d06bfad797b6"
      },
      "source": [
        "# from pandas.tools.plotting import scatter_matrix # For older versions of Pandas\n",
        "from pandas.plotting import scatter_matrix\n",
        "\n",
        "attributes = [\"price\", \"accommodates\", \"bedrooms\",\n",
        "              \"cleaning_fee\",\"review_scores_rating\"]\n",
        "scatter_matrix(traval[attributes], figsize=(12, 8))\n",
        "save_fig(\"scatter_matrix_plot\")"
      ],
      "execution_count": 44,
      "outputs": [
        {
          "output_type": "stream",
          "text": [
            "Saving figure scatter_matrix_plot\n"
          ],
          "name": "stdout"
        },
        {
          "output_type": "display_data",
          "data": {
            "image/png": "[encoded data removed]",
            "text/plain": [
              "<Figure size 864x576 with 25 Axes>"
            ]
          },
          "metadata": {
            "tags": [],
            "needs_background": "light"
          }
        }
      ]
    },
    {
      "cell_type": "code",
      "metadata": {
        "id": "YtjGL1F_w5NR",
        "colab": {
          "base_uri": "https://localhost:8080/",
          "height": 314
        },
        "outputId": "f5527508-0589-45bb-f8f0-f6acfff1e30c"
      },
      "source": [
        "traval.plot(kind=\"scatter\", x=\"accommodates\", y=\"price\", alpha=0.1)\n",
        "save_fig(\"income_vs_house_value_scatterplot\")"
      ],
      "execution_count": 45,
      "outputs": [
        {
          "output_type": "stream",
          "text": [
            "Saving figure income_vs_house_value_scatterplot\n"
          ],
          "name": "stdout"
        },
        {
          "output_type": "display_data",
          "data": {
            "image/png": "[encoded data removed]",
            "text/plain": [
              "<Figure size 432x288 with 1 Axes>"
            ]
          },
          "metadata": {
            "tags": [],
            "needs_background": "light"
          }
        }
      ]
    },
    {
      "cell_type": "code",
      "metadata": {
        "id": "sOCF-KD_w5Nh",
        "colab": {
          "base_uri": "https://localhost:8080/",
          "height": 299
        },
        "outputId": "c5f13daa-4564-44ec-e45a-42d55b72f7b0"
      },
      "source": [
        "traval.head()"
      ],
      "execution_count": 46,
      "outputs": [
        {
          "output_type": "execute_result",
          "data": {
            "text/html": [
              "<div>\n",
              "<style scoped>\n",
              "    .dataframe tbody tr th:only-of-type {\n",
              "        vertical-align: middle;\n",
              "    }\n",
              "\n",
              "    .dataframe tbody tr th {\n",
              "        vertical-align: top;\n",
              "    }\n",
              "\n",
              "    .dataframe thead th {\n",
              "        text-align: right;\n",
              "    }\n",
              "</style>\n",
              "<table border=\"1\" class=\"dataframe\">\n",
              "  <thead>\n",
              "    <tr style=\"text-align: right;\">\n",
              "      <th></th>\n",
              "      <th>price</th>\n",
              "      <th>city</th>\n",
              "      <th>longitude</th>\n",
              "      <th>latitude</th>\n",
              "      <th>review_scores_rating</th>\n",
              "      <th>number_of_reviews</th>\n",
              "      <th>minimum_nights</th>\n",
              "      <th>security_deposit</th>\n",
              "      <th>cleaning_fee</th>\n",
              "      <th>accommodates</th>\n",
              "      <th>bathrooms</th>\n",
              "      <th>bedrooms</th>\n",
              "      <th>beds</th>\n",
              "      <th>property_type</th>\n",
              "      <th>room_type</th>\n",
              "      <th>availability_365</th>\n",
              "      <th>host_identity_verified</th>\n",
              "      <th>host_is_superhost</th>\n",
              "      <th>host_since</th>\n",
              "      <th>cancellation_policy</th>\n",
              "    </tr>\n",
              "  </thead>\n",
              "  <tbody>\n",
              "    <tr>\n",
              "      <th>5484</th>\n",
              "      <td>200.0</td>\n",
              "      <td>Newtown</td>\n",
              "      <td>151.178552</td>\n",
              "      <td>-33.907150</td>\n",
              "      <td>96.0</td>\n",
              "      <td>61</td>\n",
              "      <td>2</td>\n",
              "      <td>250.0</td>\n",
              "      <td>85.0</td>\n",
              "      <td>4</td>\n",
              "      <td>1.0</td>\n",
              "      <td>2.0</td>\n",
              "      <td>2.0</td>\n",
              "      <td>House</td>\n",
              "      <td>Entire home/apt</td>\n",
              "      <td>127</td>\n",
              "      <td>1</td>\n",
              "      <td>0</td>\n",
              "      <td>2016-01-22</td>\n",
              "      <td>moderate</td>\n",
              "    </tr>\n",
              "    <tr>\n",
              "      <th>1267</th>\n",
              "      <td>183.0</td>\n",
              "      <td>Randwick</td>\n",
              "      <td>151.249030</td>\n",
              "      <td>-33.906190</td>\n",
              "      <td>97.0</td>\n",
              "      <td>6</td>\n",
              "      <td>4</td>\n",
              "      <td>0.0</td>\n",
              "      <td>20.0</td>\n",
              "      <td>2</td>\n",
              "      <td>1.0</td>\n",
              "      <td>1.0</td>\n",
              "      <td>1.0</td>\n",
              "      <td>Apartment</td>\n",
              "      <td>Private room</td>\n",
              "      <td>0</td>\n",
              "      <td>1</td>\n",
              "      <td>0</td>\n",
              "      <td>2014-03-28</td>\n",
              "      <td>moderate</td>\n",
              "    </tr>\n",
              "    <tr>\n",
              "      <th>6658</th>\n",
              "      <td>175.0</td>\n",
              "      <td>Manly</td>\n",
              "      <td>151.288491</td>\n",
              "      <td>-33.802074</td>\n",
              "      <td>100.0</td>\n",
              "      <td>2</td>\n",
              "      <td>2</td>\n",
              "      <td>0.0</td>\n",
              "      <td>40.0</td>\n",
              "      <td>2</td>\n",
              "      <td>1.0</td>\n",
              "      <td>1.0</td>\n",
              "      <td>1.0</td>\n",
              "      <td>Apartment</td>\n",
              "      <td>Entire home/apt</td>\n",
              "      <td>0</td>\n",
              "      <td>1</td>\n",
              "      <td>0</td>\n",
              "      <td>2014-01-09</td>\n",
              "      <td>strict_14_with_grace_period</td>\n",
              "    </tr>\n",
              "    <tr>\n",
              "      <th>2522</th>\n",
              "      <td>85.0</td>\n",
              "      <td>Randwick</td>\n",
              "      <td>151.236423</td>\n",
              "      <td>-33.913614</td>\n",
              "      <td>94.0</td>\n",
              "      <td>20</td>\n",
              "      <td>3</td>\n",
              "      <td>0.0</td>\n",
              "      <td>0.0</td>\n",
              "      <td>2</td>\n",
              "      <td>1.0</td>\n",
              "      <td>1.0</td>\n",
              "      <td>1.0</td>\n",
              "      <td>Apartment</td>\n",
              "      <td>Private room</td>\n",
              "      <td>90</td>\n",
              "      <td>0</td>\n",
              "      <td>0</td>\n",
              "      <td>2015-11-22</td>\n",
              "      <td>flexible</td>\n",
              "    </tr>\n",
              "    <tr>\n",
              "      <th>722</th>\n",
              "      <td>80.0</td>\n",
              "      <td>Coogee</td>\n",
              "      <td>151.259342</td>\n",
              "      <td>-33.918435</td>\n",
              "      <td>92.0</td>\n",
              "      <td>139</td>\n",
              "      <td>30</td>\n",
              "      <td>0.0</td>\n",
              "      <td>0.0</td>\n",
              "      <td>3</td>\n",
              "      <td>1.0</td>\n",
              "      <td>1.0</td>\n",
              "      <td>2.0</td>\n",
              "      <td>Apartment</td>\n",
              "      <td>Private room</td>\n",
              "      <td>0</td>\n",
              "      <td>1</td>\n",
              "      <td>0</td>\n",
              "      <td>2014-01-07</td>\n",
              "      <td>strict_14_with_grace_period</td>\n",
              "    </tr>\n",
              "  </tbody>\n",
              "</table>\n",
              "</div>"
            ],
            "text/plain": [
              "      price      city   longitude   latitude  review_scores_rating  \\\n",
              "5484  200.0   Newtown  151.178552 -33.907150                  96.0   \n",
              "1267  183.0  Randwick  151.249030 -33.906190                  97.0   \n",
              "6658  175.0     Manly  151.288491 -33.802074                 100.0   \n",
              "2522   85.0  Randwick  151.236423 -33.913614                  94.0   \n",
              "722    80.0    Coogee  151.259342 -33.918435                  92.0   \n",
              "\n",
              "      number_of_reviews  minimum_nights  security_deposit  cleaning_fee  \\\n",
              "5484                 61               2             250.0          85.0   \n",
              "1267                  6               4               0.0          20.0   \n",
              "6658                  2               2               0.0          40.0   \n",
              "2522                 20               3               0.0           0.0   \n",
              "722                 139              30               0.0           0.0   \n",
              "\n",
              "      accommodates  bathrooms  bedrooms  beds property_type        room_type  \\\n",
              "5484             4        1.0       2.0   2.0         House  Entire home/apt   \n",
              "1267             2        1.0       1.0   1.0     Apartment     Private room   \n",
              "6658             2        1.0       1.0   1.0     Apartment  Entire home/apt   \n",
              "2522             2        1.0       1.0   1.0     Apartment     Private room   \n",
              "722              3        1.0       1.0   2.0     Apartment     Private room   \n",
              "\n",
              "      availability_365  host_identity_verified  host_is_superhost host_since  \\\n",
              "5484               127                       1                  0 2016-01-22   \n",
              "1267                 0                       1                  0 2014-03-28   \n",
              "6658                 0                       1                  0 2014-01-09   \n",
              "2522                90                       0                  0 2015-11-22   \n",
              "722                  0                       1                  0 2014-01-07   \n",
              "\n",
              "              cancellation_policy  \n",
              "5484                     moderate  \n",
              "1267                     moderate  \n",
              "6658  strict_14_with_grace_period  \n",
              "2522                     flexible  \n",
              "722   strict_14_with_grace_period  "
            ]
          },
          "metadata": {
            "tags": []
          },
          "execution_count": 46
        }
      ]
    },
    {
      "cell_type": "code",
      "metadata": {
        "id": "4oF78gHzw5Nw"
      },
      "source": [
        "#### Now let's create some new features\n",
        "\n",
        "traval[\"bedrooms_per_person\"] = traval[\"bedrooms\"]/traval[\"accommodates\"]\n",
        "traval[\"bathrooms_per_person\"] = traval[\"bathrooms\"]/traval[\"accommodates\"]\n",
        "traval['host_since'] = pd.to_datetime(traval['host_since'])\n",
        "traval['days_on_airbnb'] = (pd.to_datetime('today') - traval['host_since']).dt.days"
      ],
      "execution_count": 47,
      "outputs": []
    },
    {
      "cell_type": "code",
      "metadata": {
        "id": "CNAcLg-csHJV",
        "colab": {
          "base_uri": "https://localhost:8080/",
          "height": 299
        },
        "outputId": "ce953cf9-8435-449d-d2ed-9dda80570655"
      },
      "source": [
        "traval.head()"
      ],
      "execution_count": 48,
      "outputs": [
        {
          "output_type": "execute_result",
          "data": {
            "text/html": [
              "<div>\n",
              "<style scoped>\n",
              "    .dataframe tbody tr th:only-of-type {\n",
              "        vertical-align: middle;\n",
              "    }\n",
              "\n",
              "    .dataframe tbody tr th {\n",
              "        vertical-align: top;\n",
              "    }\n",
              "\n",
              "    .dataframe thead th {\n",
              "        text-align: right;\n",
              "    }\n",
              "</style>\n",
              "<table border=\"1\" class=\"dataframe\">\n",
              "  <thead>\n",
              "    <tr style=\"text-align: right;\">\n",
              "      <th></th>\n",
              "      <th>price</th>\n",
              "      <th>city</th>\n",
              "      <th>longitude</th>\n",
              "      <th>latitude</th>\n",
              "      <th>review_scores_rating</th>\n",
              "      <th>number_of_reviews</th>\n",
              "      <th>minimum_nights</th>\n",
              "      <th>security_deposit</th>\n",
              "      <th>cleaning_fee</th>\n",
              "      <th>accommodates</th>\n",
              "      <th>bathrooms</th>\n",
              "      <th>bedrooms</th>\n",
              "      <th>beds</th>\n",
              "      <th>property_type</th>\n",
              "      <th>room_type</th>\n",
              "      <th>availability_365</th>\n",
              "      <th>host_identity_verified</th>\n",
              "      <th>host_is_superhost</th>\n",
              "      <th>host_since</th>\n",
              "      <th>cancellation_policy</th>\n",
              "      <th>bedrooms_per_person</th>\n",
              "      <th>bathrooms_per_person</th>\n",
              "      <th>days_on_airbnb</th>\n",
              "    </tr>\n",
              "  </thead>\n",
              "  <tbody>\n",
              "    <tr>\n",
              "      <th>5484</th>\n",
              "      <td>200.0</td>\n",
              "      <td>Newtown</td>\n",
              "      <td>151.178552</td>\n",
              "      <td>-33.907150</td>\n",
              "      <td>96.0</td>\n",
              "      <td>61</td>\n",
              "      <td>2</td>\n",
              "      <td>250.0</td>\n",
              "      <td>85.0</td>\n",
              "      <td>4</td>\n",
              "      <td>1.0</td>\n",
              "      <td>2.0</td>\n",
              "      <td>2.0</td>\n",
              "      <td>House</td>\n",
              "      <td>Entire home/apt</td>\n",
              "      <td>127</td>\n",
              "      <td>1</td>\n",
              "      <td>0</td>\n",
              "      <td>2016-01-22</td>\n",
              "      <td>moderate</td>\n",
              "      <td>0.500000</td>\n",
              "      <td>0.250000</td>\n",
              "      <td>1843.0</td>\n",
              "    </tr>\n",
              "    <tr>\n",
              "      <th>1267</th>\n",
              "      <td>183.0</td>\n",
              "      <td>Randwick</td>\n",
              "      <td>151.249030</td>\n",
              "      <td>-33.906190</td>\n",
              "      <td>97.0</td>\n",
              "      <td>6</td>\n",
              "      <td>4</td>\n",
              "      <td>0.0</td>\n",
              "      <td>20.0</td>\n",
              "      <td>2</td>\n",
              "      <td>1.0</td>\n",
              "      <td>1.0</td>\n",
              "      <td>1.0</td>\n",
              "      <td>Apartment</td>\n",
              "      <td>Private room</td>\n",
              "      <td>0</td>\n",
              "      <td>1</td>\n",
              "      <td>0</td>\n",
              "      <td>2014-03-28</td>\n",
              "      <td>moderate</td>\n",
              "      <td>0.500000</td>\n",
              "      <td>0.500000</td>\n",
              "      <td>2508.0</td>\n",
              "    </tr>\n",
              "    <tr>\n",
              "      <th>6658</th>\n",
              "      <td>175.0</td>\n",
              "      <td>Manly</td>\n",
              "      <td>151.288491</td>\n",
              "      <td>-33.802074</td>\n",
              "      <td>100.0</td>\n",
              "      <td>2</td>\n",
              "      <td>2</td>\n",
              "      <td>0.0</td>\n",
              "      <td>40.0</td>\n",
              "      <td>2</td>\n",
              "      <td>1.0</td>\n",
              "      <td>1.0</td>\n",
              "      <td>1.0</td>\n",
              "      <td>Apartment</td>\n",
              "      <td>Entire home/apt</td>\n",
              "      <td>0</td>\n",
              "      <td>1</td>\n",
              "      <td>0</td>\n",
              "      <td>2014-01-09</td>\n",
              "      <td>strict_14_with_grace_period</td>\n",
              "      <td>0.500000</td>\n",
              "      <td>0.500000</td>\n",
              "      <td>2586.0</td>\n",
              "    </tr>\n",
              "    <tr>\n",
              "      <th>2522</th>\n",
              "      <td>85.0</td>\n",
              "      <td>Randwick</td>\n",
              "      <td>151.236423</td>\n",
              "      <td>-33.913614</td>\n",
              "      <td>94.0</td>\n",
              "      <td>20</td>\n",
              "      <td>3</td>\n",
              "      <td>0.0</td>\n",
              "      <td>0.0</td>\n",
              "      <td>2</td>\n",
              "      <td>1.0</td>\n",
              "      <td>1.0</td>\n",
              "      <td>1.0</td>\n",
              "      <td>Apartment</td>\n",
              "      <td>Private room</td>\n",
              "      <td>90</td>\n",
              "      <td>0</td>\n",
              "      <td>0</td>\n",
              "      <td>2015-11-22</td>\n",
              "      <td>flexible</td>\n",
              "      <td>0.500000</td>\n",
              "      <td>0.500000</td>\n",
              "      <td>1904.0</td>\n",
              "    </tr>\n",
              "    <tr>\n",
              "      <th>722</th>\n",
              "      <td>80.0</td>\n",
              "      <td>Coogee</td>\n",
              "      <td>151.259342</td>\n",
              "      <td>-33.918435</td>\n",
              "      <td>92.0</td>\n",
              "      <td>139</td>\n",
              "      <td>30</td>\n",
              "      <td>0.0</td>\n",
              "      <td>0.0</td>\n",
              "      <td>3</td>\n",
              "      <td>1.0</td>\n",
              "      <td>1.0</td>\n",
              "      <td>2.0</td>\n",
              "      <td>Apartment</td>\n",
              "      <td>Private room</td>\n",
              "      <td>0</td>\n",
              "      <td>1</td>\n",
              "      <td>0</td>\n",
              "      <td>2014-01-07</td>\n",
              "      <td>strict_14_with_grace_period</td>\n",
              "      <td>0.333333</td>\n",
              "      <td>0.333333</td>\n",
              "      <td>2588.0</td>\n",
              "    </tr>\n",
              "  </tbody>\n",
              "</table>\n",
              "</div>"
            ],
            "text/plain": [
              "      price      city   longitude   latitude  review_scores_rating  \\\n",
              "5484  200.0   Newtown  151.178552 -33.907150                  96.0   \n",
              "1267  183.0  Randwick  151.249030 -33.906190                  97.0   \n",
              "6658  175.0     Manly  151.288491 -33.802074                 100.0   \n",
              "2522   85.0  Randwick  151.236423 -33.913614                  94.0   \n",
              "722    80.0    Coogee  151.259342 -33.918435                  92.0   \n",
              "\n",
              "      number_of_reviews  minimum_nights  security_deposit  cleaning_fee  \\\n",
              "5484                 61               2             250.0          85.0   \n",
              "1267                  6               4               0.0          20.0   \n",
              "6658                  2               2               0.0          40.0   \n",
              "2522                 20               3               0.0           0.0   \n",
              "722                 139              30               0.0           0.0   \n",
              "\n",
              "      accommodates  bathrooms  bedrooms  beds property_type        room_type  \\\n",
              "5484             4        1.0       2.0   2.0         House  Entire home/apt   \n",
              "1267             2        1.0       1.0   1.0     Apartment     Private room   \n",
              "6658             2        1.0       1.0   1.0     Apartment  Entire home/apt   \n",
              "2522             2        1.0       1.0   1.0     Apartment     Private room   \n",
              "722              3        1.0       1.0   2.0     Apartment     Private room   \n",
              "\n",
              "      availability_365  host_identity_verified  host_is_superhost host_since  \\\n",
              "5484               127                       1                  0 2016-01-22   \n",
              "1267                 0                       1                  0 2014-03-28   \n",
              "6658                 0                       1                  0 2014-01-09   \n",
              "2522                90                       0                  0 2015-11-22   \n",
              "722                  0                       1                  0 2014-01-07   \n",
              "\n",
              "              cancellation_policy  bedrooms_per_person  bathrooms_per_person  \\\n",
              "5484                     moderate             0.500000              0.250000   \n",
              "1267                     moderate             0.500000              0.500000   \n",
              "6658  strict_14_with_grace_period             0.500000              0.500000   \n",
              "2522                     flexible             0.500000              0.500000   \n",
              "722   strict_14_with_grace_period             0.333333              0.333333   \n",
              "\n",
              "      days_on_airbnb  \n",
              "5484          1843.0  \n",
              "1267          2508.0  \n",
              "6658          2586.0  \n",
              "2522          1904.0  \n",
              "722           2588.0  "
            ]
          },
          "metadata": {
            "tags": []
          },
          "execution_count": 48
        }
      ]
    },
    {
      "cell_type": "markdown",
      "metadata": {
        "id": "3cXZ9PZWw5N1"
      },
      "source": [
        "# Prepare the data for Machine Learning algorithms"
      ]
    },
    {
      "cell_type": "code",
      "metadata": {
        "id": "7Dl2cqXBw5N4"
      },
      "source": [
        "## Here I will forget about traval and use a more formal way of introducing...\n",
        "## ..preprocessing using pipelines"
      ],
      "execution_count": 49,
      "outputs": []
    },
    {
      "cell_type": "code",
      "metadata": {
        "id": "gFyYERMgw5N9"
      },
      "source": [
        "# Firstly we remove our price (or labels from our travel dataset)\n",
        "X  = traval.copy().drop(\"price\", axis=1) # drop labels for training set"
      ],
      "execution_count": 50,
      "outputs": []
    },
    {
      "cell_type": "code",
      "metadata": {
        "id": "7etxdWRJw5OC",
        "colab": {
          "base_uri": "https://localhost:8080/",
          "height": 316
        },
        "outputId": "77da8abf-0285-4f3f-b7eb-691b5c122003"
      },
      "source": [
        "# Show the rows of data with missing values\n",
        "\n",
        "sample_incomplete_rows = X[X.isnull().any(axis=1)].head()\n",
        "print(sample_incomplete_rows.shape)\n",
        "sample_incomplete_rows"
      ],
      "execution_count": 51,
      "outputs": [
        {
          "output_type": "stream",
          "text": [
            "(5, 22)\n"
          ],
          "name": "stdout"
        },
        {
          "output_type": "execute_result",
          "data": {
            "text/html": [
              "<div>\n",
              "<style scoped>\n",
              "    .dataframe tbody tr th:only-of-type {\n",
              "        vertical-align: middle;\n",
              "    }\n",
              "\n",
              "    .dataframe tbody tr th {\n",
              "        vertical-align: top;\n",
              "    }\n",
              "\n",
              "    .dataframe thead th {\n",
              "        text-align: right;\n",
              "    }\n",
              "</style>\n",
              "<table border=\"1\" class=\"dataframe\">\n",
              "  <thead>\n",
              "    <tr style=\"text-align: right;\">\n",
              "      <th></th>\n",
              "      <th>city</th>\n",
              "      <th>longitude</th>\n",
              "      <th>latitude</th>\n",
              "      <th>review_scores_rating</th>\n",
              "      <th>number_of_reviews</th>\n",
              "      <th>minimum_nights</th>\n",
              "      <th>security_deposit</th>\n",
              "      <th>cleaning_fee</th>\n",
              "      <th>accommodates</th>\n",
              "      <th>bathrooms</th>\n",
              "      <th>bedrooms</th>\n",
              "      <th>beds</th>\n",
              "      <th>property_type</th>\n",
              "      <th>room_type</th>\n",
              "      <th>availability_365</th>\n",
              "      <th>host_identity_verified</th>\n",
              "      <th>host_is_superhost</th>\n",
              "      <th>host_since</th>\n",
              "      <th>cancellation_policy</th>\n",
              "      <th>bedrooms_per_person</th>\n",
              "      <th>bathrooms_per_person</th>\n",
              "      <th>days_on_airbnb</th>\n",
              "    </tr>\n",
              "  </thead>\n",
              "  <tbody>\n",
              "    <tr>\n",
              "      <th>5594</th>\n",
              "      <td>Randwick</td>\n",
              "      <td>151.238806</td>\n",
              "      <td>-33.913834</td>\n",
              "      <td>NaN</td>\n",
              "      <td>0</td>\n",
              "      <td>2</td>\n",
              "      <td>800.0</td>\n",
              "      <td>80.0</td>\n",
              "      <td>6</td>\n",
              "      <td>1.0</td>\n",
              "      <td>3.0</td>\n",
              "      <td>3.0</td>\n",
              "      <td>House</td>\n",
              "      <td>Entire home/apt</td>\n",
              "      <td>0</td>\n",
              "      <td>0</td>\n",
              "      <td>0</td>\n",
              "      <td>2013-11-27</td>\n",
              "      <td>moderate</td>\n",
              "      <td>0.500000</td>\n",
              "      <td>0.166667</td>\n",
              "      <td>2629.0</td>\n",
              "    </tr>\n",
              "    <tr>\n",
              "      <th>5439</th>\n",
              "      <td>Newtown</td>\n",
              "      <td>151.184469</td>\n",
              "      <td>-33.894582</td>\n",
              "      <td>NaN</td>\n",
              "      <td>0</td>\n",
              "      <td>3</td>\n",
              "      <td>5000.0</td>\n",
              "      <td>100.0</td>\n",
              "      <td>11</td>\n",
              "      <td>2.0</td>\n",
              "      <td>3.0</td>\n",
              "      <td>4.0</td>\n",
              "      <td>Apartment</td>\n",
              "      <td>Entire home/apt</td>\n",
              "      <td>0</td>\n",
              "      <td>1</td>\n",
              "      <td>0</td>\n",
              "      <td>2014-07-16</td>\n",
              "      <td>strict_14_with_grace_period</td>\n",
              "      <td>0.272727</td>\n",
              "      <td>0.181818</td>\n",
              "      <td>2398.0</td>\n",
              "    </tr>\n",
              "    <tr>\n",
              "      <th>3847</th>\n",
              "      <td>Bondi Beach</td>\n",
              "      <td>151.273077</td>\n",
              "      <td>-33.895142</td>\n",
              "      <td>NaN</td>\n",
              "      <td>0</td>\n",
              "      <td>7</td>\n",
              "      <td>271.0</td>\n",
              "      <td>27.0</td>\n",
              "      <td>2</td>\n",
              "      <td>1.0</td>\n",
              "      <td>1.0</td>\n",
              "      <td>1.0</td>\n",
              "      <td>Apartment</td>\n",
              "      <td>Private room</td>\n",
              "      <td>0</td>\n",
              "      <td>0</td>\n",
              "      <td>0</td>\n",
              "      <td>2015-12-07</td>\n",
              "      <td>strict_14_with_grace_period</td>\n",
              "      <td>0.500000</td>\n",
              "      <td>0.500000</td>\n",
              "      <td>1889.0</td>\n",
              "    </tr>\n",
              "    <tr>\n",
              "      <th>1312</th>\n",
              "      <td>Randwick</td>\n",
              "      <td>151.245793</td>\n",
              "      <td>-33.920622</td>\n",
              "      <td>NaN</td>\n",
              "      <td>0</td>\n",
              "      <td>3</td>\n",
              "      <td>0.0</td>\n",
              "      <td>80.0</td>\n",
              "      <td>3</td>\n",
              "      <td>1.0</td>\n",
              "      <td>2.0</td>\n",
              "      <td>2.0</td>\n",
              "      <td>Apartment</td>\n",
              "      <td>Entire home/apt</td>\n",
              "      <td>0</td>\n",
              "      <td>0</td>\n",
              "      <td>0</td>\n",
              "      <td>2015-10-02</td>\n",
              "      <td>strict_14_with_grace_period</td>\n",
              "      <td>0.666667</td>\n",
              "      <td>0.333333</td>\n",
              "      <td>1955.0</td>\n",
              "    </tr>\n",
              "    <tr>\n",
              "      <th>6194</th>\n",
              "      <td>Bondi Beach</td>\n",
              "      <td>151.273411</td>\n",
              "      <td>-33.888113</td>\n",
              "      <td>NaN</td>\n",
              "      <td>0</td>\n",
              "      <td>10</td>\n",
              "      <td>0.0</td>\n",
              "      <td>0.0</td>\n",
              "      <td>2</td>\n",
              "      <td>1.0</td>\n",
              "      <td>1.0</td>\n",
              "      <td>1.0</td>\n",
              "      <td>Apartment</td>\n",
              "      <td>Private room</td>\n",
              "      <td>0</td>\n",
              "      <td>1</td>\n",
              "      <td>0</td>\n",
              "      <td>2015-08-14</td>\n",
              "      <td>moderate</td>\n",
              "      <td>0.500000</td>\n",
              "      <td>0.500000</td>\n",
              "      <td>2004.0</td>\n",
              "    </tr>\n",
              "  </tbody>\n",
              "</table>\n",
              "</div>"
            ],
            "text/plain": [
              "             city   longitude   latitude  review_scores_rating  \\\n",
              "5594     Randwick  151.238806 -33.913834                   NaN   \n",
              "5439      Newtown  151.184469 -33.894582                   NaN   \n",
              "3847  Bondi Beach  151.273077 -33.895142                   NaN   \n",
              "1312     Randwick  151.245793 -33.920622                   NaN   \n",
              "6194  Bondi Beach  151.273411 -33.888113                   NaN   \n",
              "\n",
              "      number_of_reviews  minimum_nights  security_deposit  cleaning_fee  \\\n",
              "5594                  0               2             800.0          80.0   \n",
              "5439                  0               3            5000.0         100.0   \n",
              "3847                  0               7             271.0          27.0   \n",
              "1312                  0               3               0.0          80.0   \n",
              "6194                  0              10               0.0           0.0   \n",
              "\n",
              "      accommodates  bathrooms  bedrooms  beds property_type        room_type  \\\n",
              "5594             6        1.0       3.0   3.0         House  Entire home/apt   \n",
              "5439            11        2.0       3.0   4.0     Apartment  Entire home/apt   \n",
              "3847             2        1.0       1.0   1.0     Apartment     Private room   \n",
              "1312             3        1.0       2.0   2.0     Apartment  Entire home/apt   \n",
              "6194             2        1.0       1.0   1.0     Apartment     Private room   \n",
              "\n",
              "      availability_365  host_identity_verified  host_is_superhost host_since  \\\n",
              "5594                 0                       0                  0 2013-11-27   \n",
              "5439                 0                       1                  0 2014-07-16   \n",
              "3847                 0                       0                  0 2015-12-07   \n",
              "1312                 0                       0                  0 2015-10-02   \n",
              "6194                 0                       1                  0 2015-08-14   \n",
              "\n",
              "              cancellation_policy  bedrooms_per_person  bathrooms_per_person  \\\n",
              "5594                     moderate             0.500000              0.166667   \n",
              "5439  strict_14_with_grace_period             0.272727              0.181818   \n",
              "3847  strict_14_with_grace_period             0.500000              0.500000   \n",
              "1312  strict_14_with_grace_period             0.666667              0.333333   \n",
              "6194                     moderate             0.500000              0.500000   \n",
              "\n",
              "      days_on_airbnb  \n",
              "5594          2629.0  \n",
              "5439          2398.0  \n",
              "3847          1889.0  \n",
              "1312          1955.0  \n",
              "6194          2004.0  "
            ]
          },
          "metadata": {
            "tags": []
          },
          "execution_count": 51
        }
      ]
    },
    {
      "cell_type": "code",
      "metadata": {
        "id": "GtCPLD4Ew5OI",
        "colab": {
          "base_uri": "https://localhost:8080/",
          "height": 67
        },
        "outputId": "344b568e-9bbc-4890-a369-24c01e0c6f18"
      },
      "source": [
        "# Rows Remove\n",
        "sample_incomplete_rows.dropna(subset=[\"review_scores_rating\"])    # option 1"
      ],
      "execution_count": 52,
      "outputs": [
        {
          "output_type": "execute_result",
          "data": {
            "text/html": [
              "<div>\n",
              "<style scoped>\n",
              "    .dataframe tbody tr th:only-of-type {\n",
              "        vertical-align: middle;\n",
              "    }\n",
              "\n",
              "    .dataframe tbody tr th {\n",
              "        vertical-align: top;\n",
              "    }\n",
              "\n",
              "    .dataframe thead th {\n",
              "        text-align: right;\n",
              "    }\n",
              "</style>\n",
              "<table border=\"1\" class=\"dataframe\">\n",
              "  <thead>\n",
              "    <tr style=\"text-align: right;\">\n",
              "      <th></th>\n",
              "      <th>city</th>\n",
              "      <th>longitude</th>\n",
              "      <th>latitude</th>\n",
              "      <th>review_scores_rating</th>\n",
              "      <th>number_of_reviews</th>\n",
              "      <th>minimum_nights</th>\n",
              "      <th>security_deposit</th>\n",
              "      <th>cleaning_fee</th>\n",
              "      <th>accommodates</th>\n",
              "      <th>bathrooms</th>\n",
              "      <th>bedrooms</th>\n",
              "      <th>beds</th>\n",
              "      <th>property_type</th>\n",
              "      <th>room_type</th>\n",
              "      <th>availability_365</th>\n",
              "      <th>host_identity_verified</th>\n",
              "      <th>host_is_superhost</th>\n",
              "      <th>host_since</th>\n",
              "      <th>cancellation_policy</th>\n",
              "      <th>bedrooms_per_person</th>\n",
              "      <th>bathrooms_per_person</th>\n",
              "      <th>days_on_airbnb</th>\n",
              "    </tr>\n",
              "  </thead>\n",
              "  <tbody>\n",
              "  </tbody>\n",
              "</table>\n",
              "</div>"
            ],
            "text/plain": [
              "Empty DataFrame\n",
              "Columns: [city, longitude, latitude, review_scores_rating, number_of_reviews, minimum_nights, security_deposit, cleaning_fee, accommodates, bathrooms, bedrooms, beds, property_type, room_type, availability_365, host_identity_verified, host_is_superhost, host_since, cancellation_policy, bedrooms_per_person, bathrooms_per_person, days_on_airbnb]\n",
              "Index: []"
            ]
          },
          "metadata": {
            "tags": []
          },
          "execution_count": 52
        }
      ]
    },
    {
      "cell_type": "code",
      "metadata": {
        "id": "ka6RIgWlw5OU",
        "colab": {
          "base_uri": "https://localhost:8080/",
          "height": 299
        },
        "outputId": "f1ae5335-47e2-42d1-f051-76a852b205bd"
      },
      "source": [
        "# Columns Remove\n",
        "sample_incomplete_rows.drop([\"review_scores_rating\"], axis=1)       # option 2"
      ],
      "execution_count": 53,
      "outputs": [
        {
          "output_type": "execute_result",
          "data": {
            "text/html": [
              "<div>\n",
              "<style scoped>\n",
              "    .dataframe tbody tr th:only-of-type {\n",
              "        vertical-align: middle;\n",
              "    }\n",
              "\n",
              "    .dataframe tbody tr th {\n",
              "        vertical-align: top;\n",
              "    }\n",
              "\n",
              "    .dataframe thead th {\n",
              "        text-align: right;\n",
              "    }\n",
              "</style>\n",
              "<table border=\"1\" class=\"dataframe\">\n",
              "  <thead>\n",
              "    <tr style=\"text-align: right;\">\n",
              "      <th></th>\n",
              "      <th>city</th>\n",
              "      <th>longitude</th>\n",
              "      <th>latitude</th>\n",
              "      <th>number_of_reviews</th>\n",
              "      <th>minimum_nights</th>\n",
              "      <th>security_deposit</th>\n",
              "      <th>cleaning_fee</th>\n",
              "      <th>accommodates</th>\n",
              "      <th>bathrooms</th>\n",
              "      <th>bedrooms</th>\n",
              "      <th>beds</th>\n",
              "      <th>property_type</th>\n",
              "      <th>room_type</th>\n",
              "      <th>availability_365</th>\n",
              "      <th>host_identity_verified</th>\n",
              "      <th>host_is_superhost</th>\n",
              "      <th>host_since</th>\n",
              "      <th>cancellation_policy</th>\n",
              "      <th>bedrooms_per_person</th>\n",
              "      <th>bathrooms_per_person</th>\n",
              "      <th>days_on_airbnb</th>\n",
              "    </tr>\n",
              "  </thead>\n",
              "  <tbody>\n",
              "    <tr>\n",
              "      <th>5594</th>\n",
              "      <td>Randwick</td>\n",
              "      <td>151.238806</td>\n",
              "      <td>-33.913834</td>\n",
              "      <td>0</td>\n",
              "      <td>2</td>\n",
              "      <td>800.0</td>\n",
              "      <td>80.0</td>\n",
              "      <td>6</td>\n",
              "      <td>1.0</td>\n",
              "      <td>3.0</td>\n",
              "      <td>3.0</td>\n",
              "      <td>House</td>\n",
              "      <td>Entire home/apt</td>\n",
              "      <td>0</td>\n",
              "      <td>0</td>\n",
              "      <td>0</td>\n",
              "      <td>2013-11-27</td>\n",
              "      <td>moderate</td>\n",
              "      <td>0.500000</td>\n",
              "      <td>0.166667</td>\n",
              "      <td>2629.0</td>\n",
              "    </tr>\n",
              "    <tr>\n",
              "      <th>5439</th>\n",
              "      <td>Newtown</td>\n",
              "      <td>151.184469</td>\n",
              "      <td>-33.894582</td>\n",
              "      <td>0</td>\n",
              "      <td>3</td>\n",
              "      <td>5000.0</td>\n",
              "      <td>100.0</td>\n",
              "      <td>11</td>\n",
              "      <td>2.0</td>\n",
              "      <td>3.0</td>\n",
              "      <td>4.0</td>\n",
              "      <td>Apartment</td>\n",
              "      <td>Entire home/apt</td>\n",
              "      <td>0</td>\n",
              "      <td>1</td>\n",
              "      <td>0</td>\n",
              "      <td>2014-07-16</td>\n",
              "      <td>strict_14_with_grace_period</td>\n",
              "      <td>0.272727</td>\n",
              "      <td>0.181818</td>\n",
              "      <td>2398.0</td>\n",
              "    </tr>\n",
              "    <tr>\n",
              "      <th>3847</th>\n",
              "      <td>Bondi Beach</td>\n",
              "      <td>151.273077</td>\n",
              "      <td>-33.895142</td>\n",
              "      <td>0</td>\n",
              "      <td>7</td>\n",
              "      <td>271.0</td>\n",
              "      <td>27.0</td>\n",
              "      <td>2</td>\n",
              "      <td>1.0</td>\n",
              "      <td>1.0</td>\n",
              "      <td>1.0</td>\n",
              "      <td>Apartment</td>\n",
              "      <td>Private room</td>\n",
              "      <td>0</td>\n",
              "      <td>0</td>\n",
              "      <td>0</td>\n",
              "      <td>2015-12-07</td>\n",
              "      <td>strict_14_with_grace_period</td>\n",
              "      <td>0.500000</td>\n",
              "      <td>0.500000</td>\n",
              "      <td>1889.0</td>\n",
              "    </tr>\n",
              "    <tr>\n",
              "      <th>1312</th>\n",
              "      <td>Randwick</td>\n",
              "      <td>151.245793</td>\n",
              "      <td>-33.920622</td>\n",
              "      <td>0</td>\n",
              "      <td>3</td>\n",
              "      <td>0.0</td>\n",
              "      <td>80.0</td>\n",
              "      <td>3</td>\n",
              "      <td>1.0</td>\n",
              "      <td>2.0</td>\n",
              "      <td>2.0</td>\n",
              "      <td>Apartment</td>\n",
              "      <td>Entire home/apt</td>\n",
              "      <td>0</td>\n",
              "      <td>0</td>\n",
              "      <td>0</td>\n",
              "      <td>2015-10-02</td>\n",
              "      <td>strict_14_with_grace_period</td>\n",
              "      <td>0.666667</td>\n",
              "      <td>0.333333</td>\n",
              "      <td>1955.0</td>\n",
              "    </tr>\n",
              "    <tr>\n",
              "      <th>6194</th>\n",
              "      <td>Bondi Beach</td>\n",
              "      <td>151.273411</td>\n",
              "      <td>-33.888113</td>\n",
              "      <td>0</td>\n",
              "      <td>10</td>\n",
              "      <td>0.0</td>\n",
              "      <td>0.0</td>\n",
              "      <td>2</td>\n",
              "      <td>1.0</td>\n",
              "      <td>1.0</td>\n",
              "      <td>1.0</td>\n",
              "      <td>Apartment</td>\n",
              "      <td>Private room</td>\n",
              "      <td>0</td>\n",
              "      <td>1</td>\n",
              "      <td>0</td>\n",
              "      <td>2015-08-14</td>\n",
              "      <td>moderate</td>\n",
              "      <td>0.500000</td>\n",
              "      <td>0.500000</td>\n",
              "      <td>2004.0</td>\n",
              "    </tr>\n",
              "  </tbody>\n",
              "</table>\n",
              "</div>"
            ],
            "text/plain": [
              "             city   longitude   latitude  number_of_reviews  minimum_nights  \\\n",
              "5594     Randwick  151.238806 -33.913834                  0               2   \n",
              "5439      Newtown  151.184469 -33.894582                  0               3   \n",
              "3847  Bondi Beach  151.273077 -33.895142                  0               7   \n",
              "1312     Randwick  151.245793 -33.920622                  0               3   \n",
              "6194  Bondi Beach  151.273411 -33.888113                  0              10   \n",
              "\n",
              "      security_deposit  cleaning_fee  accommodates  bathrooms  bedrooms  beds  \\\n",
              "5594             800.0          80.0             6        1.0       3.0   3.0   \n",
              "5439            5000.0         100.0            11        2.0       3.0   4.0   \n",
              "3847             271.0          27.0             2        1.0       1.0   1.0   \n",
              "1312               0.0          80.0             3        1.0       2.0   2.0   \n",
              "6194               0.0           0.0             2        1.0       1.0   1.0   \n",
              "\n",
              "     property_type        room_type  availability_365  host_identity_verified  \\\n",
              "5594         House  Entire home/apt                 0                       0   \n",
              "5439     Apartment  Entire home/apt                 0                       1   \n",
              "3847     Apartment     Private room                 0                       0   \n",
              "1312     Apartment  Entire home/apt                 0                       0   \n",
              "6194     Apartment     Private room                 0                       1   \n",
              "\n",
              "      host_is_superhost host_since          cancellation_policy  \\\n",
              "5594                  0 2013-11-27                     moderate   \n",
              "5439                  0 2014-07-16  strict_14_with_grace_period   \n",
              "3847                  0 2015-12-07  strict_14_with_grace_period   \n",
              "1312                  0 2015-10-02  strict_14_with_grace_period   \n",
              "6194                  0 2015-08-14                     moderate   \n",
              "\n",
              "      bedrooms_per_person  bathrooms_per_person  days_on_airbnb  \n",
              "5594             0.500000              0.166667          2629.0  \n",
              "5439             0.272727              0.181818          2398.0  \n",
              "3847             0.500000              0.500000          1889.0  \n",
              "1312             0.666667              0.333333          1955.0  \n",
              "6194             0.500000              0.500000          2004.0  "
            ]
          },
          "metadata": {
            "tags": []
          },
          "execution_count": 53
        }
      ]
    },
    {
      "cell_type": "code",
      "metadata": {
        "id": "wJ4II0G-w5Oe",
        "colab": {
          "base_uri": "https://localhost:8080/",
          "height": 299
        },
        "outputId": "75ad9a1e-921b-4850-ea4c-f73b1b887c3e"
      },
      "source": [
        "median = X[\"review_scores_rating\"].median()\n",
        "sample_incomplete_rows[\"review_scores_rating\"].fillna(median, inplace=True) # option 3\n",
        "\n",
        "sample_incomplete_rows"
      ],
      "execution_count": 54,
      "outputs": [
        {
          "output_type": "execute_result",
          "data": {
            "text/html": [
              "<div>\n",
              "<style scoped>\n",
              "    .dataframe tbody tr th:only-of-type {\n",
              "        vertical-align: middle;\n",
              "    }\n",
              "\n",
              "    .dataframe tbody tr th {\n",
              "        vertical-align: top;\n",
              "    }\n",
              "\n",
              "    .dataframe thead th {\n",
              "        text-align: right;\n",
              "    }\n",
              "</style>\n",
              "<table border=\"1\" class=\"dataframe\">\n",
              "  <thead>\n",
              "    <tr style=\"text-align: right;\">\n",
              "      <th></th>\n",
              "      <th>city</th>\n",
              "      <th>longitude</th>\n",
              "      <th>latitude</th>\n",
              "      <th>review_scores_rating</th>\n",
              "      <th>number_of_reviews</th>\n",
              "      <th>minimum_nights</th>\n",
              "      <th>security_deposit</th>\n",
              "      <th>cleaning_fee</th>\n",
              "      <th>accommodates</th>\n",
              "      <th>bathrooms</th>\n",
              "      <th>bedrooms</th>\n",
              "      <th>beds</th>\n",
              "      <th>property_type</th>\n",
              "      <th>room_type</th>\n",
              "      <th>availability_365</th>\n",
              "      <th>host_identity_verified</th>\n",
              "      <th>host_is_superhost</th>\n",
              "      <th>host_since</th>\n",
              "      <th>cancellation_policy</th>\n",
              "      <th>bedrooms_per_person</th>\n",
              "      <th>bathrooms_per_person</th>\n",
              "      <th>days_on_airbnb</th>\n",
              "    </tr>\n",
              "  </thead>\n",
              "  <tbody>\n",
              "    <tr>\n",
              "      <th>5594</th>\n",
              "      <td>Randwick</td>\n",
              "      <td>151.238806</td>\n",
              "      <td>-33.913834</td>\n",
              "      <td>96.0</td>\n",
              "      <td>0</td>\n",
              "      <td>2</td>\n",
              "      <td>800.0</td>\n",
              "      <td>80.0</td>\n",
              "      <td>6</td>\n",
              "      <td>1.0</td>\n",
              "      <td>3.0</td>\n",
              "      <td>3.0</td>\n",
              "      <td>House</td>\n",
              "      <td>Entire home/apt</td>\n",
              "      <td>0</td>\n",
              "      <td>0</td>\n",
              "      <td>0</td>\n",
              "      <td>2013-11-27</td>\n",
              "      <td>moderate</td>\n",
              "      <td>0.500000</td>\n",
              "      <td>0.166667</td>\n",
              "      <td>2629.0</td>\n",
              "    </tr>\n",
              "    <tr>\n",
              "      <th>5439</th>\n",
              "      <td>Newtown</td>\n",
              "      <td>151.184469</td>\n",
              "      <td>-33.894582</td>\n",
              "      <td>96.0</td>\n",
              "      <td>0</td>\n",
              "      <td>3</td>\n",
              "      <td>5000.0</td>\n",
              "      <td>100.0</td>\n",
              "      <td>11</td>\n",
              "      <td>2.0</td>\n",
              "      <td>3.0</td>\n",
              "      <td>4.0</td>\n",
              "      <td>Apartment</td>\n",
              "      <td>Entire home/apt</td>\n",
              "      <td>0</td>\n",
              "      <td>1</td>\n",
              "      <td>0</td>\n",
              "      <td>2014-07-16</td>\n",
              "      <td>strict_14_with_grace_period</td>\n",
              "      <td>0.272727</td>\n",
              "      <td>0.181818</td>\n",
              "      <td>2398.0</td>\n",
              "    </tr>\n",
              "    <tr>\n",
              "      <th>3847</th>\n",
              "      <td>Bondi Beach</td>\n",
              "      <td>151.273077</td>\n",
              "      <td>-33.895142</td>\n",
              "      <td>96.0</td>\n",
              "      <td>0</td>\n",
              "      <td>7</td>\n",
              "      <td>271.0</td>\n",
              "      <td>27.0</td>\n",
              "      <td>2</td>\n",
              "      <td>1.0</td>\n",
              "      <td>1.0</td>\n",
              "      <td>1.0</td>\n",
              "      <td>Apartment</td>\n",
              "      <td>Private room</td>\n",
              "      <td>0</td>\n",
              "      <td>0</td>\n",
              "      <td>0</td>\n",
              "      <td>2015-12-07</td>\n",
              "      <td>strict_14_with_grace_period</td>\n",
              "      <td>0.500000</td>\n",
              "      <td>0.500000</td>\n",
              "      <td>1889.0</td>\n",
              "    </tr>\n",
              "    <tr>\n",
              "      <th>1312</th>\n",
              "      <td>Randwick</td>\n",
              "      <td>151.245793</td>\n",
              "      <td>-33.920622</td>\n",
              "      <td>96.0</td>\n",
              "      <td>0</td>\n",
              "      <td>3</td>\n",
              "      <td>0.0</td>\n",
              "      <td>80.0</td>\n",
              "      <td>3</td>\n",
              "      <td>1.0</td>\n",
              "      <td>2.0</td>\n",
              "      <td>2.0</td>\n",
              "      <td>Apartment</td>\n",
              "      <td>Entire home/apt</td>\n",
              "      <td>0</td>\n",
              "      <td>0</td>\n",
              "      <td>0</td>\n",
              "      <td>2015-10-02</td>\n",
              "      <td>strict_14_with_grace_period</td>\n",
              "      <td>0.666667</td>\n",
              "      <td>0.333333</td>\n",
              "      <td>1955.0</td>\n",
              "    </tr>\n",
              "    <tr>\n",
              "      <th>6194</th>\n",
              "      <td>Bondi Beach</td>\n",
              "      <td>151.273411</td>\n",
              "      <td>-33.888113</td>\n",
              "      <td>96.0</td>\n",
              "      <td>0</td>\n",
              "      <td>10</td>\n",
              "      <td>0.0</td>\n",
              "      <td>0.0</td>\n",
              "      <td>2</td>\n",
              "      <td>1.0</td>\n",
              "      <td>1.0</td>\n",
              "      <td>1.0</td>\n",
              "      <td>Apartment</td>\n",
              "      <td>Private room</td>\n",
              "      <td>0</td>\n",
              "      <td>1</td>\n",
              "      <td>0</td>\n",
              "      <td>2015-08-14</td>\n",
              "      <td>moderate</td>\n",
              "      <td>0.500000</td>\n",
              "      <td>0.500000</td>\n",
              "      <td>2004.0</td>\n",
              "    </tr>\n",
              "  </tbody>\n",
              "</table>\n",
              "</div>"
            ],
            "text/plain": [
              "             city   longitude   latitude  review_scores_rating  \\\n",
              "5594     Randwick  151.238806 -33.913834                  96.0   \n",
              "5439      Newtown  151.184469 -33.894582                  96.0   \n",
              "3847  Bondi Beach  151.273077 -33.895142                  96.0   \n",
              "1312     Randwick  151.245793 -33.920622                  96.0   \n",
              "6194  Bondi Beach  151.273411 -33.888113                  96.0   \n",
              "\n",
              "      number_of_reviews  minimum_nights  security_deposit  cleaning_fee  \\\n",
              "5594                  0               2             800.0          80.0   \n",
              "5439                  0               3            5000.0         100.0   \n",
              "3847                  0               7             271.0          27.0   \n",
              "1312                  0               3               0.0          80.0   \n",
              "6194                  0              10               0.0           0.0   \n",
              "\n",
              "      accommodates  bathrooms  bedrooms  beds property_type        room_type  \\\n",
              "5594             6        1.0       3.0   3.0         House  Entire home/apt   \n",
              "5439            11        2.0       3.0   4.0     Apartment  Entire home/apt   \n",
              "3847             2        1.0       1.0   1.0     Apartment     Private room   \n",
              "1312             3        1.0       2.0   2.0     Apartment  Entire home/apt   \n",
              "6194             2        1.0       1.0   1.0     Apartment     Private room   \n",
              "\n",
              "      availability_365  host_identity_verified  host_is_superhost host_since  \\\n",
              "5594                 0                       0                  0 2013-11-27   \n",
              "5439                 0                       1                  0 2014-07-16   \n",
              "3847                 0                       0                  0 2015-12-07   \n",
              "1312                 0                       0                  0 2015-10-02   \n",
              "6194                 0                       1                  0 2015-08-14   \n",
              "\n",
              "              cancellation_policy  bedrooms_per_person  bathrooms_per_person  \\\n",
              "5594                     moderate             0.500000              0.166667   \n",
              "5439  strict_14_with_grace_period             0.272727              0.181818   \n",
              "3847  strict_14_with_grace_period             0.500000              0.500000   \n",
              "1312  strict_14_with_grace_period             0.666667              0.333333   \n",
              "6194                     moderate             0.500000              0.500000   \n",
              "\n",
              "      days_on_airbnb  \n",
              "5594          2629.0  \n",
              "5439          2398.0  \n",
              "3847          1889.0  \n",
              "1312          1955.0  \n",
              "6194          2004.0  "
            ]
          },
          "metadata": {
            "tags": []
          },
          "execution_count": 54
        }
      ]
    },
    {
      "cell_type": "code",
      "metadata": {
        "id": "5W1NjzUfw5Ok"
      },
      "source": [
        "# let's fill in the missing values using sklearn's imputer, we employ the median strategy here\n",
        "# Note the code below is different from the video as the old Imputer function has been depracted\n",
        "\n",
        "from sklearn.impute import SimpleImputer\n",
        "\n",
        "imputer = SimpleImputer(missing_values=np.nan, strategy='median')"
      ],
      "execution_count": 55,
      "outputs": []
    },
    {
      "cell_type": "code",
      "metadata": {
        "id": "ambiARQ_7yHB",
        "colab": {
          "base_uri": "https://localhost:8080/",
          "height": 299
        },
        "outputId": "004d9271-abf5-4f2a-f9f5-8df409675e97"
      },
      "source": [
        "from sklearn.preprocessing import LabelEncoder\n",
        "\n",
        "lb = LabelEncoder() \n",
        "\n",
        "X['host_is_superhost'] = X['host_is_superhost'].eq('t').astype(int)\n",
        "X['host_identity_verified'] = X['host_identity_verified'].eq('t').astype(int)\n",
        "X.head()"
      ],
      "execution_count": 56,
      "outputs": [
        {
          "output_type": "execute_result",
          "data": {
            "text/html": [
              "<div>\n",
              "<style scoped>\n",
              "    .dataframe tbody tr th:only-of-type {\n",
              "        vertical-align: middle;\n",
              "    }\n",
              "\n",
              "    .dataframe tbody tr th {\n",
              "        vertical-align: top;\n",
              "    }\n",
              "\n",
              "    .dataframe thead th {\n",
              "        text-align: right;\n",
              "    }\n",
              "</style>\n",
              "<table border=\"1\" class=\"dataframe\">\n",
              "  <thead>\n",
              "    <tr style=\"text-align: right;\">\n",
              "      <th></th>\n",
              "      <th>city</th>\n",
              "      <th>longitude</th>\n",
              "      <th>latitude</th>\n",
              "      <th>review_scores_rating</th>\n",
              "      <th>number_of_reviews</th>\n",
              "      <th>minimum_nights</th>\n",
              "      <th>security_deposit</th>\n",
              "      <th>cleaning_fee</th>\n",
              "      <th>accommodates</th>\n",
              "      <th>bathrooms</th>\n",
              "      <th>bedrooms</th>\n",
              "      <th>beds</th>\n",
              "      <th>property_type</th>\n",
              "      <th>room_type</th>\n",
              "      <th>availability_365</th>\n",
              "      <th>host_identity_verified</th>\n",
              "      <th>host_is_superhost</th>\n",
              "      <th>host_since</th>\n",
              "      <th>cancellation_policy</th>\n",
              "      <th>bedrooms_per_person</th>\n",
              "      <th>bathrooms_per_person</th>\n",
              "      <th>days_on_airbnb</th>\n",
              "    </tr>\n",
              "  </thead>\n",
              "  <tbody>\n",
              "    <tr>\n",
              "      <th>5484</th>\n",
              "      <td>Newtown</td>\n",
              "      <td>151.178552</td>\n",
              "      <td>-33.907150</td>\n",
              "      <td>96.0</td>\n",
              "      <td>61</td>\n",
              "      <td>2</td>\n",
              "      <td>250.0</td>\n",
              "      <td>85.0</td>\n",
              "      <td>4</td>\n",
              "      <td>1.0</td>\n",
              "      <td>2.0</td>\n",
              "      <td>2.0</td>\n",
              "      <td>House</td>\n",
              "      <td>Entire home/apt</td>\n",
              "      <td>127</td>\n",
              "      <td>0</td>\n",
              "      <td>0</td>\n",
              "      <td>2016-01-22</td>\n",
              "      <td>moderate</td>\n",
              "      <td>0.500000</td>\n",
              "      <td>0.250000</td>\n",
              "      <td>1843.0</td>\n",
              "    </tr>\n",
              "    <tr>\n",
              "      <th>1267</th>\n",
              "      <td>Randwick</td>\n",
              "      <td>151.249030</td>\n",
              "      <td>-33.906190</td>\n",
              "      <td>97.0</td>\n",
              "      <td>6</td>\n",
              "      <td>4</td>\n",
              "      <td>0.0</td>\n",
              "      <td>20.0</td>\n",
              "      <td>2</td>\n",
              "      <td>1.0</td>\n",
              "      <td>1.0</td>\n",
              "      <td>1.0</td>\n",
              "      <td>Apartment</td>\n",
              "      <td>Private room</td>\n",
              "      <td>0</td>\n",
              "      <td>0</td>\n",
              "      <td>0</td>\n",
              "      <td>2014-03-28</td>\n",
              "      <td>moderate</td>\n",
              "      <td>0.500000</td>\n",
              "      <td>0.500000</td>\n",
              "      <td>2508.0</td>\n",
              "    </tr>\n",
              "    <tr>\n",
              "      <th>6658</th>\n",
              "      <td>Manly</td>\n",
              "      <td>151.288491</td>\n",
              "      <td>-33.802074</td>\n",
              "      <td>100.0</td>\n",
              "      <td>2</td>\n",
              "      <td>2</td>\n",
              "      <td>0.0</td>\n",
              "      <td>40.0</td>\n",
              "      <td>2</td>\n",
              "      <td>1.0</td>\n",
              "      <td>1.0</td>\n",
              "      <td>1.0</td>\n",
              "      <td>Apartment</td>\n",
              "      <td>Entire home/apt</td>\n",
              "      <td>0</td>\n",
              "      <td>0</td>\n",
              "      <td>0</td>\n",
              "      <td>2014-01-09</td>\n",
              "      <td>strict_14_with_grace_period</td>\n",
              "      <td>0.500000</td>\n",
              "      <td>0.500000</td>\n",
              "      <td>2586.0</td>\n",
              "    </tr>\n",
              "    <tr>\n",
              "      <th>2522</th>\n",
              "      <td>Randwick</td>\n",
              "      <td>151.236423</td>\n",
              "      <td>-33.913614</td>\n",
              "      <td>94.0</td>\n",
              "      <td>20</td>\n",
              "      <td>3</td>\n",
              "      <td>0.0</td>\n",
              "      <td>0.0</td>\n",
              "      <td>2</td>\n",
              "      <td>1.0</td>\n",
              "      <td>1.0</td>\n",
              "      <td>1.0</td>\n",
              "      <td>Apartment</td>\n",
              "      <td>Private room</td>\n",
              "      <td>90</td>\n",
              "      <td>0</td>\n",
              "      <td>0</td>\n",
              "      <td>2015-11-22</td>\n",
              "      <td>flexible</td>\n",
              "      <td>0.500000</td>\n",
              "      <td>0.500000</td>\n",
              "      <td>1904.0</td>\n",
              "    </tr>\n",
              "    <tr>\n",
              "      <th>722</th>\n",
              "      <td>Coogee</td>\n",
              "      <td>151.259342</td>\n",
              "      <td>-33.918435</td>\n",
              "      <td>92.0</td>\n",
              "      <td>139</td>\n",
              "      <td>30</td>\n",
              "      <td>0.0</td>\n",
              "      <td>0.0</td>\n",
              "      <td>3</td>\n",
              "      <td>1.0</td>\n",
              "      <td>1.0</td>\n",
              "      <td>2.0</td>\n",
              "      <td>Apartment</td>\n",
              "      <td>Private room</td>\n",
              "      <td>0</td>\n",
              "      <td>0</td>\n",
              "      <td>0</td>\n",
              "      <td>2014-01-07</td>\n",
              "      <td>strict_14_with_grace_period</td>\n",
              "      <td>0.333333</td>\n",
              "      <td>0.333333</td>\n",
              "      <td>2588.0</td>\n",
              "    </tr>\n",
              "  </tbody>\n",
              "</table>\n",
              "</div>"
            ],
            "text/plain": [
              "          city   longitude   latitude  review_scores_rating  \\\n",
              "5484   Newtown  151.178552 -33.907150                  96.0   \n",
              "1267  Randwick  151.249030 -33.906190                  97.0   \n",
              "6658     Manly  151.288491 -33.802074                 100.0   \n",
              "2522  Randwick  151.236423 -33.913614                  94.0   \n",
              "722     Coogee  151.259342 -33.918435                  92.0   \n",
              "\n",
              "      number_of_reviews  minimum_nights  security_deposit  cleaning_fee  \\\n",
              "5484                 61               2             250.0          85.0   \n",
              "1267                  6               4               0.0          20.0   \n",
              "6658                  2               2               0.0          40.0   \n",
              "2522                 20               3               0.0           0.0   \n",
              "722                 139              30               0.0           0.0   \n",
              "\n",
              "      accommodates  bathrooms  bedrooms  beds property_type        room_type  \\\n",
              "5484             4        1.0       2.0   2.0         House  Entire home/apt   \n",
              "1267             2        1.0       1.0   1.0     Apartment     Private room   \n",
              "6658             2        1.0       1.0   1.0     Apartment  Entire home/apt   \n",
              "2522             2        1.0       1.0   1.0     Apartment     Private room   \n",
              "722              3        1.0       1.0   2.0     Apartment     Private room   \n",
              "\n",
              "      availability_365  host_identity_verified  host_is_superhost host_since  \\\n",
              "5484               127                       0                  0 2016-01-22   \n",
              "1267                 0                       0                  0 2014-03-28   \n",
              "6658                 0                       0                  0 2014-01-09   \n",
              "2522                90                       0                  0 2015-11-22   \n",
              "722                  0                       0                  0 2014-01-07   \n",
              "\n",
              "              cancellation_policy  bedrooms_per_person  bathrooms_per_person  \\\n",
              "5484                     moderate             0.500000              0.250000   \n",
              "1267                     moderate             0.500000              0.500000   \n",
              "6658  strict_14_with_grace_period             0.500000              0.500000   \n",
              "2522                     flexible             0.500000              0.500000   \n",
              "722   strict_14_with_grace_period             0.333333              0.333333   \n",
              "\n",
              "      days_on_airbnb  \n",
              "5484          1843.0  \n",
              "1267          2508.0  \n",
              "6658          2586.0  \n",
              "2522          1904.0  \n",
              "722           2588.0  "
            ]
          },
          "metadata": {
            "tags": []
          },
          "execution_count": 56
        }
      ]
    },
    {
      "cell_type": "markdown",
      "metadata": {
        "id": "GpQe6f4Kw5Os"
      },
      "source": [
        "Remove the text attribute because median can only be calculated on numerical attributes:"
      ]
    },
    {
      "cell_type": "code",
      "metadata": {
        "id": "2s_PW2I3w5Ov",
        "colab": {
          "base_uri": "https://localhost:8080/",
          "height": 215
        },
        "outputId": "65c30794-d6c2-482d-a1a4-64268ca0e0c3"
      },
      "source": [
        "# Columns with missing categorical values can't be imputed so we have no alternative but to drop them\n",
        "\n",
        "cat_cols = [\"city\",\"cancellation_policy\",\"host_since\",\"room_type\",\"property_type\",\"host_since\"]\n",
        "X_num = X.drop(cat_cols, axis=1)\n",
        "X_num.head()"
      ],
      "execution_count": 57,
      "outputs": [
        {
          "output_type": "execute_result",
          "data": {
            "text/html": [
              "<div>\n",
              "<style scoped>\n",
              "    .dataframe tbody tr th:only-of-type {\n",
              "        vertical-align: middle;\n",
              "    }\n",
              "\n",
              "    .dataframe tbody tr th {\n",
              "        vertical-align: top;\n",
              "    }\n",
              "\n",
              "    .dataframe thead th {\n",
              "        text-align: right;\n",
              "    }\n",
              "</style>\n",
              "<table border=\"1\" class=\"dataframe\">\n",
              "  <thead>\n",
              "    <tr style=\"text-align: right;\">\n",
              "      <th></th>\n",
              "      <th>longitude</th>\n",
              "      <th>latitude</th>\n",
              "      <th>review_scores_rating</th>\n",
              "      <th>number_of_reviews</th>\n",
              "      <th>minimum_nights</th>\n",
              "      <th>security_deposit</th>\n",
              "      <th>cleaning_fee</th>\n",
              "      <th>accommodates</th>\n",
              "      <th>bathrooms</th>\n",
              "      <th>bedrooms</th>\n",
              "      <th>beds</th>\n",
              "      <th>availability_365</th>\n",
              "      <th>host_identity_verified</th>\n",
              "      <th>host_is_superhost</th>\n",
              "      <th>bedrooms_per_person</th>\n",
              "      <th>bathrooms_per_person</th>\n",
              "      <th>days_on_airbnb</th>\n",
              "    </tr>\n",
              "  </thead>\n",
              "  <tbody>\n",
              "    <tr>\n",
              "      <th>5484</th>\n",
              "      <td>151.178552</td>\n",
              "      <td>-33.907150</td>\n",
              "      <td>96.0</td>\n",
              "      <td>61</td>\n",
              "      <td>2</td>\n",
              "      <td>250.0</td>\n",
              "      <td>85.0</td>\n",
              "      <td>4</td>\n",
              "      <td>1.0</td>\n",
              "      <td>2.0</td>\n",
              "      <td>2.0</td>\n",
              "      <td>127</td>\n",
              "      <td>0</td>\n",
              "      <td>0</td>\n",
              "      <td>0.500000</td>\n",
              "      <td>0.250000</td>\n",
              "      <td>1843.0</td>\n",
              "    </tr>\n",
              "    <tr>\n",
              "      <th>1267</th>\n",
              "      <td>151.249030</td>\n",
              "      <td>-33.906190</td>\n",
              "      <td>97.0</td>\n",
              "      <td>6</td>\n",
              "      <td>4</td>\n",
              "      <td>0.0</td>\n",
              "      <td>20.0</td>\n",
              "      <td>2</td>\n",
              "      <td>1.0</td>\n",
              "      <td>1.0</td>\n",
              "      <td>1.0</td>\n",
              "      <td>0</td>\n",
              "      <td>0</td>\n",
              "      <td>0</td>\n",
              "      <td>0.500000</td>\n",
              "      <td>0.500000</td>\n",
              "      <td>2508.0</td>\n",
              "    </tr>\n",
              "    <tr>\n",
              "      <th>6658</th>\n",
              "      <td>151.288491</td>\n",
              "      <td>-33.802074</td>\n",
              "      <td>100.0</td>\n",
              "      <td>2</td>\n",
              "      <td>2</td>\n",
              "      <td>0.0</td>\n",
              "      <td>40.0</td>\n",
              "      <td>2</td>\n",
              "      <td>1.0</td>\n",
              "      <td>1.0</td>\n",
              "      <td>1.0</td>\n",
              "      <td>0</td>\n",
              "      <td>0</td>\n",
              "      <td>0</td>\n",
              "      <td>0.500000</td>\n",
              "      <td>0.500000</td>\n",
              "      <td>2586.0</td>\n",
              "    </tr>\n",
              "    <tr>\n",
              "      <th>2522</th>\n",
              "      <td>151.236423</td>\n",
              "      <td>-33.913614</td>\n",
              "      <td>94.0</td>\n",
              "      <td>20</td>\n",
              "      <td>3</td>\n",
              "      <td>0.0</td>\n",
              "      <td>0.0</td>\n",
              "      <td>2</td>\n",
              "      <td>1.0</td>\n",
              "      <td>1.0</td>\n",
              "      <td>1.0</td>\n",
              "      <td>90</td>\n",
              "      <td>0</td>\n",
              "      <td>0</td>\n",
              "      <td>0.500000</td>\n",
              "      <td>0.500000</td>\n",
              "      <td>1904.0</td>\n",
              "    </tr>\n",
              "    <tr>\n",
              "      <th>722</th>\n",
              "      <td>151.259342</td>\n",
              "      <td>-33.918435</td>\n",
              "      <td>92.0</td>\n",
              "      <td>139</td>\n",
              "      <td>30</td>\n",
              "      <td>0.0</td>\n",
              "      <td>0.0</td>\n",
              "      <td>3</td>\n",
              "      <td>1.0</td>\n",
              "      <td>1.0</td>\n",
              "      <td>2.0</td>\n",
              "      <td>0</td>\n",
              "      <td>0</td>\n",
              "      <td>0</td>\n",
              "      <td>0.333333</td>\n",
              "      <td>0.333333</td>\n",
              "      <td>2588.0</td>\n",
              "    </tr>\n",
              "  </tbody>\n",
              "</table>\n",
              "</div>"
            ],
            "text/plain": [
              "       longitude   latitude  review_scores_rating  number_of_reviews  \\\n",
              "5484  151.178552 -33.907150                  96.0                 61   \n",
              "1267  151.249030 -33.906190                  97.0                  6   \n",
              "6658  151.288491 -33.802074                 100.0                  2   \n",
              "2522  151.236423 -33.913614                  94.0                 20   \n",
              "722   151.259342 -33.918435                  92.0                139   \n",
              "\n",
              "      minimum_nights  security_deposit  cleaning_fee  accommodates  bathrooms  \\\n",
              "5484               2             250.0          85.0             4        1.0   \n",
              "1267               4               0.0          20.0             2        1.0   \n",
              "6658               2               0.0          40.0             2        1.0   \n",
              "2522               3               0.0           0.0             2        1.0   \n",
              "722               30               0.0           0.0             3        1.0   \n",
              "\n",
              "      bedrooms  beds  availability_365  host_identity_verified  \\\n",
              "5484       2.0   2.0               127                       0   \n",
              "1267       1.0   1.0                 0                       0   \n",
              "6658       1.0   1.0                 0                       0   \n",
              "2522       1.0   1.0                90                       0   \n",
              "722        1.0   2.0                 0                       0   \n",
              "\n",
              "      host_is_superhost  bedrooms_per_person  bathrooms_per_person  \\\n",
              "5484                  0             0.500000              0.250000   \n",
              "1267                  0             0.500000              0.500000   \n",
              "6658                  0             0.500000              0.500000   \n",
              "2522                  0             0.500000              0.500000   \n",
              "722                   0             0.333333              0.333333   \n",
              "\n",
              "      days_on_airbnb  \n",
              "5484          1843.0  \n",
              "1267          2508.0  \n",
              "6658          2586.0  \n",
              "2522          1904.0  \n",
              "722           2588.0  "
            ]
          },
          "metadata": {
            "tags": []
          },
          "execution_count": 57
        }
      ]
    },
    {
      "cell_type": "code",
      "metadata": {
        "id": "Yf3va5snw5PD",
        "colab": {
          "base_uri": "https://localhost:8080/"
        },
        "outputId": "44f856d6-1628-4d89-fa9d-8fde27e4ea5b"
      },
      "source": [
        "imputer.fit(X_num)"
      ],
      "execution_count": 58,
      "outputs": [
        {
          "output_type": "execute_result",
          "data": {
            "text/plain": [
              "SimpleImputer(add_indicator=False, copy=True, fill_value=None,\n",
              "              missing_values=nan, strategy='median', verbose=0)"
            ]
          },
          "metadata": {
            "tags": []
          },
          "execution_count": 58
        }
      ]
    },
    {
      "cell_type": "code",
      "metadata": {
        "id": "Z7BvFuaVw5PJ",
        "colab": {
          "base_uri": "https://localhost:8080/"
        },
        "outputId": "4a9a7885-f86a-4636-c093-fbfece1c5b9d"
      },
      "source": [
        "imputer.statistics_"
      ],
      "execution_count": 59,
      "outputs": [
        {
          "output_type": "execute_result",
          "data": {
            "text/plain": [
              "array([ 1.51259665e+02, -3.38885369e+01,  9.60000000e+01,  3.00000000e+00,\n",
              "        3.00000000e+00,  0.00000000e+00,  5.00000000e+01,  2.00000000e+00,\n",
              "        1.00000000e+00,  1.00000000e+00,  1.00000000e+00,  4.00000000e+00,\n",
              "        0.00000000e+00,  0.00000000e+00,  5.00000000e-01,  5.00000000e-01,\n",
              "        2.26900000e+03])"
            ]
          },
          "metadata": {
            "tags": []
          },
          "execution_count": 59
        }
      ]
    },
    {
      "cell_type": "markdown",
      "metadata": {
        "id": "hzxuikicw5PW"
      },
      "source": [
        "Check that this is the same as manually computing the median of each attribute:"
      ]
    },
    {
      "cell_type": "code",
      "metadata": {
        "id": "B5do-SLFw5PX",
        "colab": {
          "base_uri": "https://localhost:8080/"
        },
        "outputId": "799a5213-dea2-4ec2-d6ff-1728538a608f"
      },
      "source": [
        "X_num.median().values"
      ],
      "execution_count": 60,
      "outputs": [
        {
          "output_type": "execute_result",
          "data": {
            "text/plain": [
              "array([ 1.51259665e+02, -3.38885369e+01,  9.60000000e+01,  3.00000000e+00,\n",
              "        3.00000000e+00,  0.00000000e+00,  5.00000000e+01,  2.00000000e+00,\n",
              "        1.00000000e+00,  1.00000000e+00,  1.00000000e+00,  4.00000000e+00,\n",
              "        0.00000000e+00,  0.00000000e+00,  5.00000000e-01,  5.00000000e-01,\n",
              "        2.26900000e+03])"
            ]
          },
          "metadata": {
            "tags": []
          },
          "execution_count": 60
        }
      ]
    },
    {
      "cell_type": "markdown",
      "metadata": {
        "id": "jhqi5OU9w5Pe"
      },
      "source": [
        "Transform the training set:"
      ]
    },
    {
      "cell_type": "code",
      "metadata": {
        "id": "Lo700DUsw5Pg"
      },
      "source": [
        "X_num_np = imputer.transform(X_num)"
      ],
      "execution_count": 61,
      "outputs": []
    },
    {
      "cell_type": "code",
      "metadata": {
        "id": "lIIwDuqpw5Pl"
      },
      "source": [
        "X_num = pd.DataFrame(X_num_np, columns=X_num.columns,\n",
        "                          index = list(X_num.index.values))"
      ],
      "execution_count": 62,
      "outputs": []
    },
    {
      "cell_type": "code",
      "metadata": {
        "id": "GZw1eaSlw5Pp",
        "colab": {
          "base_uri": "https://localhost:8080/",
          "height": 215
        },
        "outputId": "0ac240a4-ee97-4984-ccd4-71d3fb152afb"
      },
      "source": [
        "X_num.loc[sample_incomplete_rows.index.values]"
      ],
      "execution_count": 63,
      "outputs": [
        {
          "output_type": "execute_result",
          "data": {
            "text/html": [
              "<div>\n",
              "<style scoped>\n",
              "    .dataframe tbody tr th:only-of-type {\n",
              "        vertical-align: middle;\n",
              "    }\n",
              "\n",
              "    .dataframe tbody tr th {\n",
              "        vertical-align: top;\n",
              "    }\n",
              "\n",
              "    .dataframe thead th {\n",
              "        text-align: right;\n",
              "    }\n",
              "</style>\n",
              "<table border=\"1\" class=\"dataframe\">\n",
              "  <thead>\n",
              "    <tr style=\"text-align: right;\">\n",
              "      <th></th>\n",
              "      <th>longitude</th>\n",
              "      <th>latitude</th>\n",
              "      <th>review_scores_rating</th>\n",
              "      <th>number_of_reviews</th>\n",
              "      <th>minimum_nights</th>\n",
              "      <th>security_deposit</th>\n",
              "      <th>cleaning_fee</th>\n",
              "      <th>accommodates</th>\n",
              "      <th>bathrooms</th>\n",
              "      <th>bedrooms</th>\n",
              "      <th>beds</th>\n",
              "      <th>availability_365</th>\n",
              "      <th>host_identity_verified</th>\n",
              "      <th>host_is_superhost</th>\n",
              "      <th>bedrooms_per_person</th>\n",
              "      <th>bathrooms_per_person</th>\n",
              "      <th>days_on_airbnb</th>\n",
              "    </tr>\n",
              "  </thead>\n",
              "  <tbody>\n",
              "    <tr>\n",
              "      <th>5594</th>\n",
              "      <td>151.238806</td>\n",
              "      <td>-33.913834</td>\n",
              "      <td>96.0</td>\n",
              "      <td>0.0</td>\n",
              "      <td>2.0</td>\n",
              "      <td>800.0</td>\n",
              "      <td>80.0</td>\n",
              "      <td>6.0</td>\n",
              "      <td>1.0</td>\n",
              "      <td>3.0</td>\n",
              "      <td>3.0</td>\n",
              "      <td>0.0</td>\n",
              "      <td>0.0</td>\n",
              "      <td>0.0</td>\n",
              "      <td>0.500000</td>\n",
              "      <td>0.166667</td>\n",
              "      <td>2629.0</td>\n",
              "    </tr>\n",
              "    <tr>\n",
              "      <th>5439</th>\n",
              "      <td>151.184469</td>\n",
              "      <td>-33.894582</td>\n",
              "      <td>96.0</td>\n",
              "      <td>0.0</td>\n",
              "      <td>3.0</td>\n",
              "      <td>5000.0</td>\n",
              "      <td>100.0</td>\n",
              "      <td>11.0</td>\n",
              "      <td>2.0</td>\n",
              "      <td>3.0</td>\n",
              "      <td>4.0</td>\n",
              "      <td>0.0</td>\n",
              "      <td>0.0</td>\n",
              "      <td>0.0</td>\n",
              "      <td>0.272727</td>\n",
              "      <td>0.181818</td>\n",
              "      <td>2398.0</td>\n",
              "    </tr>\n",
              "    <tr>\n",
              "      <th>3847</th>\n",
              "      <td>151.273077</td>\n",
              "      <td>-33.895142</td>\n",
              "      <td>96.0</td>\n",
              "      <td>0.0</td>\n",
              "      <td>7.0</td>\n",
              "      <td>271.0</td>\n",
              "      <td>27.0</td>\n",
              "      <td>2.0</td>\n",
              "      <td>1.0</td>\n",
              "      <td>1.0</td>\n",
              "      <td>1.0</td>\n",
              "      <td>0.0</td>\n",
              "      <td>0.0</td>\n",
              "      <td>0.0</td>\n",
              "      <td>0.500000</td>\n",
              "      <td>0.500000</td>\n",
              "      <td>1889.0</td>\n",
              "    </tr>\n",
              "    <tr>\n",
              "      <th>1312</th>\n",
              "      <td>151.245793</td>\n",
              "      <td>-33.920622</td>\n",
              "      <td>96.0</td>\n",
              "      <td>0.0</td>\n",
              "      <td>3.0</td>\n",
              "      <td>0.0</td>\n",
              "      <td>80.0</td>\n",
              "      <td>3.0</td>\n",
              "      <td>1.0</td>\n",
              "      <td>2.0</td>\n",
              "      <td>2.0</td>\n",
              "      <td>0.0</td>\n",
              "      <td>0.0</td>\n",
              "      <td>0.0</td>\n",
              "      <td>0.666667</td>\n",
              "      <td>0.333333</td>\n",
              "      <td>1955.0</td>\n",
              "    </tr>\n",
              "    <tr>\n",
              "      <th>6194</th>\n",
              "      <td>151.273411</td>\n",
              "      <td>-33.888113</td>\n",
              "      <td>96.0</td>\n",
              "      <td>0.0</td>\n",
              "      <td>10.0</td>\n",
              "      <td>0.0</td>\n",
              "      <td>0.0</td>\n",
              "      <td>2.0</td>\n",
              "      <td>1.0</td>\n",
              "      <td>1.0</td>\n",
              "      <td>1.0</td>\n",
              "      <td>0.0</td>\n",
              "      <td>0.0</td>\n",
              "      <td>0.0</td>\n",
              "      <td>0.500000</td>\n",
              "      <td>0.500000</td>\n",
              "      <td>2004.0</td>\n",
              "    </tr>\n",
              "  </tbody>\n",
              "</table>\n",
              "</div>"
            ],
            "text/plain": [
              "       longitude   latitude  review_scores_rating  number_of_reviews  \\\n",
              "5594  151.238806 -33.913834                  96.0                0.0   \n",
              "5439  151.184469 -33.894582                  96.0                0.0   \n",
              "3847  151.273077 -33.895142                  96.0                0.0   \n",
              "1312  151.245793 -33.920622                  96.0                0.0   \n",
              "6194  151.273411 -33.888113                  96.0                0.0   \n",
              "\n",
              "      minimum_nights  security_deposit  cleaning_fee  accommodates  bathrooms  \\\n",
              "5594             2.0             800.0          80.0           6.0        1.0   \n",
              "5439             3.0            5000.0         100.0          11.0        2.0   \n",
              "3847             7.0             271.0          27.0           2.0        1.0   \n",
              "1312             3.0               0.0          80.0           3.0        1.0   \n",
              "6194            10.0               0.0           0.0           2.0        1.0   \n",
              "\n",
              "      bedrooms  beds  availability_365  host_identity_verified  \\\n",
              "5594       3.0   3.0               0.0                     0.0   \n",
              "5439       3.0   4.0               0.0                     0.0   \n",
              "3847       1.0   1.0               0.0                     0.0   \n",
              "1312       2.0   2.0               0.0                     0.0   \n",
              "6194       1.0   1.0               0.0                     0.0   \n",
              "\n",
              "      host_is_superhost  bedrooms_per_person  bathrooms_per_person  \\\n",
              "5594                0.0             0.500000              0.166667   \n",
              "5439                0.0             0.272727              0.181818   \n",
              "3847                0.0             0.500000              0.500000   \n",
              "1312                0.0             0.666667              0.333333   \n",
              "6194                0.0             0.500000              0.500000   \n",
              "\n",
              "      days_on_airbnb  \n",
              "5594          2629.0  \n",
              "5439          2398.0  \n",
              "3847          1889.0  \n",
              "1312          1955.0  \n",
              "6194          2004.0  "
            ]
          },
          "metadata": {
            "tags": []
          },
          "execution_count": 63
        }
      ]
    },
    {
      "cell_type": "code",
      "metadata": {
        "id": "AdmidxW3w5P5",
        "colab": {
          "base_uri": "https://localhost:8080/",
          "height": 35
        },
        "outputId": "d644b0c4-2ce4-450d-b678-2f83df325a38"
      },
      "source": [
        "imputer.strategy"
      ],
      "execution_count": 64,
      "outputs": [
        {
          "output_type": "execute_result",
          "data": {
            "application/vnd.google.colaboratory.intrinsic+json": {
              "type": "string"
            },
            "text/plain": [
              "'median'"
            ]
          },
          "metadata": {
            "tags": []
          },
          "execution_count": 64
        }
      ]
    },
    {
      "cell_type": "markdown",
      "metadata": {
        "id": "ZzxQqz0iw5QD"
      },
      "source": [
        "Now let's preprocess the categorical input feature, `ocean_proximity`:"
      ]
    },
    {
      "cell_type": "code",
      "metadata": {
        "id": "ZwC3xBx2w5QE",
        "colab": {
          "base_uri": "https://localhost:8080/",
          "height": 343
        },
        "outputId": "65ad15ee-212e-45ba-b97f-dc3c8c876778"
      },
      "source": [
        "X_cat = X.select_dtypes(include=[object])\n",
        "X_cat.head(10)"
      ],
      "execution_count": 65,
      "outputs": [
        {
          "output_type": "execute_result",
          "data": {
            "text/html": [
              "<div>\n",
              "<style scoped>\n",
              "    .dataframe tbody tr th:only-of-type {\n",
              "        vertical-align: middle;\n",
              "    }\n",
              "\n",
              "    .dataframe tbody tr th {\n",
              "        vertical-align: top;\n",
              "    }\n",
              "\n",
              "    .dataframe thead th {\n",
              "        text-align: right;\n",
              "    }\n",
              "</style>\n",
              "<table border=\"1\" class=\"dataframe\">\n",
              "  <thead>\n",
              "    <tr style=\"text-align: right;\">\n",
              "      <th></th>\n",
              "      <th>city</th>\n",
              "      <th>property_type</th>\n",
              "      <th>room_type</th>\n",
              "      <th>cancellation_policy</th>\n",
              "    </tr>\n",
              "  </thead>\n",
              "  <tbody>\n",
              "    <tr>\n",
              "      <th>5484</th>\n",
              "      <td>Newtown</td>\n",
              "      <td>House</td>\n",
              "      <td>Entire home/apt</td>\n",
              "      <td>moderate</td>\n",
              "    </tr>\n",
              "    <tr>\n",
              "      <th>1267</th>\n",
              "      <td>Randwick</td>\n",
              "      <td>Apartment</td>\n",
              "      <td>Private room</td>\n",
              "      <td>moderate</td>\n",
              "    </tr>\n",
              "    <tr>\n",
              "      <th>6658</th>\n",
              "      <td>Manly</td>\n",
              "      <td>Apartment</td>\n",
              "      <td>Entire home/apt</td>\n",
              "      <td>strict_14_with_grace_period</td>\n",
              "    </tr>\n",
              "    <tr>\n",
              "      <th>2522</th>\n",
              "      <td>Randwick</td>\n",
              "      <td>Apartment</td>\n",
              "      <td>Private room</td>\n",
              "      <td>flexible</td>\n",
              "    </tr>\n",
              "    <tr>\n",
              "      <th>722</th>\n",
              "      <td>Coogee</td>\n",
              "      <td>Apartment</td>\n",
              "      <td>Private room</td>\n",
              "      <td>strict_14_with_grace_period</td>\n",
              "    </tr>\n",
              "    <tr>\n",
              "      <th>3150</th>\n",
              "      <td>Manly</td>\n",
              "      <td>Apartment</td>\n",
              "      <td>Entire home/apt</td>\n",
              "      <td>strict_14_with_grace_period</td>\n",
              "    </tr>\n",
              "    <tr>\n",
              "      <th>2865</th>\n",
              "      <td>Surry Hills</td>\n",
              "      <td>Apartment</td>\n",
              "      <td>Entire home/apt</td>\n",
              "      <td>strict_14_with_grace_period</td>\n",
              "    </tr>\n",
              "    <tr>\n",
              "      <th>4906</th>\n",
              "      <td>Bondi Beach</td>\n",
              "      <td>Apartment</td>\n",
              "      <td>Entire home/apt</td>\n",
              "      <td>strict_14_with_grace_period</td>\n",
              "    </tr>\n",
              "    <tr>\n",
              "      <th>575</th>\n",
              "      <td>Coogee</td>\n",
              "      <td>Apartment</td>\n",
              "      <td>Entire home/apt</td>\n",
              "      <td>strict_14_with_grace_period</td>\n",
              "    </tr>\n",
              "    <tr>\n",
              "      <th>5827</th>\n",
              "      <td>Newtown</td>\n",
              "      <td>House</td>\n",
              "      <td>Private room</td>\n",
              "      <td>flexible</td>\n",
              "    </tr>\n",
              "  </tbody>\n",
              "</table>\n",
              "</div>"
            ],
            "text/plain": [
              "             city property_type        room_type          cancellation_policy\n",
              "5484      Newtown         House  Entire home/apt                     moderate\n",
              "1267     Randwick     Apartment     Private room                     moderate\n",
              "6658        Manly     Apartment  Entire home/apt  strict_14_with_grace_period\n",
              "2522     Randwick     Apartment     Private room                     flexible\n",
              "722        Coogee     Apartment     Private room  strict_14_with_grace_period\n",
              "3150        Manly     Apartment  Entire home/apt  strict_14_with_grace_period\n",
              "2865  Surry Hills     Apartment  Entire home/apt  strict_14_with_grace_period\n",
              "4906  Bondi Beach     Apartment  Entire home/apt  strict_14_with_grace_period\n",
              "575        Coogee     Apartment  Entire home/apt  strict_14_with_grace_period\n",
              "5827      Newtown         House     Private room                     flexible"
            ]
          },
          "metadata": {
            "tags": []
          },
          "execution_count": 65
        }
      ]
    },
    {
      "cell_type": "code",
      "metadata": {
        "id": "s9bBi-cIw5QJ"
      },
      "source": [
        "from sklearn.preprocessing import OrdinalEncoder"
      ],
      "execution_count": 66,
      "outputs": []
    },
    {
      "cell_type": "code",
      "metadata": {
        "id": "1k2uHTfww5QM",
        "colab": {
          "base_uri": "https://localhost:8080/",
          "height": 195
        },
        "outputId": "7bb87092-8d1e-4a31-f4f3-7e1d323fc0f0"
      },
      "source": [
        "X_cat.head()"
      ],
      "execution_count": 67,
      "outputs": [
        {
          "output_type": "execute_result",
          "data": {
            "text/html": [
              "<div>\n",
              "<style scoped>\n",
              "    .dataframe tbody tr th:only-of-type {\n",
              "        vertical-align: middle;\n",
              "    }\n",
              "\n",
              "    .dataframe tbody tr th {\n",
              "        vertical-align: top;\n",
              "    }\n",
              "\n",
              "    .dataframe thead th {\n",
              "        text-align: right;\n",
              "    }\n",
              "</style>\n",
              "<table border=\"1\" class=\"dataframe\">\n",
              "  <thead>\n",
              "    <tr style=\"text-align: right;\">\n",
              "      <th></th>\n",
              "      <th>city</th>\n",
              "      <th>property_type</th>\n",
              "      <th>room_type</th>\n",
              "      <th>cancellation_policy</th>\n",
              "    </tr>\n",
              "  </thead>\n",
              "  <tbody>\n",
              "    <tr>\n",
              "      <th>5484</th>\n",
              "      <td>Newtown</td>\n",
              "      <td>House</td>\n",
              "      <td>Entire home/apt</td>\n",
              "      <td>moderate</td>\n",
              "    </tr>\n",
              "    <tr>\n",
              "      <th>1267</th>\n",
              "      <td>Randwick</td>\n",
              "      <td>Apartment</td>\n",
              "      <td>Private room</td>\n",
              "      <td>moderate</td>\n",
              "    </tr>\n",
              "    <tr>\n",
              "      <th>6658</th>\n",
              "      <td>Manly</td>\n",
              "      <td>Apartment</td>\n",
              "      <td>Entire home/apt</td>\n",
              "      <td>strict_14_with_grace_period</td>\n",
              "    </tr>\n",
              "    <tr>\n",
              "      <th>2522</th>\n",
              "      <td>Randwick</td>\n",
              "      <td>Apartment</td>\n",
              "      <td>Private room</td>\n",
              "      <td>flexible</td>\n",
              "    </tr>\n",
              "    <tr>\n",
              "      <th>722</th>\n",
              "      <td>Coogee</td>\n",
              "      <td>Apartment</td>\n",
              "      <td>Private room</td>\n",
              "      <td>strict_14_with_grace_period</td>\n",
              "    </tr>\n",
              "  </tbody>\n",
              "</table>\n",
              "</div>"
            ],
            "text/plain": [
              "          city property_type        room_type          cancellation_policy\n",
              "5484   Newtown         House  Entire home/apt                     moderate\n",
              "1267  Randwick     Apartment     Private room                     moderate\n",
              "6658     Manly     Apartment  Entire home/apt  strict_14_with_grace_period\n",
              "2522  Randwick     Apartment     Private room                     flexible\n",
              "722     Coogee     Apartment     Private room  strict_14_with_grace_period"
            ]
          },
          "metadata": {
            "tags": []
          },
          "execution_count": 67
        }
      ]
    },
    {
      "cell_type": "code",
      "metadata": {
        "id": "zNdyufW6w5QX",
        "colab": {
          "base_uri": "https://localhost:8080/"
        },
        "outputId": "e8e75fe5-4c36-4dda-b02a-d9c77f92a383"
      },
      "source": [
        "ordinal_encoder = OrdinalEncoder()\n",
        "X_cat_enc = ordinal_encoder.fit_transform(X_cat)\n",
        "X_cat_enc[:10]"
      ],
      "execution_count": 68,
      "outputs": [
        {
          "output_type": "execute_result",
          "data": {
            "text/plain": [
              "array([[5., 6., 0., 1.],\n",
              "       [7., 0., 1., 1.],\n",
              "       [4., 0., 0., 2.],\n",
              "       [7., 0., 1., 0.],\n",
              "       [2., 0., 1., 2.],\n",
              "       [4., 0., 0., 2.],\n",
              "       [8., 0., 0., 2.],\n",
              "       [1., 0., 0., 2.],\n",
              "       [2., 0., 0., 2.],\n",
              "       [5., 6., 1., 0.]])"
            ]
          },
          "metadata": {
            "tags": []
          },
          "execution_count": 68
        }
      ]
    },
    {
      "cell_type": "code",
      "metadata": {
        "id": "b47WGxuuw5Qh",
        "colab": {
          "base_uri": "https://localhost:8080/"
        },
        "outputId": "ffe3143a-f5ef-4e96-e15f-25f43ac099f5"
      },
      "source": [
        "ordinal_encoder.categories_"
      ],
      "execution_count": 69,
      "outputs": [
        {
          "output_type": "execute_result",
          "data": {
            "text/plain": [
              "[array(['Bondi', 'Bondi Beach', 'Coogee', 'Darlinghurst', 'Manly',\n",
              "        'Newtown', 'North Bondi', 'Randwick', 'Surry Hills', 'Sydney'],\n",
              "       dtype=object),\n",
              " array(['Apartment', 'Bed and breakfast', 'Condominium', 'Guest suite',\n",
              "        'Guesthouse', 'Hostel', 'House', 'Loft', 'Other',\n",
              "        'Serviced apartment', 'Townhouse', 'Villa'], dtype=object),\n",
              " array(['Entire home/apt', 'Private room', 'Shared room'], dtype=object),\n",
              " array(['flexible', 'moderate', 'strict_14_with_grace_period',\n",
              "        'super_strict_60'], dtype=object)]"
            ]
          },
          "metadata": {
            "tags": []
          },
          "execution_count": 69
        }
      ]
    },
    {
      "cell_type": "code",
      "metadata": {
        "id": "cG-V0NPaw5Qq",
        "colab": {
          "base_uri": "https://localhost:8080/"
        },
        "outputId": "58bab1dd-9519-4739-a5bc-29b1360d51b2"
      },
      "source": [
        "from sklearn.preprocessing import OneHotEncoder\n",
        "\n",
        "cat_encoder = OneHotEncoder()\n",
        "X_cat_1hot = cat_encoder.fit_transform(X_cat)\n",
        "X_cat_1hot"
      ],
      "execution_count": 70,
      "outputs": [
        {
          "output_type": "execute_result",
          "data": {
            "text/plain": [
              "<6485x29 sparse matrix of type '<class 'numpy.float64'>'\n",
              "\twith 25940 stored elements in Compressed Sparse Row format>"
            ]
          },
          "metadata": {
            "tags": []
          },
          "execution_count": 70
        }
      ]
    },
    {
      "cell_type": "markdown",
      "metadata": {
        "id": "VSbE62pNw5Q8"
      },
      "source": [
        "By default, the `OneHotEncoder` class returns a sparse array, but we can convert it to a dense array if needed by calling the `toarray()` method:"
      ]
    },
    {
      "cell_type": "code",
      "metadata": {
        "id": "wse7kfOJw5Q_",
        "colab": {
          "base_uri": "https://localhost:8080/"
        },
        "outputId": "4df33653-c03f-4085-a49c-0d33a950b494"
      },
      "source": [
        "X_cat_1hot.toarray()"
      ],
      "execution_count": 71,
      "outputs": [
        {
          "output_type": "execute_result",
          "data": {
            "text/plain": [
              "array([[0., 0., 0., ..., 1., 0., 0.],\n",
              "       [0., 0., 0., ..., 1., 0., 0.],\n",
              "       [0., 0., 0., ..., 0., 1., 0.],\n",
              "       ...,\n",
              "       [1., 0., 0., ..., 1., 0., 0.],\n",
              "       [0., 0., 0., ..., 0., 1., 0.],\n",
              "       [0., 0., 1., ..., 0., 1., 0.]])"
            ]
          },
          "metadata": {
            "tags": []
          },
          "execution_count": 71
        }
      ]
    },
    {
      "cell_type": "markdown",
      "metadata": {
        "id": "Czb3Sc58w5RP"
      },
      "source": [
        "Alternatively, you can set `sparse=False` when creating the `OneHotEncoder`:"
      ]
    },
    {
      "cell_type": "code",
      "metadata": {
        "id": "MPvz38hvw5RQ",
        "colab": {
          "base_uri": "https://localhost:8080/"
        },
        "outputId": "eb8730d8-9444-4029-c6af-8833a8236f33"
      },
      "source": [
        "cat_encoder = OneHotEncoder(sparse=False)\n",
        "X_cat_1hot = cat_encoder.fit_transform(X_cat)\n",
        "X_cat_1hot"
      ],
      "execution_count": 72,
      "outputs": [
        {
          "output_type": "execute_result",
          "data": {
            "text/plain": [
              "array([[0., 0., 0., ..., 1., 0., 0.],\n",
              "       [0., 0., 0., ..., 1., 0., 0.],\n",
              "       [0., 0., 0., ..., 0., 1., 0.],\n",
              "       ...,\n",
              "       [1., 0., 0., ..., 1., 0., 0.],\n",
              "       [0., 0., 0., ..., 0., 1., 0.],\n",
              "       [0., 0., 1., ..., 0., 1., 0.]])"
            ]
          },
          "metadata": {
            "tags": []
          },
          "execution_count": 72
        }
      ]
    },
    {
      "cell_type": "code",
      "metadata": {
        "id": "_RN9A0Cbw5RY",
        "colab": {
          "base_uri": "https://localhost:8080/"
        },
        "outputId": "625eea17-5579-4025-a665-773a30ad07d7"
      },
      "source": [
        "cat_encoder.categories_"
      ],
      "execution_count": 73,
      "outputs": [
        {
          "output_type": "execute_result",
          "data": {
            "text/plain": [
              "[array(['Bondi', 'Bondi Beach', 'Coogee', 'Darlinghurst', 'Manly',\n",
              "        'Newtown', 'North Bondi', 'Randwick', 'Surry Hills', 'Sydney'],\n",
              "       dtype=object),\n",
              " array(['Apartment', 'Bed and breakfast', 'Condominium', 'Guest suite',\n",
              "        'Guesthouse', 'Hostel', 'House', 'Loft', 'Other',\n",
              "        'Serviced apartment', 'Townhouse', 'Villa'], dtype=object),\n",
              " array(['Entire home/apt', 'Private room', 'Shared room'], dtype=object),\n",
              " array(['flexible', 'moderate', 'strict_14_with_grace_period',\n",
              "        'super_strict_60'], dtype=object)]"
            ]
          },
          "metadata": {
            "tags": []
          },
          "execution_count": 73
        }
      ]
    },
    {
      "cell_type": "markdown",
      "metadata": {
        "id": "E92-ZqWiw5Rn"
      },
      "source": [
        "Let's create a custom transformer to add extra attributes:"
      ]
    },
    {
      "cell_type": "markdown",
      "metadata": {
        "id": "LDHO17Jrw5Ro"
      },
      "source": [
        "#### **Now let's create a pipeline for preprocessing that is built on the techniques we used up and till now and introduce some new pipeline techniques.**"
      ]
    },
    {
      "cell_type": "code",
      "metadata": {
        "id": "BTVFcERtw5Rp"
      },
      "source": [
        "from sklearn.base import BaseEstimator, TransformerMixin\n",
        "from datetime import datetime\n",
        "numerics = ['int16', 'int32', 'int64', 'float16', 'float32', 'float64']\n",
        "\n",
        "# Receive numpy array, convert to pandas for features, convert back to array for output.\n",
        "\n",
        "class CombinedAttributesAdder(BaseEstimator, TransformerMixin):\n",
        "    def __init__(self, popularity = True, num_cols=[]): # no *args or **kargs\n",
        "        self.popularity = popularity\n",
        "    def fit(self, X, y=None):\n",
        "        return self  # nothing else to do\n",
        "    def transform(self, X, y=None):\n",
        "        \n",
        "        ### Some feature engineering\n",
        "        X = pd.DataFrame(X, columns=num_cols)\n",
        "        X[\"bedrooms_per_person\"] = X[\"bedrooms\"]/X[\"accommodates\"]\n",
        "        X[\"bathrooms_per_person\"] = X[\"bathrooms\"]/X[\"accommodates\"]\n",
        "        \n",
        "        global feats\n",
        "        feats = [\"bedrooms_per_person\",\"bathrooms_per_person\"]\n",
        "\n",
        "        if self.popularity:\n",
        "            X[\"past_and_future_popularity\"]=X[\"number_of_reviews\"]/(X[\"availability_365\"]+1)\n",
        "            feats.append(\"past_and_future_popularity\")\n",
        "            \n",
        "            return X.values\n",
        "        else:\n",
        "            return X.values\n",
        "        "
      ],
      "execution_count": 74,
      "outputs": []
    },
    {
      "cell_type": "code",
      "metadata": {
        "id": "7Z0PQD7jw5Rx"
      },
      "source": [
        "from sklearn.pipeline import Pipeline\n",
        "from sklearn.preprocessing import StandardScaler\n",
        "\n",
        "strat_train_set2 = strat_train_set.dropna()\n",
        "X = strat_train_set2.copy().drop(\"price\",axis=1)\n",
        "Y = strat_train_set2[\"price\"]\n",
        "\n",
        "num_cols = list(X.select_dtypes(include=numerics).columns)\n",
        "cat_cols = list(X.select_dtypes(include=[object]).columns)\n",
        "\n",
        "num_pipeline = Pipeline([\n",
        "        ('imputer', SimpleImputer(strategy=\"median\")),\n",
        "        ('attribs_adder', CombinedAttributesAdder(num_cols=num_cols,popularity=True)),\n",
        "        ('std_scaler', StandardScaler()),\n",
        "    ])"
      ],
      "execution_count": 75,
      "outputs": []
    },
    {
      "cell_type": "markdown",
      "metadata": {
        "id": "3u34Imrxw5R5"
      },
      "source": [
        "**Warning**: earlier versions of the book applied different transformations to different columns using a solution based on a `DataFrameSelector` transformer and a `FeatureUnion` (see below). It is now preferable to use the `ColumnTransformer` class that will is introduced in Scikit-Learn 0.20. "
      ]
    },
    {
      "cell_type": "code",
      "metadata": {
        "id": "1ssxaRz7w5R6"
      },
      "source": [
        "from sklearn.compose import ColumnTransformer\n",
        "import itertools\n",
        "\n",
        "\n",
        "numerics = ['int16', 'int32', 'int64', 'float16', 'float32', 'float64']\n",
        "\n",
        "mid_pipeline = ColumnTransformer([\n",
        "        (\"num\", num_pipeline, num_cols),\n",
        "        (\"cat\", OneHotEncoder(),cat_cols ),\n",
        "    ])"
      ],
      "execution_count": 76,
      "outputs": []
    },
    {
      "cell_type": "code",
      "metadata": {
        "id": "pQwKODGow5R9",
        "colab": {
          "base_uri": "https://localhost:8080/"
        },
        "outputId": "ee277ded-3707-454a-91ff-a6567a720f47"
      },
      "source": [
        "mid_pipeline.fit(X) # this one specifically has to be fitted for the cat names\n",
        "cat_encoder = mid_pipeline.named_transformers_[\"cat\"]\n",
        "sublists = [list(bas) for bas in cat_encoder.categories_]\n",
        "one_cols = list(itertools.chain(*sublists))\n",
        "\n",
        "## In this class, I will be converting numpy back to pandas\n",
        "\n",
        "class ToPandasDF(BaseEstimator, TransformerMixin):\n",
        "    def __init__(self, fit_index = [] ): # no *args or **kargs\n",
        "        self.fit_index = fit_index\n",
        "    def fit(self, X_df, y=None):\n",
        "        return self  # nothing else to do\n",
        "    def transform(self, X_df, y=None):\n",
        "        global cols\n",
        "        cols = num_cols.copy()\n",
        "        cols.extend(feats)\n",
        "        cols.extend(one_cols) # one in place of cat\n",
        "        X_df = pd.DataFrame(X_df, columns=cols,index=self.fit_index)\n",
        "\n",
        "        return X_df\n",
        "\n",
        "def pipe(inds):\n",
        "    return Pipeline([\n",
        "            (\"mid\", mid_pipeline),\n",
        "            (\"PD\", ToPandasDF(inds)),\n",
        "        ])\n",
        "    \n",
        "params = {\"inds\" : list(X.index)}\n",
        "\n",
        "X_pr = pipe(**params).fit_transform(X) # Now we have done all the preprocessing instead of\n",
        "                                   #.. doing it bit by bit. The pipeline becomes \n",
        "                                   #.. extremely handy in the cross-validation step."
      ],
      "execution_count": 77,
      "outputs": [
        {
          "output_type": "stream",
          "text": [
            "/usr/local/lib/python3.6/dist-packages/sklearn/base.py:197: FutureWarning: From version 0.24, get_params will raise an AttributeError if a parameter cannot be retrieved as an instance attribute. Previously it would return None.\n",
            "  FutureWarning)\n",
            "/usr/local/lib/python3.6/dist-packages/sklearn/base.py:197: FutureWarning: From version 0.24, get_params will raise an AttributeError if a parameter cannot be retrieved as an instance attribute. Previously it would return None.\n",
            "  FutureWarning)\n"
          ],
          "name": "stderr"
        }
      ]
    },
    {
      "cell_type": "code",
      "metadata": {
        "id": "qJvFJgXu_as-",
        "colab": {
          "base_uri": "https://localhost:8080/",
          "height": 232
        },
        "outputId": "ab4d56b8-6526-44c3-d744-dce40f7a40ee"
      },
      "source": [
        "X_pr.head()"
      ],
      "execution_count": 78,
      "outputs": [
        {
          "output_type": "execute_result",
          "data": {
            "text/html": [
              "<div>\n",
              "<style scoped>\n",
              "    .dataframe tbody tr th:only-of-type {\n",
              "        vertical-align: middle;\n",
              "    }\n",
              "\n",
              "    .dataframe tbody tr th {\n",
              "        vertical-align: top;\n",
              "    }\n",
              "\n",
              "    .dataframe thead th {\n",
              "        text-align: right;\n",
              "    }\n",
              "</style>\n",
              "<table border=\"1\" class=\"dataframe\">\n",
              "  <thead>\n",
              "    <tr style=\"text-align: right;\">\n",
              "      <th></th>\n",
              "      <th>longitude</th>\n",
              "      <th>latitude</th>\n",
              "      <th>review_scores_rating</th>\n",
              "      <th>number_of_reviews</th>\n",
              "      <th>minimum_nights</th>\n",
              "      <th>security_deposit</th>\n",
              "      <th>cleaning_fee</th>\n",
              "      <th>accommodates</th>\n",
              "      <th>bathrooms</th>\n",
              "      <th>bedrooms</th>\n",
              "      <th>beds</th>\n",
              "      <th>availability_365</th>\n",
              "      <th>host_identity_verified</th>\n",
              "      <th>host_is_superhost</th>\n",
              "      <th>bedrooms_per_person</th>\n",
              "      <th>bathrooms_per_person</th>\n",
              "      <th>past_and_future_popularity</th>\n",
              "      <th>Bondi</th>\n",
              "      <th>Bondi Beach</th>\n",
              "      <th>Coogee</th>\n",
              "      <th>Darlinghurst</th>\n",
              "      <th>Manly</th>\n",
              "      <th>Newtown</th>\n",
              "      <th>North Bondi</th>\n",
              "      <th>Randwick</th>\n",
              "      <th>Surry Hills</th>\n",
              "      <th>Sydney</th>\n",
              "      <th>Apartment</th>\n",
              "      <th>Bed and breakfast</th>\n",
              "      <th>Condominium</th>\n",
              "      <th>Guest suite</th>\n",
              "      <th>Guesthouse</th>\n",
              "      <th>Hostel</th>\n",
              "      <th>House</th>\n",
              "      <th>Loft</th>\n",
              "      <th>Other</th>\n",
              "      <th>Serviced apartment</th>\n",
              "      <th>Townhouse</th>\n",
              "      <th>Villa</th>\n",
              "      <th>Entire home/apt</th>\n",
              "      <th>Private room</th>\n",
              "      <th>Shared room</th>\n",
              "      <th>flexible</th>\n",
              "      <th>moderate</th>\n",
              "      <th>strict_14_with_grace_period</th>\n",
              "      <th>super_strict_60</th>\n",
              "    </tr>\n",
              "  </thead>\n",
              "  <tbody>\n",
              "    <tr>\n",
              "      <th>5484</th>\n",
              "      <td>-1.998871</td>\n",
              "      <td>-0.783981</td>\n",
              "      <td>0.304899</td>\n",
              "      <td>1.084616</td>\n",
              "      <td>-0.142452</td>\n",
              "      <td>-0.089243</td>\n",
              "      <td>0.214312</td>\n",
              "      <td>0.414626</td>\n",
              "      <td>-0.446702</td>\n",
              "      <td>0.633003</td>\n",
              "      <td>0.124228</td>\n",
              "      <td>0.245249</td>\n",
              "      <td>0.860056</td>\n",
              "      <td>-0.410279</td>\n",
              "      <td>0.066709</td>\n",
              "      <td>-0.812284</td>\n",
              "      <td>-0.265252</td>\n",
              "      <td>0.0</td>\n",
              "      <td>0.0</td>\n",
              "      <td>0.0</td>\n",
              "      <td>0.0</td>\n",
              "      <td>0.0</td>\n",
              "      <td>1.0</td>\n",
              "      <td>0.0</td>\n",
              "      <td>0.0</td>\n",
              "      <td>0.0</td>\n",
              "      <td>0.0</td>\n",
              "      <td>0.0</td>\n",
              "      <td>0.0</td>\n",
              "      <td>0.0</td>\n",
              "      <td>0.0</td>\n",
              "      <td>0.0</td>\n",
              "      <td>0.0</td>\n",
              "      <td>1.0</td>\n",
              "      <td>0.0</td>\n",
              "      <td>0.0</td>\n",
              "      <td>0.0</td>\n",
              "      <td>0.0</td>\n",
              "      <td>0.0</td>\n",
              "      <td>1.0</td>\n",
              "      <td>0.0</td>\n",
              "      <td>0.0</td>\n",
              "      <td>0.0</td>\n",
              "      <td>1.0</td>\n",
              "      <td>0.0</td>\n",
              "      <td>0.0</td>\n",
              "    </tr>\n",
              "    <tr>\n",
              "      <th>1267</th>\n",
              "      <td>0.094447</td>\n",
              "      <td>-0.756122</td>\n",
              "      <td>0.413560</td>\n",
              "      <td>-0.402834</td>\n",
              "      <td>-0.022353</td>\n",
              "      <td>-0.594668</td>\n",
              "      <td>-0.694888</td>\n",
              "      <td>-0.669371</td>\n",
              "      <td>-0.446702</td>\n",
              "      <td>-0.499778</td>\n",
              "      <td>-0.641574</td>\n",
              "      <td>-0.798199</td>\n",
              "      <td>0.860056</td>\n",
              "      <td>-0.410279</td>\n",
              "      <td>0.066709</td>\n",
              "      <td>0.127492</td>\n",
              "      <td>0.297268</td>\n",
              "      <td>0.0</td>\n",
              "      <td>0.0</td>\n",
              "      <td>0.0</td>\n",
              "      <td>0.0</td>\n",
              "      <td>0.0</td>\n",
              "      <td>0.0</td>\n",
              "      <td>0.0</td>\n",
              "      <td>1.0</td>\n",
              "      <td>0.0</td>\n",
              "      <td>0.0</td>\n",
              "      <td>1.0</td>\n",
              "      <td>0.0</td>\n",
              "      <td>0.0</td>\n",
              "      <td>0.0</td>\n",
              "      <td>0.0</td>\n",
              "      <td>0.0</td>\n",
              "      <td>0.0</td>\n",
              "      <td>0.0</td>\n",
              "      <td>0.0</td>\n",
              "      <td>0.0</td>\n",
              "      <td>0.0</td>\n",
              "      <td>0.0</td>\n",
              "      <td>0.0</td>\n",
              "      <td>1.0</td>\n",
              "      <td>0.0</td>\n",
              "      <td>0.0</td>\n",
              "      <td>1.0</td>\n",
              "      <td>0.0</td>\n",
              "      <td>0.0</td>\n",
              "    </tr>\n",
              "    <tr>\n",
              "      <th>6658</th>\n",
              "      <td>1.266501</td>\n",
              "      <td>2.266244</td>\n",
              "      <td>0.739541</td>\n",
              "      <td>-0.511012</td>\n",
              "      <td>-0.142452</td>\n",
              "      <td>-0.594668</td>\n",
              "      <td>-0.415134</td>\n",
              "      <td>-0.669371</td>\n",
              "      <td>-0.446702</td>\n",
              "      <td>-0.499778</td>\n",
              "      <td>-0.641574</td>\n",
              "      <td>-0.798199</td>\n",
              "      <td>0.860056</td>\n",
              "      <td>-0.410279</td>\n",
              "      <td>0.066709</td>\n",
              "      <td>0.127492</td>\n",
              "      <td>-0.110102</td>\n",
              "      <td>0.0</td>\n",
              "      <td>0.0</td>\n",
              "      <td>0.0</td>\n",
              "      <td>0.0</td>\n",
              "      <td>1.0</td>\n",
              "      <td>0.0</td>\n",
              "      <td>0.0</td>\n",
              "      <td>0.0</td>\n",
              "      <td>0.0</td>\n",
              "      <td>0.0</td>\n",
              "      <td>1.0</td>\n",
              "      <td>0.0</td>\n",
              "      <td>0.0</td>\n",
              "      <td>0.0</td>\n",
              "      <td>0.0</td>\n",
              "      <td>0.0</td>\n",
              "      <td>0.0</td>\n",
              "      <td>0.0</td>\n",
              "      <td>0.0</td>\n",
              "      <td>0.0</td>\n",
              "      <td>0.0</td>\n",
              "      <td>0.0</td>\n",
              "      <td>1.0</td>\n",
              "      <td>0.0</td>\n",
              "      <td>0.0</td>\n",
              "      <td>0.0</td>\n",
              "      <td>0.0</td>\n",
              "      <td>1.0</td>\n",
              "      <td>0.0</td>\n",
              "    </tr>\n",
              "    <tr>\n",
              "      <th>2522</th>\n",
              "      <td>-0.280005</td>\n",
              "      <td>-0.971618</td>\n",
              "      <td>0.087578</td>\n",
              "      <td>-0.024210</td>\n",
              "      <td>-0.082403</td>\n",
              "      <td>-0.594668</td>\n",
              "      <td>-0.974641</td>\n",
              "      <td>-0.669371</td>\n",
              "      <td>-0.446702</td>\n",
              "      <td>-0.499778</td>\n",
              "      <td>-0.641574</td>\n",
              "      <td>-0.058748</td>\n",
              "      <td>-1.162716</td>\n",
              "      <td>-0.410279</td>\n",
              "      <td>0.066709</td>\n",
              "      <td>0.127492</td>\n",
              "      <td>-0.291403</td>\n",
              "      <td>0.0</td>\n",
              "      <td>0.0</td>\n",
              "      <td>0.0</td>\n",
              "      <td>0.0</td>\n",
              "      <td>0.0</td>\n",
              "      <td>0.0</td>\n",
              "      <td>0.0</td>\n",
              "      <td>1.0</td>\n",
              "      <td>0.0</td>\n",
              "      <td>0.0</td>\n",
              "      <td>1.0</td>\n",
              "      <td>0.0</td>\n",
              "      <td>0.0</td>\n",
              "      <td>0.0</td>\n",
              "      <td>0.0</td>\n",
              "      <td>0.0</td>\n",
              "      <td>0.0</td>\n",
              "      <td>0.0</td>\n",
              "      <td>0.0</td>\n",
              "      <td>0.0</td>\n",
              "      <td>0.0</td>\n",
              "      <td>0.0</td>\n",
              "      <td>0.0</td>\n",
              "      <td>1.0</td>\n",
              "      <td>0.0</td>\n",
              "      <td>1.0</td>\n",
              "      <td>0.0</td>\n",
              "      <td>0.0</td>\n",
              "      <td>0.0</td>\n",
              "    </tr>\n",
              "    <tr>\n",
              "      <th>722</th>\n",
              "      <td>0.400714</td>\n",
              "      <td>-1.111584</td>\n",
              "      <td>-0.129743</td>\n",
              "      <td>3.194089</td>\n",
              "      <td>1.538926</td>\n",
              "      <td>-0.594668</td>\n",
              "      <td>-0.974641</td>\n",
              "      <td>-0.127373</td>\n",
              "      <td>-0.446702</td>\n",
              "      <td>-0.499778</td>\n",
              "      <td>0.124228</td>\n",
              "      <td>-0.798199</td>\n",
              "      <td>0.860056</td>\n",
              "      <td>-0.410279</td>\n",
              "      <td>-0.618520</td>\n",
              "      <td>-0.499025</td>\n",
              "      <td>13.842301</td>\n",
              "      <td>0.0</td>\n",
              "      <td>0.0</td>\n",
              "      <td>1.0</td>\n",
              "      <td>0.0</td>\n",
              "      <td>0.0</td>\n",
              "      <td>0.0</td>\n",
              "      <td>0.0</td>\n",
              "      <td>0.0</td>\n",
              "      <td>0.0</td>\n",
              "      <td>0.0</td>\n",
              "      <td>1.0</td>\n",
              "      <td>0.0</td>\n",
              "      <td>0.0</td>\n",
              "      <td>0.0</td>\n",
              "      <td>0.0</td>\n",
              "      <td>0.0</td>\n",
              "      <td>0.0</td>\n",
              "      <td>0.0</td>\n",
              "      <td>0.0</td>\n",
              "      <td>0.0</td>\n",
              "      <td>0.0</td>\n",
              "      <td>0.0</td>\n",
              "      <td>0.0</td>\n",
              "      <td>1.0</td>\n",
              "      <td>0.0</td>\n",
              "      <td>0.0</td>\n",
              "      <td>0.0</td>\n",
              "      <td>1.0</td>\n",
              "      <td>0.0</td>\n",
              "    </tr>\n",
              "  </tbody>\n",
              "</table>\n",
              "</div>"
            ],
            "text/plain": [
              "      longitude  latitude  review_scores_rating  number_of_reviews  \\\n",
              "5484  -1.998871 -0.783981              0.304899           1.084616   \n",
              "1267   0.094447 -0.756122              0.413560          -0.402834   \n",
              "6658   1.266501  2.266244              0.739541          -0.511012   \n",
              "2522  -0.280005 -0.971618              0.087578          -0.024210   \n",
              "722    0.400714 -1.111584             -0.129743           3.194089   \n",
              "\n",
              "      minimum_nights  security_deposit  cleaning_fee  accommodates  bathrooms  \\\n",
              "5484       -0.142452         -0.089243      0.214312      0.414626  -0.446702   \n",
              "1267       -0.022353         -0.594668     -0.694888     -0.669371  -0.446702   \n",
              "6658       -0.142452         -0.594668     -0.415134     -0.669371  -0.446702   \n",
              "2522       -0.082403         -0.594668     -0.974641     -0.669371  -0.446702   \n",
              "722         1.538926         -0.594668     -0.974641     -0.127373  -0.446702   \n",
              "\n",
              "      bedrooms      beds  availability_365  host_identity_verified  \\\n",
              "5484  0.633003  0.124228          0.245249                0.860056   \n",
              "1267 -0.499778 -0.641574         -0.798199                0.860056   \n",
              "6658 -0.499778 -0.641574         -0.798199                0.860056   \n",
              "2522 -0.499778 -0.641574         -0.058748               -1.162716   \n",
              "722  -0.499778  0.124228         -0.798199                0.860056   \n",
              "\n",
              "      host_is_superhost  bedrooms_per_person  bathrooms_per_person  \\\n",
              "5484          -0.410279             0.066709             -0.812284   \n",
              "1267          -0.410279             0.066709              0.127492   \n",
              "6658          -0.410279             0.066709              0.127492   \n",
              "2522          -0.410279             0.066709              0.127492   \n",
              "722           -0.410279            -0.618520             -0.499025   \n",
              "\n",
              "      past_and_future_popularity  Bondi  Bondi Beach  Coogee  Darlinghurst  \\\n",
              "5484                   -0.265252    0.0          0.0     0.0           0.0   \n",
              "1267                    0.297268    0.0          0.0     0.0           0.0   \n",
              "6658                   -0.110102    0.0          0.0     0.0           0.0   \n",
              "2522                   -0.291403    0.0          0.0     0.0           0.0   \n",
              "722                    13.842301    0.0          0.0     1.0           0.0   \n",
              "\n",
              "      Manly  Newtown  North Bondi  Randwick  Surry Hills  Sydney  Apartment  \\\n",
              "5484    0.0      1.0          0.0       0.0          0.0     0.0        0.0   \n",
              "1267    0.0      0.0          0.0       1.0          0.0     0.0        1.0   \n",
              "6658    1.0      0.0          0.0       0.0          0.0     0.0        1.0   \n",
              "2522    0.0      0.0          0.0       1.0          0.0     0.0        1.0   \n",
              "722     0.0      0.0          0.0       0.0          0.0     0.0        1.0   \n",
              "\n",
              "      Bed and breakfast  Condominium  Guest suite  Guesthouse  Hostel  House  \\\n",
              "5484                0.0          0.0          0.0         0.0     0.0    1.0   \n",
              "1267                0.0          0.0          0.0         0.0     0.0    0.0   \n",
              "6658                0.0          0.0          0.0         0.0     0.0    0.0   \n",
              "2522                0.0          0.0          0.0         0.0     0.0    0.0   \n",
              "722                 0.0          0.0          0.0         0.0     0.0    0.0   \n",
              "\n",
              "      Loft  Other  Serviced apartment  Townhouse  Villa  Entire home/apt  \\\n",
              "5484   0.0    0.0                 0.0        0.0    0.0              1.0   \n",
              "1267   0.0    0.0                 0.0        0.0    0.0              0.0   \n",
              "6658   0.0    0.0                 0.0        0.0    0.0              1.0   \n",
              "2522   0.0    0.0                 0.0        0.0    0.0              0.0   \n",
              "722    0.0    0.0                 0.0        0.0    0.0              0.0   \n",
              "\n",
              "      Private room  Shared room  flexible  moderate  \\\n",
              "5484           0.0          0.0       0.0       1.0   \n",
              "1267           1.0          0.0       0.0       1.0   \n",
              "6658           0.0          0.0       0.0       0.0   \n",
              "2522           1.0          0.0       1.0       0.0   \n",
              "722            1.0          0.0       0.0       0.0   \n",
              "\n",
              "      strict_14_with_grace_period  super_strict_60  \n",
              "5484                          0.0              0.0  \n",
              "1267                          0.0              0.0  \n",
              "6658                          1.0              0.0  \n",
              "2522                          0.0              0.0  \n",
              "722                           1.0              0.0  "
            ]
          },
          "metadata": {
            "tags": []
          },
          "execution_count": 78
        }
      ]
    },
    {
      "cell_type": "markdown",
      "metadata": {
        "id": "jjNyCAI4w5SF"
      },
      "source": [
        "# Select and train a model "
      ]
    },
    {
      "cell_type": "code",
      "metadata": {
        "id": "bexu5Jxew5SG",
        "colab": {
          "base_uri": "https://localhost:8080/"
        },
        "outputId": "2c2af3f5-6ab0-48e7-ac06-99df17292a46"
      },
      "source": [
        "from sklearn.linear_model import LinearRegression\n",
        "Y_pr = Y.copy() # just for naming convention, _pr for processed.\n",
        "\n",
        "lin_reg = LinearRegression()\n",
        "lin_reg.fit(X_pr, Y_pr)"
      ],
      "execution_count": 79,
      "outputs": [
        {
          "output_type": "execute_result",
          "data": {
            "text/plain": [
              "LinearRegression(copy_X=True, fit_intercept=True, n_jobs=None, normalize=False)"
            ]
          },
          "metadata": {
            "tags": []
          },
          "execution_count": 79
        }
      ]
    },
    {
      "cell_type": "code",
      "metadata": {
        "id": "nDUC_rAIw5SK",
        "colab": {
          "base_uri": "https://localhost:8080/"
        },
        "outputId": "ca55b6a2-30ff-478d-cf3b-54da43f74e51"
      },
      "source": [
        "# let's try the full preprocessing pipeline on a few training instances\n",
        "some_data = X.iloc[:5]\n",
        "some_labels = Y.iloc[:5]\n",
        "some_data_prepared = pipe(inds=list(some_data.index)).transform(some_data)\n",
        "\n",
        "print(\"Predictions:\", lin_reg.predict(some_data_prepared))"
      ],
      "execution_count": 80,
      "outputs": [
        {
          "output_type": "stream",
          "text": [
            "Predictions: [212.94292778  47.79979448 151.23246225  44.00839484  70.92391741]\n"
          ],
          "name": "stdout"
        }
      ]
    },
    {
      "cell_type": "markdown",
      "metadata": {
        "id": "c5A2Oz8yw5SQ"
      },
      "source": [
        "Compare against the actual values:"
      ]
    },
    {
      "cell_type": "code",
      "metadata": {
        "id": "frLz_Tjxw5SR",
        "colab": {
          "base_uri": "https://localhost:8080/"
        },
        "outputId": "148b5d4e-ebf0-43bd-ab55-ccd88b260685"
      },
      "source": [
        "print(\"Labels:\", list(some_labels))"
      ],
      "execution_count": 81,
      "outputs": [
        {
          "output_type": "stream",
          "text": [
            "Labels: [200.0, 183.0, 175.0, 85.0, 80.0]\n"
          ],
          "name": "stdout"
        }
      ]
    },
    {
      "cell_type": "code",
      "metadata": {
        "id": "F7kueKyIw5SY"
      },
      "source": [
        "## Naturally, these metrics are not that fair, because it is insample.\n",
        "## However the first model is linear so overfitting is less likley.\n",
        "## We will deal with out of sample validation later on. "
      ],
      "execution_count": 82,
      "outputs": []
    },
    {
      "cell_type": "code",
      "metadata": {
        "id": "ZibYqcsDw5Sb",
        "colab": {
          "base_uri": "https://localhost:8080/"
        },
        "outputId": "fd703713-2bba-4a3b-9af3-750d25ac55a9"
      },
      "source": [
        "from sklearn.metrics import mean_squared_error, mean_absolute_error\n",
        "\n",
        "X_pred = lin_reg.predict(X_pr)\n",
        "lin_mse = mean_squared_error(Y, X_pred)\n",
        "lin_rmse = np.sqrt(lin_mse)\n",
        "lin_rmse"
      ],
      "execution_count": 83,
      "outputs": [
        {
          "output_type": "execute_result",
          "data": {
            "text/plain": [
              "94.03600601236073"
            ]
          },
          "metadata": {
            "tags": []
          },
          "execution_count": 83
        }
      ]
    },
    {
      "cell_type": "code",
      "metadata": {
        "id": "9CnEnTcnw5Sg",
        "colab": {
          "base_uri": "https://localhost:8080/"
        },
        "outputId": "2824124d-c881-41e6-b6f4-4d891c9a1f58"
      },
      "source": [
        "from sklearn.metrics import mean_absolute_error\n",
        "\n",
        "lin_mae = mean_absolute_error(Y, X_pred)\n",
        "lin_mae"
      ],
      "execution_count": 84,
      "outputs": [
        {
          "output_type": "execute_result",
          "data": {
            "text/plain": [
              "60.091434203202645"
            ]
          },
          "metadata": {
            "tags": []
          },
          "execution_count": 84
        }
      ]
    },
    {
      "cell_type": "code",
      "metadata": {
        "id": "7DBl7-UGw5So",
        "colab": {
          "base_uri": "https://localhost:8080/"
        },
        "outputId": "4454bc4c-fed8-4b27-82b6-e666fc1065d3"
      },
      "source": [
        "from sklearn.tree import DecisionTreeRegressor\n",
        "\n",
        "tree_reg = DecisionTreeRegressor(random_state=42)\n",
        "tree_reg.fit(X_pr, Y)"
      ],
      "execution_count": 85,
      "outputs": [
        {
          "output_type": "execute_result",
          "data": {
            "text/plain": [
              "DecisionTreeRegressor(ccp_alpha=0.0, criterion='mse', max_depth=None,\n",
              "                      max_features=None, max_leaf_nodes=None,\n",
              "                      min_impurity_decrease=0.0, min_impurity_split=None,\n",
              "                      min_samples_leaf=1, min_samples_split=2,\n",
              "                      min_weight_fraction_leaf=0.0, presort='deprecated',\n",
              "                      random_state=42, splitter='best')"
            ]
          },
          "metadata": {
            "tags": []
          },
          "execution_count": 85
        }
      ]
    },
    {
      "cell_type": "code",
      "metadata": {
        "id": "-ls5NvMCw5Su",
        "colab": {
          "base_uri": "https://localhost:8080/"
        },
        "outputId": "815722d6-ac3e-401c-9e3a-990683fcee51"
      },
      "source": [
        "X_pred = tree_reg.predict(X_pr)\n",
        "tree_mse = mean_squared_error(Y, X_pred)\n",
        "tree_rmse = np.sqrt(tree_mse)\n",
        "tree_rmse  ## Model is complex and overfits."
      ],
      "execution_count": 86,
      "outputs": [
        {
          "output_type": "execute_result",
          "data": {
            "text/plain": [
              "0.0"
            ]
          },
          "metadata": {
            "tags": []
          },
          "execution_count": 86
        }
      ]
    },
    {
      "cell_type": "markdown",
      "metadata": {
        "id": "H4E18Mu_w5S0"
      },
      "source": [
        "# Fine-tune your model"
      ]
    },
    {
      "cell_type": "code",
      "metadata": {
        "id": "iYD-lPbNw5S1"
      },
      "source": [
        "from sklearn.model_selection import cross_val_score\n",
        "\n",
        "scores = cross_val_score(DecisionTreeRegressor(random_state=42), X_pr, Y,\n",
        "                         scoring=\"neg_mean_squared_error\", cv=10)\n",
        "tree_rmse_scores = np.sqrt(-scores)"
      ],
      "execution_count": 87,
      "outputs": []
    },
    {
      "cell_type": "code",
      "metadata": {
        "id": "mY4F8kbow5S5",
        "colab": {
          "base_uri": "https://localhost:8080/"
        },
        "outputId": "7a008775-df23-43a7-85a1-d104a2a960fb"
      },
      "source": [
        "def display_scores(scores):\n",
        "    print(\"Scores:\", scores)\n",
        "    print(\"Mean:\", scores.mean())\n",
        "    print(\"Standard deviation:\", scores.std())\n",
        "\n",
        "display_scores(tree_rmse_scores)"
      ],
      "execution_count": 88,
      "outputs": [
        {
          "output_type": "stream",
          "text": [
            "Scores: [143.18476292 129.24201691 107.55438947 107.60241316 121.71501021\n",
            " 148.4201201  130.79934231 122.90396501 119.49041552 106.97385654]\n",
            "Mean: 123.78862921531386\n",
            "Standard deviation: 13.760987461932066\n"
          ],
          "name": "stdout"
        }
      ]
    },
    {
      "cell_type": "code",
      "metadata": {
        "id": "Yr_AG4xDw5S-",
        "colab": {
          "base_uri": "https://localhost:8080/"
        },
        "outputId": "e2b1119f-aaa9-4835-ff16-53411940423c"
      },
      "source": [
        "lin_scores = cross_val_score(LinearRegression(), X_pr, Y,\n",
        "                             scoring=\"neg_mean_absolute_error\", cv=10)\n",
        "lin_rmse_scores = np.sqrt(-lin_scores)\n",
        "display_scores(lin_rmse_scores)\n",
        "## bad performance, might need some regularisation."
      ],
      "execution_count": 89,
      "outputs": [
        {
          "output_type": "stream",
          "text": [
            "Scores: [8.25759572 7.8060109  8.00665993 7.69062181 7.81264019 7.81550975\n",
            " 7.83848569 7.47819323 7.50847731 7.80135161]\n",
            "Mean: 7.8015546138946466\n",
            "Standard deviation: 0.21319148804200785\n"
          ],
          "name": "stdout"
        }
      ]
    },
    {
      "cell_type": "code",
      "metadata": {
        "id": "49Khr1V3w5TE",
        "colab": {
          "base_uri": "https://localhost:8080/"
        },
        "outputId": "d7bbe64d-cced-4250-f620-52e0dc7e4099"
      },
      "source": [
        "from sklearn.ensemble import RandomForestRegressor\n",
        "\n",
        "forest_reg = RandomForestRegressor(random_state=42)\n",
        "forest_reg.fit(X_pr, Y)"
      ],
      "execution_count": 90,
      "outputs": [
        {
          "output_type": "execute_result",
          "data": {
            "text/plain": [
              "RandomForestRegressor(bootstrap=True, ccp_alpha=0.0, criterion='mse',\n",
              "                      max_depth=None, max_features='auto', max_leaf_nodes=None,\n",
              "                      max_samples=None, min_impurity_decrease=0.0,\n",
              "                      min_impurity_split=None, min_samples_leaf=1,\n",
              "                      min_samples_split=2, min_weight_fraction_leaf=0.0,\n",
              "                      n_estimators=100, n_jobs=None, oob_score=False,\n",
              "                      random_state=42, verbose=0, warm_start=False)"
            ]
          },
          "metadata": {
            "tags": []
          },
          "execution_count": 90
        }
      ]
    },
    {
      "cell_type": "code",
      "metadata": {
        "id": "TZRGtlqKw5TM",
        "colab": {
          "base_uri": "https://localhost:8080/"
        },
        "outputId": "f4820670-9c01-4fea-f012-b01efdf05ceb"
      },
      "source": [
        "X_pred = forest_reg.predict(X_pr)\n",
        "forest_mse = mean_squared_error(Y, X_pred)\n",
        "forest_rmse = np.sqrt(forest_mse)\n",
        "forest_rmse"
      ],
      "execution_count": 91,
      "outputs": [
        {
          "output_type": "execute_result",
          "data": {
            "text/plain": [
              "33.15477458722292"
            ]
          },
          "metadata": {
            "tags": []
          },
          "execution_count": 91
        }
      ]
    },
    {
      "cell_type": "code",
      "metadata": {
        "id": "0-zM3FnYw5TQ",
        "colab": {
          "base_uri": "https://localhost:8080/"
        },
        "outputId": "c517cf93-6bb1-4cad-afa5-584eef061cc1"
      },
      "source": [
        "from sklearn.model_selection import cross_val_score\n",
        "\n",
        "forest_scores = cross_val_score(forest_reg, X_pr, Y,\n",
        "                                scoring=\"neg_mean_squared_error\", cv=10)\n",
        "forest_rmse_scores = np.sqrt(-forest_scores)\n",
        "display_scores(forest_rmse_scores)"
      ],
      "execution_count": 92,
      "outputs": [
        {
          "output_type": "stream",
          "text": [
            "Scores: [98.01969253 90.79854291 85.50499    78.55628977 94.47771505 91.46301289\n",
            " 83.98824641 80.52709658 82.3049749  85.12514409]\n",
            "Mean: 87.07657051412913\n",
            "Standard deviation: 6.014128439519874\n"
          ],
          "name": "stdout"
        }
      ]
    },
    {
      "cell_type": "code",
      "metadata": {
        "id": "iInfXGrxw5Ta",
        "colab": {
          "base_uri": "https://localhost:8080/"
        },
        "outputId": "b1f2511e-5160-4721-c87b-2a943ee4d838"
      },
      "source": [
        "scores = cross_val_score(lin_reg,  X_pr, Y, scoring=\"neg_mean_squared_error\", cv=10)\n",
        "pd.Series(np.sqrt(-scores)).describe()"
      ],
      "execution_count": 93,
      "outputs": [
        {
          "output_type": "execute_result",
          "data": {
            "text/plain": [
              "count     10.000000\n",
              "mean      95.336344\n",
              "std        8.405631\n",
              "min       84.395398\n",
              "25%       87.805766\n",
              "50%       95.952351\n",
              "75%      100.685456\n",
              "max      110.486471\n",
              "dtype: float64"
            ]
          },
          "metadata": {
            "tags": []
          },
          "execution_count": 93
        }
      ]
    },
    {
      "cell_type": "code",
      "metadata": {
        "id": "bO6AkZkfw5Th",
        "colab": {
          "base_uri": "https://localhost:8080/"
        },
        "outputId": "10d2eeec-19dd-48b2-e547-7a82e3f49269"
      },
      "source": [
        "from sklearn.svm import SVR\n",
        "\n",
        "svm_reg = SVR(kernel=\"linear\")\n",
        "svm_reg.fit( X_pr, Y,)\n",
        "X_pred = svm_reg.predict(X_pr)\n",
        "svm_mse = mean_squared_error(Y, X_pred)\n",
        "svm_rmse = np.sqrt(svm_mse)\n",
        "svm_rmse"
      ],
      "execution_count": 94,
      "outputs": [
        {
          "output_type": "execute_result",
          "data": {
            "text/plain": [
              "103.05633889003352"
            ]
          },
          "metadata": {
            "tags": []
          },
          "execution_count": 94
        }
      ]
    },
    {
      "cell_type": "code",
      "metadata": {
        "id": "ibHscUwGw5Ts",
        "colab": {
          "base_uri": "https://localhost:8080/"
        },
        "outputId": "d52ff764-00e8-4b14-fab8-61fe0a2ad746"
      },
      "source": [
        "## 30 Seconds to run this code block.\n",
        "from sklearn.model_selection import GridSearchCV\n",
        "\n",
        "param_grid = [\n",
        "    # try 12 (3×4) combinations of hyperparameters\n",
        "    {'n_estimators': [3, 10, 30], 'max_features': [2, 4, 6, 8]},\n",
        "    # then try 6 (2×3) combinations with bootstrap set as False\n",
        "    {'bootstrap': [False], 'n_estimators': [3, 10], 'max_features': [2, 3, 4]},\n",
        "  ]\n",
        "\n",
        "forest_reg = RandomForestRegressor(random_state=42)\n",
        "# train across 5 folds, that's a total of (12+6)*5=90 rounds of training \n",
        "grid_search = GridSearchCV(forest_reg, param_grid, cv=5,\n",
        "                           scoring='neg_mean_squared_error', return_train_score=True)\n",
        "grid_search.fit( X_pr, Y)"
      ],
      "execution_count": 95,
      "outputs": [
        {
          "output_type": "execute_result",
          "data": {
            "text/plain": [
              "GridSearchCV(cv=5, error_score=nan,\n",
              "             estimator=RandomForestRegressor(bootstrap=True, ccp_alpha=0.0,\n",
              "                                             criterion='mse', max_depth=None,\n",
              "                                             max_features='auto',\n",
              "                                             max_leaf_nodes=None,\n",
              "                                             max_samples=None,\n",
              "                                             min_impurity_decrease=0.0,\n",
              "                                             min_impurity_split=None,\n",
              "                                             min_samples_leaf=1,\n",
              "                                             min_samples_split=2,\n",
              "                                             min_weight_fraction_leaf=0.0,\n",
              "                                             n_estimators=100, n_jobs=None,\n",
              "                                             oob_score=False, random_state=42,\n",
              "                                             verbose=0, warm_start=False),\n",
              "             iid='deprecated', n_jobs=None,\n",
              "             param_grid=[{'max_features': [2, 4, 6, 8],\n",
              "                          'n_estimators': [3, 10, 30]},\n",
              "                         {'bootstrap': [False], 'max_features': [2, 3, 4],\n",
              "                          'n_estimators': [3, 10]}],\n",
              "             pre_dispatch='2*n_jobs', refit=True, return_train_score=True,\n",
              "             scoring='neg_mean_squared_error', verbose=0)"
            ]
          },
          "metadata": {
            "tags": []
          },
          "execution_count": 95
        }
      ]
    },
    {
      "cell_type": "markdown",
      "metadata": {
        "id": "qx78BNO3w5Tw"
      },
      "source": [
        "The best hyperparameter combination found:"
      ]
    },
    {
      "cell_type": "code",
      "metadata": {
        "id": "7nNoAm6tw5Tx",
        "colab": {
          "base_uri": "https://localhost:8080/"
        },
        "outputId": "08e0a7ed-541a-4576-decf-80a057a4a45c"
      },
      "source": [
        "grid_search.best_params_"
      ],
      "execution_count": 96,
      "outputs": [
        {
          "output_type": "execute_result",
          "data": {
            "text/plain": [
              "{'max_features': 4, 'n_estimators': 30}"
            ]
          },
          "metadata": {
            "tags": []
          },
          "execution_count": 96
        }
      ]
    },
    {
      "cell_type": "code",
      "metadata": {
        "id": "Mnv6MP-2w5T_",
        "colab": {
          "base_uri": "https://localhost:8080/"
        },
        "outputId": "6561e79b-d591-4a90-cb6d-a954f0e94673"
      },
      "source": [
        "grid_search.best_estimator_"
      ],
      "execution_count": 97,
      "outputs": [
        {
          "output_type": "execute_result",
          "data": {
            "text/plain": [
              "RandomForestRegressor(bootstrap=True, ccp_alpha=0.0, criterion='mse',\n",
              "                      max_depth=None, max_features=4, max_leaf_nodes=None,\n",
              "                      max_samples=None, min_impurity_decrease=0.0,\n",
              "                      min_impurity_split=None, min_samples_leaf=1,\n",
              "                      min_samples_split=2, min_weight_fraction_leaf=0.0,\n",
              "                      n_estimators=30, n_jobs=None, oob_score=False,\n",
              "                      random_state=42, verbose=0, warm_start=False)"
            ]
          },
          "metadata": {
            "tags": []
          },
          "execution_count": 97
        }
      ]
    },
    {
      "cell_type": "markdown",
      "metadata": {
        "id": "W9WoG5q7w5UE"
      },
      "source": [
        "Let's look at the score of each hyperparameter combination tested during the grid search:"
      ]
    },
    {
      "cell_type": "code",
      "metadata": {
        "id": "fCTtGGOtw5UM",
        "colab": {
          "base_uri": "https://localhost:8080/"
        },
        "outputId": "2233bc9a-da05-4b97-f37e-7d1065cd1e0c"
      },
      "source": [
        "cvres = grid_search.cv_results_\n",
        "for mean_score, params in zip(cvres[\"mean_test_score\"], cvres[\"params\"]):\n",
        "    print(np.sqrt(-mean_score), params)\n",
        "    \n",
        "print(\"\")\n",
        "print(\"Best grid-search performance: \", np.sqrt(-cvres[\"mean_test_score\"].max()))"
      ],
      "execution_count": 98,
      "outputs": [
        {
          "output_type": "stream",
          "text": [
            "107.65378681553167 {'max_features': 2, 'n_estimators': 3}\n",
            "93.58239646693814 {'max_features': 2, 'n_estimators': 10}\n",
            "91.3845241162554 {'max_features': 2, 'n_estimators': 30}\n",
            "105.87919008660293 {'max_features': 4, 'n_estimators': 3}\n",
            "92.6181271284703 {'max_features': 4, 'n_estimators': 10}\n",
            "88.21551200622314 {'max_features': 4, 'n_estimators': 30}\n",
            "101.5953685063098 {'max_features': 6, 'n_estimators': 3}\n",
            "92.57886773629306 {'max_features': 6, 'n_estimators': 10}\n",
            "88.7349730781039 {'max_features': 6, 'n_estimators': 30}\n",
            "104.04717161700684 {'max_features': 8, 'n_estimators': 3}\n",
            "91.57171859082746 {'max_features': 8, 'n_estimators': 10}\n",
            "88.62741102402538 {'max_features': 8, 'n_estimators': 30}\n",
            "111.11517405117583 {'bootstrap': False, 'max_features': 2, 'n_estimators': 3}\n",
            "95.36363186115695 {'bootstrap': False, 'max_features': 2, 'n_estimators': 10}\n",
            "104.01380533593832 {'bootstrap': False, 'max_features': 3, 'n_estimators': 3}\n",
            "93.58593440534999 {'bootstrap': False, 'max_features': 3, 'n_estimators': 10}\n",
            "102.5696058124588 {'bootstrap': False, 'max_features': 4, 'n_estimators': 3}\n",
            "91.59131892984418 {'bootstrap': False, 'max_features': 4, 'n_estimators': 10}\n",
            "\n",
            "Best grid-search performance:  88.21551200622314\n"
          ],
          "name": "stdout"
        }
      ]
    },
    {
      "cell_type": "code",
      "metadata": {
        "id": "CWQL-Wqyw5US",
        "colab": {
          "base_uri": "https://localhost:8080/",
          "height": 467
        },
        "outputId": "8abdeddc-0558-409e-daac-e2d1e3c873ad"
      },
      "source": [
        "# Top five results as presented in a dataframe\n",
        "pd.DataFrame(grid_search.cv_results_).head(5)\n"
      ],
      "execution_count": 99,
      "outputs": [
        {
          "output_type": "execute_result",
          "data": {
            "text/html": [
              "<div>\n",
              "<style scoped>\n",
              "    .dataframe tbody tr th:only-of-type {\n",
              "        vertical-align: middle;\n",
              "    }\n",
              "\n",
              "    .dataframe tbody tr th {\n",
              "        vertical-align: top;\n",
              "    }\n",
              "\n",
              "    .dataframe thead th {\n",
              "        text-align: right;\n",
              "    }\n",
              "</style>\n",
              "<table border=\"1\" class=\"dataframe\">\n",
              "  <thead>\n",
              "    <tr style=\"text-align: right;\">\n",
              "      <th></th>\n",
              "      <th>mean_fit_time</th>\n",
              "      <th>std_fit_time</th>\n",
              "      <th>mean_score_time</th>\n",
              "      <th>std_score_time</th>\n",
              "      <th>param_max_features</th>\n",
              "      <th>param_n_estimators</th>\n",
              "      <th>param_bootstrap</th>\n",
              "      <th>params</th>\n",
              "      <th>split0_test_score</th>\n",
              "      <th>split1_test_score</th>\n",
              "      <th>split2_test_score</th>\n",
              "      <th>split3_test_score</th>\n",
              "      <th>split4_test_score</th>\n",
              "      <th>mean_test_score</th>\n",
              "      <th>std_test_score</th>\n",
              "      <th>rank_test_score</th>\n",
              "      <th>split0_train_score</th>\n",
              "      <th>split1_train_score</th>\n",
              "      <th>split2_train_score</th>\n",
              "      <th>split3_train_score</th>\n",
              "      <th>split4_train_score</th>\n",
              "      <th>mean_train_score</th>\n",
              "      <th>std_train_score</th>\n",
              "    </tr>\n",
              "  </thead>\n",
              "  <tbody>\n",
              "    <tr>\n",
              "      <th>0</th>\n",
              "      <td>0.022200</td>\n",
              "      <td>0.003054</td>\n",
              "      <td>0.003462</td>\n",
              "      <td>0.000243</td>\n",
              "      <td>2</td>\n",
              "      <td>3</td>\n",
              "      <td>NaN</td>\n",
              "      <td>{'max_features': 2, 'n_estimators': 3}</td>\n",
              "      <td>-12228.933001</td>\n",
              "      <td>-12359.378750</td>\n",
              "      <td>-11417.469347</td>\n",
              "      <td>-11146.660856</td>\n",
              "      <td>-10794.247124</td>\n",
              "      <td>-11589.337816</td>\n",
              "      <td>609.871447</td>\n",
              "      <td>17</td>\n",
              "      <td>-2822.900628</td>\n",
              "      <td>-3171.549656</td>\n",
              "      <td>-3185.207607</td>\n",
              "      <td>-3053.919809</td>\n",
              "      <td>-2867.099253</td>\n",
              "      <td>-3020.135391</td>\n",
              "      <td>150.756833</td>\n",
              "    </tr>\n",
              "    <tr>\n",
              "      <th>1</th>\n",
              "      <td>0.060127</td>\n",
              "      <td>0.002750</td>\n",
              "      <td>0.005985</td>\n",
              "      <td>0.000673</td>\n",
              "      <td>2</td>\n",
              "      <td>10</td>\n",
              "      <td>NaN</td>\n",
              "      <td>{'max_features': 2, 'n_estimators': 10}</td>\n",
              "      <td>-9738.397535</td>\n",
              "      <td>-9063.870502</td>\n",
              "      <td>-8677.183458</td>\n",
              "      <td>-7741.723543</td>\n",
              "      <td>-8567.149605</td>\n",
              "      <td>-8757.664928</td>\n",
              "      <td>652.764667</td>\n",
              "      <td>9</td>\n",
              "      <td>-1490.757412</td>\n",
              "      <td>-1648.899800</td>\n",
              "      <td>-1832.454981</td>\n",
              "      <td>-1935.587927</td>\n",
              "      <td>-1800.415093</td>\n",
              "      <td>-1741.623043</td>\n",
              "      <td>155.473784</td>\n",
              "    </tr>\n",
              "    <tr>\n",
              "      <th>2</th>\n",
              "      <td>0.167891</td>\n",
              "      <td>0.003592</td>\n",
              "      <td>0.011608</td>\n",
              "      <td>0.000562</td>\n",
              "      <td>2</td>\n",
              "      <td>30</td>\n",
              "      <td>NaN</td>\n",
              "      <td>{'max_features': 2, 'n_estimators': 30}</td>\n",
              "      <td>-9870.923892</td>\n",
              "      <td>-8055.271983</td>\n",
              "      <td>-8385.923827</td>\n",
              "      <td>-7061.647769</td>\n",
              "      <td>-8381.888769</td>\n",
              "      <td>-8351.131248</td>\n",
              "      <td>901.357485</td>\n",
              "      <td>4</td>\n",
              "      <td>-1248.229005</td>\n",
              "      <td>-1319.393964</td>\n",
              "      <td>-1346.735685</td>\n",
              "      <td>-1470.310601</td>\n",
              "      <td>-1308.107214</td>\n",
              "      <td>-1338.555294</td>\n",
              "      <td>73.320475</td>\n",
              "    </tr>\n",
              "    <tr>\n",
              "      <th>3</th>\n",
              "      <td>0.024036</td>\n",
              "      <td>0.000851</td>\n",
              "      <td>0.003184</td>\n",
              "      <td>0.000106</td>\n",
              "      <td>4</td>\n",
              "      <td>3</td>\n",
              "      <td>NaN</td>\n",
              "      <td>{'max_features': 4, 'n_estimators': 3}</td>\n",
              "      <td>-12269.368671</td>\n",
              "      <td>-10339.503024</td>\n",
              "      <td>-12143.947468</td>\n",
              "      <td>-11441.606309</td>\n",
              "      <td>-9857.588996</td>\n",
              "      <td>-11210.402893</td>\n",
              "      <td>962.802268</td>\n",
              "      <td>16</td>\n",
              "      <td>-2845.222252</td>\n",
              "      <td>-2737.879284</td>\n",
              "      <td>-2510.564034</td>\n",
              "      <td>-2846.995731</td>\n",
              "      <td>-3017.015267</td>\n",
              "      <td>-2791.535314</td>\n",
              "      <td>166.507168</td>\n",
              "    </tr>\n",
              "    <tr>\n",
              "      <th>4</th>\n",
              "      <td>0.071034</td>\n",
              "      <td>0.002415</td>\n",
              "      <td>0.005265</td>\n",
              "      <td>0.000155</td>\n",
              "      <td>4</td>\n",
              "      <td>10</td>\n",
              "      <td>NaN</td>\n",
              "      <td>{'max_features': 4, 'n_estimators': 10}</td>\n",
              "      <td>-9593.039808</td>\n",
              "      <td>-8223.561099</td>\n",
              "      <td>-9572.005187</td>\n",
              "      <td>-7449.378997</td>\n",
              "      <td>-8052.602273</td>\n",
              "      <td>-8578.117473</td>\n",
              "      <td>859.512319</td>\n",
              "      <td>8</td>\n",
              "      <td>-1425.585846</td>\n",
              "      <td>-1531.123380</td>\n",
              "      <td>-1541.183335</td>\n",
              "      <td>-1696.244290</td>\n",
              "      <td>-1599.318140</td>\n",
              "      <td>-1558.690998</td>\n",
              "      <td>88.718596</td>\n",
              "    </tr>\n",
              "  </tbody>\n",
              "</table>\n",
              "</div>"
            ],
            "text/plain": [
              "   mean_fit_time  std_fit_time  mean_score_time  std_score_time  \\\n",
              "0       0.022200      0.003054         0.003462        0.000243   \n",
              "1       0.060127      0.002750         0.005985        0.000673   \n",
              "2       0.167891      0.003592         0.011608        0.000562   \n",
              "3       0.024036      0.000851         0.003184        0.000106   \n",
              "4       0.071034      0.002415         0.005265        0.000155   \n",
              "\n",
              "  param_max_features param_n_estimators param_bootstrap  \\\n",
              "0                  2                  3             NaN   \n",
              "1                  2                 10             NaN   \n",
              "2                  2                 30             NaN   \n",
              "3                  4                  3             NaN   \n",
              "4                  4                 10             NaN   \n",
              "\n",
              "                                    params  split0_test_score  \\\n",
              "0   {'max_features': 2, 'n_estimators': 3}      -12228.933001   \n",
              "1  {'max_features': 2, 'n_estimators': 10}       -9738.397535   \n",
              "2  {'max_features': 2, 'n_estimators': 30}       -9870.923892   \n",
              "3   {'max_features': 4, 'n_estimators': 3}      -12269.368671   \n",
              "4  {'max_features': 4, 'n_estimators': 10}       -9593.039808   \n",
              "\n",
              "   split1_test_score  split2_test_score  split3_test_score  split4_test_score  \\\n",
              "0      -12359.378750      -11417.469347      -11146.660856      -10794.247124   \n",
              "1       -9063.870502       -8677.183458       -7741.723543       -8567.149605   \n",
              "2       -8055.271983       -8385.923827       -7061.647769       -8381.888769   \n",
              "3      -10339.503024      -12143.947468      -11441.606309       -9857.588996   \n",
              "4       -8223.561099       -9572.005187       -7449.378997       -8052.602273   \n",
              "\n",
              "   mean_test_score  std_test_score  rank_test_score  split0_train_score  \\\n",
              "0    -11589.337816      609.871447               17        -2822.900628   \n",
              "1     -8757.664928      652.764667                9        -1490.757412   \n",
              "2     -8351.131248      901.357485                4        -1248.229005   \n",
              "3    -11210.402893      962.802268               16        -2845.222252   \n",
              "4     -8578.117473      859.512319                8        -1425.585846   \n",
              "\n",
              "   split1_train_score  split2_train_score  split3_train_score  \\\n",
              "0        -3171.549656        -3185.207607        -3053.919809   \n",
              "1        -1648.899800        -1832.454981        -1935.587927   \n",
              "2        -1319.393964        -1346.735685        -1470.310601   \n",
              "3        -2737.879284        -2510.564034        -2846.995731   \n",
              "4        -1531.123380        -1541.183335        -1696.244290   \n",
              "\n",
              "   split4_train_score  mean_train_score  std_train_score  \n",
              "0        -2867.099253      -3020.135391       150.756833  \n",
              "1        -1800.415093      -1741.623043       155.473784  \n",
              "2        -1308.107214      -1338.555294        73.320475  \n",
              "3        -3017.015267      -2791.535314       166.507168  \n",
              "4        -1599.318140      -1558.690998        88.718596  "
            ]
          },
          "metadata": {
            "tags": []
          },
          "execution_count": 99
        }
      ]
    },
    {
      "cell_type": "code",
      "metadata": {
        "id": "heRyEXOKw5UX",
        "colab": {
          "base_uri": "https://localhost:8080/"
        },
        "outputId": "94e2c71a-f42a-4504-ccd1-92fc41b6df1d"
      },
      "source": [
        "from sklearn.model_selection import RandomizedSearchCV\n",
        "from scipy.stats import randint\n",
        "\n",
        "param_distribs = {\n",
        "        'n_estimators': randint(low=1, high=200),\n",
        "        'max_features': randint(low=1, high=8),\n",
        "    }\n",
        "\n",
        "forest_reg = RandomForestRegressor(random_state=42)\n",
        "rnd_search = RandomizedSearchCV(forest_reg, param_distributions=param_distribs,\n",
        "                                n_iter=5, cv=5, scoring='neg_mean_squared_error', random_state=42)\n",
        "rnd_search.fit( X_pr, Y)"
      ],
      "execution_count": 100,
      "outputs": [
        {
          "output_type": "execute_result",
          "data": {
            "text/plain": [
              "RandomizedSearchCV(cv=5, error_score=nan,\n",
              "                   estimator=RandomForestRegressor(bootstrap=True,\n",
              "                                                   ccp_alpha=0.0,\n",
              "                                                   criterion='mse',\n",
              "                                                   max_depth=None,\n",
              "                                                   max_features='auto',\n",
              "                                                   max_leaf_nodes=None,\n",
              "                                                   max_samples=None,\n",
              "                                                   min_impurity_decrease=0.0,\n",
              "                                                   min_impurity_split=None,\n",
              "                                                   min_samples_leaf=1,\n",
              "                                                   min_samples_split=2,\n",
              "                                                   min_weight_fraction_leaf=0.0,\n",
              "                                                   n_estimators=100,\n",
              "                                                   n_jobs=None, oob_score=Fals...\n",
              "                                                   warm_start=False),\n",
              "                   iid='deprecated', n_iter=5, n_jobs=None,\n",
              "                   param_distributions={'max_features': <scipy.stats._distn_infrastructure.rv_frozen object at 0x7f85a46a7fd0>,\n",
              "                                        'n_estimators': <scipy.stats._distn_infrastructure.rv_frozen object at 0x7f85a46a7e48>},\n",
              "                   pre_dispatch='2*n_jobs', random_state=42, refit=True,\n",
              "                   return_train_score=False, scoring='neg_mean_squared_error',\n",
              "                   verbose=0)"
            ]
          },
          "metadata": {
            "tags": []
          },
          "execution_count": 100
        }
      ]
    },
    {
      "cell_type": "code",
      "metadata": {
        "id": "hq13w9Ebw5Ug",
        "colab": {
          "base_uri": "https://localhost:8080/"
        },
        "outputId": "72420950-c9a2-442b-b7de-e1f783836a70"
      },
      "source": [
        "cvres = rnd_search.cv_results_\n",
        "for mean_score, params in zip(cvres[\"mean_test_score\"], cvres[\"params\"]):\n",
        "    print(np.sqrt(-mean_score), params)\n",
        "    \n",
        "print(\"Best grid-search performance: \", np.sqrt(-cvres[\"mean_test_score\"].max()))"
      ],
      "execution_count": 101,
      "outputs": [
        {
          "output_type": "stream",
          "text": [
            "87.14245549784866 {'max_features': 7, 'n_estimators': 180}\n",
            "89.5004639900209 {'max_features': 5, 'n_estimators': 15}\n",
            "89.36306282813929 {'max_features': 3, 'n_estimators': 72}\n",
            "88.90840067258624 {'max_features': 5, 'n_estimators': 21}\n",
            "87.45397734594887 {'max_features': 7, 'n_estimators': 122}\n",
            "Best grid-search performance:  87.14245549784866\n"
          ],
          "name": "stdout"
        }
      ]
    },
    {
      "cell_type": "code",
      "metadata": {
        "id": "D9LAn5JHw5Uu",
        "colab": {
          "base_uri": "https://localhost:8080/"
        },
        "outputId": "1fa07aec-b89d-40fb-b32c-be1aafbfbc16"
      },
      "source": [
        "feature_importances = grid_search.best_estimator_.feature_importances_\n",
        "feature_importances"
      ],
      "execution_count": 102,
      "outputs": [
        {
          "output_type": "execute_result",
          "data": {
            "text/plain": [
              "array([0.04671257, 0.03542924, 0.02485968, 0.02667908, 0.02464905,\n",
              "       0.0471932 , 0.0672301 , 0.09241247, 0.07534669, 0.12037559,\n",
              "       0.09520841, 0.02811285, 0.00721237, 0.00361203, 0.02110475,\n",
              "       0.05148334, 0.03809242, 0.00295645, 0.00589151, 0.00274736,\n",
              "       0.00244363, 0.00590603, 0.00191609, 0.00686092, 0.00242456,\n",
              "       0.00342799, 0.00300906, 0.01788358, 0.00069609, 0.00096974,\n",
              "       0.00027043, 0.00103372, 0.00073615, 0.03125527, 0.00028692,\n",
              "       0.00083684, 0.00016351, 0.00134207, 0.00512595, 0.04644736,\n",
              "       0.03335415, 0.00183906, 0.00438218, 0.0043074 , 0.00540885,\n",
              "       0.00036331])"
            ]
          },
          "metadata": {
            "tags": []
          },
          "execution_count": 102
        }
      ]
    },
    {
      "cell_type": "code",
      "metadata": {
        "id": "7v-RO30Pw5Uz"
      },
      "source": [
        "feats = pd.DataFrame()\n",
        "feats[\"Name\"] = list(X_pr.columns)\n",
        "feats[\"Score\"] = feature_importances"
      ],
      "execution_count": 103,
      "outputs": []
    },
    {
      "cell_type": "code",
      "metadata": {
        "id": "Vcl5kjafw5U6",
        "colab": {
          "base_uri": "https://localhost:8080/",
          "height": 639
        },
        "outputId": "97010111-e1ee-43ee-a468-394165c9764e"
      },
      "source": [
        "feats.sort_values(\"Score\",ascending=False).round(5).head(20)"
      ],
      "execution_count": 104,
      "outputs": [
        {
          "output_type": "execute_result",
          "data": {
            "text/html": [
              "<div>\n",
              "<style scoped>\n",
              "    .dataframe tbody tr th:only-of-type {\n",
              "        vertical-align: middle;\n",
              "    }\n",
              "\n",
              "    .dataframe tbody tr th {\n",
              "        vertical-align: top;\n",
              "    }\n",
              "\n",
              "    .dataframe thead th {\n",
              "        text-align: right;\n",
              "    }\n",
              "</style>\n",
              "<table border=\"1\" class=\"dataframe\">\n",
              "  <thead>\n",
              "    <tr style=\"text-align: right;\">\n",
              "      <th></th>\n",
              "      <th>Name</th>\n",
              "      <th>Score</th>\n",
              "    </tr>\n",
              "  </thead>\n",
              "  <tbody>\n",
              "    <tr>\n",
              "      <th>9</th>\n",
              "      <td>bedrooms</td>\n",
              "      <td>0.12038</td>\n",
              "    </tr>\n",
              "    <tr>\n",
              "      <th>10</th>\n",
              "      <td>beds</td>\n",
              "      <td>0.09521</td>\n",
              "    </tr>\n",
              "    <tr>\n",
              "      <th>7</th>\n",
              "      <td>accommodates</td>\n",
              "      <td>0.09241</td>\n",
              "    </tr>\n",
              "    <tr>\n",
              "      <th>8</th>\n",
              "      <td>bathrooms</td>\n",
              "      <td>0.07535</td>\n",
              "    </tr>\n",
              "    <tr>\n",
              "      <th>6</th>\n",
              "      <td>cleaning_fee</td>\n",
              "      <td>0.06723</td>\n",
              "    </tr>\n",
              "    <tr>\n",
              "      <th>15</th>\n",
              "      <td>bathrooms_per_person</td>\n",
              "      <td>0.05148</td>\n",
              "    </tr>\n",
              "    <tr>\n",
              "      <th>5</th>\n",
              "      <td>security_deposit</td>\n",
              "      <td>0.04719</td>\n",
              "    </tr>\n",
              "    <tr>\n",
              "      <th>0</th>\n",
              "      <td>longitude</td>\n",
              "      <td>0.04671</td>\n",
              "    </tr>\n",
              "    <tr>\n",
              "      <th>39</th>\n",
              "      <td>Entire home/apt</td>\n",
              "      <td>0.04645</td>\n",
              "    </tr>\n",
              "    <tr>\n",
              "      <th>16</th>\n",
              "      <td>past_and_future_popularity</td>\n",
              "      <td>0.03809</td>\n",
              "    </tr>\n",
              "    <tr>\n",
              "      <th>1</th>\n",
              "      <td>latitude</td>\n",
              "      <td>0.03543</td>\n",
              "    </tr>\n",
              "    <tr>\n",
              "      <th>40</th>\n",
              "      <td>Private room</td>\n",
              "      <td>0.03335</td>\n",
              "    </tr>\n",
              "    <tr>\n",
              "      <th>33</th>\n",
              "      <td>House</td>\n",
              "      <td>0.03126</td>\n",
              "    </tr>\n",
              "    <tr>\n",
              "      <th>11</th>\n",
              "      <td>availability_365</td>\n",
              "      <td>0.02811</td>\n",
              "    </tr>\n",
              "    <tr>\n",
              "      <th>3</th>\n",
              "      <td>number_of_reviews</td>\n",
              "      <td>0.02668</td>\n",
              "    </tr>\n",
              "    <tr>\n",
              "      <th>2</th>\n",
              "      <td>review_scores_rating</td>\n",
              "      <td>0.02486</td>\n",
              "    </tr>\n",
              "    <tr>\n",
              "      <th>4</th>\n",
              "      <td>minimum_nights</td>\n",
              "      <td>0.02465</td>\n",
              "    </tr>\n",
              "    <tr>\n",
              "      <th>14</th>\n",
              "      <td>bedrooms_per_person</td>\n",
              "      <td>0.02110</td>\n",
              "    </tr>\n",
              "    <tr>\n",
              "      <th>27</th>\n",
              "      <td>Apartment</td>\n",
              "      <td>0.01788</td>\n",
              "    </tr>\n",
              "    <tr>\n",
              "      <th>12</th>\n",
              "      <td>host_identity_verified</td>\n",
              "      <td>0.00721</td>\n",
              "    </tr>\n",
              "  </tbody>\n",
              "</table>\n",
              "</div>"
            ],
            "text/plain": [
              "                          Name    Score\n",
              "9                     bedrooms  0.12038\n",
              "10                        beds  0.09521\n",
              "7                 accommodates  0.09241\n",
              "8                    bathrooms  0.07535\n",
              "6                 cleaning_fee  0.06723\n",
              "15        bathrooms_per_person  0.05148\n",
              "5             security_deposit  0.04719\n",
              "0                    longitude  0.04671\n",
              "39             Entire home/apt  0.04645\n",
              "16  past_and_future_popularity  0.03809\n",
              "1                     latitude  0.03543\n",
              "40                Private room  0.03335\n",
              "33                       House  0.03126\n",
              "11            availability_365  0.02811\n",
              "3            number_of_reviews  0.02668\n",
              "2         review_scores_rating  0.02486\n",
              "4               minimum_nights  0.02465\n",
              "14         bedrooms_per_person  0.02110\n",
              "27                   Apartment  0.01788\n",
              "12      host_identity_verified  0.00721"
            ]
          },
          "metadata": {
            "tags": []
          },
          "execution_count": 104
        }
      ]
    },
    {
      "cell_type": "code",
      "metadata": {
        "id": "iL5nHXrKw5VV",
        "colab": {
          "base_uri": "https://localhost:8080/",
          "height": 299
        },
        "outputId": "0d151643-6e95-4421-9945-d6cf9638efef"
      },
      "source": [
        "strat_test_set.head()"
      ],
      "execution_count": 105,
      "outputs": [
        {
          "output_type": "execute_result",
          "data": {
            "text/html": [
              "<div>\n",
              "<style scoped>\n",
              "    .dataframe tbody tr th:only-of-type {\n",
              "        vertical-align: middle;\n",
              "    }\n",
              "\n",
              "    .dataframe tbody tr th {\n",
              "        vertical-align: top;\n",
              "    }\n",
              "\n",
              "    .dataframe thead th {\n",
              "        text-align: right;\n",
              "    }\n",
              "</style>\n",
              "<table border=\"1\" class=\"dataframe\">\n",
              "  <thead>\n",
              "    <tr style=\"text-align: right;\">\n",
              "      <th></th>\n",
              "      <th>price</th>\n",
              "      <th>city</th>\n",
              "      <th>longitude</th>\n",
              "      <th>latitude</th>\n",
              "      <th>review_scores_rating</th>\n",
              "      <th>number_of_reviews</th>\n",
              "      <th>minimum_nights</th>\n",
              "      <th>security_deposit</th>\n",
              "      <th>cleaning_fee</th>\n",
              "      <th>accommodates</th>\n",
              "      <th>bathrooms</th>\n",
              "      <th>bedrooms</th>\n",
              "      <th>beds</th>\n",
              "      <th>property_type</th>\n",
              "      <th>room_type</th>\n",
              "      <th>availability_365</th>\n",
              "      <th>host_identity_verified</th>\n",
              "      <th>host_is_superhost</th>\n",
              "      <th>host_since</th>\n",
              "      <th>cancellation_policy</th>\n",
              "    </tr>\n",
              "  </thead>\n",
              "  <tbody>\n",
              "    <tr>\n",
              "      <th>1098</th>\n",
              "      <td>110.0</td>\n",
              "      <td>Darlinghurst</td>\n",
              "      <td>151.219597</td>\n",
              "      <td>-33.876213</td>\n",
              "      <td>NaN</td>\n",
              "      <td>0</td>\n",
              "      <td>2</td>\n",
              "      <td>250.0</td>\n",
              "      <td>50.0</td>\n",
              "      <td>2</td>\n",
              "      <td>1.0</td>\n",
              "      <td>1.0</td>\n",
              "      <td>1.0</td>\n",
              "      <td>Apartment</td>\n",
              "      <td>Entire home/apt</td>\n",
              "      <td>0</td>\n",
              "      <td>0</td>\n",
              "      <td>0</td>\n",
              "      <td>2014-07-16</td>\n",
              "      <td>moderate</td>\n",
              "    </tr>\n",
              "    <tr>\n",
              "      <th>4811</th>\n",
              "      <td>225.0</td>\n",
              "      <td>Manly</td>\n",
              "      <td>151.288501</td>\n",
              "      <td>-33.806436</td>\n",
              "      <td>100.0</td>\n",
              "      <td>1</td>\n",
              "      <td>3</td>\n",
              "      <td>750.0</td>\n",
              "      <td>219.0</td>\n",
              "      <td>4</td>\n",
              "      <td>1.0</td>\n",
              "      <td>2.0</td>\n",
              "      <td>2.0</td>\n",
              "      <td>Apartment</td>\n",
              "      <td>Entire home/apt</td>\n",
              "      <td>0</td>\n",
              "      <td>0</td>\n",
              "      <td>0</td>\n",
              "      <td>2012-09-18</td>\n",
              "      <td>strict_14_with_grace_period</td>\n",
              "    </tr>\n",
              "    <tr>\n",
              "      <th>3678</th>\n",
              "      <td>91.0</td>\n",
              "      <td>Bondi Beach</td>\n",
              "      <td>151.277634</td>\n",
              "      <td>-33.888887</td>\n",
              "      <td>NaN</td>\n",
              "      <td>0</td>\n",
              "      <td>3</td>\n",
              "      <td>200.0</td>\n",
              "      <td>25.0</td>\n",
              "      <td>1</td>\n",
              "      <td>1.0</td>\n",
              "      <td>1.0</td>\n",
              "      <td>1.0</td>\n",
              "      <td>Apartment</td>\n",
              "      <td>Private room</td>\n",
              "      <td>0</td>\n",
              "      <td>1</td>\n",
              "      <td>0</td>\n",
              "      <td>2013-10-14</td>\n",
              "      <td>strict_14_with_grace_period</td>\n",
              "    </tr>\n",
              "    <tr>\n",
              "      <th>2982</th>\n",
              "      <td>45.0</td>\n",
              "      <td>Bondi Beach</td>\n",
              "      <td>151.281182</td>\n",
              "      <td>-33.889755</td>\n",
              "      <td>84.0</td>\n",
              "      <td>25</td>\n",
              "      <td>7</td>\n",
              "      <td>400.0</td>\n",
              "      <td>50.0</td>\n",
              "      <td>2</td>\n",
              "      <td>1.0</td>\n",
              "      <td>1.0</td>\n",
              "      <td>1.0</td>\n",
              "      <td>Other</td>\n",
              "      <td>Private room</td>\n",
              "      <td>361</td>\n",
              "      <td>1</td>\n",
              "      <td>0</td>\n",
              "      <td>2015-05-07</td>\n",
              "      <td>strict_14_with_grace_period</td>\n",
              "    </tr>\n",
              "    <tr>\n",
              "      <th>5140</th>\n",
              "      <td>115.0</td>\n",
              "      <td>Manly</td>\n",
              "      <td>151.282273</td>\n",
              "      <td>-33.793341</td>\n",
              "      <td>100.0</td>\n",
              "      <td>14</td>\n",
              "      <td>1</td>\n",
              "      <td>0.0</td>\n",
              "      <td>0.0</td>\n",
              "      <td>2</td>\n",
              "      <td>1.0</td>\n",
              "      <td>1.0</td>\n",
              "      <td>1.0</td>\n",
              "      <td>House</td>\n",
              "      <td>Private room</td>\n",
              "      <td>19</td>\n",
              "      <td>1</td>\n",
              "      <td>0</td>\n",
              "      <td>2016-10-22</td>\n",
              "      <td>moderate</td>\n",
              "    </tr>\n",
              "  </tbody>\n",
              "</table>\n",
              "</div>"
            ],
            "text/plain": [
              "      price          city   longitude   latitude  review_scores_rating  \\\n",
              "1098  110.0  Darlinghurst  151.219597 -33.876213                   NaN   \n",
              "4811  225.0         Manly  151.288501 -33.806436                 100.0   \n",
              "3678   91.0   Bondi Beach  151.277634 -33.888887                   NaN   \n",
              "2982   45.0   Bondi Beach  151.281182 -33.889755                  84.0   \n",
              "5140  115.0         Manly  151.282273 -33.793341                 100.0   \n",
              "\n",
              "      number_of_reviews  minimum_nights  security_deposit  cleaning_fee  \\\n",
              "1098                  0               2             250.0          50.0   \n",
              "4811                  1               3             750.0         219.0   \n",
              "3678                  0               3             200.0          25.0   \n",
              "2982                 25               7             400.0          50.0   \n",
              "5140                 14               1               0.0           0.0   \n",
              "\n",
              "      accommodates  bathrooms  bedrooms  beds property_type        room_type  \\\n",
              "1098             2        1.0       1.0   1.0     Apartment  Entire home/apt   \n",
              "4811             4        1.0       2.0   2.0     Apartment  Entire home/apt   \n",
              "3678             1        1.0       1.0   1.0     Apartment     Private room   \n",
              "2982             2        1.0       1.0   1.0         Other     Private room   \n",
              "5140             2        1.0       1.0   1.0         House     Private room   \n",
              "\n",
              "      availability_365  host_identity_verified  host_is_superhost host_since  \\\n",
              "1098                 0                       0                  0 2014-07-16   \n",
              "4811                 0                       0                  0 2012-09-18   \n",
              "3678                 0                       1                  0 2013-10-14   \n",
              "2982               361                       1                  0 2015-05-07   \n",
              "5140                19                       1                  0 2016-10-22   \n",
              "\n",
              "              cancellation_policy  \n",
              "1098                     moderate  \n",
              "4811  strict_14_with_grace_period  \n",
              "3678  strict_14_with_grace_period  \n",
              "2982  strict_14_with_grace_period  \n",
              "5140                     moderate  "
            ]
          },
          "metadata": {
            "tags": []
          },
          "execution_count": 105
        }
      ]
    },
    {
      "cell_type": "code",
      "metadata": {
        "id": "wFUjb6tjw5Vf"
      },
      "source": [
        "### Now we can test the out of sample performance. \n",
        "\n",
        "final_model = grid_search.best_estimator_\n",
        "\n",
        "strat_test_set2 = strat_test_set.dropna()\n",
        "X_test = strat_test_set2.drop(\"price\", axis=1)\n",
        "y_test = strat_test_set2[\"price\"].copy()\n",
        "\n",
        "X_test_prepared = pipe(list(X_test.index)).transform(X_test)\n",
        "final_predictions = final_model.predict(X_test_prepared)\n",
        "\n",
        "final_mse = mean_squared_error(y_test, final_predictions)\n",
        "final_rmse = np.sqrt(final_mse)"
      ],
      "execution_count": 106,
      "outputs": []
    },
    {
      "cell_type": "code",
      "metadata": {
        "id": "TwCDU_rYw5Vi",
        "colab": {
          "base_uri": "https://localhost:8080/"
        },
        "outputId": "c78fd5e9-743d-4b6a-8309-6a2bfc905be2"
      },
      "source": [
        "final_rmse"
      ],
      "execution_count": 107,
      "outputs": [
        {
          "output_type": "execute_result",
          "data": {
            "text/plain": [
              "84.72540767898073"
            ]
          },
          "metadata": {
            "tags": []
          },
          "execution_count": 107
        }
      ]
    },
    {
      "cell_type": "code",
      "metadata": {
        "id": "EgEMS8TXw5Vo"
      },
      "source": [
        "final_mae = mean_absolute_error(y_test, final_predictions)"
      ],
      "execution_count": 108,
      "outputs": []
    },
    {
      "cell_type": "code",
      "metadata": {
        "id": "9224Lkj7w5Vw",
        "colab": {
          "base_uri": "https://localhost:8080/"
        },
        "outputId": "7725672b-bd75-4ad9-8902-20afe6427fe8"
      },
      "source": [
        "final_mae ## not too bad"
      ],
      "execution_count": 109,
      "outputs": [
        {
          "output_type": "execute_result",
          "data": {
            "text/plain": [
              "52.001604202157864"
            ]
          },
          "metadata": {
            "tags": []
          },
          "execution_count": 109
        }
      ]
    },
    {
      "cell_type": "markdown",
      "metadata": {
        "id": "Phvgr2JL6tQx"
      },
      "source": [
        "## Value Estimation for Client"
      ]
    },
    {
      "cell_type": "code",
      "metadata": {
        "id": "kVF9v5rI6zWD"
      },
      "source": [
        ""
      ],
      "execution_count": 109,
      "outputs": []
    },
    {
      "cell_type": "code",
      "metadata": {
        "id": "1vo1oYm3w5V_",
        "colab": {
          "base_uri": "https://localhost:8080/"
        },
        "outputId": "2f440655-2a51-4c2f-a8c9-04e37f73e117"
      },
      "source": [
        "df_client = pd.DataFrame.from_dict(dict_client, orient='index').T\n",
        "df_client.info()"
      ],
      "execution_count": 110,
      "outputs": [
        {
          "output_type": "stream",
          "text": [
            "<class 'pandas.core.frame.DataFrame'>\n",
            "RangeIndex: 1 entries, 0 to 0\n",
            "Data columns (total 19 columns):\n",
            " #   Column                  Non-Null Count  Dtype         \n",
            "---  ------                  --------------  -----         \n",
            " 0   city                    1 non-null      object        \n",
            " 1   longitude               1 non-null      object        \n",
            " 2   latitude                1 non-null      object        \n",
            " 3   review_scores_rating    1 non-null      object        \n",
            " 4   number_of_reviews       1 non-null      object        \n",
            " 5   minimum_nights          1 non-null      object        \n",
            " 6   accommodates            1 non-null      object        \n",
            " 7   bathrooms               1 non-null      object        \n",
            " 8   bedrooms                1 non-null      object        \n",
            " 9   beds                    1 non-null      object        \n",
            " 10  security_deposit        1 non-null      object        \n",
            " 11  cleaning_fee            1 non-null      object        \n",
            " 12  property_type           1 non-null      object        \n",
            " 13  room_type               1 non-null      object        \n",
            " 14  availability_365        1 non-null      object        \n",
            " 15  host_identity_verified  1 non-null      object        \n",
            " 16  host_is_superhost       1 non-null      object        \n",
            " 17  cancellation_policy     1 non-null      object        \n",
            " 18  host_since              1 non-null      datetime64[ns]\n",
            "dtypes: datetime64[ns](1), object(18)\n",
            "memory usage: 280.0+ bytes\n"
          ],
          "name": "stdout"
        }
      ]
    },
    {
      "cell_type": "code",
      "metadata": {
        "id": "wLSLoIzaLZH_",
        "colab": {
          "base_uri": "https://localhost:8080/"
        },
        "outputId": "fa907b3a-94ed-4f78-ed83-155f3090240f"
      },
      "source": [
        "df_client.iloc[0]"
      ],
      "execution_count": 111,
      "outputs": [
        {
          "output_type": "execute_result",
          "data": {
            "text/plain": [
              "city                                      Bondi Beach\n",
              "longitude                                     151.275\n",
              "latitude                                     -33.8891\n",
              "review_scores_rating                               95\n",
              "number_of_reviews                                  53\n",
              "minimum_nights                                      4\n",
              "accommodates                                       10\n",
              "bathrooms                                           3\n",
              "bedrooms                                            5\n",
              "beds                                                7\n",
              "security_deposit                                 1500\n",
              "cleaning_fee                                      370\n",
              "property_type                                   House\n",
              "room_type                             Entire home/apt\n",
              "availability_365                                  255\n",
              "host_identity_verified                              t\n",
              "host_is_superhost                                   t\n",
              "cancellation_policy       strict_14_with_grace_period\n",
              "host_since                        2010-01-08 00:00:00\n",
              "Name: 0, dtype: object"
            ]
          },
          "metadata": {
            "tags": []
          },
          "execution_count": 111
        }
      ]
    },
    {
      "cell_type": "code",
      "metadata": {
        "id": "qOgH9aA0Q33D",
        "colab": {
          "base_uri": "https://localhost:8080/",
          "height": 231
        },
        "outputId": "ae2bc7c8-532d-4ce4-efcb-0b361fe73a42"
      },
      "source": [
        "from dateutil import parser\n",
        "dict_client = {}\n",
        "\n",
        "dict_client[\"city\"] = \"Bondi Beach\"\n",
        "dict_client[\"longitude\"] = 151.274506\n",
        "dict_client[\"latitude\"] = -33.889087\n",
        "dict_client[\"review_scores_rating\"] = 95\n",
        "dict_client[\"number_of_reviews\"] = 53\n",
        "dict_client[\"minimum_nights\"] = 4\n",
        "dict_client[\"security_deposit\"] = 1500\n",
        "dict_client[\"cleaning_fee\"] = 370\n",
        "dict_client[\"accommodates\"] = 10\n",
        "dict_client[\"bathrooms\"] = 3\n",
        "dict_client[\"bedrooms\"] = 5\n",
        "dict_client[\"beds\"] = 7\n",
        "dict_client[\"property_type\"] = \"House\"\n",
        "dict_client[\"room_type\"] = \"Entire home/apt\"\n",
        "dict_client[\"availability_365\"] = 255\n",
        "dict_client[\"host_identity_verified\"] = '1'  ## 1 for yes, 0 for no\n",
        "dict_client[\"host_is_superhost\"] = '1'\n",
        "dict_client[\"host_since\"] = parser.parse(\"01-08-2010\")\n",
        "dict_client[\"cancellation_policy\"] = \"strict_14_with_grace_period\"\n",
        "\n",
        "df_client = pd.DataFrame.from_dict(dict_client, orient='index').T\n",
        "\n",
        "print(df_client.columns)\n",
        "df_client"
      ],
      "execution_count": 112,
      "outputs": [
        {
          "output_type": "stream",
          "text": [
            "Index(['city', 'longitude', 'latitude', 'review_scores_rating',\n",
            "       'number_of_reviews', 'minimum_nights', 'security_deposit',\n",
            "       'cleaning_fee', 'accommodates', 'bathrooms', 'bedrooms', 'beds',\n",
            "       'property_type', 'room_type', 'availability_365',\n",
            "       'host_identity_verified', 'host_is_superhost', 'host_since',\n",
            "       'cancellation_policy'],\n",
            "      dtype='object')\n"
          ],
          "name": "stdout"
        },
        {
          "output_type": "execute_result",
          "data": {
            "text/html": [
              "<div>\n",
              "<style scoped>\n",
              "    .dataframe tbody tr th:only-of-type {\n",
              "        vertical-align: middle;\n",
              "    }\n",
              "\n",
              "    .dataframe tbody tr th {\n",
              "        vertical-align: top;\n",
              "    }\n",
              "\n",
              "    .dataframe thead th {\n",
              "        text-align: right;\n",
              "    }\n",
              "</style>\n",
              "<table border=\"1\" class=\"dataframe\">\n",
              "  <thead>\n",
              "    <tr style=\"text-align: right;\">\n",
              "      <th></th>\n",
              "      <th>city</th>\n",
              "      <th>longitude</th>\n",
              "      <th>latitude</th>\n",
              "      <th>review_scores_rating</th>\n",
              "      <th>number_of_reviews</th>\n",
              "      <th>minimum_nights</th>\n",
              "      <th>security_deposit</th>\n",
              "      <th>cleaning_fee</th>\n",
              "      <th>accommodates</th>\n",
              "      <th>bathrooms</th>\n",
              "      <th>bedrooms</th>\n",
              "      <th>beds</th>\n",
              "      <th>property_type</th>\n",
              "      <th>room_type</th>\n",
              "      <th>availability_365</th>\n",
              "      <th>host_identity_verified</th>\n",
              "      <th>host_is_superhost</th>\n",
              "      <th>host_since</th>\n",
              "      <th>cancellation_policy</th>\n",
              "    </tr>\n",
              "  </thead>\n",
              "  <tbody>\n",
              "    <tr>\n",
              "      <th>0</th>\n",
              "      <td>Bondi Beach</td>\n",
              "      <td>151.275</td>\n",
              "      <td>-33.8891</td>\n",
              "      <td>95</td>\n",
              "      <td>53</td>\n",
              "      <td>4</td>\n",
              "      <td>1500</td>\n",
              "      <td>370</td>\n",
              "      <td>10</td>\n",
              "      <td>3</td>\n",
              "      <td>5</td>\n",
              "      <td>7</td>\n",
              "      <td>House</td>\n",
              "      <td>Entire home/apt</td>\n",
              "      <td>255</td>\n",
              "      <td>1</td>\n",
              "      <td>1</td>\n",
              "      <td>2010-01-08</td>\n",
              "      <td>strict_14_with_grace_period</td>\n",
              "    </tr>\n",
              "  </tbody>\n",
              "</table>\n",
              "</div>"
            ],
            "text/plain": [
              "          city longitude latitude review_scores_rating number_of_reviews  \\\n",
              "0  Bondi Beach   151.275 -33.8891                   95                53   \n",
              "\n",
              "  minimum_nights security_deposit cleaning_fee accommodates bathrooms  \\\n",
              "0              4             1500          370           10         3   \n",
              "\n",
              "  bedrooms beds property_type        room_type availability_365  \\\n",
              "0        5    7         House  Entire home/apt              255   \n",
              "\n",
              "  host_identity_verified host_is_superhost host_since  \\\n",
              "0                      1                 1 2010-01-08   \n",
              "\n",
              "           cancellation_policy  \n",
              "0  strict_14_with_grace_period  "
            ]
          },
          "metadata": {
            "tags": []
          },
          "execution_count": 112
        }
      ]
    },
    {
      "cell_type": "code",
      "metadata": {
        "id": "F-4FydXgw5WN"
      },
      "source": [
        "df_client = pipe(list(df_client.index)).transform(df_client)"
      ],
      "execution_count": 113,
      "outputs": []
    },
    {
      "cell_type": "code",
      "metadata": {
        "id": "D9XXU34H7OUX",
        "colab": {
          "base_uri": "https://localhost:8080/",
          "height": 114
        },
        "outputId": "3594fe72-cea8-4ad9-e3dc-b2083d04d482"
      },
      "source": [
        "df_client"
      ],
      "execution_count": 114,
      "outputs": [
        {
          "output_type": "execute_result",
          "data": {
            "text/html": [
              "<div>\n",
              "<style scoped>\n",
              "    .dataframe tbody tr th:only-of-type {\n",
              "        vertical-align: middle;\n",
              "    }\n",
              "\n",
              "    .dataframe tbody tr th {\n",
              "        vertical-align: top;\n",
              "    }\n",
              "\n",
              "    .dataframe thead th {\n",
              "        text-align: right;\n",
              "    }\n",
              "</style>\n",
              "<table border=\"1\" class=\"dataframe\">\n",
              "  <thead>\n",
              "    <tr style=\"text-align: right;\">\n",
              "      <th></th>\n",
              "      <th>longitude</th>\n",
              "      <th>latitude</th>\n",
              "      <th>review_scores_rating</th>\n",
              "      <th>number_of_reviews</th>\n",
              "      <th>minimum_nights</th>\n",
              "      <th>security_deposit</th>\n",
              "      <th>cleaning_fee</th>\n",
              "      <th>accommodates</th>\n",
              "      <th>bathrooms</th>\n",
              "      <th>bedrooms</th>\n",
              "      <th>beds</th>\n",
              "      <th>availability_365</th>\n",
              "      <th>host_identity_verified</th>\n",
              "      <th>host_is_superhost</th>\n",
              "      <th>bedrooms_per_person</th>\n",
              "      <th>bathrooms_per_person</th>\n",
              "      <th>past_and_future_popularity</th>\n",
              "      <th>Bondi</th>\n",
              "      <th>Bondi Beach</th>\n",
              "      <th>Coogee</th>\n",
              "      <th>Darlinghurst</th>\n",
              "      <th>Manly</th>\n",
              "      <th>Newtown</th>\n",
              "      <th>North Bondi</th>\n",
              "      <th>Randwick</th>\n",
              "      <th>Surry Hills</th>\n",
              "      <th>Sydney</th>\n",
              "      <th>Apartment</th>\n",
              "      <th>Bed and breakfast</th>\n",
              "      <th>Condominium</th>\n",
              "      <th>Guest suite</th>\n",
              "      <th>Guesthouse</th>\n",
              "      <th>Hostel</th>\n",
              "      <th>House</th>\n",
              "      <th>Loft</th>\n",
              "      <th>Other</th>\n",
              "      <th>Serviced apartment</th>\n",
              "      <th>Townhouse</th>\n",
              "      <th>Villa</th>\n",
              "      <th>Entire home/apt</th>\n",
              "      <th>Private room</th>\n",
              "      <th>Shared room</th>\n",
              "      <th>flexible</th>\n",
              "      <th>moderate</th>\n",
              "      <th>strict_14_with_grace_period</th>\n",
              "      <th>super_strict_60</th>\n",
              "    </tr>\n",
              "  </thead>\n",
              "  <tbody>\n",
              "    <tr>\n",
              "      <th>0</th>\n",
              "      <td>0.851126</td>\n",
              "      <td>-0.25964</td>\n",
              "      <td>0.196238</td>\n",
              "      <td>0.868259</td>\n",
              "      <td>-0.022353</td>\n",
              "      <td>2.43788</td>\n",
              "      <td>4.200801</td>\n",
              "      <td>3.666618</td>\n",
              "      <td>3.585665</td>\n",
              "      <td>4.031346</td>\n",
              "      <td>3.953237</td>\n",
              "      <td>1.296914</td>\n",
              "      <td>0.860056</td>\n",
              "      <td>2.437363</td>\n",
              "      <td>0.066709</td>\n",
              "      <td>-0.624328</td>\n",
              "      <td>-0.292702</td>\n",
              "      <td>0.0</td>\n",
              "      <td>1.0</td>\n",
              "      <td>0.0</td>\n",
              "      <td>0.0</td>\n",
              "      <td>0.0</td>\n",
              "      <td>0.0</td>\n",
              "      <td>0.0</td>\n",
              "      <td>0.0</td>\n",
              "      <td>0.0</td>\n",
              "      <td>0.0</td>\n",
              "      <td>0.0</td>\n",
              "      <td>0.0</td>\n",
              "      <td>0.0</td>\n",
              "      <td>0.0</td>\n",
              "      <td>0.0</td>\n",
              "      <td>0.0</td>\n",
              "      <td>1.0</td>\n",
              "      <td>0.0</td>\n",
              "      <td>0.0</td>\n",
              "      <td>0.0</td>\n",
              "      <td>0.0</td>\n",
              "      <td>0.0</td>\n",
              "      <td>1.0</td>\n",
              "      <td>0.0</td>\n",
              "      <td>0.0</td>\n",
              "      <td>0.0</td>\n",
              "      <td>0.0</td>\n",
              "      <td>1.0</td>\n",
              "      <td>0.0</td>\n",
              "    </tr>\n",
              "  </tbody>\n",
              "</table>\n",
              "</div>"
            ],
            "text/plain": [
              "   longitude  latitude  review_scores_rating  number_of_reviews  \\\n",
              "0   0.851126  -0.25964              0.196238           0.868259   \n",
              "\n",
              "   minimum_nights  security_deposit  cleaning_fee  accommodates  bathrooms  \\\n",
              "0       -0.022353           2.43788      4.200801      3.666618   3.585665   \n",
              "\n",
              "   bedrooms      beds  availability_365  host_identity_verified  \\\n",
              "0  4.031346  3.953237          1.296914                0.860056   \n",
              "\n",
              "   host_is_superhost  bedrooms_per_person  bathrooms_per_person  \\\n",
              "0           2.437363             0.066709             -0.624328   \n",
              "\n",
              "   past_and_future_popularity  Bondi  Bondi Beach  Coogee  Darlinghurst  \\\n",
              "0                   -0.292702    0.0          1.0     0.0           0.0   \n",
              "\n",
              "   Manly  Newtown  North Bondi  Randwick  Surry Hills  Sydney  Apartment  \\\n",
              "0    0.0      0.0          0.0       0.0          0.0     0.0        0.0   \n",
              "\n",
              "   Bed and breakfast  Condominium  Guest suite  Guesthouse  Hostel  House  \\\n",
              "0                0.0          0.0          0.0         0.0     0.0    1.0   \n",
              "\n",
              "   Loft  Other  Serviced apartment  Townhouse  Villa  Entire home/apt  \\\n",
              "0   0.0    0.0                 0.0        0.0    0.0              1.0   \n",
              "\n",
              "   Private room  Shared room  flexible  moderate  strict_14_with_grace_period  \\\n",
              "0           0.0          0.0       0.0       0.0                          1.0   \n",
              "\n",
              "   super_strict_60  \n",
              "0              0.0  "
            ]
          },
          "metadata": {
            "tags": []
          },
          "execution_count": 114
        }
      ]
    },
    {
      "cell_type": "code",
      "metadata": {
        "id": "ihA0mreKw5WU"
      },
      "source": [
        "client_pred = final_model.predict(df_client)"
      ],
      "execution_count": 115,
      "outputs": []
    },
    {
      "cell_type": "code",
      "metadata": {
        "id": "KMQ5Uyr5w5WW",
        "colab": {
          "base_uri": "https://localhost:8080/"
        },
        "outputId": "95f0b9e7-2424-4f0a-b85f-6bf5a4bfd923"
      },
      "source": [
        "### Client should be charging about ~$280 more. \n",
        "print('\\x1b[1;31m'+str(client_pred[0])+'\\x1b[0m')\n",
        "print('\\x1b[1;31m'+str(-500)+'\\x1b[0m')\n",
        "print('\\x1b[1;31m'+\"= \"+str(client_pred[0]-500)+'\\x1b[0m')"
      ],
      "execution_count": 116,
      "outputs": [
        {
          "output_type": "stream",
          "text": [
            "\u001b[1;31m735.4666666666667\u001b[0m\n",
            "\u001b[1;31m-500\u001b[0m\n",
            "\u001b[1;31m= 235.4666666666667\u001b[0m\n"
          ],
          "name": "stdout"
        }
      ]
    }
  ]
}