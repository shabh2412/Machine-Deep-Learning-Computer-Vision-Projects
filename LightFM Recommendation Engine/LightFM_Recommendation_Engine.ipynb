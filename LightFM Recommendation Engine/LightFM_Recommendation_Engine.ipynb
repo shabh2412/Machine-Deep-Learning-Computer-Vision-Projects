{
  "nbformat": 4,
  "nbformat_minor": 0,
  "metadata": {
    "colab": {
      "name": "LightFM Recommendation Engine",
      "provenance": [],
      "collapsed_sections": [],
      "toc_visible": true
    },
    "kernelspec": {
      "name": "python3",
      "display_name": "Python 3"
    }
  },
  "cells": [
    {
      "cell_type": "markdown",
      "metadata": {
        "id": "0JJ2NQ3Nx4W4"
      },
      "source": [
        "# Using LightFM for Recommendations\n",
        "\n",
        "Check out [LightFM here](https://lyst.github.io/lightfm/docs/index.html) and view it's [documentation here](http://lyst.github.io/lightfm/docs/home.html) \n",
        "\n",
        "LightFM is a Python implementation of a number of popular recommendation algorithms for both implicit and explicit feedback.\n",
        "\n",
        "It also makes it possible to incorporate both item and user metadata into the traditional matrix factorization algorithms. It represents each user and item as the sum of the latent representations of their features, thus allowing recommendations to generalise to new items (via item features) and to new users (via user features).\n",
        "\n",
        "The details of the approach are described in the LightFM paper, available on [arXiv](http://arxiv.org/abs/1507.08439).\n"
      ]
    },
    {
      "cell_type": "code",
      "metadata": {
        "id": "oP7obkGAvyTO",
        "colab": {
          "base_uri": "https://localhost:8080/"
        },
        "outputId": "c8b290a7-f4ec-4999-d490-afe2d6465770"
      },
      "source": [
        "# Install lightFM, takes around 15 seconds\n",
        "!pip install lightfm"
      ],
      "execution_count": 1,
      "outputs": [
        {
          "output_type": "stream",
          "text": [
            "Collecting lightfm\n",
            "\u001b[?25l  Downloading https://files.pythonhosted.org/packages/5e/fe/8864d723daa8e5afc74080ce510c30f7ad52facf6a157d4b42dec83dfab4/lightfm-1.16.tar.gz (310kB)\n",
            "\r\u001b[K     |█                               | 10kB 21.3MB/s eta 0:00:01\r\u001b[K     |██▏                             | 20kB 19.2MB/s eta 0:00:01\r\u001b[K     |███▏                            | 30kB 10.9MB/s eta 0:00:01\r\u001b[K     |████▎                           | 40kB 9.0MB/s eta 0:00:01\r\u001b[K     |█████▎                          | 51kB 7.3MB/s eta 0:00:01\r\u001b[K     |██████▍                         | 61kB 8.2MB/s eta 0:00:01\r\u001b[K     |███████▍                        | 71kB 8.4MB/s eta 0:00:01\r\u001b[K     |████████▌                       | 81kB 8.2MB/s eta 0:00:01\r\u001b[K     |█████████▌                      | 92kB 7.9MB/s eta 0:00:01\r\u001b[K     |██████████▋                     | 102kB 7.3MB/s eta 0:00:01\r\u001b[K     |███████████▋                    | 112kB 7.3MB/s eta 0:00:01\r\u001b[K     |████████████▊                   | 122kB 7.3MB/s eta 0:00:01\r\u001b[K     |█████████████▊                  | 133kB 7.3MB/s eta 0:00:01\r\u001b[K     |██████████████▉                 | 143kB 7.3MB/s eta 0:00:01\r\u001b[K     |███████████████▉                | 153kB 7.3MB/s eta 0:00:01\r\u001b[K     |█████████████████               | 163kB 7.3MB/s eta 0:00:01\r\u001b[K     |██████████████████              | 174kB 7.3MB/s eta 0:00:01\r\u001b[K     |███████████████████             | 184kB 7.3MB/s eta 0:00:01\r\u001b[K     |████████████████████            | 194kB 7.3MB/s eta 0:00:01\r\u001b[K     |█████████████████████▏          | 204kB 7.3MB/s eta 0:00:01\r\u001b[K     |██████████████████████▏         | 215kB 7.3MB/s eta 0:00:01\r\u001b[K     |███████████████████████▎        | 225kB 7.3MB/s eta 0:00:01\r\u001b[K     |████████████████████████▎       | 235kB 7.3MB/s eta 0:00:01\r\u001b[K     |█████████████████████████▍      | 245kB 7.3MB/s eta 0:00:01\r\u001b[K     |██████████████████████████▍     | 256kB 7.3MB/s eta 0:00:01\r\u001b[K     |███████████████████████████▌    | 266kB 7.3MB/s eta 0:00:01\r\u001b[K     |████████████████████████████▌   | 276kB 7.3MB/s eta 0:00:01\r\u001b[K     |█████████████████████████████▋  | 286kB 7.3MB/s eta 0:00:01\r\u001b[K     |██████████████████████████████▋ | 296kB 7.3MB/s eta 0:00:01\r\u001b[K     |███████████████████████████████▊| 307kB 7.3MB/s eta 0:00:01\r\u001b[K     |████████████████████████████████| 317kB 7.3MB/s \n",
            "\u001b[?25hRequirement already satisfied: numpy in /usr/local/lib/python3.6/dist-packages (from lightfm) (1.19.5)\n",
            "Requirement already satisfied: scipy>=0.17.0 in /usr/local/lib/python3.6/dist-packages (from lightfm) (1.4.1)\n",
            "Requirement already satisfied: requests in /usr/local/lib/python3.6/dist-packages (from lightfm) (2.23.0)\n",
            "Requirement already satisfied: scikit-learn in /usr/local/lib/python3.6/dist-packages (from lightfm) (0.22.2.post1)\n",
            "Requirement already satisfied: idna<3,>=2.5 in /usr/local/lib/python3.6/dist-packages (from requests->lightfm) (2.10)\n",
            "Requirement already satisfied: certifi>=2017.4.17 in /usr/local/lib/python3.6/dist-packages (from requests->lightfm) (2020.12.5)\n",
            "Requirement already satisfied: urllib3!=1.25.0,!=1.25.1,<1.26,>=1.21.1 in /usr/local/lib/python3.6/dist-packages (from requests->lightfm) (1.24.3)\n",
            "Requirement already satisfied: chardet<4,>=3.0.2 in /usr/local/lib/python3.6/dist-packages (from requests->lightfm) (3.0.4)\n",
            "Requirement already satisfied: joblib>=0.11 in /usr/local/lib/python3.6/dist-packages (from scikit-learn->lightfm) (1.0.0)\n",
            "Building wheels for collected packages: lightfm\n",
            "  Building wheel for lightfm (setup.py) ... \u001b[?25l\u001b[?25hdone\n",
            "  Created wheel for lightfm: filename=lightfm-1.16-cp36-cp36m-linux_x86_64.whl size=705294 sha256=eecef6c80cc7dfa86cca0ad19c09de94aa4bdbf68b4ec3cddb8f2b4b25ad3fa1\n",
            "  Stored in directory: /root/.cache/pip/wheels/c6/64/d4/673c7277f71ac4c5ad4835b94708c01b653ef2d3aa78ef20aa\n",
            "Successfully built lightfm\n",
            "Installing collected packages: lightfm\n",
            "Successfully installed lightfm-1.16\n"
          ],
          "name": "stdout"
        }
      ]
    },
    {
      "cell_type": "markdown",
      "metadata": {
        "id": "mObVypUdyFfz"
      },
      "source": [
        "The first step is to get the Movielens data. This is a classic small recommender dataset, consisting of around 950 users, 1700 movies, and 100,000 ratings. The ratings are on a scale from 1 to 5, but we’ll all treat them as implicit positive feedback in this example.\n",
        "\n",
        "Fortunately, this is one of the functions provided by LightFM itself."
      ]
    },
    {
      "cell_type": "code",
      "metadata": {
        "id": "7A2Fptc1vy37"
      },
      "source": [
        "# Import our modules\n",
        "import numpy as np\n",
        "from lightfm.datasets import fetch_movielens\n",
        "from lightfm import LightFM"
      ],
      "execution_count": 2,
      "outputs": []
    },
    {
      "cell_type": "code",
      "metadata": {
        "id": "8kEEE1vsv4Dp",
        "colab": {
          "base_uri": "https://localhost:8080/"
        },
        "outputId": "57ac1e7f-9ac7-4e41-cedf-e28017abfabf"
      },
      "source": [
        "# Use one of LightFM's inbuild datasets, setting the minimum rating to return at over 4.0\n",
        "data = fetch_movielens(min_rating = 4.0)\n",
        "data"
      ],
      "execution_count": 3,
      "outputs": [
        {
          "output_type": "execute_result",
          "data": {
            "text/plain": [
              "{'item_feature_labels': array(['Toy Story (1995)', 'GoldenEye (1995)', 'Four Rooms (1995)', ...,\n",
              "        'Sliding Doors (1998)', 'You So Crazy (1994)',\n",
              "        'Scream of Stone (Schrei aus Stein) (1991)'], dtype=object),\n",
              " 'item_features': <1682x1682 sparse matrix of type '<class 'numpy.float32'>'\n",
              " \twith 1682 stored elements in Compressed Sparse Row format>,\n",
              " 'item_labels': array(['Toy Story (1995)', 'GoldenEye (1995)', 'Four Rooms (1995)', ...,\n",
              "        'Sliding Doors (1998)', 'You So Crazy (1994)',\n",
              "        'Scream of Stone (Schrei aus Stein) (1991)'], dtype=object),\n",
              " 'test': <943x1682 sparse matrix of type '<class 'numpy.int32'>'\n",
              " \twith 5469 stored elements in COOrdinate format>,\n",
              " 'train': <943x1682 sparse matrix of type '<class 'numpy.int32'>'\n",
              " \twith 49906 stored elements in COOrdinate format>}"
            ]
          },
          "metadata": {
            "tags": []
          },
          "execution_count": 3
        }
      ]
    },
    {
      "cell_type": "code",
      "metadata": {
        "id": "Q7eXzwwIyAaZ",
        "colab": {
          "base_uri": "https://localhost:8080/"
        },
        "outputId": "0d5341f7-32e7-4d5c-bbe6-3dceace1108c"
      },
      "source": [
        "# Get our key and value from our dataset\n",
        "# By printing it, we see it's comprised of a data segments containing test, train, item_features, item_feature_labels & item_labels \n",
        "for key, value in data.items():\n",
        "    print(key, type(value), value.shape)"
      ],
      "execution_count": 4,
      "outputs": [
        {
          "output_type": "stream",
          "text": [
            "train <class 'scipy.sparse.coo.coo_matrix'> (943, 1682)\n",
            "test <class 'scipy.sparse.coo.coo_matrix'> (943, 1682)\n",
            "item_features <class 'scipy.sparse.csr.csr_matrix'> (1682, 1682)\n",
            "item_feature_labels <class 'numpy.ndarray'> (1682,)\n",
            "item_labels <class 'numpy.ndarray'> (1682,)\n"
          ],
          "name": "stdout"
        }
      ]
    },
    {
      "cell_type": "code",
      "metadata": {
        "id": "slPJ4hn_yNOj",
        "colab": {
          "base_uri": "https://localhost:8080/"
        },
        "outputId": "800a7529-7e41-4d99-a785-45640a7b7de8"
      },
      "source": [
        "# What type of data are we working with? coo_matrix\n",
        "type(data['train'])"
      ],
      "execution_count": 5,
      "outputs": [
        {
          "output_type": "execute_result",
          "data": {
            "text/plain": [
              "scipy.sparse.coo.coo_matrix"
            ]
          },
          "metadata": {
            "tags": []
          },
          "execution_count": 5
        }
      ]
    },
    {
      "cell_type": "code",
      "metadata": {
        "id": "tqBntxy9zHaF",
        "colab": {
          "base_uri": "https://localhost:8080/"
        },
        "outputId": "077d5d1d-06d1-430a-a52b-54292092b9a9"
      },
      "source": [
        "# Each row represents a user, and each column an item. \n",
        "# We use .tocsr() to view it as a Compressed Sparse Row format, it's an inbuilt function in the coo_matrix object\n",
        "m1 = data['train'].tocsr()\n",
        "\n",
        "print(m1[0,0])\n",
        "print(m1[0,1])"
      ],
      "execution_count": 6,
      "outputs": [
        {
          "output_type": "stream",
          "text": [
            "5\n",
            "0\n"
          ],
          "name": "stdout"
        }
      ]
    },
    {
      "cell_type": "markdown",
      "metadata": {
        "id": "ZcE4UE4Bytto"
      },
      "source": [
        "**coo_matrix - A sparse matrix in COOrdinate format - Intended Usage:**\n",
        "\n",
        "- COO is a fast format for constructing sparse matrices\n",
        "- Once a matrix has been constructed, convert to CSR or CSC format for fast arithmetic and matrix vector operations\n",
        "- By default when converting to CSR or CSC format, duplicate (i,j) entries will be summed together.  This facilitates efficient construction of finite element matrices and the like. (see example)"
      ]
    },
    {
      "cell_type": "code",
      "metadata": {
        "id": "L-ygYGxIv4O8",
        "colab": {
          "base_uri": "https://localhost:8080/"
        },
        "outputId": "16384e36-270f-432f-99d5-a18d9825bb39"
      },
      "source": [
        "print(repr(data['train'])) # rept() is used in debugging to get a string representation of object\n",
        "print(repr(data['test']))"
      ],
      "execution_count": 7,
      "outputs": [
        {
          "output_type": "stream",
          "text": [
            "<943x1682 sparse matrix of type '<class 'numpy.int32'>'\n",
            "\twith 49906 stored elements in COOrdinate format>\n",
            "<943x1682 sparse matrix of type '<class 'numpy.int32'>'\n",
            "\twith 5469 stored elements in COOrdinate format>\n"
          ],
          "name": "stdout"
        }
      ]
    },
    {
      "cell_type": "markdown",
      "metadata": {
        "id": "FoGJfN120J5Q"
      },
      "source": [
        "# Let's now create and train our model"
      ]
    },
    {
      "cell_type": "markdown",
      "metadata": {
        "id": "HYbDfvRM8I5f"
      },
      "source": [
        "**Four loss functions are available:**\n",
        "\n",
        "- **logistic**: useful when both positive (1) and negative (-1) interactions are present.\n",
        "- **BPR**: Bayesian Personalised Ranking pairwise loss. Maximises the prediction difference between a positive example and a randomly chosen negative example. Useful when only positive interactions are present and optimising ROC AUC is desired.\n",
        "- **WARP**: Weighted Approximate-Rank Pairwise loss. Maximises the rank of positive examples by repeatedly sampling negative examples until rank violating one is found. Useful when only positive interactions are present and optimising the top of the recommendation list (precision@k) is desired.\n",
        "- **k-OS WARP**: k-th order statistic loss. A modification of WARP that uses the k-th positive example for any given user as a basis for pairwise updates.\n",
        "\n",
        "**Two learning rate schedules are available:**\n",
        "- adagrad\n",
        "- adadelta"
      ]
    },
    {
      "cell_type": "code",
      "metadata": {
        "id": "5_wQ4_WEv5VB"
      },
      "source": [
        "# Creat our model object from LightFM\n",
        "# We specify the loss type to be WARP (Weighted Approximate-Rank Pairwise )\n",
        "model = LightFM(loss = 'warp')"
      ],
      "execution_count": 8,
      "outputs": []
    },
    {
      "cell_type": "code",
      "metadata": {
        "id": "pJV2VOCav9zS"
      },
      "source": [
        "# Extract our training and test datasets\n",
        "train = data['train']\n",
        "test = data['test']"
      ],
      "execution_count": 9,
      "outputs": []
    },
    {
      "cell_type": "code",
      "metadata": {
        "id": "jemcXW9g9kne",
        "colab": {
          "base_uri": "https://localhost:8080/"
        },
        "outputId": "0b293625-7464-4232-c038-3e61014d63e2"
      },
      "source": [
        "# Fit our model over 10 epochs\n",
        "model.fit(train, epochs=10)"
      ],
      "execution_count": 10,
      "outputs": [
        {
          "output_type": "execute_result",
          "data": {
            "text/plain": [
              "<lightfm.lightfm.LightFM at 0x7f971ba836a0>"
            ]
          },
          "metadata": {
            "tags": []
          },
          "execution_count": 10
        }
      ]
    },
    {
      "cell_type": "markdown",
      "metadata": {
        "id": "spfITtcp-By2"
      },
      "source": [
        "# Performance Evaluation\n",
        "\n",
        "We use Precision and AUC to avaluate our model performance.\n",
        "\n",
        "**The ROC AUC metric for a model**: the probability that a randomly chosen positive example has a higher score than a randomly chosen negative example. A perfect score is 1.0.\n",
        "\n",
        "**The precision at k metric for a model**: the fraction of known positives in the first k positions of the ranked list of results. A perfect score is 1.0."
      ]
    },
    {
      "cell_type": "code",
      "metadata": {
        "id": "DcD9wDSzzbCQ",
        "colab": {
          "base_uri": "https://localhost:8080/"
        },
        "outputId": "b889a8a4-4770-4599-9b02-cac9aa9f18c1"
      },
      "source": [
        "# Evaluate it's performance\n",
        "from lightfm.evaluation import precision_at_k\n",
        "from lightfm.evaluation import auc_score\n",
        "\n",
        "train_precision = precision_at_k(model, train, k=10).mean()\n",
        "test_precision = precision_at_k(model, test, k=10).mean()\n",
        "\n",
        "train_auc = auc_score(model, train).mean()\n",
        "test_auc = auc_score(model, test).mean()\n",
        "\n",
        "print('Precision: train %.2f, test %.2f.' % (train_precision, test_precision))\n",
        "print('AUC: train %.2f, test %.2f.' % (train_auc, test_auc))"
      ],
      "execution_count": 11,
      "outputs": [
        {
          "output_type": "stream",
          "text": [
            "Precision: train 0.49, test 0.08.\n",
            "AUC: train 0.94, test 0.91.\n"
          ],
          "name": "stdout"
        }
      ]
    },
    {
      "cell_type": "markdown",
      "metadata": {
        "id": "aRXeCHXG03GU"
      },
      "source": [
        "We got \n",
        "# Let's see what movies are recommended for some users"
      ]
    },
    {
      "cell_type": "code",
      "metadata": {
        "id": "uvC-B4rIv_Ka"
      },
      "source": [
        "def sample_recommendation(model, data, user_ids):\n",
        "    '''uses model, data and a list of users ideas and outputs the recommended movies along with known positives for each user'''\n",
        "    n_users, n_items = data['train'].shape\n",
        "    for user_id in user_ids:\n",
        "        known_positives = data['item_labels'][data['train'].tocsr()[user_id].indices]\n",
        "        \n",
        "        scores = model.predict(user_id, np.arange(n_items))\n",
        "\n",
        "        top_items = data['item_labels'][np.argsort(-scores)]\n",
        "      \n",
        "        print(\"User %s\" % user_id)\n",
        "        print(\"Known positives:\")\n",
        "        \n",
        "        # Print the first 3 known positives\n",
        "        for x in known_positives[:3]:\n",
        "            print(\"%s\" % x)\n",
        "        \n",
        "        # Print the first 3 recommended movies\n",
        "        print(\"Recommended:\")\n",
        "        for x in top_items[:3]:\n",
        "            print(\"%s\" % x)\n",
        "        print(\"\\n\")"
      ],
      "execution_count": 13,
      "outputs": []
    },
    {
      "cell_type": "code",
      "metadata": {
        "id": "IasvcwZ9wbUf",
        "colab": {
          "base_uri": "https://localhost:8080/"
        },
        "outputId": "b3fc6b10-54c7-4102-95cf-4f600ccec59f"
      },
      "source": [
        "# Testing on users 6, 125 and 336\n",
        "sample_recommendation(model, data, [6, 125, 336])"
      ],
      "execution_count": 14,
      "outputs": [
        {
          "output_type": "stream",
          "text": [
            "User 6\n",
            "Known positives:\n",
            "Get Shorty (1995)\n",
            "Twelve Monkeys (1995)\n",
            "Babe (1995)\n",
            "Recommended:\n",
            "Raiders of the Lost Ark (1981)\n",
            "Casablanca (1942)\n",
            "Silence of the Lambs, The (1991)\n",
            "\n",
            "\n",
            "User 125\n",
            "Known positives:\n",
            "Jungle2Jungle (1997)\n",
            "Kull the Conqueror (1997)\n",
            "Scream (1996)\n",
            "Recommended:\n",
            "Air Force One (1997)\n",
            "Seven Years in Tibet (1997)\n",
            "Conspiracy Theory (1997)\n",
            "\n",
            "\n",
            "User 336\n",
            "Known positives:\n",
            "Mr. Holland's Opus (1995)\n",
            "Star Wars (1977)\n",
            "Ace Ventura: Pet Detective (1994)\n",
            "Recommended:\n",
            "Star Wars (1977)\n",
            "Return of the Jedi (1983)\n",
            "Toy Story (1995)\n",
            "\n",
            "\n"
          ],
          "name": "stdout"
        }
      ]
    }
  ]
}